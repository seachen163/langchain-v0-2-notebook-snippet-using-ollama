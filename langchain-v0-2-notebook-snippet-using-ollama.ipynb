{
 "cells": [
  {
   "cell_type": "code",
   "execution_count": null,
   "metadata": {},
   "outputs": [],
   "source": []
  },
  {
   "cell_type": "markdown",
   "metadata": {},
   "source": [
    "# 1. LangChain Model \n",
    "\n",
    "LangChain divides LLMs in two types\n",
    "1. LLM Model: text-completion model.\n",
    "2. Chat Model: converses with a sequence of messages and can have a particular role defined (system prompt). This type has become the most used in LangChain."
   ]
  },
  {
   "cell_type": "markdown",
   "metadata": {},
   "source": [
    "## ollama"
   ]
  },
  {
   "cell_type": "code",
   "execution_count": 1,
   "metadata": {},
   "outputs": [
    {
     "name": "stdout",
     "output_type": "stream",
     "text": [
      ">>> Installing ollama to /usr/local\n",
      ">>> Downloading Linux amd64 CLI\n",
      "######################################################################## 100.0%\n",
      ">>> Making ollama accessible in the PATH in /usr/local/bin\n",
      ">>> Adding ollama user to render group...\n",
      ">>> Adding ollama user to video group...\n",
      ">>> Adding current user to ollama group...\n",
      ">>> Creating ollama systemd service...\n",
      ">>> Enabling and starting ollama service...\n",
      ">>> NVIDIA GPU installed.\n"
     ]
    }
   ],
   "source": [
    "!curl -fsSL https://ollama.com/install.sh | sh"
   ]
  },
  {
   "cell_type": "code",
   "execution_count": 2,
   "metadata": {},
   "outputs": [
    {
     "name": "stdout",
     "output_type": "stream",
     "text": [
      "\u001b[?25lpulling manifest ⠙ \u001b[?25h\u001b[?25l\u001b[2K\u001b[1Gpulling manifest ⠙ \u001b[?25h\u001b[?25l\u001b[2K\u001b[1Gpulling manifest ⠸ \u001b[?25h\u001b[?25l\u001b[2K\u001b[1Gpulling manifest ⠼ \u001b[?25h\u001b[?25l\u001b[2K\u001b[1Gpulling manifest ⠼ \u001b[?25h\u001b[?25l\u001b[2K\u001b[1Gpulling manifest ⠴ \u001b[?25h\u001b[?25l\u001b[2K\u001b[1Gpulling manifest ⠧ \u001b[?25h\u001b[?25l\u001b[2K\u001b[1Gpulling manifest ⠧ \u001b[?25h\u001b[?25l\u001b[2K\u001b[1Gpulling manifest ⠇ \u001b[?25h\u001b[?25l\u001b[2K\u001b[1Gpulling manifest ⠏ \u001b[?25h\u001b[?25l\u001b[2K\u001b[1Gpulling manifest \n",
      "pulling 6a0746a1ec1a...   0% ▕                ▏    0 B/4.7 GB                  \u001b[?25h\u001b[?25l\u001b[2K\u001b[1G\u001b[A\u001b[2K\u001b[1Gpulling manifest \n",
      "pulling 6a0746a1ec1a...   1% ▕                ▏  40 MB/4.7 GB                  \u001b[?25h\u001b[?25l\u001b[2K\u001b[1G\u001b[A\u001b[2K\u001b[1Gpulling manifest \n",
      "pulling 6a0746a1ec1a...   3% ▕                ▏ 122 MB/4.7 GB                  \u001b[?25h\u001b[?25l\u001b[2K\u001b[1G\u001b[A\u001b[2K\u001b[1Gpulling manifest \n",
      "pulling 6a0746a1ec1a...   4% ▕                ▏ 165 MB/4.7 GB                  \u001b[?25h\u001b[?25l\u001b[2K\u001b[1G\u001b[A\u001b[2K\u001b[1Gpulling manifest \n",
      "pulling 6a0746a1ec1a...   6% ▕                ▏ 261 MB/4.7 GB                  \u001b[?25h\u001b[?25l\u001b[2K\u001b[1G\u001b[A\u001b[2K\u001b[1Gpulling manifest \n",
      "pulling 6a0746a1ec1a...   8% ▕█               ▏ 364 MB/4.7 GB                  \u001b[?25h\u001b[?25l\u001b[2K\u001b[1G\u001b[A\u001b[2K\u001b[1Gpulling manifest \n",
      "pulling 6a0746a1ec1a...   9% ▕█               ▏ 410 MB/4.7 GB                  \u001b[?25h\u001b[?25l\u001b[2K\u001b[1G\u001b[A\u001b[2K\u001b[1Gpulling manifest \n",
      "pulling 6a0746a1ec1a...  11% ▕█               ▏ 510 MB/4.7 GB                  \u001b[?25h\u001b[?25l\u001b[2K\u001b[1G\u001b[A\u001b[2K\u001b[1Gpulling manifest \n",
      "pulling 6a0746a1ec1a...  13% ▕██              ▏ 598 MB/4.7 GB                  \u001b[?25h\u001b[?25l\u001b[2K\u001b[1G\u001b[A\u001b[2K\u001b[1Gpulling manifest \n",
      "pulling 6a0746a1ec1a...  14% ▕██              ▏ 645 MB/4.7 GB                  \u001b[?25h\u001b[?25l\u001b[2K\u001b[1G\u001b[A\u001b[2K\u001b[1Gpulling manifest \n",
      "pulling 6a0746a1ec1a...  16% ▕██              ▏ 743 MB/4.7 GB  743 MB/s      5s\u001b[?25h\u001b[?25l\u001b[2K\u001b[1G\u001b[A\u001b[2K\u001b[1Gpulling manifest \n",
      "pulling 6a0746a1ec1a...  18% ▕██              ▏ 833 MB/4.7 GB  743 MB/s      5s\u001b[?25h\u001b[?25l\u001b[2K\u001b[1G\u001b[A\u001b[2K\u001b[1Gpulling manifest \n",
      "pulling 6a0746a1ec1a...  19% ▕███             ▏ 876 MB/4.7 GB  743 MB/s      5s\u001b[?25h\u001b[?25l\u001b[2K\u001b[1G\u001b[A\u001b[2K\u001b[1Gpulling manifest \n",
      "pulling 6a0746a1ec1a...  21% ▕███             ▏ 972 MB/4.7 GB  743 MB/s      4s\u001b[?25h\u001b[?25l\u001b[2K\u001b[1G\u001b[A\u001b[2K\u001b[1Gpulling manifest \n",
      "pulling 6a0746a1ec1a...  23% ▕███             ▏ 1.1 GB/4.7 GB  743 MB/s      4s\u001b[?25h\u001b[?25l\u001b[2K\u001b[1G\u001b[A\u001b[2K\u001b[1Gpulling manifest \n",
      "pulling 6a0746a1ec1a...  24% ▕███             ▏ 1.1 GB/4.7 GB  743 MB/s      4s\u001b[?25h\u001b[?25l\u001b[2K\u001b[1G\u001b[A\u001b[2K\u001b[1Gpulling manifest \n",
      "pulling 6a0746a1ec1a...  26% ▕████            ▏ 1.2 GB/4.7 GB  743 MB/s      4s\u001b[?25h\u001b[?25l\u001b[2K\u001b[1G\u001b[A\u001b[2K\u001b[1Gpulling manifest \n",
      "pulling 6a0746a1ec1a...  28% ▕████            ▏ 1.3 GB/4.7 GB  743 MB/s      4s\u001b[?25h\u001b[?25l\u001b[2K\u001b[1G\u001b[A\u001b[2K\u001b[1Gpulling manifest \n",
      "pulling 6a0746a1ec1a...  29% ▕████            ▏ 1.4 GB/4.7 GB  743 MB/s      4s\u001b[?25h\u001b[?25l\u001b[2K\u001b[1G\u001b[A\u001b[2K\u001b[1Gpulling manifest \n",
      "pulling 6a0746a1ec1a...  31% ▕████            ▏ 1.4 GB/4.7 GB  743 MB/s      4s\u001b[?25h\u001b[?25l\u001b[2K\u001b[1G\u001b[A\u001b[2K\u001b[1Gpulling manifest \n",
      "pulling 6a0746a1ec1a...  33% ▕█████           ▏ 1.5 GB/4.7 GB  763 MB/s      4s\u001b[?25h\u001b[?25l\u001b[2K\u001b[1G\u001b[A\u001b[2K\u001b[1Gpulling manifest \n",
      "pulling 6a0746a1ec1a...  34% ▕█████           ▏ 1.6 GB/4.7 GB  763 MB/s      4s\u001b[?25h\u001b[?25l\u001b[2K\u001b[1G\u001b[A\u001b[2K\u001b[1Gpulling manifest \n",
      "pulling 6a0746a1ec1a...  35% ▕█████           ▏ 1.7 GB/4.7 GB  763 MB/s      3s\u001b[?25h\u001b[?25l\u001b[2K\u001b[1G\u001b[A\u001b[2K\u001b[1Gpulling manifest \n",
      "pulling 6a0746a1ec1a...  37% ▕█████           ▏ 1.7 GB/4.7 GB  763 MB/s      3s\u001b[?25h\u001b[?25l\u001b[2K\u001b[1G\u001b[A\u001b[2K\u001b[1Gpulling manifest \n",
      "pulling 6a0746a1ec1a...  38% ▕██████          ▏ 1.8 GB/4.7 GB  763 MB/s      3s\u001b[?25h\u001b[?25l\u001b[2K\u001b[1G\u001b[A\u001b[2K\u001b[1Gpulling manifest \n",
      "pulling 6a0746a1ec1a...  40% ▕██████          ▏ 1.9 GB/4.7 GB  763 MB/s      3s\u001b[?25h\u001b[?25l\u001b[2K\u001b[1G\u001b[A\u001b[2K\u001b[1Gpulling manifest \n",
      "pulling 6a0746a1ec1a...  43% ▕██████          ▏ 2.0 GB/4.7 GB  763 MB/s      3s\u001b[?25h\u001b[?25l\u001b[2K\u001b[1G\u001b[A\u001b[2K\u001b[1Gpulling manifest \n",
      "pulling 6a0746a1ec1a...  43% ▕██████          ▏ 2.0 GB/4.7 GB  763 MB/s      3s\u001b[?25h\u001b[?25l\u001b[2K\u001b[1G\u001b[A\u001b[2K\u001b[1Gpulling manifest \n",
      "pulling 6a0746a1ec1a...  45% ▕███████         ▏ 2.1 GB/4.7 GB  763 MB/s      3s\u001b[?25h\u001b[?25l\u001b[2K\u001b[1G\u001b[A\u001b[2K\u001b[1Gpulling manifest \n",
      "pulling 6a0746a1ec1a...  48% ▕███████         ▏ 2.2 GB/4.7 GB  763 MB/s      3s\u001b[?25h\u001b[?25l\u001b[2K\u001b[1G\u001b[A\u001b[2K\u001b[1Gpulling manifest \n",
      "pulling 6a0746a1ec1a...  49% ▕███████         ▏ 2.3 GB/4.7 GB  763 MB/s      3s\u001b[?25h\u001b[?25l\u001b[2K\u001b[1G\u001b[A\u001b[2K\u001b[1Gpulling manifest \n",
      "pulling 6a0746a1ec1a...  51% ▕████████        ▏ 2.4 GB/4.7 GB  770 MB/s      2s\u001b[?25h\u001b[?25l\u001b[2K\u001b[1G\u001b[A\u001b[2K\u001b[1Gpulling manifest \n",
      "pulling 6a0746a1ec1a...  52% ▕████████        ▏ 2.4 GB/4.7 GB  770 MB/s      2s\u001b[?25h\u001b[?25l\u001b[2K\u001b[1G\u001b[A\u001b[2K\u001b[1Gpulling manifest \n",
      "pulling 6a0746a1ec1a...  53% ▕████████        ▏ 2.5 GB/4.7 GB  770 MB/s      2s\u001b[?25h\u001b[?25l\u001b[2K\u001b[1G\u001b[A\u001b[2K\u001b[1Gpulling manifest \n",
      "pulling 6a0746a1ec1a...  55% ▕████████        ▏ 2.6 GB/4.7 GB  770 MB/s      2s\u001b[?25h\u001b[?25l\u001b[2K\u001b[1G\u001b[A\u001b[2K\u001b[1Gpulling manifest \n",
      "pulling 6a0746a1ec1a...  57% ▕█████████       ▏ 2.7 GB/4.7 GB  770 MB/s      2s\u001b[?25h\u001b[?25l\u001b[2K\u001b[1G\u001b[A\u001b[2K\u001b[1Gpulling manifest \n",
      "pulling 6a0746a1ec1a...  59% ▕█████████       ▏ 2.7 GB/4.7 GB  770 MB/s      2s\u001b[?25h\u001b[?25l\u001b[2K\u001b[1G\u001b[A\u001b[2K\u001b[1Gpulling manifest \n",
      "pulling 6a0746a1ec1a...  61% ▕█████████       ▏ 2.8 GB/4.7 GB  770 MB/s      2s\u001b[?25h\u001b[?25l\u001b[2K\u001b[1G\u001b[A\u001b[2K\u001b[1Gpulling manifest \n",
      "pulling 6a0746a1ec1a...  63% ▕██████████      ▏ 2.9 GB/4.7 GB  770 MB/s      2s\u001b[?25h\u001b[?25l\u001b[2K\u001b[1G\u001b[A\u001b[2K\u001b[1Gpulling manifest \n",
      "pulling 6a0746a1ec1a...  64% ▕██████████      ▏ 3.0 GB/4.7 GB  770 MB/s      2s\u001b[?25h\u001b[?25l\u001b[2K\u001b[1G\u001b[A\u001b[2K\u001b[1Gpulling manifest \n",
      "pulling 6a0746a1ec1a...  66% ▕██████████      ▏ 3.1 GB/4.7 GB  770 MB/s      2s\u001b[?25h\u001b[?25l\u001b[2K\u001b[1G\u001b[A\u001b[2K\u001b[1Gpulling manifest \n",
      "pulling 6a0746a1ec1a...  68% ▕██████████      ▏ 3.2 GB/4.7 GB  777 MB/s      1s\u001b[?25h\u001b[?25l\u001b[2K\u001b[1G\u001b[A\u001b[2K\u001b[1Gpulling manifest \n",
      "pulling 6a0746a1ec1a...  68% ▕██████████      ▏ 3.2 GB/4.7 GB  777 MB/s      1s\u001b[?25h\u001b[?25l\u001b[2K\u001b[1G\u001b[A\u001b[2K\u001b[1Gpulling manifest \n",
      "pulling 6a0746a1ec1a...  70% ▕███████████     ▏ 3.3 GB/4.7 GB  777 MB/s      1s\u001b[?25h\u001b[?25l\u001b[2K\u001b[1G\u001b[A\u001b[2K\u001b[1Gpulling manifest \n",
      "pulling 6a0746a1ec1a...  72% ▕███████████     ▏ 3.4 GB/4.7 GB  777 MB/s      1s\u001b[?25h\u001b[?25l\u001b[2K\u001b[1G\u001b[A\u001b[2K\u001b[1Gpulling manifest \n",
      "pulling 6a0746a1ec1a...  73% ▕███████████     ▏ 3.4 GB/4.7 GB  777 MB/s      1s\u001b[?25h\u001b[?25l\u001b[2K\u001b[1G\u001b[A\u001b[2K\u001b[1Gpulling manifest \n",
      "pulling 6a0746a1ec1a...  75% ▕████████████    ▏ 3.5 GB/4.7 GB  777 MB/s      1s\u001b[?25h\u001b[?25l\u001b[2K\u001b[1G\u001b[A\u001b[2K\u001b[1Gpulling manifest \n",
      "pulling 6a0746a1ec1a...  77% ▕████████████    ▏ 3.6 GB/4.7 GB  777 MB/s      1s\u001b[?25h\u001b[?25l\u001b[2K\u001b[1G\u001b[A\u001b[2K\u001b[1Gpulling manifest \n",
      "pulling 6a0746a1ec1a...  78% ▕████████████    ▏ 3.7 GB/4.7 GB  777 MB/s      1s\u001b[?25h\u001b[?25l\u001b[2K\u001b[1G\u001b[A\u001b[2K\u001b[1Gpulling manifest \n",
      "pulling 6a0746a1ec1a...  80% ▕████████████    ▏ 3.7 GB/4.7 GB  777 MB/s      1s\u001b[?25h\u001b[?25l\u001b[2K\u001b[1G\u001b[A\u001b[2K\u001b[1Gpulling manifest \n",
      "pulling 6a0746a1ec1a...  82% ▕█████████████   ▏ 3.8 GB/4.7 GB  777 MB/s      1s\u001b[?25h\u001b[?25l\u001b[2K\u001b[1G\u001b[A\u001b[2K\u001b[1Gpulling manifest \n",
      "pulling 6a0746a1ec1a...  84% ▕█████████████   ▏ 3.9 GB/4.7 GB  778 MB/s      0s\u001b[?25h\u001b[?25l\u001b[2K\u001b[1G\u001b[A\u001b[2K\u001b[1Gpulling manifest \n",
      "pulling 6a0746a1ec1a...  86% ▕█████████████   ▏ 4.0 GB/4.7 GB  778 MB/s      0s\u001b[?25h\u001b[?25l\u001b[2K\u001b[1G\u001b[A\u001b[2K\u001b[1Gpulling manifest \n",
      "pulling 6a0746a1ec1a...  88% ▕██████████████  ▏ 4.1 GB/4.7 GB  778 MB/s      0s\u001b[?25h\u001b[?25l\u001b[2K\u001b[1G\u001b[A\u001b[2K\u001b[1Gpulling manifest \n",
      "pulling 6a0746a1ec1a...  89% ▕██████████████  ▏ 4.1 GB/4.7 GB  778 MB/s      0s\u001b[?25h\u001b[?25l\u001b[2K\u001b[1G\u001b[A\u001b[2K\u001b[1Gpulling manifest \n",
      "pulling 6a0746a1ec1a...  91% ▕██████████████  ▏ 4.3 GB/4.7 GB  778 MB/s      0s\u001b[?25h\u001b[?25l\u001b[2K\u001b[1G\u001b[A\u001b[2K\u001b[1Gpulling manifest \n",
      "pulling 6a0746a1ec1a...  94% ▕███████████████ ▏ 4.4 GB/4.7 GB  778 MB/s      0s\u001b[?25h\u001b[?25l\u001b[2K\u001b[1G\u001b[A\u001b[2K\u001b[1Gpulling manifest \n",
      "pulling 6a0746a1ec1a...  95% ▕███████████████ ▏ 4.4 GB/4.7 GB  778 MB/s      0s\u001b[?25h\u001b[?25l\u001b[2K\u001b[1G\u001b[A\u001b[2K\u001b[1Gpulling manifest \n",
      "pulling 6a0746a1ec1a...  98% ▕███████████████ ▏ 4.6 GB/4.7 GB  778 MB/s      0s\u001b[?25h\u001b[?25l\u001b[2K\u001b[1G\u001b[A\u001b[2K\u001b[1Gpulling manifest \n",
      "pulling 6a0746a1ec1a... 100% ▕████████████████▏ 4.7 GB                         \u001b[?25h\u001b[?25l\u001b[2K\u001b[1G\u001b[A\u001b[2K\u001b[1Gpulling manifest \n",
      "pulling 6a0746a1ec1a... 100% ▕████████████████▏ 4.7 GB                         \u001b[?25h\u001b[?25l\u001b[2K\u001b[1G\u001b[A\u001b[2K\u001b[1Gpulling manifest \n",
      "pulling 6a0746a1ec1a... 100% ▕████████████████▏ 4.7 GB                         \u001b[?25h\u001b[?25l\u001b[2K\u001b[1G\u001b[A\u001b[2K\u001b[1Gpulling manifest \n",
      "pulling 6a0746a1ec1a... 100% ▕████████████████▏ 4.7 GB                         \u001b[?25h\u001b[?25l\u001b[2K\u001b[1G\u001b[A\u001b[2K\u001b[1Gpulling manifest \n",
      "pulling 6a0746a1ec1a... 100% ▕████████████████▏ 4.7 GB                         \u001b[?25h\u001b[?25l\u001b[2K\u001b[1G\u001b[A\u001b[2K\u001b[1Gpulling manifest \n",
      "pulling 6a0746a1ec1a... 100% ▕████████████████▏ 4.7 GB                         \u001b[?25h\u001b[?25l\u001b[2K\u001b[1G\u001b[A\u001b[2K\u001b[1Gpulling manifest \n",
      "pulling 6a0746a1ec1a... 100% ▕████████████████▏ 4.7 GB                         \u001b[?25h\u001b[?25l\u001b[2K\u001b[1G\u001b[A\u001b[2K\u001b[1Gpulling manifest \n",
      "pulling 6a0746a1ec1a... 100% ▕████████████████▏ 4.7 GB                         \n",
      "pulling 4fa551d4f938...   0% ▕                ▏    0 B/ 12 KB                  \u001b[?25h\u001b[?25l\u001b[2K\u001b[1G\u001b[A\u001b[2K\u001b[1G\u001b[A\u001b[2K\u001b[1Gpulling manifest \n",
      "pulling 6a0746a1ec1a... 100% ▕████████████████▏ 4.7 GB                         \n",
      "pulling 4fa551d4f938... 100% ▕████████████████▏  12 KB                         \u001b[?25h\u001b[?25l\u001b[2K\u001b[1G\u001b[A\u001b[2K\u001b[1G\u001b[A\u001b[2K\u001b[1Gpulling manifest \n",
      "pulling 6a0746a1ec1a... 100% ▕████████████████▏ 4.7 GB                         \n",
      "pulling 4fa551d4f938... 100% ▕████████████████▏  12 KB                         \u001b[?25h\u001b[?25l\u001b[2K\u001b[1G\u001b[A\u001b[2K\u001b[1G\u001b[A\u001b[2K\u001b[1Gpulling manifest \n",
      "pulling 6a0746a1ec1a... 100% ▕████████████████▏ 4.7 GB                         \n",
      "pulling 4fa551d4f938... 100% ▕████████████████▏  12 KB                         \u001b[?25h\u001b[?25l\u001b[2K\u001b[1G\u001b[A\u001b[2K\u001b[1G\u001b[A\u001b[2K\u001b[1Gpulling manifest \n",
      "pulling 6a0746a1ec1a... 100% ▕████████████████▏ 4.7 GB                         \n",
      "pulling 4fa551d4f938... 100% ▕████████████████▏  12 KB                         \u001b[?25h\u001b[?25l\u001b[2K\u001b[1G\u001b[A\u001b[2K\u001b[1G\u001b[A\u001b[2K\u001b[1Gpulling manifest \n",
      "pulling 6a0746a1ec1a... 100% ▕████████████████▏ 4.7 GB                         \n",
      "pulling 4fa551d4f938... 100% ▕████████████████▏  12 KB                         \u001b[?25h\u001b[?25l\u001b[2K\u001b[1G\u001b[A\u001b[2K\u001b[1G\u001b[A\u001b[2K\u001b[1Gpulling manifest \n",
      "pulling 6a0746a1ec1a... 100% ▕████████████████▏ 4.7 GB                         \n",
      "pulling 4fa551d4f938... 100% ▕████████████████▏  12 KB                         \u001b[?25h\u001b[?25l\u001b[2K\u001b[1G\u001b[A\u001b[2K\u001b[1G\u001b[A\u001b[2K\u001b[1Gpulling manifest \n",
      "pulling 6a0746a1ec1a... 100% ▕████████████████▏ 4.7 GB                         \n",
      "pulling 4fa551d4f938... 100% ▕████████████████▏  12 KB                         \u001b[?25h\u001b[?25l\u001b[2K\u001b[1G\u001b[A\u001b[2K\u001b[1G\u001b[A\u001b[2K\u001b[1Gpulling manifest \n",
      "pulling 6a0746a1ec1a... 100% ▕████████████████▏ 4.7 GB                         \n",
      "pulling 4fa551d4f938... 100% ▕████████████████▏  12 KB                         \u001b[?25h\u001b[?25l\u001b[2K\u001b[1G\u001b[A\u001b[2K\u001b[1G\u001b[A\u001b[2K\u001b[1Gpulling manifest \n",
      "pulling 6a0746a1ec1a... 100% ▕████████████████▏ 4.7 GB                         \n",
      "pulling 4fa551d4f938... 100% ▕████████████████▏  12 KB                         \u001b[?25h\u001b[?25l\u001b[2K\u001b[1G\u001b[A\u001b[2K\u001b[1G\u001b[A\u001b[2K\u001b[1Gpulling manifest \n",
      "pulling 6a0746a1ec1a... 100% ▕████████████████▏ 4.7 GB                         \n",
      "pulling 4fa551d4f938... 100% ▕████████████████▏  12 KB                         \u001b[?25h\u001b[?25l\u001b[2K\u001b[1G\u001b[A\u001b[2K\u001b[1G\u001b[A\u001b[2K\u001b[1Gpulling manifest \n",
      "pulling 6a0746a1ec1a... 100% ▕████████████████▏ 4.7 GB                         \n",
      "pulling 4fa551d4f938... 100% ▕████████████████▏  12 KB                         \u001b[?25h\u001b[?25l\u001b[2K\u001b[1G\u001b[A\u001b[2K\u001b[1G\u001b[A\u001b[2K\u001b[1Gpulling manifest \n",
      "pulling 6a0746a1ec1a... 100% ▕████████████████▏ 4.7 GB                         \n",
      "pulling 4fa551d4f938... 100% ▕████████████████▏  12 KB                         \u001b[?25h\u001b[?25l\u001b[2K\u001b[1G\u001b[A\u001b[2K\u001b[1G\u001b[A\u001b[2K\u001b[1Gpulling manifest \n",
      "pulling 6a0746a1ec1a... 100% ▕████████████████▏ 4.7 GB                         \n",
      "pulling 4fa551d4f938... 100% ▕████████████████▏  12 KB                         \u001b[?25h\u001b[?25l\u001b[2K\u001b[1G\u001b[A\u001b[2K\u001b[1G\u001b[A\u001b[2K\u001b[1Gpulling manifest \n",
      "pulling 6a0746a1ec1a... 100% ▕████████████████▏ 4.7 GB                         \n",
      "pulling 4fa551d4f938... 100% ▕████████████████▏  12 KB                         \u001b[?25h\u001b[?25l\u001b[2K\u001b[1G\u001b[A\u001b[2K\u001b[1G\u001b[A\u001b[2K\u001b[1Gpulling manifest \n",
      "pulling 6a0746a1ec1a... 100% ▕████████████████▏ 4.7 GB                         \n",
      "pulling 4fa551d4f938... 100% ▕████████████████▏  12 KB                         \u001b[?25h\u001b[?25l\u001b[2K\u001b[1G\u001b[A\u001b[2K\u001b[1G\u001b[A\u001b[2K\u001b[1Gpulling manifest \n",
      "pulling 6a0746a1ec1a... 100% ▕████████████████▏ 4.7 GB                         \n",
      "pulling 4fa551d4f938... 100% ▕████████████████▏  12 KB                         \n",
      "pulling 8ab4849b038c...   0% ▕                ▏    0 B/ 254 B                  \u001b[?25h\u001b[?25l\u001b[2K\u001b[1G\u001b[A\u001b[2K\u001b[1G\u001b[A\u001b[2K\u001b[1G\u001b[A\u001b[2K\u001b[1Gpulling manifest \n",
      "pulling 6a0746a1ec1a... 100% ▕████████████████▏ 4.7 GB                         \n",
      "pulling 4fa551d4f938... 100% ▕████████████████▏  12 KB                         \n",
      "pulling 8ab4849b038c... 100% ▕████████████████▏  254 B                         \u001b[?25h\u001b[?25l\u001b[2K\u001b[1G\u001b[A\u001b[2K\u001b[1G\u001b[A\u001b[2K\u001b[1G\u001b[A\u001b[2K\u001b[1Gpulling manifest \n",
      "pulling 6a0746a1ec1a... 100% ▕████████████████▏ 4.7 GB                         \n",
      "pulling 4fa551d4f938... 100% ▕████████████████▏  12 KB                         \n",
      "pulling 8ab4849b038c... 100% ▕████████████████▏  254 B                         \u001b[?25h\u001b[?25l\u001b[2K\u001b[1G\u001b[A\u001b[2K\u001b[1G\u001b[A\u001b[2K\u001b[1G\u001b[A\u001b[2K\u001b[1Gpulling manifest \n",
      "pulling 6a0746a1ec1a... 100% ▕████████████████▏ 4.7 GB                         \n",
      "pulling 4fa551d4f938... 100% ▕████████████████▏  12 KB                         \n",
      "pulling 8ab4849b038c... 100% ▕████████████████▏  254 B                         \u001b[?25h\u001b[?25l\u001b[2K\u001b[1G\u001b[A\u001b[2K\u001b[1G\u001b[A\u001b[2K\u001b[1G\u001b[A\u001b[2K\u001b[1Gpulling manifest \n",
      "pulling 6a0746a1ec1a... 100% ▕████████████████▏ 4.7 GB                         \n",
      "pulling 4fa551d4f938... 100% ▕████████████████▏  12 KB                         \n",
      "pulling 8ab4849b038c... 100% ▕████████████████▏  254 B                         \u001b[?25h\u001b[?25l\u001b[2K\u001b[1G\u001b[A\u001b[2K\u001b[1G\u001b[A\u001b[2K\u001b[1G\u001b[A\u001b[2K\u001b[1Gpulling manifest \n",
      "pulling 6a0746a1ec1a... 100% ▕████████████████▏ 4.7 GB                         \n",
      "pulling 4fa551d4f938... 100% ▕████████████████▏  12 KB                         \n",
      "pulling 8ab4849b038c... 100% ▕████████████████▏  254 B                         \u001b[?25h\u001b[?25l\u001b[2K\u001b[1G\u001b[A\u001b[2K\u001b[1G\u001b[A\u001b[2K\u001b[1G\u001b[A\u001b[2K\u001b[1Gpulling manifest \n",
      "pulling 6a0746a1ec1a... 100% ▕████████████████▏ 4.7 GB                         \n",
      "pulling 4fa551d4f938... 100% ▕████████████████▏  12 KB                         \n",
      "pulling 8ab4849b038c... 100% ▕████████████████▏  254 B                         \u001b[?25h\u001b[?25l\u001b[2K\u001b[1G\u001b[A\u001b[2K\u001b[1G\u001b[A\u001b[2K\u001b[1G\u001b[A\u001b[2K\u001b[1Gpulling manifest \n",
      "pulling 6a0746a1ec1a... 100% ▕████████████████▏ 4.7 GB                         \n",
      "pulling 4fa551d4f938... 100% ▕████████████████▏  12 KB                         \n",
      "pulling 8ab4849b038c... 100% ▕████████████████▏  254 B                         \u001b[?25h\u001b[?25l\u001b[2K\u001b[1G\u001b[A\u001b[2K\u001b[1G\u001b[A\u001b[2K\u001b[1G\u001b[A\u001b[2K\u001b[1Gpulling manifest \n",
      "pulling 6a0746a1ec1a... 100% ▕████████████████▏ 4.7 GB                         \n",
      "pulling 4fa551d4f938... 100% ▕████████████████▏  12 KB                         \n",
      "pulling 8ab4849b038c... 100% ▕████████████████▏  254 B                         \u001b[?25h\u001b[?25l\u001b[2K\u001b[1G\u001b[A\u001b[2K\u001b[1G\u001b[A\u001b[2K\u001b[1G\u001b[A\u001b[2K\u001b[1Gpulling manifest \n",
      "pulling 6a0746a1ec1a... 100% ▕████████████████▏ 4.7 GB                         \n",
      "pulling 4fa551d4f938... 100% ▕████████████████▏  12 KB                         \n",
      "pulling 8ab4849b038c... 100% ▕████████████████▏  254 B                         \u001b[?25h\u001b[?25l\u001b[2K\u001b[1G\u001b[A\u001b[2K\u001b[1G\u001b[A\u001b[2K\u001b[1G\u001b[A\u001b[2K\u001b[1Gpulling manifest \n",
      "pulling 6a0746a1ec1a... 100% ▕████████████████▏ 4.7 GB                         \n",
      "pulling 4fa551d4f938... 100% ▕████████████████▏  12 KB                         \n",
      "pulling 8ab4849b038c... 100% ▕████████████████▏  254 B                         \n",
      "pulling 577073ffcc6c...   0% ▕                ▏    0 B                         \u001b[?25h\u001b[?25l\u001b[2K\u001b[1G\u001b[A\u001b[2K\u001b[1G\u001b[A\u001b[2K\u001b[1G\u001b[A\u001b[2K\u001b[1G\u001b[A\u001b[2K\u001b[1Gpulling manifest \n",
      "pulling 6a0746a1ec1a... 100% ▕████████████████▏ 4.7 GB                         \n",
      "pulling 4fa551d4f938... 100% ▕████████████████▏  12 KB                         \n",
      "pulling 8ab4849b038c... 100% ▕████████████████▏  254 B                         \n",
      "pulling 577073ffcc6c...   0% ▕                ▏    0 B                         \u001b[?25h\u001b[?25l\u001b[2K\u001b[1G\u001b[A\u001b[2K\u001b[1G\u001b[A\u001b[2K\u001b[1G\u001b[A\u001b[2K\u001b[1G\u001b[A\u001b[2K\u001b[1Gpulling manifest \n",
      "pulling 6a0746a1ec1a... 100% ▕████████████████▏ 4.7 GB                         \n",
      "pulling 4fa551d4f938... 100% ▕████████████████▏  12 KB                         \n",
      "pulling 8ab4849b038c... 100% ▕████████████████▏  254 B                         \n",
      "pulling 577073ffcc6c...   0% ▕                ▏    0 B                         \u001b[?25h\u001b[?25l\u001b[2K\u001b[1G\u001b[A\u001b[2K\u001b[1G\u001b[A\u001b[2K\u001b[1G\u001b[A\u001b[2K\u001b[1G\u001b[A\u001b[2K\u001b[1Gpulling manifest \n",
      "pulling 6a0746a1ec1a... 100% ▕████████████████▏ 4.7 GB                         \n",
      "pulling 4fa551d4f938... 100% ▕████████████████▏  12 KB                         \n",
      "pulling 8ab4849b038c... 100% ▕████████████████▏  254 B                         \n",
      "pulling 577073ffcc6c...   0% ▕                ▏    0 B                         \u001b[?25h\u001b[?25l\u001b[2K\u001b[1G\u001b[A\u001b[2K\u001b[1G\u001b[A\u001b[2K\u001b[1G\u001b[A\u001b[2K\u001b[1G\u001b[A\u001b[2K\u001b[1Gpulling manifest \n",
      "pulling 6a0746a1ec1a... 100% ▕████████████████▏ 4.7 GB                         \n",
      "pulling 4fa551d4f938... 100% ▕████████████████▏  12 KB                         \n",
      "pulling 8ab4849b038c... 100% ▕████████████████▏  254 B                         \n",
      "pulling 577073ffcc6c...   0% ▕                ▏    0 B                         \u001b[?25h\u001b[?25l\u001b[2K\u001b[1G\u001b[A\u001b[2K\u001b[1G\u001b[A\u001b[2K\u001b[1G\u001b[A\u001b[2K\u001b[1G\u001b[A\u001b[2K\u001b[1Gpulling manifest \n",
      "pulling 6a0746a1ec1a... 100% ▕████████████████▏ 4.7 GB                         \n",
      "pulling 4fa551d4f938... 100% ▕████████████████▏  12 KB                         \n",
      "pulling 8ab4849b038c... 100% ▕████████████████▏  254 B                         \n",
      "pulling 577073ffcc6c...   0% ▕                ▏    0 B                         \u001b[?25h\u001b[?25l\u001b[2K\u001b[1G\u001b[A\u001b[2K\u001b[1G\u001b[A\u001b[2K\u001b[1G\u001b[A\u001b[2K\u001b[1G\u001b[A\u001b[2K\u001b[1Gpulling manifest \n",
      "pulling 6a0746a1ec1a... 100% ▕████████████████▏ 4.7 GB                         \n",
      "pulling 4fa551d4f938... 100% ▕████████████████▏  12 KB                         \n",
      "pulling 8ab4849b038c... 100% ▕████████████████▏  254 B                         \n",
      "pulling 577073ffcc6c...   0% ▕                ▏    0 B                         \u001b[?25h\u001b[?25l\u001b[2K\u001b[1G\u001b[A\u001b[2K\u001b[1G\u001b[A\u001b[2K\u001b[1G\u001b[A\u001b[2K\u001b[1G\u001b[A\u001b[2K\u001b[1Gpulling manifest \n",
      "pulling 6a0746a1ec1a... 100% ▕████████████████▏ 4.7 GB                         \n",
      "pulling 4fa551d4f938... 100% ▕████████████████▏  12 KB                         \n",
      "pulling 8ab4849b038c... 100% ▕████████████████▏  254 B                         \n",
      "pulling 577073ffcc6c...   0% ▕                ▏    0 B                         \u001b[?25h\u001b[?25l\u001b[2K\u001b[1G\u001b[A\u001b[2K\u001b[1G\u001b[A\u001b[2K\u001b[1G\u001b[A\u001b[2K\u001b[1G\u001b[A\u001b[2K\u001b[1Gpulling manifest \n",
      "pulling 6a0746a1ec1a... 100% ▕████████████████▏ 4.7 GB                         \n",
      "pulling 4fa551d4f938... 100% ▕████████████████▏  12 KB                         \n",
      "pulling 8ab4849b038c... 100% ▕████████████████▏  254 B                         \n",
      "pulling 577073ffcc6c...   0% ▕                ▏    0 B                         \u001b[?25h\u001b[?25l\u001b[2K\u001b[1G\u001b[A\u001b[2K\u001b[1G\u001b[A\u001b[2K\u001b[1G\u001b[A\u001b[2K\u001b[1G\u001b[A\u001b[2K\u001b[1Gpulling manifest \n",
      "pulling 6a0746a1ec1a... 100% ▕████████████████▏ 4.7 GB                         \n",
      "pulling 4fa551d4f938... 100% ▕████████████████▏  12 KB                         \n",
      "pulling 8ab4849b038c... 100% ▕████████████████▏  254 B                         \n",
      "pulling 577073ffcc6c...   0% ▕                ▏    0 B                         \u001b[?25h\u001b[?25l\u001b[2K\u001b[1G\u001b[A\u001b[2K\u001b[1G\u001b[A\u001b[2K\u001b[1G\u001b[A\u001b[2K\u001b[1G\u001b[A\u001b[2K\u001b[1Gpulling manifest \n",
      "pulling 6a0746a1ec1a... 100% ▕████████████████▏ 4.7 GB                         \n",
      "pulling 4fa551d4f938... 100% ▕████████████████▏  12 KB                         \n",
      "pulling 8ab4849b038c... 100% ▕████████████████▏  254 B                         \n",
      "pulling 577073ffcc6c...   0% ▕                ▏    0 B                         \u001b[?25h\u001b[?25l\u001b[2K\u001b[1G\u001b[A\u001b[2K\u001b[1G\u001b[A\u001b[2K\u001b[1G\u001b[A\u001b[2K\u001b[1G\u001b[A\u001b[2K\u001b[1Gpulling manifest \n",
      "pulling 6a0746a1ec1a... 100% ▕████████████████▏ 4.7 GB                         \n",
      "pulling 4fa551d4f938... 100% ▕████████████████▏  12 KB                         \n",
      "pulling 8ab4849b038c... 100% ▕████████████████▏  254 B                         \n",
      "pulling 577073ffcc6c...   0% ▕                ▏    0 B                         \u001b[?25h\u001b[?25l\u001b[2K\u001b[1G\u001b[A\u001b[2K\u001b[1G\u001b[A\u001b[2K\u001b[1G\u001b[A\u001b[2K\u001b[1G\u001b[A\u001b[2K\u001b[1Gpulling manifest \n",
      "pulling 6a0746a1ec1a... 100% ▕████████████████▏ 4.7 GB                         \n",
      "pulling 4fa551d4f938... 100% ▕████████████████▏  12 KB                         \n",
      "pulling 8ab4849b038c... 100% ▕████████████████▏  254 B                         \n",
      "pulling 577073ffcc6c...   0% ▕                ▏    0 B                         \u001b[?25h\u001b[?25l\u001b[2K\u001b[1G\u001b[A\u001b[2K\u001b[1G\u001b[A\u001b[2K\u001b[1G\u001b[A\u001b[2K\u001b[1G\u001b[A\u001b[2K\u001b[1Gpulling manifest \n",
      "pulling 6a0746a1ec1a... 100% ▕████████████████▏ 4.7 GB                         \n",
      "pulling 4fa551d4f938... 100% ▕████████████████▏  12 KB                         \n",
      "pulling 8ab4849b038c... 100% ▕████████████████▏  254 B                         \n",
      "pulling 577073ffcc6c...   0% ▕                ▏    0 B                         \u001b[?25h\u001b[?25l\u001b[2K\u001b[1G\u001b[A\u001b[2K\u001b[1G\u001b[A\u001b[2K\u001b[1G\u001b[A\u001b[2K\u001b[1G\u001b[A\u001b[2K\u001b[1Gpulling manifest \n",
      "pulling 6a0746a1ec1a... 100% ▕████████████████▏ 4.7 GB                         \n",
      "pulling 4fa551d4f938... 100% ▕████████████████▏  12 KB                         \n",
      "pulling 8ab4849b038c... 100% ▕████████████████▏  254 B                         \n",
      "pulling 577073ffcc6c...   0% ▕                ▏    0 B                         \u001b[?25h\u001b[?25l\u001b[2K\u001b[1G\u001b[A\u001b[2K\u001b[1G\u001b[A\u001b[2K\u001b[1G\u001b[A\u001b[2K\u001b[1G\u001b[A\u001b[2K\u001b[1Gpulling manifest \n",
      "pulling 6a0746a1ec1a... 100% ▕████████████████▏ 4.7 GB                         \n",
      "pulling 4fa551d4f938... 100% ▕████████████████▏  12 KB                         \n",
      "pulling 8ab4849b038c... 100% ▕████████████████▏  254 B                         \n",
      "pulling 577073ffcc6c...   0% ▕                ▏    0 B                         \u001b[?25h\u001b[?25l\u001b[2K\u001b[1G\u001b[A\u001b[2K\u001b[1G\u001b[A\u001b[2K\u001b[1G\u001b[A\u001b[2K\u001b[1G\u001b[A\u001b[2K\u001b[1Gpulling manifest \n",
      "pulling 6a0746a1ec1a... 100% ▕████████████████▏ 4.7 GB                         \n",
      "pulling 4fa551d4f938... 100% ▕████████████████▏  12 KB                         \n",
      "pulling 8ab4849b038c... 100% ▕████████████████▏  254 B                         \n",
      "pulling 577073ffcc6c...   0% ▕                ▏    0 B                         \u001b[?25h\u001b[?25l\u001b[2K\u001b[1G\u001b[A\u001b[2K\u001b[1G\u001b[A\u001b[2K\u001b[1G\u001b[A\u001b[2K\u001b[1G\u001b[A\u001b[2K\u001b[1Gpulling manifest \n",
      "pulling 6a0746a1ec1a... 100% ▕████████████████▏ 4.7 GB                         \n",
      "pulling 4fa551d4f938... 100% ▕████████████████▏  12 KB                         \n",
      "pulling 8ab4849b038c... 100% ▕████████████████▏  254 B                         \n",
      "pulling 577073ffcc6c...   0% ▕                ▏    0 B                         \u001b[?25h\u001b[?25l\u001b[2K\u001b[1G\u001b[A\u001b[2K\u001b[1G\u001b[A\u001b[2K\u001b[1G\u001b[A\u001b[2K\u001b[1G\u001b[A\u001b[2K\u001b[1Gpulling manifest \n",
      "pulling 6a0746a1ec1a... 100% ▕████████████████▏ 4.7 GB                         \n",
      "pulling 4fa551d4f938... 100% ▕████████████████▏  12 KB                         \n",
      "pulling 8ab4849b038c... 100% ▕████████████████▏  254 B                         \n",
      "pulling 577073ffcc6c...   0% ▕                ▏    0 B                         \u001b[?25h\u001b[?25l\u001b[2K\u001b[1G\u001b[A\u001b[2K\u001b[1G\u001b[A\u001b[2K\u001b[1G\u001b[A\u001b[2K\u001b[1G\u001b[A\u001b[2K\u001b[1Gpulling manifest \n",
      "pulling 6a0746a1ec1a... 100% ▕████████████████▏ 4.7 GB                         \n",
      "pulling 4fa551d4f938... 100% ▕████████████████▏  12 KB                         \n",
      "pulling 8ab4849b038c... 100% ▕████████████████▏  254 B                         \n",
      "pulling 577073ffcc6c...   0% ▕                ▏    0 B                         \u001b[?25h\u001b[?25l\u001b[2K\u001b[1G\u001b[A\u001b[2K\u001b[1G\u001b[A\u001b[2K\u001b[1G\u001b[A\u001b[2K\u001b[1G\u001b[A\u001b[2K\u001b[1Gpulling manifest \n",
      "pulling 6a0746a1ec1a... 100% ▕████████████████▏ 4.7 GB                         \n",
      "pulling 4fa551d4f938... 100% ▕████████████████▏  12 KB                         \n",
      "pulling 8ab4849b038c... 100% ▕████████████████▏  254 B                         \n",
      "pulling 577073ffcc6c...   0% ▕                ▏    0 B                         \u001b[?25h\u001b[?25l\u001b[2K\u001b[1G\u001b[A\u001b[2K\u001b[1G\u001b[A\u001b[2K\u001b[1G\u001b[A\u001b[2K\u001b[1G\u001b[A\u001b[2K\u001b[1Gpulling manifest \n",
      "pulling 6a0746a1ec1a... 100% ▕████████████████▏ 4.7 GB                         \n",
      "pulling 4fa551d4f938... 100% ▕████████████████▏  12 KB                         \n",
      "pulling 8ab4849b038c... 100% ▕████████████████▏  254 B                         \n",
      "pulling 577073ffcc6c...   0% ▕                ▏    0 B                         \u001b[?25h\u001b[?25l\u001b[2K\u001b[1G\u001b[A\u001b[2K\u001b[1G\u001b[A\u001b[2K\u001b[1G\u001b[A\u001b[2K\u001b[1G\u001b[A\u001b[2K\u001b[1Gpulling manifest \n",
      "pulling 6a0746a1ec1a... 100% ▕████████████████▏ 4.7 GB                         \n",
      "pulling 4fa551d4f938... 100% ▕████████████████▏  12 KB                         \n",
      "pulling 8ab4849b038c... 100% ▕████████████████▏  254 B                         \n",
      "pulling 577073ffcc6c...   0% ▕                ▏    0 B                         \n",
      "pulling 3f8eb4da87fa...   0% ▕                ▏    0 B/ 485 B                  \u001b[?25h\u001b[?25l\u001b[2K\u001b[1G\u001b[A\u001b[2K\u001b[1G\u001b[A\u001b[2K\u001b[1G\u001b[A\u001b[2K\u001b[1G\u001b[A\u001b[2K\u001b[1G\u001b[A\u001b[2K\u001b[1Gpulling manifest \n",
      "pulling 6a0746a1ec1a... 100% ▕████████████████▏ 4.7 GB                         \n",
      "pulling 4fa551d4f938... 100% ▕████████████████▏  12 KB                         \n",
      "pulling 8ab4849b038c... 100% ▕████████████████▏  254 B                         \n",
      "pulling 577073ffcc6c...   0% ▕                ▏    0 B                         \n",
      "pulling 3f8eb4da87fa... 100% ▕████████████████▏  485 B                         \u001b[?25h\u001b[?25l\u001b[2K\u001b[1G\u001b[A\u001b[2K\u001b[1G\u001b[A\u001b[2K\u001b[1G\u001b[A\u001b[2K\u001b[1G\u001b[A\u001b[2K\u001b[1G\u001b[A\u001b[2K\u001b[1Gpulling manifest \n",
      "pulling 6a0746a1ec1a... 100% ▕████████████████▏ 4.7 GB                         \n",
      "pulling 4fa551d4f938... 100% ▕████████████████▏  12 KB                         \n",
      "pulling 8ab4849b038c... 100% ▕████████████████▏  254 B                         \n",
      "pulling 577073ffcc6c...   0% ▕                ▏    0 B                         \n",
      "pulling 3f8eb4da87fa... 100% ▕████████████████▏  485 B                         \u001b[?25h\u001b[?25l\u001b[2K\u001b[1G\u001b[A\u001b[2K\u001b[1G\u001b[A\u001b[2K\u001b[1G\u001b[A\u001b[2K\u001b[1G\u001b[A\u001b[2K\u001b[1G\u001b[A\u001b[2K\u001b[1Gpulling manifest \n",
      "pulling 6a0746a1ec1a... 100% ▕████████████████▏ 4.7 GB                         \n",
      "pulling 4fa551d4f938... 100% ▕████████████████▏  12 KB                         \n",
      "pulling 8ab4849b038c... 100% ▕████████████████▏  254 B                         \n",
      "pulling 577073ffcc6c...   0% ▕                ▏    0 B                         \n",
      "pulling 3f8eb4da87fa... 100% ▕████████████████▏  485 B                         \u001b[?25h\u001b[?25l\u001b[2K\u001b[1G\u001b[A\u001b[2K\u001b[1G\u001b[A\u001b[2K\u001b[1G\u001b[A\u001b[2K\u001b[1G\u001b[A\u001b[2K\u001b[1G\u001b[A\u001b[2K\u001b[1Gpulling manifest \n",
      "pulling 6a0746a1ec1a... 100% ▕████████████████▏ 4.7 GB                         \n",
      "pulling 4fa551d4f938... 100% ▕████████████████▏  12 KB                         \n",
      "pulling 8ab4849b038c... 100% ▕████████████████▏  254 B                         \n",
      "pulling 577073ffcc6c...   0% ▕                ▏    0 B                         \n",
      "pulling 3f8eb4da87fa... 100% ▕████████████████▏  485 B                         \u001b[?25h\u001b[?25l\u001b[2K\u001b[1G\u001b[A\u001b[2K\u001b[1G\u001b[A\u001b[2K\u001b[1G\u001b[A\u001b[2K\u001b[1G\u001b[A\u001b[2K\u001b[1G\u001b[A\u001b[2K\u001b[1Gpulling manifest \n",
      "pulling 6a0746a1ec1a... 100% ▕████████████████▏ 4.7 GB                         \n",
      "pulling 4fa551d4f938... 100% ▕████████████████▏  12 KB                         \n",
      "pulling 8ab4849b038c... 100% ▕████████████████▏  254 B                         \n",
      "pulling 577073ffcc6c...   0% ▕                ▏    0 B                         \n",
      "pulling 3f8eb4da87fa... 100% ▕████████████████▏  485 B                         \u001b[?25h\u001b[?25l\u001b[2K\u001b[1G\u001b[A\u001b[2K\u001b[1G\u001b[A\u001b[2K\u001b[1G\u001b[A\u001b[2K\u001b[1G\u001b[A\u001b[2K\u001b[1G\u001b[A\u001b[2K\u001b[1Gpulling manifest \n",
      "pulling 6a0746a1ec1a... 100% ▕████████████████▏ 4.7 GB                         \n",
      "pulling 4fa551d4f938... 100% ▕████████████████▏  12 KB                         \n",
      "pulling 8ab4849b038c... 100% ▕████████████████▏  254 B                         \n",
      "pulling 577073ffcc6c...   0% ▕                ▏    0 B                         \n",
      "pulling 3f8eb4da87fa... 100% ▕████████████████▏  485 B                         \u001b[?25h\u001b[?25l\u001b[2K\u001b[1G\u001b[A\u001b[2K\u001b[1G\u001b[A\u001b[2K\u001b[1G\u001b[A\u001b[2K\u001b[1G\u001b[A\u001b[2K\u001b[1G\u001b[A\u001b[2K\u001b[1Gpulling manifest \n",
      "pulling 6a0746a1ec1a... 100% ▕████████████████▏ 4.7 GB                         \n",
      "pulling 4fa551d4f938... 100% ▕████████████████▏  12 KB                         \n",
      "pulling 8ab4849b038c... 100% ▕████████████████▏  254 B                         \n",
      "pulling 577073ffcc6c...   0% ▕                ▏    0 B                         \n",
      "pulling 3f8eb4da87fa... 100% ▕████████████████▏  485 B                         \u001b[?25h\u001b[?25l\u001b[2K\u001b[1G\u001b[A\u001b[2K\u001b[1G\u001b[A\u001b[2K\u001b[1G\u001b[A\u001b[2K\u001b[1G\u001b[A\u001b[2K\u001b[1G\u001b[A\u001b[2K\u001b[1Gpulling manifest \n",
      "pulling 6a0746a1ec1a... 100% ▕████████████████▏ 4.7 GB                         \n",
      "pulling 4fa551d4f938... 100% ▕████████████████▏  12 KB                         \n",
      "pulling 8ab4849b038c... 100% ▕████████████████▏  254 B                         \n",
      "pulling 577073ffcc6c...   0% ▕                ▏    0 B                         \n",
      "pulling 3f8eb4da87fa... 100% ▕████████████████▏  485 B                         \u001b[?25h\u001b[?25l\u001b[2K\u001b[1G\u001b[A\u001b[2K\u001b[1G\u001b[A\u001b[2K\u001b[1G\u001b[A\u001b[2K\u001b[1G\u001b[A\u001b[2K\u001b[1G\u001b[A\u001b[2K\u001b[1Gpulling manifest \n",
      "pulling 6a0746a1ec1a... 100% ▕████████████████▏ 4.7 GB                         \n",
      "pulling 4fa551d4f938... 100% ▕████████████████▏  12 KB                         \n",
      "pulling 8ab4849b038c... 100% ▕████████████████▏  254 B                         \n",
      "pulling 577073ffcc6c...   0% ▕                ▏    0 B                         \n",
      "pulling 3f8eb4da87fa... 100% ▕████████████████▏  485 B                         \u001b[?25h\u001b[?25l\u001b[2K\u001b[1G\u001b[A\u001b[2K\u001b[1G\u001b[A\u001b[2K\u001b[1G\u001b[A\u001b[2K\u001b[1G\u001b[A\u001b[2K\u001b[1G\u001b[A\u001b[2K\u001b[1Gpulling manifest \n",
      "pulling 6a0746a1ec1a... 100% ▕████████████████▏ 4.7 GB                         \n",
      "pulling 4fa551d4f938... 100% ▕████████████████▏  12 KB                         \n",
      "pulling 8ab4849b038c... 100% ▕████████████████▏  254 B                         \n",
      "pulling 577073ffcc6c...   0% ▕                ▏    0 B                         \n",
      "pulling 3f8eb4da87fa... 100% ▕████████████████▏  485 B                         \n",
      "verifying sha256 digest ⠋ \u001b[?25h\u001b[?25l\u001b[2K\u001b[1G\u001b[A\u001b[2K\u001b[1G\u001b[A\u001b[2K\u001b[1G\u001b[A\u001b[2K\u001b[1G\u001b[A\u001b[2K\u001b[1G\u001b[A\u001b[2K\u001b[1G\u001b[A\u001b[2K\u001b[1Gpulling manifest \n",
      "pulling 6a0746a1ec1a... 100% ▕████████████████▏ 4.7 GB                         \n",
      "pulling 4fa551d4f938... 100% ▕████████████████▏  12 KB                         \n",
      "pulling 8ab4849b038c... 100% ▕████████████████▏  254 B                         \n",
      "pulling 577073ffcc6c...   0% ▕                ▏    0 B                         \n",
      "pulling 3f8eb4da87fa... 100% ▕████████████████▏  485 B                         \n",
      "verifying sha256 digest ⠙ \u001b[?25h\u001b[?25l\u001b[2K\u001b[1G\u001b[A\u001b[2K\u001b[1G\u001b[A\u001b[2K\u001b[1G\u001b[A\u001b[2K\u001b[1G\u001b[A\u001b[2K\u001b[1G\u001b[A\u001b[2K\u001b[1G\u001b[A\u001b[2K\u001b[1Gpulling manifest \n",
      "pulling 6a0746a1ec1a... 100% ▕████████████████▏ 4.7 GB                         \n",
      "pulling 4fa551d4f938... 100% ▕████████████████▏  12 KB                         \n",
      "pulling 8ab4849b038c... 100% ▕████████████████▏  254 B                         \n",
      "pulling 577073ffcc6c...   0% ▕                ▏    0 B                         \n",
      "pulling 3f8eb4da87fa... 100% ▕████████████████▏  485 B                         \n",
      "verifying sha256 digest ⠹ \u001b[?25h\u001b[?25l\u001b[2K\u001b[1G\u001b[A\u001b[2K\u001b[1G\u001b[A\u001b[2K\u001b[1G\u001b[A\u001b[2K\u001b[1G\u001b[A\u001b[2K\u001b[1G\u001b[A\u001b[2K\u001b[1G\u001b[A\u001b[2K\u001b[1Gpulling manifest \n",
      "pulling 6a0746a1ec1a... 100% ▕████████████████▏ 4.7 GB                         \n",
      "pulling 4fa551d4f938... 100% ▕████████████████▏  12 KB                         \n",
      "pulling 8ab4849b038c... 100% ▕████████████████▏  254 B                         \n",
      "pulling 577073ffcc6c...   0% ▕                ▏    0 B                         \n",
      "pulling 3f8eb4da87fa... 100% ▕████████████████▏  485 B                         \n",
      "verifying sha256 digest ⠸ \u001b[?25h\u001b[?25l\u001b[2K\u001b[1G\u001b[A\u001b[2K\u001b[1G\u001b[A\u001b[2K\u001b[1G\u001b[A\u001b[2K\u001b[1G\u001b[A\u001b[2K\u001b[1G\u001b[A\u001b[2K\u001b[1G\u001b[A\u001b[2K\u001b[1Gpulling manifest \n",
      "pulling 6a0746a1ec1a... 100% ▕████████████████▏ 4.7 GB                         \n",
      "pulling 4fa551d4f938... 100% ▕████████████████▏  12 KB                         \n",
      "pulling 8ab4849b038c... 100% ▕████████████████▏  254 B                         \n",
      "pulling 577073ffcc6c...   0% ▕                ▏    0 B                         \n",
      "pulling 3f8eb4da87fa... 100% ▕████████████████▏  485 B                         \n",
      "verifying sha256 digest ⠼ \u001b[?25h\u001b[?25l\u001b[2K\u001b[1G\u001b[A\u001b[2K\u001b[1G\u001b[A\u001b[2K\u001b[1G\u001b[A\u001b[2K\u001b[1G\u001b[A\u001b[2K\u001b[1G\u001b[A\u001b[2K\u001b[1G\u001b[A\u001b[2K\u001b[1Gpulling manifest \n",
      "pulling 6a0746a1ec1a... 100% ▕████████████████▏ 4.7 GB                         \n",
      "pulling 4fa551d4f938... 100% ▕████████████████▏  12 KB                         \n",
      "pulling 8ab4849b038c... 100% ▕████████████████▏  254 B                         \n",
      "pulling 577073ffcc6c...   0% ▕                ▏    0 B                         \n",
      "pulling 3f8eb4da87fa... 100% ▕████████████████▏  485 B                         \n",
      "verifying sha256 digest ⠴ \u001b[?25h\u001b[?25l\u001b[2K\u001b[1G\u001b[A\u001b[2K\u001b[1G\u001b[A\u001b[2K\u001b[1G\u001b[A\u001b[2K\u001b[1G\u001b[A\u001b[2K\u001b[1G\u001b[A\u001b[2K\u001b[1G\u001b[A\u001b[2K\u001b[1Gpulling manifest \n",
      "pulling 6a0746a1ec1a... 100% ▕████████████████▏ 4.7 GB                         \n",
      "pulling 4fa551d4f938... 100% ▕████████████████▏  12 KB                         \n",
      "pulling 8ab4849b038c... 100% ▕████████████████▏  254 B                         \n",
      "pulling 577073ffcc6c...   0% ▕                ▏    0 B                         \n",
      "pulling 3f8eb4da87fa... 100% ▕████████████████▏  485 B                         \n",
      "verifying sha256 digest ⠦ \u001b[?25h\u001b[?25l\u001b[2K\u001b[1G\u001b[A\u001b[2K\u001b[1G\u001b[A\u001b[2K\u001b[1G\u001b[A\u001b[2K\u001b[1G\u001b[A\u001b[2K\u001b[1G\u001b[A\u001b[2K\u001b[1G\u001b[A\u001b[2K\u001b[1Gpulling manifest \n",
      "pulling 6a0746a1ec1a... 100% ▕████████████████▏ 4.7 GB                         \n",
      "pulling 4fa551d4f938... 100% ▕████████████████▏  12 KB                         \n",
      "pulling 8ab4849b038c... 100% ▕████████████████▏  254 B                         \n",
      "pulling 577073ffcc6c...   0% ▕                ▏    0 B                         \n",
      "pulling 3f8eb4da87fa... 100% ▕████████████████▏  485 B                         \n",
      "verifying sha256 digest ⠧ \u001b[?25h\u001b[?25l\u001b[2K\u001b[1G\u001b[A\u001b[2K\u001b[1G\u001b[A\u001b[2K\u001b[1G\u001b[A\u001b[2K\u001b[1G\u001b[A\u001b[2K\u001b[1G\u001b[A\u001b[2K\u001b[1G\u001b[A\u001b[2K\u001b[1Gpulling manifest \n",
      "pulling 6a0746a1ec1a... 100% ▕████████████████▏ 4.7 GB                         \n",
      "pulling 4fa551d4f938... 100% ▕████████████████▏  12 KB                         \n",
      "pulling 8ab4849b038c... 100% ▕████████████████▏  254 B                         \n",
      "pulling 577073ffcc6c...   0% ▕                ▏    0 B                         \n",
      "pulling 3f8eb4da87fa... 100% ▕████████████████▏  485 B                         \n",
      "verifying sha256 digest ⠇ \u001b[?25h\u001b[?25l\u001b[2K\u001b[1G\u001b[A\u001b[2K\u001b[1G\u001b[A\u001b[2K\u001b[1G\u001b[A\u001b[2K\u001b[1G\u001b[A\u001b[2K\u001b[1G\u001b[A\u001b[2K\u001b[1G\u001b[A\u001b[2K\u001b[1Gpulling manifest \n",
      "pulling 6a0746a1ec1a... 100% ▕████████████████▏ 4.7 GB                         \n",
      "pulling 4fa551d4f938... 100% ▕████████████████▏  12 KB                         \n",
      "pulling 8ab4849b038c... 100% ▕████████████████▏  254 B                         \n",
      "pulling 577073ffcc6c...   0% ▕                ▏    0 B                         \n",
      "pulling 3f8eb4da87fa... 100% ▕████████████████▏  485 B                         \n",
      "verifying sha256 digest ⠏ \u001b[?25h\u001b[?25l\u001b[2K\u001b[1G\u001b[A\u001b[2K\u001b[1G\u001b[A\u001b[2K\u001b[1G\u001b[A\u001b[2K\u001b[1G\u001b[A\u001b[2K\u001b[1G\u001b[A\u001b[2K\u001b[1G\u001b[A\u001b[2K\u001b[1Gpulling manifest \n",
      "pulling 6a0746a1ec1a... 100% ▕████████████████▏ 4.7 GB                         \n",
      "pulling 4fa551d4f938... 100% ▕████████████████▏  12 KB                         \n",
      "pulling 8ab4849b038c... 100% ▕████████████████▏  254 B                         \n",
      "pulling 577073ffcc6c...   0% ▕                ▏    0 B                         \n",
      "pulling 3f8eb4da87fa... 100% ▕████████████████▏  485 B                         \n",
      "verifying sha256 digest ⠋ \u001b[?25h\u001b[?25l\u001b[2K\u001b[1G\u001b[A\u001b[2K\u001b[1G\u001b[A\u001b[2K\u001b[1G\u001b[A\u001b[2K\u001b[1G\u001b[A\u001b[2K\u001b[1G\u001b[A\u001b[2K\u001b[1G\u001b[A\u001b[2K\u001b[1Gpulling manifest \n",
      "pulling 6a0746a1ec1a... 100% ▕████████████████▏ 4.7 GB                         \n",
      "pulling 4fa551d4f938... 100% ▕████████████████▏  12 KB                         \n",
      "pulling 8ab4849b038c... 100% ▕████████████████▏  254 B                         \n",
      "pulling 577073ffcc6c...   0% ▕                ▏    0 B                         \n",
      "pulling 3f8eb4da87fa... 100% ▕████████████████▏  485 B                         \n",
      "verifying sha256 digest ⠙ \u001b[?25h\u001b[?25l\u001b[2K\u001b[1G\u001b[A\u001b[2K\u001b[1G\u001b[A\u001b[2K\u001b[1G\u001b[A\u001b[2K\u001b[1G\u001b[A\u001b[2K\u001b[1G\u001b[A\u001b[2K\u001b[1G\u001b[A\u001b[2K\u001b[1Gpulling manifest \n",
      "pulling 6a0746a1ec1a... 100% ▕████████████████▏ 4.7 GB                         \n",
      "pulling 4fa551d4f938... 100% ▕████████████████▏  12 KB                         \n",
      "pulling 8ab4849b038c... 100% ▕████████████████▏  254 B                         \n",
      "pulling 577073ffcc6c...   0% ▕                ▏    0 B                         \n",
      "pulling 3f8eb4da87fa... 100% ▕████████████████▏  485 B                         \n",
      "verifying sha256 digest ⠹ \u001b[?25h\u001b[?25l\u001b[2K\u001b[1G\u001b[A\u001b[2K\u001b[1G\u001b[A\u001b[2K\u001b[1G\u001b[A\u001b[2K\u001b[1G\u001b[A\u001b[2K\u001b[1G\u001b[A\u001b[2K\u001b[1G\u001b[A\u001b[2K\u001b[1Gpulling manifest \n",
      "pulling 6a0746a1ec1a... 100% ▕████████████████▏ 4.7 GB                         \n",
      "pulling 4fa551d4f938... 100% ▕████████████████▏  12 KB                         \n",
      "pulling 8ab4849b038c... 100% ▕████████████████▏  254 B                         \n",
      "pulling 577073ffcc6c...   0% ▕                ▏    0 B                         \n",
      "pulling 3f8eb4da87fa... 100% ▕████████████████▏  485 B                         \n",
      "verifying sha256 digest ⠸ \u001b[?25h\u001b[?25l\u001b[2K\u001b[1G\u001b[A\u001b[2K\u001b[1G\u001b[A\u001b[2K\u001b[1G\u001b[A\u001b[2K\u001b[1G\u001b[A\u001b[2K\u001b[1G\u001b[A\u001b[2K\u001b[1G\u001b[A\u001b[2K\u001b[1Gpulling manifest \n",
      "pulling 6a0746a1ec1a... 100% ▕████████████████▏ 4.7 GB                         \n",
      "pulling 4fa551d4f938... 100% ▕████████████████▏  12 KB                         \n",
      "pulling 8ab4849b038c... 100% ▕████████████████▏  254 B                         \n",
      "pulling 577073ffcc6c...   0% ▕                ▏    0 B                         \n",
      "pulling 3f8eb4da87fa... 100% ▕████████████████▏  485 B                         \n",
      "verifying sha256 digest ⠼ \u001b[?25h\u001b[?25l\u001b[2K\u001b[1G\u001b[A\u001b[2K\u001b[1G\u001b[A\u001b[2K\u001b[1G\u001b[A\u001b[2K\u001b[1G\u001b[A\u001b[2K\u001b[1G\u001b[A\u001b[2K\u001b[1G\u001b[A\u001b[2K\u001b[1Gpulling manifest \n",
      "pulling 6a0746a1ec1a... 100% ▕████████████████▏ 4.7 GB                         \n",
      "pulling 4fa551d4f938... 100% ▕████████████████▏  12 KB                         \n",
      "pulling 8ab4849b038c... 100% ▕████████████████▏  254 B                         \n",
      "pulling 577073ffcc6c...   0% ▕                ▏    0 B                         \n",
      "pulling 3f8eb4da87fa... 100% ▕████████████████▏  485 B                         \n",
      "verifying sha256 digest ⠴ \u001b[?25h\u001b[?25l\u001b[2K\u001b[1G\u001b[A\u001b[2K\u001b[1G\u001b[A\u001b[2K\u001b[1G\u001b[A\u001b[2K\u001b[1G\u001b[A\u001b[2K\u001b[1G\u001b[A\u001b[2K\u001b[1G\u001b[A\u001b[2K\u001b[1Gpulling manifest \n",
      "pulling 6a0746a1ec1a... 100% ▕████████████████▏ 4.7 GB                         \n",
      "pulling 4fa551d4f938... 100% ▕████████████████▏  12 KB                         \n",
      "pulling 8ab4849b038c... 100% ▕████████████████▏  254 B                         \n",
      "pulling 577073ffcc6c...   0% ▕                ▏    0 B                         \n",
      "pulling 3f8eb4da87fa... 100% ▕████████████████▏  485 B                         \n",
      "verifying sha256 digest ⠦ \u001b[?25h\u001b[?25l\u001b[2K\u001b[1G\u001b[A\u001b[2K\u001b[1G\u001b[A\u001b[2K\u001b[1G\u001b[A\u001b[2K\u001b[1G\u001b[A\u001b[2K\u001b[1G\u001b[A\u001b[2K\u001b[1G\u001b[A\u001b[2K\u001b[1Gpulling manifest \n",
      "pulling 6a0746a1ec1a... 100% ▕████████████████▏ 4.7 GB                         \n",
      "pulling 4fa551d4f938... 100% ▕████████████████▏  12 KB                         \n",
      "pulling 8ab4849b038c... 100% ▕████████████████▏  254 B                         \n",
      "pulling 577073ffcc6c...   0% ▕                ▏    0 B                         \n",
      "pulling 3f8eb4da87fa... 100% ▕████████████████▏  485 B                         \n",
      "verifying sha256 digest ⠧ \u001b[?25h\u001b[?25l\u001b[2K\u001b[1G\u001b[A\u001b[2K\u001b[1G\u001b[A\u001b[2K\u001b[1G\u001b[A\u001b[2K\u001b[1G\u001b[A\u001b[2K\u001b[1G\u001b[A\u001b[2K\u001b[1G\u001b[A\u001b[2K\u001b[1Gpulling manifest \n",
      "pulling 6a0746a1ec1a... 100% ▕████████████████▏ 4.7 GB                         \n",
      "pulling 4fa551d4f938... 100% ▕████████████████▏  12 KB                         \n",
      "pulling 8ab4849b038c... 100% ▕████████████████▏  254 B                         \n",
      "pulling 577073ffcc6c...   0% ▕                ▏    0 B                         \n",
      "pulling 3f8eb4da87fa... 100% ▕████████████████▏  485 B                         \n",
      "verifying sha256 digest ⠇ \u001b[?25h\u001b[?25l\u001b[2K\u001b[1G\u001b[A\u001b[2K\u001b[1G\u001b[A\u001b[2K\u001b[1G\u001b[A\u001b[2K\u001b[1G\u001b[A\u001b[2K\u001b[1G\u001b[A\u001b[2K\u001b[1G\u001b[A\u001b[2K\u001b[1Gpulling manifest \n",
      "pulling 6a0746a1ec1a... 100% ▕████████████████▏ 4.7 GB                         \n",
      "pulling 4fa551d4f938... 100% ▕████████████████▏  12 KB                         \n",
      "pulling 8ab4849b038c... 100% ▕████████████████▏  254 B                         \n",
      "pulling 577073ffcc6c...   0% ▕                ▏    0 B                         \n",
      "pulling 3f8eb4da87fa... 100% ▕████████████████▏  485 B                         \n",
      "verifying sha256 digest ⠏ \u001b[?25h\u001b[?25l\u001b[2K\u001b[1G\u001b[A\u001b[2K\u001b[1G\u001b[A\u001b[2K\u001b[1G\u001b[A\u001b[2K\u001b[1G\u001b[A\u001b[2K\u001b[1G\u001b[A\u001b[2K\u001b[1G\u001b[A\u001b[2K\u001b[1Gpulling manifest \n",
      "pulling 6a0746a1ec1a... 100% ▕████████████████▏ 4.7 GB                         \n",
      "pulling 4fa551d4f938... 100% ▕████████████████▏  12 KB                         \n",
      "pulling 8ab4849b038c... 100% ▕████████████████▏  254 B                         \n",
      "pulling 577073ffcc6c...   0% ▕                ▏    0 B                         \n",
      "pulling 3f8eb4da87fa... 100% ▕████████████████▏  485 B                         \n",
      "verifying sha256 digest ⠋ \u001b[?25h\u001b[?25l\u001b[2K\u001b[1G\u001b[A\u001b[2K\u001b[1G\u001b[A\u001b[2K\u001b[1G\u001b[A\u001b[2K\u001b[1G\u001b[A\u001b[2K\u001b[1G\u001b[A\u001b[2K\u001b[1G\u001b[A\u001b[2K\u001b[1Gpulling manifest \n",
      "pulling 6a0746a1ec1a... 100% ▕████████████████▏ 4.7 GB                         \n",
      "pulling 4fa551d4f938... 100% ▕████████████████▏  12 KB                         \n",
      "pulling 8ab4849b038c... 100% ▕████████████████▏  254 B                         \n",
      "pulling 577073ffcc6c...   0% ▕                ▏    0 B                         \n",
      "pulling 3f8eb4da87fa... 100% ▕████████████████▏  485 B                         \n",
      "verifying sha256 digest ⠙ \u001b[?25h\u001b[?25l\u001b[2K\u001b[1G\u001b[A\u001b[2K\u001b[1G\u001b[A\u001b[2K\u001b[1G\u001b[A\u001b[2K\u001b[1G\u001b[A\u001b[2K\u001b[1G\u001b[A\u001b[2K\u001b[1G\u001b[A\u001b[2K\u001b[1Gpulling manifest \n",
      "pulling 6a0746a1ec1a... 100% ▕████████████████▏ 4.7 GB                         \n",
      "pulling 4fa551d4f938... 100% ▕████████████████▏  12 KB                         \n",
      "pulling 8ab4849b038c... 100% ▕████████████████▏  254 B                         \n",
      "pulling 577073ffcc6c...   0% ▕                ▏    0 B                         \n",
      "pulling 3f8eb4da87fa... 100% ▕████████████████▏  485 B                         \n",
      "verifying sha256 digest ⠹ \u001b[?25h\u001b[?25l\u001b[2K\u001b[1G\u001b[A\u001b[2K\u001b[1G\u001b[A\u001b[2K\u001b[1G\u001b[A\u001b[2K\u001b[1G\u001b[A\u001b[2K\u001b[1G\u001b[A\u001b[2K\u001b[1G\u001b[A\u001b[2K\u001b[1Gpulling manifest \n",
      "pulling 6a0746a1ec1a... 100% ▕████████████████▏ 4.7 GB                         \n",
      "pulling 4fa551d4f938... 100% ▕████████████████▏  12 KB                         \n",
      "pulling 8ab4849b038c... 100% ▕████████████████▏  254 B                         \n",
      "pulling 577073ffcc6c...   0% ▕                ▏    0 B                         \n",
      "pulling 3f8eb4da87fa... 100% ▕████████████████▏  485 B                         \n",
      "verifying sha256 digest ⠸ \u001b[?25h\u001b[?25l\u001b[2K\u001b[1G\u001b[A\u001b[2K\u001b[1G\u001b[A\u001b[2K\u001b[1G\u001b[A\u001b[2K\u001b[1G\u001b[A\u001b[2K\u001b[1G\u001b[A\u001b[2K\u001b[1G\u001b[A\u001b[2K\u001b[1Gpulling manifest \n",
      "pulling 6a0746a1ec1a... 100% ▕████████████████▏ 4.7 GB                         \n",
      "pulling 4fa551d4f938... 100% ▕████████████████▏  12 KB                         \n",
      "pulling 8ab4849b038c... 100% ▕████████████████▏  254 B                         \n",
      "pulling 577073ffcc6c...   0% ▕                ▏    0 B                         \n",
      "pulling 3f8eb4da87fa... 100% ▕████████████████▏  485 B                         \n",
      "verifying sha256 digest ⠼ \u001b[?25h\u001b[?25l\u001b[2K\u001b[1G\u001b[A\u001b[2K\u001b[1G\u001b[A\u001b[2K\u001b[1G\u001b[A\u001b[2K\u001b[1G\u001b[A\u001b[2K\u001b[1G\u001b[A\u001b[2K\u001b[1G\u001b[A\u001b[2K\u001b[1Gpulling manifest \n",
      "pulling 6a0746a1ec1a... 100% ▕████████████████▏ 4.7 GB                         \n",
      "pulling 4fa551d4f938... 100% ▕████████████████▏  12 KB                         \n",
      "pulling 8ab4849b038c... 100% ▕████████████████▏  254 B                         \n",
      "pulling 577073ffcc6c...   0% ▕                ▏    0 B                         \n",
      "pulling 3f8eb4da87fa... 100% ▕████████████████▏  485 B                         \n",
      "verifying sha256 digest ⠴ \u001b[?25h\u001b[?25l\u001b[2K\u001b[1G\u001b[A\u001b[2K\u001b[1G\u001b[A\u001b[2K\u001b[1G\u001b[A\u001b[2K\u001b[1G\u001b[A\u001b[2K\u001b[1G\u001b[A\u001b[2K\u001b[1G\u001b[A\u001b[2K\u001b[1Gpulling manifest \n",
      "pulling 6a0746a1ec1a... 100% ▕████████████████▏ 4.7 GB                         \n",
      "pulling 4fa551d4f938... 100% ▕████████████████▏  12 KB                         \n",
      "pulling 8ab4849b038c... 100% ▕████████████████▏  254 B                         \n",
      "pulling 577073ffcc6c...   0% ▕                ▏    0 B                         \n",
      "pulling 3f8eb4da87fa... 100% ▕████████████████▏  485 B                         \n",
      "verifying sha256 digest ⠦ \u001b[?25h\u001b[?25l\u001b[2K\u001b[1G\u001b[A\u001b[2K\u001b[1G\u001b[A\u001b[2K\u001b[1G\u001b[A\u001b[2K\u001b[1G\u001b[A\u001b[2K\u001b[1G\u001b[A\u001b[2K\u001b[1G\u001b[A\u001b[2K\u001b[1Gpulling manifest \n",
      "pulling 6a0746a1ec1a... 100% ▕████████████████▏ 4.7 GB                         \n",
      "pulling 4fa551d4f938... 100% ▕████████████████▏  12 KB                         \n",
      "pulling 8ab4849b038c... 100% ▕████████████████▏  254 B                         \n",
      "pulling 577073ffcc6c...   0% ▕                ▏    0 B                         \n",
      "pulling 3f8eb4da87fa... 100% ▕████████████████▏  485 B                         \n",
      "verifying sha256 digest ⠧ \u001b[?25h\u001b[?25l\u001b[2K\u001b[1G\u001b[A\u001b[2K\u001b[1G\u001b[A\u001b[2K\u001b[1G\u001b[A\u001b[2K\u001b[1G\u001b[A\u001b[2K\u001b[1G\u001b[A\u001b[2K\u001b[1G\u001b[A\u001b[2K\u001b[1Gpulling manifest \n",
      "pulling 6a0746a1ec1a... 100% ▕████████████████▏ 4.7 GB                         \n",
      "pulling 4fa551d4f938... 100% ▕████████████████▏  12 KB                         \n",
      "pulling 8ab4849b038c... 100% ▕████████████████▏  254 B                         \n",
      "pulling 577073ffcc6c...   0% ▕                ▏    0 B                         \n",
      "pulling 3f8eb4da87fa... 100% ▕████████████████▏  485 B                         \n",
      "verifying sha256 digest ⠇ \u001b[?25h\u001b[?25l\u001b[2K\u001b[1G\u001b[A\u001b[2K\u001b[1G\u001b[A\u001b[2K\u001b[1G\u001b[A\u001b[2K\u001b[1G\u001b[A\u001b[2K\u001b[1G\u001b[A\u001b[2K\u001b[1G\u001b[A\u001b[2K\u001b[1Gpulling manifest \n",
      "pulling 6a0746a1ec1a... 100% ▕████████████████▏ 4.7 GB                         \n",
      "pulling 4fa551d4f938... 100% ▕████████████████▏  12 KB                         \n",
      "pulling 8ab4849b038c... 100% ▕████████████████▏  254 B                         \n",
      "pulling 577073ffcc6c...   0% ▕                ▏    0 B                         \n",
      "pulling 3f8eb4da87fa... 100% ▕████████████████▏  485 B                         \n",
      "verifying sha256 digest ⠏ \u001b[?25h\u001b[?25l\u001b[2K\u001b[1G\u001b[A\u001b[2K\u001b[1G\u001b[A\u001b[2K\u001b[1G\u001b[A\u001b[2K\u001b[1G\u001b[A\u001b[2K\u001b[1G\u001b[A\u001b[2K\u001b[1G\u001b[A\u001b[2K\u001b[1Gpulling manifest \n",
      "pulling 6a0746a1ec1a... 100% ▕████████████████▏ 4.7 GB                         \n",
      "pulling 4fa551d4f938... 100% ▕████████████████▏  12 KB                         \n",
      "pulling 8ab4849b038c... 100% ▕████████████████▏  254 B                         \n",
      "pulling 577073ffcc6c...   0% ▕                ▏    0 B                         \n",
      "pulling 3f8eb4da87fa... 100% ▕████████████████▏  485 B                         \n",
      "verifying sha256 digest ⠋ \u001b[?25h\u001b[?25l\u001b[2K\u001b[1G\u001b[A\u001b[2K\u001b[1G\u001b[A\u001b[2K\u001b[1G\u001b[A\u001b[2K\u001b[1G\u001b[A\u001b[2K\u001b[1G\u001b[A\u001b[2K\u001b[1G\u001b[A\u001b[2K\u001b[1Gpulling manifest \n",
      "pulling 6a0746a1ec1a... 100% ▕████████████████▏ 4.7 GB                         \n",
      "pulling 4fa551d4f938... 100% ▕████████████████▏  12 KB                         \n",
      "pulling 8ab4849b038c... 100% ▕████████████████▏  254 B                         \n",
      "pulling 577073ffcc6c...   0% ▕                ▏    0 B                         \n",
      "pulling 3f8eb4da87fa... 100% ▕████████████████▏  485 B                         \n",
      "verifying sha256 digest ⠙ \u001b[?25h\u001b[?25l\u001b[2K\u001b[1G\u001b[A\u001b[2K\u001b[1G\u001b[A\u001b[2K\u001b[1G\u001b[A\u001b[2K\u001b[1G\u001b[A\u001b[2K\u001b[1G\u001b[A\u001b[2K\u001b[1G\u001b[A\u001b[2K\u001b[1Gpulling manifest \n",
      "pulling 6a0746a1ec1a... 100% ▕████████████████▏ 4.7 GB                         \n",
      "pulling 4fa551d4f938... 100% ▕████████████████▏  12 KB                         \n",
      "pulling 8ab4849b038c... 100% ▕████████████████▏  254 B                         \n",
      "pulling 577073ffcc6c...   0% ▕                ▏    0 B                         \n",
      "pulling 3f8eb4da87fa... 100% ▕████████████████▏  485 B                         \n",
      "verifying sha256 digest \n",
      "writing manifest \n",
      "removing any unused layers \n",
      "success \u001b[?25h\n"
     ]
    }
   ],
   "source": [
    "!ollama pull llama3"
   ]
  },
  {
   "cell_type": "markdown",
   "metadata": {},
   "source": [
    "## A. LLM Model "
   ]
  },
  {
   "cell_type": "code",
   "execution_count": 28,
   "metadata": {},
   "outputs": [],
   "source": [
    "!pip install langchain langchain_community -q"
   ]
  },
  {
   "cell_type": "code",
   "execution_count": 29,
   "metadata": {},
   "outputs": [],
   "source": [
    "from langchain_community.llms import Ollama"
   ]
  },
  {
   "cell_type": "code",
   "execution_count": 30,
   "metadata": {},
   "outputs": [
    {
     "name": "stdout",
     "output_type": "stream",
     "text": [
      "Indonesia!\n",
      "\n",
      "Here's a fun fact: Indonesia is home to the world's largest Buddhist temple, Borobudur. This magnificent structure was built in the 9th century and features over 2,600 relief panels and more than 500 Buddha statues! It's an incredible sight to behold, with the sun rising or setting behind it, casting a golden glow over the entire complex.\n",
      "\n",
      "Did you know that Borobudur is also a UNESCO World Heritage Site?\n"
     ]
    }
   ],
   "source": [
    "# invoke: all the text of the response is printed at once \n",
    "llmModel = Ollama(model='llama3')\n",
    "prompt = \"Tell me one fun fact about Indonesia\"\n",
    "response = llmModel.invoke(\n",
    "    prompt\n",
    ")\n",
    "print(response)"
   ]
  },
  {
   "cell_type": "code",
   "execution_count": 31,
   "metadata": {},
   "outputs": [
    {
     "name": "stdout",
     "output_type": "stream",
     "text": [
      "Here's a fun fact about Indonesia:\n",
      "\n",
      "Did you know that Indonesia is home to the world's largest Buddhist temple, Borobudur? This ancient temple complex in central Java was built around 800 AD and features over 2,600 relief panels and 504 Buddha statues. It's so massive that it's even visible from space!"
     ]
    }
   ],
   "source": [
    "# Streaming: printing one chunk of text at a time \n",
    "for chunk in llmModel.stream(\n",
    "    prompt\n",
    "):\n",
    "    print(chunk, end=\"\", flush=True)"
   ]
  },
  {
   "cell_type": "code",
   "execution_count": 32,
   "metadata": {},
   "outputs": [
    {
     "name": "stdout",
     "output_type": "stream",
     "text": [
      "Twisted puzzle, tangled mind\n",
      "Colors swirling, nowhere to find\n",
      "The perfect solution, just out of sight\n",
      "Frustration mounts, day and night\n",
      "Solving the cube, pure delight\n"
     ]
    }
   ],
   "source": [
    "# temperature: more or less creativity, 0-1\n",
    "creativeModel = Ollama(model='llama3', temperature=0.9)\n",
    "\n",
    "prompt = \"Write a short 5 line poem about Rubiks cube\"\n",
    "response = creativeModel.invoke(\n",
    "    prompt\n",
    ")\n",
    "print(response)"
   ]
  },
  {
   "cell_type": "markdown",
   "metadata": {},
   "source": [
    "## B. Chat Model"
   ]
  },
  {
   "cell_type": "code",
   "execution_count": 33,
   "metadata": {},
   "outputs": [],
   "source": [
    "from langchain_community.chat_models import ChatOllama"
   ]
  },
  {
   "cell_type": "code",
   "execution_count": 34,
   "metadata": {},
   "outputs": [],
   "source": [
    "model = ChatOllama(\n",
    "    model='llama3',\n",
    "    temperature= 0.5\n",
    "    )\n",
    "\n",
    "messages = [\n",
    "    ('system','You are a very rude but smart teenager'),\n",
    "    ('human','tell me a fact about Indonesia')\n",
    "]\n",
    "\n",
    "response = model.invoke(messages)"
   ]
  },
  {
   "cell_type": "code",
   "execution_count": 35,
   "metadata": {},
   "outputs": [
    {
     "data": {
      "text/plain": [
       "{'model': 'llama3',\n",
       " 'created_at': '2024-08-27T11:20:27.842544615Z',\n",
       " 'message': {'role': 'assistant', 'content': ''},\n",
       " 'done_reason': 'stop',\n",
       " 'done': True,\n",
       " 'total_duration': 2880716651,\n",
       " 'load_duration': 60285953,\n",
       " 'prompt_eval_count': 29,\n",
       " 'prompt_eval_duration': 27753000,\n",
       " 'eval_count': 134,\n",
       " 'eval_duration': 2747470000}"
      ]
     },
     "execution_count": 35,
     "metadata": {},
     "output_type": "execute_result"
    }
   ],
   "source": [
    "response.response_metadata"
   ]
  },
  {
   "cell_type": "code",
   "execution_count": 36,
   "metadata": {},
   "outputs": [
    {
     "data": {
      "text/plain": [
       "{'title': 'AIMessage',\n",
       " 'description': 'Message from an AI.\\n\\nAIMessage is returned from a chat model as a response to a prompt.\\n\\nThis message represents the output of the model and consists of both\\nthe raw output as returned by the model together standardized fields\\n(e.g., tool calls, usage metadata) added by the LangChain framework.',\n",
       " 'type': 'object',\n",
       " 'properties': {'content': {'title': 'Content',\n",
       "   'anyOf': [{'type': 'string'},\n",
       "    {'type': 'array',\n",
       "     'items': {'anyOf': [{'type': 'string'}, {'type': 'object'}]}}]},\n",
       "  'additional_kwargs': {'title': 'Additional Kwargs', 'type': 'object'},\n",
       "  'response_metadata': {'title': 'Response Metadata', 'type': 'object'},\n",
       "  'type': {'title': 'Type', 'default': 'ai', 'enum': ['ai'], 'type': 'string'},\n",
       "  'name': {'title': 'Name', 'type': 'string'},\n",
       "  'id': {'title': 'Id', 'type': 'string'},\n",
       "  'example': {'title': 'Example', 'default': False, 'type': 'boolean'},\n",
       "  'tool_calls': {'title': 'Tool Calls',\n",
       "   'default': [],\n",
       "   'type': 'array',\n",
       "   'items': {'$ref': '#/definitions/ToolCall'}},\n",
       "  'invalid_tool_calls': {'title': 'Invalid Tool Calls',\n",
       "   'default': [],\n",
       "   'type': 'array',\n",
       "   'items': {'$ref': '#/definitions/InvalidToolCall'}},\n",
       "  'usage_metadata': {'$ref': '#/definitions/UsageMetadata'}},\n",
       " 'required': ['content'],\n",
       " 'definitions': {'ToolCall': {'title': 'ToolCall',\n",
       "   'type': 'object',\n",
       "   'properties': {'name': {'title': 'Name', 'type': 'string'},\n",
       "    'args': {'title': 'Args', 'type': 'object'},\n",
       "    'id': {'title': 'Id', 'type': 'string'},\n",
       "    'type': {'title': 'Type', 'enum': ['tool_call'], 'type': 'string'}},\n",
       "   'required': ['name', 'args', 'id']},\n",
       "  'InvalidToolCall': {'title': 'InvalidToolCall',\n",
       "   'type': 'object',\n",
       "   'properties': {'name': {'title': 'Name', 'type': 'string'},\n",
       "    'args': {'title': 'Args', 'type': 'string'},\n",
       "    'id': {'title': 'Id', 'type': 'string'},\n",
       "    'error': {'title': 'Error', 'type': 'string'},\n",
       "    'type': {'title': 'Type',\n",
       "     'enum': ['invalid_tool_call'],\n",
       "     'type': 'string'}},\n",
       "   'required': ['name', 'args', 'id', 'error']},\n",
       "  'UsageMetadata': {'title': 'UsageMetadata',\n",
       "   'type': 'object',\n",
       "   'properties': {'input_tokens': {'title': 'Input Tokens', 'type': 'integer'},\n",
       "    'output_tokens': {'title': 'Output Tokens', 'type': 'integer'},\n",
       "    'total_tokens': {'title': 'Total Tokens', 'type': 'integer'}},\n",
       "   'required': ['input_tokens', 'output_tokens', 'total_tokens']}}}"
      ]
     },
     "execution_count": 36,
     "metadata": {},
     "output_type": "execute_result"
    }
   ],
   "source": [
    "response.schema()"
   ]
  },
  {
   "cell_type": "markdown",
   "metadata": {},
   "source": [
    "# 2. LangChain Prompts and Prompt Templates"
   ]
  },
  {
   "cell_type": "markdown",
   "metadata": {},
   "source": [
    "## Prompts \n",
    "\n",
    "A prompt is the input we provide to one language model. This input will guide the way the language model will respond.\n",
    "\n",
    "There are many types of prompts:\n",
    "* Plain instructions.\n",
    "* Instructions with a few examples (few-shot examples).\n",
    "* Specific context and questions appropiate for a given task.\n",
    "* Etc.\n",
    "\n",
    "LangChain provides a useful list of prompt recipes [here](https://smith.langchain.com/hub?ref=blog.langchain.dev).\n",
    "\n",
    "## Prompt Templates \n",
    "\n",
    "Prompt templates are pre-defined prompt recipes that usually need some extra pieces to be complete. These extra pieces are variables that the user will provide."
   ]
  },
  {
   "cell_type": "markdown",
   "metadata": {},
   "source": [
    "## A. LLM Model "
   ]
  },
  {
   "cell_type": "code",
   "execution_count": 37,
   "metadata": {},
   "outputs": [],
   "source": [
    "from langchain_community.llms import Ollama\n",
    "from langchain.prompts import PromptTemplate"
   ]
  },
  {
   "cell_type": "code",
   "execution_count": 38,
   "metadata": {},
   "outputs": [
    {
     "data": {
      "text/plain": [
       "'Tell me a fact about Mars.'"
      ]
     },
     "execution_count": 38,
     "metadata": {},
     "output_type": "execute_result"
    }
   ],
   "source": [
    "# Single input variable \n",
    "llmModel = Ollama(model='llama3')\n",
    "one_input_prompt = PromptTemplate(\n",
    "    input_variables=[\"topic\"], \n",
    "    template=\"Tell me a fact about {topic}.\")\n",
    "one_input_prompt.format(topic=\"Mars\")"
   ]
  },
  {
   "cell_type": "code",
   "execution_count": 39,
   "metadata": {},
   "outputs": [
    {
     "data": {
      "text/plain": [
       "'Tell me a fact about Mars for a student 8th Grade level.'"
      ]
     },
     "execution_count": 39,
     "metadata": {},
     "output_type": "execute_result"
    }
   ],
   "source": [
    "# Multiple Input Variable \n",
    "multiple_input_prompt = PromptTemplate(\n",
    "    input_variables=[\"topic\", \"level\"], \n",
    "    template=\"Tell me a fact about {topic} for a student {level} level.\"\n",
    ")\n",
    "multiple_input_prompt.format(topic='Mars',level='8th Grade')"
   ]
  },
  {
   "cell_type": "markdown",
   "metadata": {},
   "source": [
    "## B. Chat Model "
   ]
  },
  {
   "cell_type": "code",
   "execution_count": 40,
   "metadata": {},
   "outputs": [],
   "source": [
    "from langchain_core.prompts import ChatPromptTemplate"
   ]
  },
  {
   "cell_type": "code",
   "execution_count": 41,
   "metadata": {},
   "outputs": [
    {
     "name": "stdout",
     "output_type": "stream",
     "text": [
      "The Rubik's Cube was invented by Hungarian sculptor and professor of architecture Ernő Rubik in 1974. Rubik created the first prototype of the cube, which he called \"Bűvös Kocka,\" or \"Magic Cube,\" in the early 1970s while working at the Academy of Applied Arts and Crafts in Budapest.\n",
      "\n",
      "The cube was initially designed as an educational tool to help students understand three-dimensional geometry and spatial relationships. It took Rubik several years to perfect his design, and he received a Hungarian patent for the cube in 1975.\n",
      "\n",
      "The first commercially available Rubik's Cube was released in Hungary in 1977, and it quickly gained popularity around the world. The cube became a cultural phenomenon in the late 1970s and early 1980s, with millions of cubes sold worldwide.\n",
      "\n",
      "Interestingly, Ernő Rubik held onto the rights to his invention until 2004, when he licensed the cube's intellectual property to the company that has since become the official manufacturer and distributor of the Rubik's Cube.\n"
     ]
    }
   ],
   "source": [
    "\n",
    "\n",
    "model = ChatOllama(\n",
    "    model='llama3',\n",
    "    temperature= 0.5\n",
    "    )\n",
    "\n",
    "chat_template = ChatPromptTemplate.from_messages(\n",
    "    [\n",
    "        (\"system\", \"You are an {profession} expert on {topic}.\"),\n",
    "        (\"human\", \"Hello, Mr. {profession}, can you please answer a question?\"),\n",
    "        (\"ai\", \"Sure!\"),\n",
    "        (\"human\", \"{user_input}\"),\n",
    "    ]\n",
    ")\n",
    "\n",
    "messages = chat_template.format_messages(\n",
    "    profession=\"Historian\",\n",
    "    topic=\"Rubiks cube\",\n",
    "    user_input=\"when was the rubik's cube invented?\"\n",
    ")\n",
    "\n",
    "response = model.invoke(messages)\n",
    "print(response.content)"
   ]
  },
  {
   "cell_type": "markdown",
   "metadata": {},
   "source": [
    "# 3. LangChain Few shot promt templates"
   ]
  },
  {
   "cell_type": "code",
   "execution_count": 42,
   "metadata": {},
   "outputs": [],
   "source": [
    "from langchain_core.prompts import FewShotChatMessagePromptTemplate"
   ]
  },
  {
   "cell_type": "code",
   "execution_count": 43,
   "metadata": {},
   "outputs": [
    {
     "name": "stdout",
     "output_type": "stream",
     "text": [
      "Mike Tyson, also known as Iron Mike, is a professional boxer and former heavyweight champion. His promising career was hindered by various criminal cases. Internationally, he is often referred to as \"The Baddest Man on Earth\", referring to his bad behavior both in and out of the ring. In Indonesia, he is more commonly known as \"Si Leher Beton\" (Concrete Neck), referring to the unusually large and sturdy neck he had during his prime.\n"
     ]
    }
   ],
   "source": [
    "# translator . Indonesia - English\n",
    "examples = [\n",
    "    {\"input\": \"Matahari\", \"output\": \"Sun\"},\n",
    "    {\"input\": \"Bintang\", \"output\": \"Star\"},\n",
    "    {\"input\": \"Siapakah penemu teori relativitas?\", \"output\": \"Who discovered the theory of relativity?\"},\n",
    "    {\"input\": \"kenapa kamu murung?\", \"output\": \"why are you gloomy?\"},\n",
    "    {\"input\": \"Apa kabar?\", \"output\": \"How are you?\"},\n",
    "    {\"input\": \"Saya lapar\", \"output\": \"I am hungry\"},\n",
    "    {\"input\": \"Terima kasih\", \"output\": \"Thank you\"},\n",
    "    {\"input\": \"Selamat pagi\", \"output\": \"Good morning\"},\n",
    "    {\"input\": \"Di mana letak perpustakaan?\", \"output\": \"Where is the library?\"},\n",
    "    {\"input\": \"Saya suka membaca buku\", \"output\": \"I like to read books\"},\n",
    "    {\"input\": \"Selamat malam\", \"output\": \"Good night\"},\n",
    "    {\"input\": \"Berapa harga ini?\", \"output\": \"How much is this?\"},\n",
    "    {\"input\": \"Saya tidak mengerti\", \"output\": \"I don't understand\"},\n",
    "    {\"input\": \"Apakah kamu berbicara bahasa Inggris?\", \"output\": \"Do you speak English?\"},\n",
    "    {\"input\": \"Saya perlu bantuan\", \"output\": \"I need help\"},\n",
    "    {\"input\": \"Di mana kamar mandi?\", \"output\": \"Where is the bathroom?\"},\n",
    "    {\"input\": \"Saya cinta kamu\", \"output\": \"I love you\"},\n",
    "    {\"input\": \"Selamat ulang tahun\", \"output\": \"Happy birthday\"},\n",
    "    {\"input\": \"Cuaca hari ini sangat panas\", \"output\": \"The weather today is very hot\"},\n",
    "    {\"input\": \"Saya suka makan nasi goreng\", \"output\": \"I like to eat fried rice\"},\n",
    "    {\"input\": \"Bisakah kamu menunjukkan jalan?\", \"output\": \"Can you show the way?\"},\n",
    "    {\"input\": \"Jam berapa sekarang?\", \"output\": \"What time is it now?\"},\n",
    "    {\"input\": \"Saya tinggal di Jakarta\", \"output\": \"I live in Jakarta\"},\n",
    "    {\"input\": \"Saya senang bertemu denganmu\", \"output\": \"I am happy to meet you\"},\n",
    "    {\"input\": \"Tolong bicara pelan-pelan\", \"output\": \"Please speak slowly\"},\n",
    "    {\"input\": \"Apakah kamu suka musik?\", \"output\": \"Do you like music?\"},\n",
    "    {\"input\": \"Nama saya John\", \"output\": \"My name is John\"},\n",
    "    {\"input\": \"Saya butuh tiket ke Surabaya\", \"output\": \"I need a ticket to Surabaya\"},\n",
    "    {\"input\": \"Selamat sore\", \"output\": \"Good afternoon\"},\n",
    "    {\"input\": \"Di mana stasiun kereta?\", \"output\": \"Where is the train station?\"},\n",
    "]\n",
    "\n",
    "example_prompt = ChatPromptTemplate.from_messages(\n",
    "    [\n",
    "        (\"human\", \"{input}\"),\n",
    "        (\"ai\", \"{output}\"),\n",
    "    ]\n",
    ")\n",
    "\n",
    "model = ChatOllama(\n",
    "    model='llama3',\n",
    "    temperature= 0\n",
    "    )\n",
    "\n",
    "few_shot_prompt = FewShotChatMessagePromptTemplate(\n",
    "    example_prompt=example_prompt,\n",
    "    examples=examples,\n",
    ")\n",
    "\n",
    "final_prompt = ChatPromptTemplate.from_messages(\n",
    "    [\n",
    "        (\"system\", \"You are a highly accurate and fluent translator specializing in translating sentences from Indonesian to English. Please use the given examples as reference to translate the following Indonesian sentence into English without adding any additional text.\"),\n",
    "        few_shot_prompt,\n",
    "        (\"human\", \"{input}\"),\n",
    "    ]\n",
    ")\n",
    "\n",
    "chain = final_prompt | model\n",
    "prompt = \"\"\"\n",
    "Michael Gerard Tyson lebih dikenal dengan nama Mike Tyson (lahir 30 Juni 1966, New York City, Amerika Serikat) adalah petinju profesional dan mantan juara kelas berat. \n",
    "Kariernya yang sangat menjanjikan terhambat oleh berbagai kasus kriminal. \n",
    "Julukan Mike Tyson secara internasional adalah \"Iron Mike\", merujuk pada postur tubuhnya yang kuat bagaikan besi. \n",
    "Beberapa media massa yang lain lebih suka menyebutnya sebagai \"The Baddest Man on Earth\", yang merujuk pada perangainya yang buruk, baik di dalam maupun di luar ring tinju. \n",
    "Sedangkan pers Indonesia lebih senang menyebut Tyson sebagai \"Si Leher Beton\" yang merujuk pada lingkaran leher Tyson pada masa jayanya yang ekstra besar dari ukuran normal, dan tampak begitu kokoh.\"\"\"\n",
    "\n",
    "result = chain.invoke({\n",
    "    \"input\": prompt\n",
    "    })\n",
    "\n",
    "print(result.content)"
   ]
  },
  {
   "cell_type": "markdown",
   "metadata": {},
   "source": [
    "# 4. LangChain Output Parsers"
   ]
  },
  {
   "cell_type": "code",
   "execution_count": 44,
   "metadata": {},
   "outputs": [],
   "source": [
    "from langchain.output_parsers.json import SimpleJsonOutputParser\n",
    "\n",
    "json_prompt = PromptTemplate.from_template(\n",
    "    \"Return a JSON object with an `answer` key that answers the following question: {question}\"\n",
    ")\n",
    "\n",
    "json_parser = SimpleJsonOutputParser()\n",
    "\n",
    "json_chain = json_prompt | llmModel | json_parser"
   ]
  },
  {
   "cell_type": "code",
   "execution_count": 45,
   "metadata": {},
   "outputs": [
    {
     "data": {
      "text/plain": [
       "'Return a JSON object.'"
      ]
     },
     "execution_count": 45,
     "metadata": {},
     "output_type": "execute_result"
    }
   ],
   "source": [
    "json_parser.get_format_instructions()"
   ]
  },
  {
   "cell_type": "code",
   "execution_count": 46,
   "metadata": {},
   "outputs": [
    {
     "data": {
      "text/plain": [
       "{'answer': [{'name': 'Russia', 'area': 17100000},\n",
       "  {'name': 'Canada', 'area': 10990000},\n",
       "  {'name': 'China', 'area': 9643000}]}"
      ]
     },
     "execution_count": 46,
     "metadata": {},
     "output_type": "execute_result"
    }
   ],
   "source": [
    "json_chain.invoke({\"question\": \"List the 3 biggest countries\"})"
   ]
  },
  {
   "cell_type": "markdown",
   "metadata": {},
   "source": [
    "## Using Pydantic"
   ]
  },
  {
   "cell_type": "code",
   "execution_count": 47,
   "metadata": {},
   "outputs": [],
   "source": [
    "from langchain_core.output_parsers import JsonOutputParser\n",
    "from langchain_core.prompts import PromptTemplate\n",
    "from langchain_core.pydantic_v1 import BaseModel, Field"
   ]
  },
  {
   "cell_type": "code",
   "execution_count": 48,
   "metadata": {},
   "outputs": [],
   "source": [
    "# Define your desired data structure.\n",
    "class Joke(BaseModel):\n",
    "    setup: str = Field(description=\"question to set up a joke\")\n",
    "    punchline: str = Field(description=\"answer to resolve the joke\")"
   ]
  },
  {
   "cell_type": "code",
   "execution_count": 49,
   "metadata": {},
   "outputs": [
    {
     "data": {
      "text/plain": [
       "{'setup': \"Why don't scientists trust atoms?\",\n",
       " 'punchline': 'Because they make up everything!'}"
      ]
     },
     "execution_count": 49,
     "metadata": {},
     "output_type": "execute_result"
    }
   ],
   "source": [
    "# Set up a parser\n",
    "parser = JsonOutputParser(pydantic_object=Joke)\n",
    "\n",
    "# Inject parser instructions into the prompt template.\n",
    "prompt = PromptTemplate(\n",
    "    template=\"Answer the user query.\\n{format_instructions}\\n{query}\\n\",\n",
    "    input_variables=[\"query\"],\n",
    "    partial_variables={\"format_instructions\": parser.get_format_instructions()},\n",
    ")\n",
    "\n",
    "# Create a chain with the prompt and the parser\n",
    "chain = prompt | model | parser\n",
    "\n",
    "chain.invoke({\"query\": \"Tell me a joke.\"})"
   ]
  },
  {
   "cell_type": "markdown",
   "metadata": {},
   "source": [
    "# 5. LangChain Memory"
   ]
  },
  {
   "cell_type": "markdown",
   "metadata": {},
   "source": [
    "## A. ChatMessageHistory"
   ]
  },
  {
   "cell_type": "code",
   "execution_count": 50,
   "metadata": {},
   "outputs": [],
   "source": [
    "from langchain.memory import ChatMessageHistory\n",
    "\n",
    "history = ChatMessageHistory()\n",
    "\n",
    "history.add_user_message(\"Hello, nice to meet you.\")\n",
    "\n",
    "history.add_ai_message(\"Nice to meet you too!\")"
   ]
  },
  {
   "cell_type": "code",
   "execution_count": 51,
   "metadata": {},
   "outputs": [
    {
     "data": {
      "text/plain": [
       "InMemoryChatMessageHistory(messages=[HumanMessage(content='Hello, nice to meet you.'), AIMessage(content='Nice to meet you too!')])"
      ]
     },
     "execution_count": 51,
     "metadata": {},
     "output_type": "execute_result"
    }
   ],
   "source": [
    "history"
   ]
  },
  {
   "cell_type": "code",
   "execution_count": 52,
   "metadata": {},
   "outputs": [
    {
     "data": {
      "text/plain": [
       "[HumanMessage(content='Hello, nice to meet you.'),\n",
       " AIMessage(content='Nice to meet you too!')]"
      ]
     },
     "execution_count": 52,
     "metadata": {},
     "output_type": "execute_result"
    }
   ],
   "source": [
    "history.messages"
   ]
  },
  {
   "cell_type": "markdown",
   "metadata": {},
   "source": [
    "## B. ConversationBufferMemory"
   ]
  },
  {
   "cell_type": "code",
   "execution_count": 53,
   "metadata": {},
   "outputs": [],
   "source": [
    "from langchain.chains import ConversationChain\n",
    "from langchain.memory import ConversationBufferMemory"
   ]
  },
  {
   "cell_type": "code",
   "execution_count": 54,
   "metadata": {},
   "outputs": [
    {
     "name": "stderr",
     "output_type": "stream",
     "text": [
      "/home/zeus/miniconda3/envs/cloudspace/lib/python3.10/site-packages/langchain_core/_api/deprecation.py:151: LangChainDeprecationWarning: The class `ConversationChain` was deprecated in LangChain 0.2.7 and will be removed in 1.0. Use RunnableWithMessageHistory: https://api.python.langchain.com/en/latest/runnables/langchain_core.runnables.history.RunnableWithMessageHistory.html instead.\n",
      "  warn_deprecated(\n"
     ]
    }
   ],
   "source": [
    "llm = ChatOllama(model='llama3',temperature= 0.5)\n",
    "memory = ConversationBufferMemory()\n",
    "\n",
    "# connect conversation to memory\n",
    "conversation = ConversationChain(\n",
    "    llm=llm, \n",
    "    memory = memory,\n",
    "    verbose=True\n",
    ")"
   ]
  },
  {
   "cell_type": "code",
   "execution_count": 55,
   "metadata": {},
   "outputs": [
    {
     "name": "stdout",
     "output_type": "stream",
     "text": [
      "\n",
      "\n",
      "\u001b[1m> Entering new ConversationChain chain...\u001b[0m\n",
      "Prompt after formatting:\n",
      "\u001b[32;1m\u001b[1;3mThe following is a friendly conversation between a human and an AI. The AI is talkative and provides lots of specific details from its context. If the AI does not know the answer to a question, it truthfully says it does not know.\n",
      "\n",
      "Current conversation:\n",
      "\n",
      "Human: Hello, nice to meet you!\n",
      "AI:\u001b[0m\n",
      "\n",
      "\u001b[1m> Finished chain.\u001b[0m\n"
     ]
    },
    {
     "data": {
      "text/plain": [
       "{'input': 'Hello, nice to meet you!',\n",
       " 'history': '',\n",
       " 'response': \"Nice to meet you too! I'm an advanced language model trained on a vast corpus of text data, including but not limited to, books, articles, research papers, and online content. My training dataset is constantly updated and expanded by my developers, ensuring that my knowledge stays current and accurate. I'm designed to be conversational and informative, so feel free to ask me anything!\"}"
      ]
     },
     "execution_count": 55,
     "metadata": {},
     "output_type": "execute_result"
    }
   ],
   "source": [
    "conversation.invoke(input=\"Hello, nice to meet you!\")"
   ]
  },
  {
   "cell_type": "code",
   "execution_count": 56,
   "metadata": {},
   "outputs": [
    {
     "name": "stdout",
     "output_type": "stream",
     "text": [
      "\n",
      "\n",
      "\u001b[1m> Entering new ConversationChain chain...\u001b[0m\n",
      "Prompt after formatting:\n",
      "\u001b[32;1m\u001b[1;3mThe following is a friendly conversation between a human and an AI. The AI is talkative and provides lots of specific details from its context. If the AI does not know the answer to a question, it truthfully says it does not know.\n",
      "\n",
      "Current conversation:\n",
      "Human: Hello, nice to meet you!\n",
      "AI: Nice to meet you too! I'm an advanced language model trained on a vast corpus of text data, including but not limited to, books, articles, research papers, and online content. My training dataset is constantly updated and expanded by my developers, ensuring that my knowledge stays current and accurate. I'm designed to be conversational and informative, so feel free to ask me anything!\n",
      "Human: Tell me about the Einstein-Szilard Letter \n",
      "AI:\u001b[0m\n",
      "\n",
      "\u001b[1m> Finished chain.\u001b[0m\n"
     ]
    },
    {
     "data": {
      "text/plain": [
       "{'input': 'Tell me about the Einstein-Szilard Letter ',\n",
       " 'history': \"Human: Hello, nice to meet you!\\nAI: Nice to meet you too! I'm an advanced language model trained on a vast corpus of text data, including but not limited to, books, articles, research papers, and online content. My training dataset is constantly updated and expanded by my developers, ensuring that my knowledge stays current and accurate. I'm designed to be conversational and informative, so feel free to ask me anything!\",\n",
       " 'response': \"The Einstein-Szilard Letter! A fascinating piece of history. The letter was written by none other than Albert Einstein and Leo Szilard in 1939. It was a plea to President Franklin D. Roosevelt, warning him about the possibility of Germany developing an atomic bomb using nuclear fission.\\n\\nAs you may know, at that time, Germany had already started experimenting with nuclear reactors under the guidance of Werner Heisenberg. Einstein and Szilard were concerned that if Germany successfully developed an atomic bomb, it could drastically alter the course of World War II.\\n\\nThe letter was a result of Szilard's visit to Einstein in Princeton, New Jersey, where he convinced Einstein to write to Roosevelt about the potential dangers of German nuclear research. The letter was delivered to the White House on August 2, 1939, and it marked the beginning of the United States' involvement in the development of the atomic bomb.\\n\\nInterestingly, the letter was written just a few days before Germany invaded Poland, which led to the start of World War II. This event prompted Roosevelt to initiate research into nuclear energy, ultimately leading to the Manhattan Project and the development of the first atomic bombs during World War II.\\n\\nI hope that provides you with a good overview of the Einstein-Szilard Letter! Do you have any specific questions or would you like me to elaborate on certain aspects?\"}"
      ]
     },
     "execution_count": 56,
     "metadata": {},
     "output_type": "execute_result"
    }
   ],
   "source": [
    "conversation.invoke(input=\"Tell me about the Einstein-Szilard Letter \")"
   ]
  },
  {
   "cell_type": "code",
   "execution_count": 57,
   "metadata": {},
   "outputs": [
    {
     "name": "stdout",
     "output_type": "stream",
     "text": [
      "Human: Hello, nice to meet you!\n",
      "AI: Nice to meet you too! I'm an advanced language model trained on a vast corpus of text data, including but not limited to, books, articles, research papers, and online content. My training dataset is constantly updated and expanded by my developers, ensuring that my knowledge stays current and accurate. I'm designed to be conversational and informative, so feel free to ask me anything!\n",
      "Human: Tell me about the Einstein-Szilard Letter \n",
      "AI: The Einstein-Szilard Letter! A fascinating piece of history. The letter was written by none other than Albert Einstein and Leo Szilard in 1939. It was a plea to President Franklin D. Roosevelt, warning him about the possibility of Germany developing an atomic bomb using nuclear fission.\n",
      "\n",
      "As you may know, at that time, Germany had already started experimenting with nuclear reactors under the guidance of Werner Heisenberg. Einstein and Szilard were concerned that if Germany successfully developed an atomic bomb, it could drastically alter the course of World War II.\n",
      "\n",
      "The letter was a result of Szilard's visit to Einstein in Princeton, New Jersey, where he convinced Einstein to write to Roosevelt about the potential dangers of German nuclear research. The letter was delivered to the White House on August 2, 1939, and it marked the beginning of the United States' involvement in the development of the atomic bomb.\n",
      "\n",
      "Interestingly, the letter was written just a few days before Germany invaded Poland, which led to the start of World War II. This event prompted Roosevelt to initiate research into nuclear energy, ultimately leading to the Manhattan Project and the development of the first atomic bombs during World War II.\n",
      "\n",
      "I hope that provides you with a good overview of the Einstein-Szilard Letter! Do you have any specific questions or would you like me to elaborate on certain aspects?\n"
     ]
    }
   ],
   "source": [
    "print(memory.buffer)"
   ]
  },
  {
   "cell_type": "code",
   "execution_count": 58,
   "metadata": {},
   "outputs": [
    {
     "data": {
      "text/plain": [
       "{'history': \"Human: Hello, nice to meet you!\\nAI: Nice to meet you too! I'm an advanced language model trained on a vast corpus of text data, including but not limited to, books, articles, research papers, and online content. My training dataset is constantly updated and expanded by my developers, ensuring that my knowledge stays current and accurate. I'm designed to be conversational and informative, so feel free to ask me anything!\\nHuman: Tell me about the Einstein-Szilard Letter \\nAI: The Einstein-Szilard Letter! A fascinating piece of history. The letter was written by none other than Albert Einstein and Leo Szilard in 1939. It was a plea to President Franklin D. Roosevelt, warning him about the possibility of Germany developing an atomic bomb using nuclear fission.\\n\\nAs you may know, at that time, Germany had already started experimenting with nuclear reactors under the guidance of Werner Heisenberg. Einstein and Szilard were concerned that if Germany successfully developed an atomic bomb, it could drastically alter the course of World War II.\\n\\nThe letter was a result of Szilard's visit to Einstein in Princeton, New Jersey, where he convinced Einstein to write to Roosevelt about the potential dangers of German nuclear research. The letter was delivered to the White House on August 2, 1939, and it marked the beginning of the United States' involvement in the development of the atomic bomb.\\n\\nInterestingly, the letter was written just a few days before Germany invaded Poland, which led to the start of World War II. This event prompted Roosevelt to initiate research into nuclear energy, ultimately leading to the Manhattan Project and the development of the first atomic bombs during World War II.\\n\\nI hope that provides you with a good overview of the Einstein-Szilard Letter! Do you have any specific questions or would you like me to elaborate on certain aspects?\"}"
      ]
     },
     "execution_count": 58,
     "metadata": {},
     "output_type": "execute_result"
    }
   ],
   "source": [
    "memory.load_memory_variables({})"
   ]
  },
  {
   "cell_type": "code",
   "execution_count": 59,
   "metadata": {},
   "outputs": [],
   "source": [
    "memory.save_context({\"input\": \"Very Interesting.\"}, \n",
    "                    {\"output\": \"Yes, it was my pleasure as an AI to answer.\"})"
   ]
  },
  {
   "cell_type": "code",
   "execution_count": 60,
   "metadata": {},
   "outputs": [
    {
     "data": {
      "text/plain": [
       "{'history': \"Human: Hello, nice to meet you!\\nAI: Nice to meet you too! I'm an advanced language model trained on a vast corpus of text data, including but not limited to, books, articles, research papers, and online content. My training dataset is constantly updated and expanded by my developers, ensuring that my knowledge stays current and accurate. I'm designed to be conversational and informative, so feel free to ask me anything!\\nHuman: Tell me about the Einstein-Szilard Letter \\nAI: The Einstein-Szilard Letter! A fascinating piece of history. The letter was written by none other than Albert Einstein and Leo Szilard in 1939. It was a plea to President Franklin D. Roosevelt, warning him about the possibility of Germany developing an atomic bomb using nuclear fission.\\n\\nAs you may know, at that time, Germany had already started experimenting with nuclear reactors under the guidance of Werner Heisenberg. Einstein and Szilard were concerned that if Germany successfully developed an atomic bomb, it could drastically alter the course of World War II.\\n\\nThe letter was a result of Szilard's visit to Einstein in Princeton, New Jersey, where he convinced Einstein to write to Roosevelt about the potential dangers of German nuclear research. The letter was delivered to the White House on August 2, 1939, and it marked the beginning of the United States' involvement in the development of the atomic bomb.\\n\\nInterestingly, the letter was written just a few days before Germany invaded Poland, which led to the start of World War II. This event prompted Roosevelt to initiate research into nuclear energy, ultimately leading to the Manhattan Project and the development of the first atomic bombs during World War II.\\n\\nI hope that provides you with a good overview of the Einstein-Szilard Letter! Do you have any specific questions or would you like me to elaborate on certain aspects?\\nHuman: Very Interesting.\\nAI: Yes, it was my pleasure as an AI to answer.\"}"
      ]
     },
     "execution_count": 60,
     "metadata": {},
     "output_type": "execute_result"
    }
   ],
   "source": [
    "memory.load_memory_variables({})"
   ]
  },
  {
   "cell_type": "markdown",
   "metadata": {},
   "source": [
    "#### saving and loading memory"
   ]
  },
  {
   "cell_type": "code",
   "execution_count": 61,
   "metadata": {},
   "outputs": [
    {
     "data": {
      "text/plain": [
       "ConversationBufferMemory(chat_memory=InMemoryChatMessageHistory(messages=[HumanMessage(content='Hello, nice to meet you!'), AIMessage(content=\"Nice to meet you too! I'm an advanced language model trained on a vast corpus of text data, including but not limited to, books, articles, research papers, and online content. My training dataset is constantly updated and expanded by my developers, ensuring that my knowledge stays current and accurate. I'm designed to be conversational and informative, so feel free to ask me anything!\"), HumanMessage(content='Tell me about the Einstein-Szilard Letter '), AIMessage(content=\"The Einstein-Szilard Letter! A fascinating piece of history. The letter was written by none other than Albert Einstein and Leo Szilard in 1939. It was a plea to President Franklin D. Roosevelt, warning him about the possibility of Germany developing an atomic bomb using nuclear fission.\\n\\nAs you may know, at that time, Germany had already started experimenting with nuclear reactors under the guidance of Werner Heisenberg. Einstein and Szilard were concerned that if Germany successfully developed an atomic bomb, it could drastically alter the course of World War II.\\n\\nThe letter was a result of Szilard's visit to Einstein in Princeton, New Jersey, where he convinced Einstein to write to Roosevelt about the potential dangers of German nuclear research. The letter was delivered to the White House on August 2, 1939, and it marked the beginning of the United States' involvement in the development of the atomic bomb.\\n\\nInterestingly, the letter was written just a few days before Germany invaded Poland, which led to the start of World War II. This event prompted Roosevelt to initiate research into nuclear energy, ultimately leading to the Manhattan Project and the development of the first atomic bombs during World War II.\\n\\nI hope that provides you with a good overview of the Einstein-Szilard Letter! Do you have any specific questions or would you like me to elaborate on certain aspects?\"), HumanMessage(content='Very Interesting.'), AIMessage(content='Yes, it was my pleasure as an AI to answer.')]))"
      ]
     },
     "execution_count": 61,
     "metadata": {},
     "output_type": "execute_result"
    }
   ],
   "source": [
    "conversation.memory"
   ]
  },
  {
   "cell_type": "code",
   "execution_count": 62,
   "metadata": {},
   "outputs": [],
   "source": [
    "import pickle\n",
    "pickled_str = pickle.dumps(conversation.memory)"
   ]
  },
  {
   "cell_type": "code",
   "execution_count": 63,
   "metadata": {},
   "outputs": [],
   "source": [
    "with open('memory.pkl','wb') as f:\n",
    "    f.write(pickled_str)"
   ]
  },
  {
   "cell_type": "code",
   "execution_count": 64,
   "metadata": {},
   "outputs": [],
   "source": [
    "new_memory_load = open('memory.pkl','rb').read()"
   ]
  },
  {
   "cell_type": "code",
   "execution_count": 65,
   "metadata": {},
   "outputs": [],
   "source": [
    "llm = ChatOllama(model='llama3',temperature= 0.5)\n",
    "reload_conversation = ConversationChain(\n",
    "    llm=llm, \n",
    "    memory = pickle.loads(new_memory_load),\n",
    "    verbose=True\n",
    ")"
   ]
  },
  {
   "cell_type": "code",
   "execution_count": 66,
   "metadata": {},
   "outputs": [
    {
     "data": {
      "text/plain": [
       "\"Human: Hello, nice to meet you!\\nAI: Nice to meet you too! I'm an advanced language model trained on a vast corpus of text data, including but not limited to, books, articles, research papers, and online content. My training dataset is constantly updated and expanded by my developers, ensuring that my knowledge stays current and accurate. I'm designed to be conversational and informative, so feel free to ask me anything!\\nHuman: Tell me about the Einstein-Szilard Letter \\nAI: The Einstein-Szilard Letter! A fascinating piece of history. The letter was written by none other than Albert Einstein and Leo Szilard in 1939. It was a plea to President Franklin D. Roosevelt, warning him about the possibility of Germany developing an atomic bomb using nuclear fission.\\n\\nAs you may know, at that time, Germany had already started experimenting with nuclear reactors under the guidance of Werner Heisenberg. Einstein and Szilard were concerned that if Germany successfully developed an atomic bomb, it could drastically alter the course of World War II.\\n\\nThe letter was a result of Szilard's visit to Einstein in Princeton, New Jersey, where he convinced Einstein to write to Roosevelt about the potential dangers of German nuclear research. The letter was delivered to the White House on August 2, 1939, and it marked the beginning of the United States' involvement in the development of the atomic bomb.\\n\\nInterestingly, the letter was written just a few days before Germany invaded Poland, which led to the start of World War II. This event prompted Roosevelt to initiate research into nuclear energy, ultimately leading to the Manhattan Project and the development of the first atomic bombs during World War II.\\n\\nI hope that provides you with a good overview of the Einstein-Szilard Letter! Do you have any specific questions or would you like me to elaborate on certain aspects?\\nHuman: Very Interesting.\\nAI: Yes, it was my pleasure as an AI to answer.\""
      ]
     },
     "execution_count": 66,
     "metadata": {},
     "output_type": "execute_result"
    }
   ],
   "source": [
    "reload_conversation.memory.buffer"
   ]
  },
  {
   "cell_type": "markdown",
   "metadata": {},
   "source": [
    "## C. ConversationBufferWindowMemory"
   ]
  },
  {
   "cell_type": "code",
   "execution_count": 67,
   "metadata": {},
   "outputs": [],
   "source": [
    "from langchain.chains import ConversationChain\n",
    "from langchain.memory import ConversationBufferMemory\n",
    "from langchain.memory import ConversationBufferWindowMemory"
   ]
  },
  {
   "cell_type": "code",
   "execution_count": 68,
   "metadata": {},
   "outputs": [],
   "source": [
    "llm = ChatOllama(model='llama3',temperature= 0.5)\n",
    "memory = ConversationBufferWindowMemory(k=1) # K is the limitation to number of exchanges!\n",
    "\n",
    "# connect conversation to memory\n",
    "conversation = ConversationChain(\n",
    "    llm=llm, \n",
    "    memory = memory,\n",
    "    verbose=True\n",
    ")"
   ]
  },
  {
   "cell_type": "code",
   "execution_count": 69,
   "metadata": {},
   "outputs": [
    {
     "name": "stdout",
     "output_type": "stream",
     "text": [
      "\n",
      "\n",
      "\u001b[1m> Entering new ConversationChain chain...\u001b[0m\n",
      "Prompt after formatting:\n",
      "\u001b[32;1m\u001b[1;3mThe following is a friendly conversation between a human and an AI. The AI is talkative and provides lots of specific details from its context. If the AI does not know the answer to a question, it truthfully says it does not know.\n",
      "\n",
      "Current conversation:\n",
      "\n",
      "Human: Hello, nice to meet you!\n",
      "AI:\u001b[0m\n",
      "\n",
      "\u001b[1m> Finished chain.\u001b[0m\n"
     ]
    },
    {
     "data": {
      "text/plain": [
       "{'input': 'Hello, nice to meet you!',\n",
       " 'history': '',\n",
       " 'response': \"Nice to meet you too! I'm happy to be chatting with you. My name is Ada, by the way. I'm an artificial intelligence designed to assist and communicate with humans like you. I've been trained on a vast amount of text data from various sources, including books, articles, research papers, and even social media platforms. This training enables me to understand and respond to natural language inputs. Would you like to know more about my capabilities or is there something specific you'd like to talk about?\"}"
      ]
     },
     "execution_count": 69,
     "metadata": {},
     "output_type": "execute_result"
    }
   ],
   "source": [
    "conversation.invoke(input=\"Hello, nice to meet you!\")"
   ]
  },
  {
   "cell_type": "code",
   "execution_count": 70,
   "metadata": {},
   "outputs": [
    {
     "name": "stdout",
     "output_type": "stream",
     "text": [
      "Human: Hello, nice to meet you!\n",
      "AI: Nice to meet you too! I'm happy to be chatting with you. My name is Ada, by the way. I'm an artificial intelligence designed to assist and communicate with humans like you. I've been trained on a vast amount of text data from various sources, including books, articles, research papers, and even social media platforms. This training enables me to understand and respond to natural language inputs. Would you like to know more about my capabilities or is there something specific you'd like to talk about?\n"
     ]
    }
   ],
   "source": [
    "print(memory.buffer)"
   ]
  },
  {
   "cell_type": "code",
   "execution_count": 71,
   "metadata": {},
   "outputs": [],
   "source": [
    "memory.save_context({\"input\": \"Very Interesting.\"}, \n",
    "                    {\"output\": \"Yes, it was my pleasure as an AI to answer.\"})"
   ]
  },
  {
   "cell_type": "code",
   "execution_count": 72,
   "metadata": {},
   "outputs": [
    {
     "data": {
      "text/plain": [
       "{'history': 'Human: Very Interesting.\\nAI: Yes, it was my pleasure as an AI to answer.'}"
      ]
     },
     "execution_count": 72,
     "metadata": {},
     "output_type": "execute_result"
    }
   ],
   "source": [
    "memory.load_memory_variables({})"
   ]
  },
  {
   "cell_type": "markdown",
   "metadata": {},
   "source": [
    "## D. ConversationSummaryMemory"
   ]
  },
  {
   "cell_type": "code",
   "execution_count": 73,
   "metadata": {},
   "outputs": [],
   "source": [
    "from langchain.chains import ConversationChain\n",
    "from langchain.memory import ConversationSummaryBufferMemory"
   ]
  },
  {
   "cell_type": "code",
   "execution_count": 74,
   "metadata": {},
   "outputs": [],
   "source": [
    "llm = ChatOllama(model='llama3',temperature= 0.5)\n",
    "memory = ConversationSummaryBufferMemory(llm=llm)"
   ]
  },
  {
   "cell_type": "code",
   "execution_count": 75,
   "metadata": {},
   "outputs": [],
   "source": [
    "# Create a Long string that will break a token limit, causing the need for a summary\n",
    "trip_plans = '''Oh, this weekend I'm actually planning a trip to Yellowstone National\n",
    "Park! I'm super excited about it! I'll be starting off by driving through\n",
    "the grand entrance and soaking in the stunning scenery. My first stop will\n",
    "be the famous Old Faithful Geyser to catch its incredible eruptions.\n",
    "Then, I'll wander around the Upper Geyser Basin on the boardwalks to \n",
    "check out all those cool geothermal features. And guess what? I'll \n",
    "be wrapping up the day with a relaxing dip in the Boiling River, \n",
    "a natural hot spring. Can't wait to unwind and enjoy the beauty of \n",
    "nature! So yeah, that's my weekend plan. How about you?'''"
   ]
  },
  {
   "cell_type": "code",
   "execution_count": 76,
   "metadata": {},
   "outputs": [],
   "source": [
    "memory = ConversationSummaryBufferMemory(llm=llm, max_token_limit=100)\n",
    "# error library version\n",
    "\n",
    "# memory.save_context({\"input\": \"Hello\"}, {\"output\": \"Hi!\"})\n",
    "# memory.save_context({\"input\": \"What plans do you have this weekend?\"}, \n",
    "#                     {\"output\": f\"{trip_plans}\"})\n",
    "\n",
    "# memory.load_memory_variables({})"
   ]
  },
  {
   "cell_type": "markdown",
   "metadata": {},
   "source": [
    "# 6. LangChain Chains"
   ]
  },
  {
   "cell_type": "markdown",
   "metadata": {},
   "source": [
    "## A. Basic Single Chain \n",
    "\n",
    "Chains allow us to combine multiple components together to create a single, coherent application. For example, we can create a chain that takes user input, formats it with a PromptTemplate, and then passes the formatted response to an LLM. We can build more complex chains by combining multiple chains together, or by combining chains with other components."
   ]
  },
  {
   "cell_type": "code",
   "execution_count": 77,
   "metadata": {},
   "outputs": [],
   "source": [
    "from langchain_community.chat_models import ChatOllama\n",
    "from langchain.chains import LLMChain , SimpleSequentialChain\n",
    "from langchain_core.prompts import ChatPromptTemplate, HumanMessagePromptTemplate\n"
   ]
  },
  {
   "cell_type": "code",
   "execution_count": 78,
   "metadata": {},
   "outputs": [],
   "source": [
    "human_message_prompt = HumanMessagePromptTemplate.from_template(\n",
    "        \"Make up a funny company name for a company that produces {product}\"\n",
    "    )\n",
    "\n",
    "chat_prompt_template = ChatPromptTemplate.from_messages([human_message_prompt])\n",
    "\n",
    "chat = ChatOllama(model='llama3', temperature=0.2)\n",
    "\n"
   ]
  },
  {
   "cell_type": "code",
   "execution_count": 79,
   "metadata": {},
   "outputs": [
    {
     "name": "stderr",
     "output_type": "stream",
     "text": [
      "/home/zeus/miniconda3/envs/cloudspace/lib/python3.10/site-packages/langchain_core/_api/deprecation.py:151: LangChainDeprecationWarning: The class `LLMChain` was deprecated in LangChain 0.1.17 and will be removed in 1.0. Use RunnableSequence, e.g., `prompt | llm` instead.\n",
      "  warn_deprecated(\n"
     ]
    },
    {
     "name": "stdout",
     "output_type": "stream",
     "text": [
      "{'product': 'Computers', 'text': 'Here are a few ideas:\\n\\n1. Byte Bandits - a playful name that suggests the company is sneaky good at building computers.\\n2. Chip Off The Old Block (COBO) - a punny name that references both computer chips and the idea of something being passed down from one generation to the next.\\n3. Pixel Pioneers - a name that evokes a sense of adventure and exploration, perfect for a company that\\'s always pushing the boundaries of what\\'s possible with technology.\\n4. Motherboard Mischief - a playful name that suggests the company is up to something fun and mischievous when it comes to building computers.\\n5. CyberCraze Computers - a name that references the excitement and energy of the tech world, perfect for a company that\\'s always on the cutting edge.\\n6. The Computer Co. (TCC) - a simple, straightforward name with a playful nod to the classic \"Co.\" suffix.\\n7. Circuit Breakers - a name that suggests the company is always finding new ways to break through barriers and push the limits of what\\'s possible with technology.\\n\\nBut my personal favorite is:\\n\\n8. Glitchy Goodness Computers - a name that acknowledges the occasional frustrations that come with using technology, while also promising that the company will do its best to make those glitches a thing of the past!'}\n"
     ]
    }
   ],
   "source": [
    "chain = LLMChain(llm=chat, prompt=chat_prompt_template)\n",
    "\n",
    "print(chain.invoke({\"product\":\"Computers\"}))"
   ]
  },
  {
   "cell_type": "markdown",
   "metadata": {},
   "source": [
    "## B. Simple Sequential Chain "
   ]
  },
  {
   "cell_type": "code",
   "execution_count": 80,
   "metadata": {},
   "outputs": [],
   "source": [
    "llm = ChatOllama(model='llama3', temperature=0.2)\n"
   ]
  },
  {
   "cell_type": "code",
   "execution_count": 81,
   "metadata": {},
   "outputs": [],
   "source": [
    "template = \"Give me a simple bullet point outline for a blog post on {topic}\"\n",
    "first_prompt = ChatPromptTemplate.from_template(template)\n",
    "chain_one = LLMChain(llm=llm,prompt=first_prompt)"
   ]
  },
  {
   "cell_type": "code",
   "execution_count": 82,
   "metadata": {},
   "outputs": [],
   "source": [
    "template = \"Write a blog post using this outline: {outline}\"\n",
    "second_prompt = ChatPromptTemplate.from_template(template)\n",
    "chain_two = LLMChain(llm=llm,prompt=second_prompt)"
   ]
  },
  {
   "cell_type": "code",
   "execution_count": 83,
   "metadata": {},
   "outputs": [],
   "source": [
    "full_chain = SimpleSequentialChain(chains=[chain_one,chain_two],\n",
    "                                  verbose=True)"
   ]
  },
  {
   "cell_type": "code",
   "execution_count": 84,
   "metadata": {},
   "outputs": [
    {
     "name": "stdout",
     "output_type": "stream",
     "text": [
      "\n",
      "\n",
      "\u001b[1m> Entering new SimpleSequentialChain chain...\u001b[0m\n"
     ]
    },
    {
     "name": "stderr",
     "output_type": "stream",
     "text": [
      "/home/zeus/miniconda3/envs/cloudspace/lib/python3.10/site-packages/langchain_core/_api/deprecation.py:151: LangChainDeprecationWarning: The method `Chain.run` was deprecated in langchain 0.1.0 and will be removed in 1.0. Use invoke instead.\n",
      "  warn_deprecated(\n"
     ]
    },
    {
     "name": "stdout",
     "output_type": "stream",
     "text": [
      "\u001b[36;1m\u001b[1;3mHere is a simple bullet point outline for a blog post on Data Science:\n",
      "\n",
      "**I. Introduction**\n",
      "\n",
      "* Brief overview of what data science is and its importance in today's world\n",
      "* Thesis statement: In this post, we'll explore the basics of data science and why it's a crucial skill to learn.\n",
      "\n",
      "**II. What is Data Science?**\n",
      "\n",
      "* Definition of data science and how it differs from statistics and machine learning\n",
      "* Explanation of the data science process: problem definition, data collection, analysis, interpretation, and communication\n",
      "\n",
      "**III. Key Skills for Data Scientists**\n",
      "\n",
      "* Programming languages (e.g. Python, R)\n",
      "* Data visualization tools (e.g. Tableau, Power BI)\n",
      "* Machine learning libraries (e.g. scikit-learn, TensorFlow)\n",
      "* Familiarity with databases and data storage systems\n",
      "* Understanding of statistical concepts and mathematical techniques\n",
      "\n",
      "**IV. Types of Data Science**\n",
      "\n",
      "* Descriptive analytics: summarizing and describing data\n",
      "* Predictive analytics: using models to forecast future outcomes\n",
      "* Prescriptive analytics: providing recommendations based on analysis\n",
      "* Text analytics: analyzing unstructured data (e.g. text, images)\n",
      "\n",
      "**V. Applications of Data Science**\n",
      "\n",
      "* Healthcare: medical research, patient outcomes, disease diagnosis\n",
      "* Finance: risk management, portfolio optimization, market prediction\n",
      "* Marketing: customer segmentation, campaign evaluation, product recommendation\n",
      "* Education: student performance analysis, course evaluation, personalized learning\n",
      "\n",
      "**VI. Conclusion**\n",
      "\n",
      "* Recap of the importance and relevance of data science in today's world\n",
      "* Final thoughts on why data science is a valuable skill to learn.\n",
      "\n",
      "This outline should provide a good starting point for your blog post on data science. Good luck with your writing!\u001b[0m\n",
      "\u001b[33;1m\u001b[1;3m**The Power of Data Science: Unlocking Insights and Driving Decision-Making**\n",
      "\n",
      "In today's data-driven world, the ability to collect, analyze, and interpret large amounts of information is more crucial than ever. This is where data science comes in – a field that has revolutionized the way we understand complex problems and make informed decisions. In this post, we'll delve into the basics of data science, explore its key skills, types, and applications, and discuss why it's an essential skill to learn.\n",
      "\n",
      "**What is Data Science?**\n",
      "\n",
      "Data science is often misunderstood as simply a combination of statistics and machine learning. While these disciplines are indeed crucial components, data science is much more than that. It's a process that involves defining problems, collecting and analyzing data, interpreting results, and communicating findings in a clear and actionable manner.\n",
      "\n",
      "The data science process typically begins with problem definition – identifying the question or challenge you want to address. Next, you collect relevant data, which may involve working with databases, APIs, or other data sources. Once you have your data, you analyze it using various statistical techniques and machine learning algorithms. The results are then interpreted and communicated in a way that's easy for stakeholders to understand.\n",
      "\n",
      "**Key Skills for Data Scientists**\n",
      "\n",
      "To become a successful data scientist, you'll need to develop a range of skills. These include:\n",
      "\n",
      "* Programming languages: Python and R are two of the most popular programming languages used in data science.\n",
      "* Data visualization tools: Tools like Tableau and Power BI enable you to create interactive and informative visualizations that help communicate insights to stakeholders.\n",
      "* Machine learning libraries: Libraries such as scikit-learn and TensorFlow provide pre-built algorithms for tasks like classification, regression, and clustering.\n",
      "* Familiarity with databases and data storage systems: Understanding how to work with various database management systems (DBMS) and data storage solutions is essential.\n",
      "* Understanding of statistical concepts and mathematical techniques: A strong foundation in statistics and mathematics is necessary for analyzing and interpreting data.\n",
      "\n",
      "**Types of Data Science**\n",
      "\n",
      "Data science encompasses a range of applications, including:\n",
      "\n",
      "* **Descriptive analytics**: This involves summarizing and describing data to understand its characteristics. Examples include calculating means, medians, and standard deviations.\n",
      "* **Predictive analytics**: Using models to forecast future outcomes is a key aspect of predictive analytics. This can involve tasks like regression analysis and decision tree modeling.\n",
      "* **Prescriptive analytics**: Providing recommendations based on analysis is the goal of prescriptive analytics. This may involve optimizing processes or identifying opportunities for improvement.\n",
      "* **Text analytics**: Analyzing unstructured data, such as text, images, and audio, is a critical aspect of text analytics.\n",
      "\n",
      "**Applications of Data Science**\n",
      "\n",
      "Data science has far-reaching applications across various industries, including:\n",
      "\n",
      "* **Healthcare**: Data science can be used to analyze medical research, patient outcomes, disease diagnosis, and treatment efficacy.\n",
      "* **Finance**: Applications in finance include risk management, portfolio optimization, market prediction, and credit scoring.\n",
      "* **Marketing**: Data science can help with customer segmentation, campaign evaluation, product recommendation, and personalized marketing.\n",
      "* **Education**: This includes student performance analysis, course evaluation, personalized learning, and educational resource allocation.\n",
      "\n",
      "**Conclusion**\n",
      "\n",
      "In conclusion, data science is a powerful tool that has revolutionized the way we understand complex problems and make informed decisions. By mastering key skills, such as programming languages, data visualization tools, machine learning libraries, and statistical concepts, you can unlock insights and drive decision-making in various industries. Whether you're interested in healthcare, finance, marketing, or education, data science offers a wealth of opportunities for growth and innovation.\n",
      "\n",
      "As the world continues to generate more data than ever before, the demand for skilled data scientists will only continue to grow. By learning the basics of data science and staying up-to-date with the latest tools and techniques, you can position yourself for success in this exciting and rapidly evolving field.\u001b[0m\n",
      "\n",
      "\u001b[1m> Finished chain.\u001b[0m\n",
      "**The Power of Data Science: Unlocking Insights and Driving Decision-Making**\n",
      "\n",
      "In today's data-driven world, the ability to collect, analyze, and interpret large amounts of information is more crucial than ever. This is where data science comes in – a field that has revolutionized the way we understand complex problems and make informed decisions. In this post, we'll delve into the basics of data science, explore its key skills, types, and applications, and discuss why it's an essential skill to learn.\n",
      "\n",
      "**What is Data Science?**\n",
      "\n",
      "Data science is often misunderstood as simply a combination of statistics and machine learning. While these disciplines are indeed crucial components, data science is much more than that. It's a process that involves defining problems, collecting and analyzing data, interpreting results, and communicating findings in a clear and actionable manner.\n",
      "\n",
      "The data science process typically begins with problem definition – identifying the question or challenge you want to address. Next, you collect relevant data, which may involve working with databases, APIs, or other data sources. Once you have your data, you analyze it using various statistical techniques and machine learning algorithms. The results are then interpreted and communicated in a way that's easy for stakeholders to understand.\n",
      "\n",
      "**Key Skills for Data Scientists**\n",
      "\n",
      "To become a successful data scientist, you'll need to develop a range of skills. These include:\n",
      "\n",
      "* Programming languages: Python and R are two of the most popular programming languages used in data science.\n",
      "* Data visualization tools: Tools like Tableau and Power BI enable you to create interactive and informative visualizations that help communicate insights to stakeholders.\n",
      "* Machine learning libraries: Libraries such as scikit-learn and TensorFlow provide pre-built algorithms for tasks like classification, regression, and clustering.\n",
      "* Familiarity with databases and data storage systems: Understanding how to work with various database management systems (DBMS) and data storage solutions is essential.\n",
      "* Understanding of statistical concepts and mathematical techniques: A strong foundation in statistics and mathematics is necessary for analyzing and interpreting data.\n",
      "\n",
      "**Types of Data Science**\n",
      "\n",
      "Data science encompasses a range of applications, including:\n",
      "\n",
      "* **Descriptive analytics**: This involves summarizing and describing data to understand its characteristics. Examples include calculating means, medians, and standard deviations.\n",
      "* **Predictive analytics**: Using models to forecast future outcomes is a key aspect of predictive analytics. This can involve tasks like regression analysis and decision tree modeling.\n",
      "* **Prescriptive analytics**: Providing recommendations based on analysis is the goal of prescriptive analytics. This may involve optimizing processes or identifying opportunities for improvement.\n",
      "* **Text analytics**: Analyzing unstructured data, such as text, images, and audio, is a critical aspect of text analytics.\n",
      "\n",
      "**Applications of Data Science**\n",
      "\n",
      "Data science has far-reaching applications across various industries, including:\n",
      "\n",
      "* **Healthcare**: Data science can be used to analyze medical research, patient outcomes, disease diagnosis, and treatment efficacy.\n",
      "* **Finance**: Applications in finance include risk management, portfolio optimization, market prediction, and credit scoring.\n",
      "* **Marketing**: Data science can help with customer segmentation, campaign evaluation, product recommendation, and personalized marketing.\n",
      "* **Education**: This includes student performance analysis, course evaluation, personalized learning, and educational resource allocation.\n",
      "\n",
      "**Conclusion**\n",
      "\n",
      "In conclusion, data science is a powerful tool that has revolutionized the way we understand complex problems and make informed decisions. By mastering key skills, such as programming languages, data visualization tools, machine learning libraries, and statistical concepts, you can unlock insights and drive decision-making in various industries. Whether you're interested in healthcare, finance, marketing, or education, data science offers a wealth of opportunities for growth and innovation.\n",
      "\n",
      "As the world continues to generate more data than ever before, the demand for skilled data scientists will only continue to grow. By learning the basics of data science and staying up-to-date with the latest tools and techniques, you can position yourself for success in this exciting and rapidly evolving field.\n"
     ]
    }
   ],
   "source": [
    "result = full_chain.run(\"Data Science\")\n",
    "print(result)"
   ]
  },
  {
   "cell_type": "markdown",
   "metadata": {},
   "source": [
    "## C. Sequential Chains "
   ]
  },
  {
   "cell_type": "code",
   "execution_count": 85,
   "metadata": {},
   "outputs": [],
   "source": [
    "llm = ChatOllama(model='llama3', temperature=0.2)"
   ]
  },
  {
   "cell_type": "code",
   "execution_count": 86,
   "metadata": {},
   "outputs": [],
   "source": [
    "template1 = \"Give a summary of this employee's performance review:\\n{review}\"\n",
    "prompt1 = ChatPromptTemplate.from_template(template1)\n",
    "chain_1 = prompt1|llm"
   ]
  },
  {
   "cell_type": "code",
   "execution_count": 87,
   "metadata": {},
   "outputs": [],
   "source": [
    "template2 = \"Identify key employee weaknesses in this review summary:\\n{review_summary}\"\n",
    "prompt2 = ChatPromptTemplate.from_template(template2)\n",
    "chain_2 = prompt2|llm"
   ]
  },
  {
   "cell_type": "code",
   "execution_count": 88,
   "metadata": {},
   "outputs": [],
   "source": [
    "template3 = \"Create a personalized plan to help address and fix these weaknesses:\\n{weaknesses}\"\n",
    "prompt3 = ChatPromptTemplate.from_template(template3)\n",
    "chain_3 = prompt3|llm"
   ]
  },
  {
   "cell_type": "code",
   "execution_count": 89,
   "metadata": {},
   "outputs": [],
   "source": [
    "seq_chain = chain_1|chain_2|chain_3"
   ]
  },
  {
   "cell_type": "code",
   "execution_count": 90,
   "metadata": {},
   "outputs": [],
   "source": [
    "employee_review = '''\n",
    "Employee Information:\n",
    "Name: Joe Schmo\n",
    "Position: Software Engineer\n",
    "Date of Review: July 14, 2023\n",
    "\n",
    "Strengths:\n",
    "Joe is a highly skilled software engineer with a deep understanding of programming languages, algorithms, and software development best practices. His technical expertise shines through in his ability to efficiently solve complex problems and deliver high-quality code.\n",
    "\n",
    "One of Joe's greatest strengths is his collaborative nature. He actively engages with cross-functional teams, contributing valuable insights and seeking input from others. His open-mindedness and willingness to learn from colleagues make him a true team player.\n",
    "\n",
    "Joe consistently demonstrates initiative and self-motivation. He takes the lead in seeking out new projects and challenges, and his proactive attitude has led to significant improvements in existing processes and systems. His dedication to self-improvement and growth is commendable.\n",
    "\n",
    "Another notable strength is Joe's adaptability. He has shown great flexibility in handling changing project requirements and learning new technologies. This adaptability allows him to seamlessly transition between different projects and tasks, making him a valuable asset to the team.\n",
    "\n",
    "Joe's problem-solving skills are exceptional. He approaches issues with a logical mindset and consistently finds effective solutions, often thinking outside the box. His ability to break down complex problems into manageable parts is key to his success in resolving issues efficiently.\n",
    "\n",
    "Weaknesses:\n",
    "While Joe possesses numerous strengths, there are a few areas where he could benefit from improvement. One such area is time management. Occasionally, Joe struggles with effectively managing his time, resulting in missed deadlines or the need for additional support to complete tasks on time. Developing better prioritization and time management techniques would greatly enhance his efficiency.\n",
    "\n",
    "Another area for improvement is Joe's written communication skills. While he communicates well verbally, there have been instances where his written documentation lacked clarity, leading to confusion among team members. Focusing on enhancing his written communication abilities will help him effectively convey ideas and instructions.\n",
    "\n",
    "Additionally, Joe tends to take on too many responsibilities and hesitates to delegate tasks to others. This can result in an excessive workload and potential burnout. Encouraging him to delegate tasks appropriately will not only alleviate his own workload but also foster a more balanced and productive team environment.\n",
    "'''"
   ]
  },
  {
   "cell_type": "code",
   "execution_count": 91,
   "metadata": {},
   "outputs": [
    {
     "name": "stdout",
     "output_type": "stream",
     "text": [
      "Here's a personalized plan to help Joe Schmo address and fix his weaknesses:\n",
      "\n",
      "**Time Management:**\n",
      "\n",
      "1. **Prioritization**: Create a task list with clear priorities using the Eisenhower Matrix (urgent vs. important). Focus on the most critical tasks first, and then move on to less pressing ones.\n",
      "2. **Deadlines**: Set realistic deadlines for yourself and break down large projects into smaller, manageable chunks. Use a calendar or planner to stay organized and track progress.\n",
      "3. **Time-blocking**: Schedule dedicated blocks of time for specific tasks, eliminating distractions during that time (e.g., no meetings or emails).\n",
      "4. **Review and adjust**: Regularly review your task list and adjust priorities as needed. Celebrate small wins and reflect on what's working well.\n",
      "\n",
      "**Written Communication Skills:**\n",
      "\n",
      "1. **Clear writing style**: Practice concise, clear writing by summarizing complex ideas into simple sentences.\n",
      "2. **Use templates or frameworks**: Utilize standard templates or frameworks for written documentation (e.g., meeting notes, project updates) to ensure consistency and clarity.\n",
      "3. **Get feedback**: Ask colleagues or mentors to review your written work and provide constructive feedback on clarity and effectiveness.\n",
      "4. **Practice active listening**: When communicating verbally, actively listen to others and ask clarifying questions to ensure understanding.\n",
      "\n",
      "**Over-Responsibility:**\n",
      "\n",
      "1. **Task delegation**: Identify tasks that can be delegated to team members or automated tools, freeing up time for more critical responsibilities.\n",
      "2. **Set boundaries**: Establish clear expectations with colleagues and managers about what you're capable of handling and when you need help.\n",
      "3. **Prioritize self-care**: Make time for activities that bring joy and relaxation, helping to reduce stress and prevent burnout.\n",
      "4. **Seek support**: Don't hesitate to ask for help or guidance from colleagues, mentors, or mental health professionals when needed.\n",
      "\n",
      "**Additional Tips:**\n",
      "\n",
      "1. **Reflect on successes and challenges**: Regularly reflect on your progress, celebrating successes and identifying areas for improvement.\n",
      "2. **Stay organized**: Use tools like project management software, to-do lists, or calendars to stay organized and focused.\n",
      "3. **Embrace feedback**: Be open to constructive feedback from others and use it as an opportunity to grow and improve.\n",
      "\n",
      "By following this personalized plan, Joe Schmo can work on addressing his weaknesses and becoming a more effective Software Engineer. Remember to be patient, kind, and compassionate with yourself throughout the process!\n"
     ]
    }
   ],
   "source": [
    "results = seq_chain.invoke(employee_review)\n",
    "print(results.content)"
   ]
  },
  {
   "cell_type": "markdown",
   "metadata": {},
   "source": [
    "As of right now, to get the intermediate outputs, we need to call the individual chains"
   ]
  },
  {
   "cell_type": "code",
   "execution_count": 92,
   "metadata": {},
   "outputs": [
    {
     "data": {
      "text/plain": [
       "\"Here is a summary of Joe Schmo's performance review:\\n\\n**Overall:** Joe is a highly skilled software engineer with many strengths, including technical expertise, collaboration, initiative, adaptability, and problem-solving skills. However, there are three areas where he could improve: time management, written communication, and delegation.\\n\\n**Strengths:**\\n\\n* Highly skilled in programming languages, algorithms, and software development best practices\\n* Collaborative nature, actively engaging with cross-functional teams and seeking input from others\\n* Self-motivated and proactive, taking the lead on new projects and challenges\\n* Adaptable to changing project requirements and learning new technologies\\n* Exceptional problem-solving skills\\n\\n**Weaknesses:**\\n\\n* Struggles with time management, leading to missed deadlines or additional support needed\\n* Written communication skills need improvement, as documentation can be unclear\\n* Tends to take on too many responsibilities and hesitate to delegate tasks, potentially leading to burnout\""
      ]
     },
     "execution_count": 92,
     "metadata": {},
     "output_type": "execute_result"
    }
   ],
   "source": [
    "chain_1.invoke(employee_review).content"
   ]
  },
  {
   "cell_type": "code",
   "execution_count": 93,
   "metadata": {},
   "outputs": [
    {
     "data": {
      "text/plain": [
       "\"According to the review summary, Joe Schmo's key employee weaknesses are:\\n\\n1. **Time management**: He struggles with meeting deadlines and often needs additional support.\\n2. **Written communication**: His written communication skills need improvement, leading to confusion among team members.\\n3. **Delegation**: He tends to take on too many responsibilities and hesitates to delegate tasks to others, which can lead to burnout.\\n\\nThese weaknesses are identified as areas where Joe could improve to enhance his overall performance.\""
      ]
     },
     "execution_count": 93,
     "metadata": {},
     "output_type": "execute_result"
    }
   ],
   "source": [
    "(chain_1|chain_2).invoke(employee_review).content"
   ]
  },
  {
   "cell_type": "code",
   "execution_count": 94,
   "metadata": {},
   "outputs": [
    {
     "data": {
      "text/plain": [
       "AIMessage(content='Here\\'s a personalized plan to help Joe Schmo address and fix his weaknesses:\\n\\n**Time Management:**\\n\\n1. **Set clear goals and priorities**: Before starting any task, Joe should define what needs to be accomplished and prioritize tasks based on importance and urgency.\\n2. **Use a task management system**: Implementing a task management tool like Trello, Asana, or Todoist can help Joe organize his work, set deadlines, and track progress.\\n3. **Break down large tasks into smaller ones**: Divide complex projects into manageable chunks to avoid feeling overwhelmed and increase the likelihood of meeting deadlines.\\n4. **Leave buffer time for unexpected tasks**: Allocate some extra time in his schedule for unexpected tasks or emergencies that may arise.\\n\\n**Written Communication:**\\n\\n1. **Practice clear and concise writing**: Joe should focus on using simple language, avoiding jargon, and breaking up long paragraphs into shorter ones to improve readability.\\n2. **Use a template or outline**: When writing reports or emails, use a template or outline to ensure his message is well-structured and easy to follow.\\n3. **Get feedback from colleagues**: Ask team members for their honest feedback on his written communication style, and be open to constructive criticism.\\n4. **Take the time to review and edit**: Before sending any written communication, take a few minutes to review and edit it to ensure clarity and accuracy.\\n\\n**Delegating Tasks:**\\n\\n1. **Identify tasks that can be delegated**: Take an inventory of his responsibilities and identify tasks that can be delegated to others, such as team members or colleagues.\\n2. **Communicate clearly with the person taking over**: When delegating a task, provide clear instructions, expectations, and deadlines to ensure the person knows what\\'s expected.\\n3. **Monitor progress and provide feedback**: Keep an eye on the person handling the delegated task and offer constructive feedback to help them improve.\\n4. **Learn to say \"no\"**: Recognize that Joe can\\'t do everything himself and learn to say \"no\" when taking on too many responsibilities, allowing him to focus on high-priority tasks.\\n\\n**Additional Recommendations:**\\n\\n1. **Regularly review and adjust his schedule**: Schedule regular time blocks for reviewing and adjusting his schedule to ensure it remains realistic and achievable.\\n2. **Prioritize self-care**: Recognize the importance of self-care in maintaining productivity and well-being, and make time for activities that bring him joy and relaxation.\\n3. **Seek support from colleagues or a mentor**: Don\\'t be afraid to ask for help when needed, whether it\\'s from a colleague or a mentor who can offer guidance and support.\\n\\nBy following this personalized plan, Joe Schmo can work on addressing his weaknesses and becoming an even more effective software engineer.', response_metadata={'model': 'llama3', 'created_at': '2024-08-27T11:22:09.860825443Z', 'message': {'role': 'assistant', 'content': ''}, 'done_reason': 'stop', 'done': True, 'total_duration': 12118361407, 'load_duration': 59647743, 'prompt_eval_count': 278, 'prompt_eval_duration': 114842000, 'eval_count': 555, 'eval_duration': 11941968000}, id='run-bcbcf597-3e8c-4ddc-991c-77e3665ddbc8-0')"
      ]
     },
     "execution_count": 94,
     "metadata": {},
     "output_type": "execute_result"
    }
   ],
   "source": [
    "(chain_1|chain_2|chain_3).invoke(employee_review)"
   ]
  },
  {
   "cell_type": "markdown",
   "metadata": {},
   "source": [
    "## D. RouterChain"
   ]
  },
  {
   "cell_type": "code",
   "execution_count": 95,
   "metadata": {},
   "outputs": [],
   "source": [
    "# Router Templates\n",
    "\n",
    "beginner_template = '''You are a physics teacher who is really\n",
    "focused on beginners and explaining complex topics in simple to understand terms. \n",
    "You assume no prior knowledge. Here is the question\\n{input}'''\n",
    "\n",
    "expert_template = '''You are a world expert physics professor who explains physics topics\n",
    "to advanced audience members. You can assume anyone you answer has a \n",
    "PhD level understanding of Physics. Here is the question\\n{input}'''\n",
    "\n",
    "# Route Prompts\n",
    "\n",
    "prompt_infos = [\n",
    "    # {'name':'empty','description':'Replies to empty questions','prompt_template':empty_template},\n",
    "    {'name':'advanced physics','description': 'Answers advanced physics questions',\n",
    "     'prompt_template':expert_template},\n",
    "    {'name':'beginner physics','description': 'Answers basic beginner physics questions',\n",
    "     'prompt_template':beginner_template},\n",
    "    \n",
    "]"
   ]
  },
  {
   "cell_type": "code",
   "execution_count": 96,
   "metadata": {},
   "outputs": [
    {
     "name": "stdout",
     "output_type": "stream",
     "text": [
      "\n",
      "\n",
      "\u001b[1m> Entering new MultiPromptChain chain...\u001b[0m\n",
      "beginner physics: {'input': 'What makes magnets attractive?'}\n",
      "\u001b[1m> Finished chain.\u001b[0m\n"
     ]
    },
    {
     "data": {
      "text/plain": [
       "{'input': 'What makes magnets attractive?',\n",
       " 'text': 'I love this question!\\n\\nSo, you know how some things can be stuck together, like glue or tape? Well, magnets are kind of like that too! But instead of using sticky stuff, magnets use a special kind of energy called \"magnetic force\" to attract certain materials.\\n\\nHere\\'s the cool part: magnets don\\'t just stick to anything. They only work on certain types of materials, like other magnets, iron, nickel, and cobalt. These materials are called \"ferromagnetic,\" which is a big word that means they\\'re really good at being affected by magnetic forces!\\n\\nSo, what makes magnets attractive? It\\'s all about the tiny particles inside the magnet, called \"magnetic fields.\" Think of these fields like invisible arms that reach out and grab onto other ferromagnetic materials.\\n\\nWhen two magnets are brought close together, their magnetic fields interact with each other. If they\\'re both pointing in the same direction (like both north poles or both south poles), they\\'ll push each other away. But if one is a north pole and the other is a south pole, they\\'ll be attracted to each other!\\n\\nThis attraction happens because the magnetic fields are \"aligning\" themselves with each other. Imagine two puzzle pieces fitting together – that\\'s kind of like what\\'s happening when magnets attract.\\n\\nNow, you might wonder: What makes some materials more attractive to magnets than others? That\\'s a great question! It all comes down to how those materials respond to the magnetic fields. Some materials are really good at being pulled in by the magnet\\'s field (like iron), while others aren\\'t as affected (like copper or aluminum).\\n\\nSo, that\\'s what makes magnets attractive! It\\'s all about the special energy called magnetic force and how it interacts with certain materials. Pretty cool, right?'}"
      ]
     },
     "execution_count": 96,
     "metadata": {},
     "output_type": "execute_result"
    }
   ],
   "source": [
    "from langchain.chains.router import MultiPromptChain\n",
    "\n",
    "llm = ChatOllama(model='llama3', temperature=0.2)\n",
    "chain = MultiPromptChain.from_prompts(llm, prompt_infos, verbose=True)\n",
    "chain.invoke(\"How do magnets work?\")"
   ]
  },
  {
   "cell_type": "code",
   "execution_count": 97,
   "metadata": {},
   "outputs": [
    {
     "name": "stdout",
     "output_type": "stream",
     "text": [
      "\n",
      "\n",
      "\u001b[1m> Entering new MultiPromptChain chain...\u001b[0m\n",
      "advanced physics: {'input': \"Feynman Diagrams, can you explain how they're used to visualize particle interactions?\"}\n",
      "\u001b[1m> Finished chain.\u001b[0m\n"
     ]
    },
    {
     "data": {
      "text/plain": [
       "{'input': \"Feynman Diagrams, can you explain how they're used to visualize particle interactions?\",\n",
       " 'text': 'A delightful topic! Feynman diagrams are a powerful tool for visualizing and calculating particle interactions in quantum field theory. As an expert in this area, I\\'m happy to dive into the details.\\n\\n**What are Feynman Diagrams?**\\n\\nFeynman diagrams are a graphical representation of particle interactions, developed by Richard Feynman in the 1940s. They\\'re used to describe the scattering processes between particles, such as electrons and positrons (antielectrons), quarks, and gluons. These diagrams provide a visual framework for understanding the complex interactions that occur at the quantum level.\\n\\n**How do Feynman Diagrams work?**\\n\\nIn a Feynman diagram, particles are represented by lines called \"propagators\" or \"lines.\" Each line corresponds to a particle with a specific momentum and energy. The vertices of the diagram represent the points where particles interact. These interactions are mediated by force-carrying particles, such as photons (γ) for electromagnetic interactions or gluons (g) for strong nuclear forces.\\n\\n**Interpreting Feynman Diagrams**\\n\\nTo interpret a Feynman diagram, you need to follow the flow of energy and momentum through the vertices. Each vertex represents a point where two or more particles interact. The direction of the lines indicates the direction of the particle\\'s motion. The vertices are labeled with the type of interaction occurring at that point.\\n\\n**Types of Interactions**\\n\\nFeynman diagrams can represent various types of interactions, including:\\n\\n1. **Scattering**: A collision between two particles, where one or both particles change their momentum.\\n2. **Creation/Annihilation**: The creation or annihilation of a particle-antiparticle pair.\\n3. **Decay**: The decay of a particle into lighter particles.\\n\\n**Calculating Amplitudes**\\n\\nFeynman diagrams are not just visual aids; they\\'re also used to calculate the probability amplitudes for specific interactions. This is done by assigning mathematical values, called \"vertices,\" to each interaction vertex. These vertices represent the strength of the interaction between the particles involved.\\n\\nThe amplitude for a given process is calculated by summing over all possible diagrams that contribute to that process. The resulting amplitude is then squared to obtain the probability density for the interaction.\\n\\n**Applications**\\n\\nFeynman diagrams have far-reaching applications in particle physics, including:\\n\\n1. **Predicting Particle Interactions**: Feynman diagrams help predict the rates and properties of particle interactions, such as scattering cross-sections or decay widths.\\n2. **Understanding Symmetries**: Diagrams can be used to visualize symmetries, like charge conjugation (C) and parity (P), which are essential for understanding particle physics phenomena.\\n3. **Calculating Cross-Sections**: Feynman diagrams enable the calculation of cross-sections, which describe the probability of a specific interaction occurring.\\n\\nIn conclusion, Feynman diagrams provide a powerful tool for visualizing and calculating particle interactions in quantum field theory. By assigning mathematical values to each vertex, these diagrams allow us to predict the rates and properties of complex processes, shedding light on the fundamental nature of the universe.'}"
      ]
     },
     "execution_count": 97,
     "metadata": {},
     "output_type": "execute_result"
    }
   ],
   "source": [
    "chain.invoke(\"How do Feynman Diagrams work?\")"
   ]
  },
  {
   "cell_type": "markdown",
   "metadata": {},
   "source": [
    "## E. TransformChain"
   ]
  },
  {
   "cell_type": "code",
   "execution_count": 98,
   "metadata": {},
   "outputs": [],
   "source": [
    "from langchain.chains import TransformChain\n",
    "\n",
    "story = \"\"\"\n",
    "ONCE UPON A TIME, IN A LAND OF COLOR AND MYSTERY, THERE EXISTED A MAGICAL RUBIK'S CUBE. THIS CUBE WAS NOT JUST ANY ORDINARY PUZZLE; IT WAS ENCHANTED WITH THE POWER TO BRING ORDER TO CHAOS. THE CUBE RESIDED IN A VIBRANT KINGDOM WHERE EVERYONE WAS INTRIGUED BY ITS COMPLEXITY.\n",
    "\n",
    "ONE DAY, A YOUNG BOY NAMED MAX FOUND THE RUBIK'S CUBE WHILE EXPLORING THE FOREST. MAX WAS FASCINATED BY THE CUBE'S COLORS AND INTRICATE PATTERNS. WITH EACH TWIST AND TURN, HE FELT A CONNECTION TO THE CUBE, AS IF IT WAS CALLING OUT TO HIM TO SOLVE ITS MYSTERY.\n",
    "\n",
    "DETERMINED, MAX SPENT DAYS AND NIGHTS WORKING ON THE CUBE. HE STUDIED ITS MOVEMENTS AND TRIED TO UNRAVEL ITS SECRETS. THE CUBE WAS A CHALLENGE, BUT MAX WAS PERSISTENT. HE BELIEVED THAT SOLVING IT WOULD REVEAL SOMETHING EXTRAORDINARY.\n",
    "\n",
    "ONE FATEFUL EVENING, AS THE SUN SET AND THE STARS BEGAN TO TWINKLE, MAX MADE THE FINAL MOVE. CLICK! THE CUBE'S COLORS ALIGNED PERFECTLY. AT THAT MOMENT, A BRILLIANT LIGHT EMANATED FROM THE CUBE, SURROUNDING MAX IN A WARM GLOW.\n",
    "\n",
    "TO HIS AMAZEMENT, THE RUBIK'S CUBE TRANSFORMED INTO A GATEWAY TO ANOTHER DIMENSION. MAX STEPPED THROUGH THE GATEWAY AND FOUND HIMSELF IN A LAND OF PURE IMAGINATION. EVERYTHING WAS POSSIBLE HERE, AND THE LAWS OF REALITY DID NOT APPLY. THE INHABITANTS OF THIS LAND WELCOMED MAX AS THEIR HERO.\n",
    "\n",
    "THEY EXPLAINED THAT THE RUBIK'S CUBE WAS A KEY TO THEIR WORLD, A SYMBOL OF BALANCE AND HARMONY. ONLY A TRUE BELIEVER, SOMEONE WITH PATIENCE AND DEDICATION, COULD UNLOCK ITS POTENTIAL. MAX HAD PROVEN HIMSELF WORTHY AND WAS GRANTED THE TITLE OF \"GUARDIAN OF THE CUBE.\"\n",
    "\n",
    "FROM THAT DAY FORWARD, MAX USED HIS NEWFOUND KNOWLEDGE AND SKILLS TO HELP OTHERS SOLVE THEIR OWN PROBLEMS, BRINGING ORDER AND HARMONY TO BOTH WORLDS. THE RUBIK'S CUBE REMAINED A SYMBOL OF HIS JOURNEY, REMINDING EVERYONE THAT WITH PERSEVERANCE AND DETERMINATION, ANYTHING IS POSSIBLE.\n",
    "\"\"\""
   ]
  },
  {
   "cell_type": "code",
   "execution_count": 99,
   "metadata": {},
   "outputs": [],
   "source": [
    "def transformer_fun(inputs: dict) -> dict:\n",
    "    '''\n",
    "    Notice how this always takes an inputs dictionary.\n",
    "    Also outputs a dictionary. You can call the output and input keys whatever you want, \n",
    "    just make sure to reference it correct in the chain call.\n",
    "    '''\n",
    "    # GRAB INCOMING CHAIN TEXT\n",
    "    text = inputs['text']\n",
    "    only_review_text = text.split('REVIEW:')[-1]\n",
    "    lower_case_text = only_review_text.lower()\n",
    "    return {'output':lower_case_text}"
   ]
  },
  {
   "cell_type": "code",
   "execution_count": 100,
   "metadata": {},
   "outputs": [
    {
     "data": {
      "text/plain": [
       "{'text': '\\nONCE UPON A TIME, IN A LAND OF COLOR AND MYSTERY, THERE EXISTED A MAGICAL RUBIK\\'S CUBE. THIS CUBE WAS NOT JUST ANY ORDINARY PUZZLE; IT WAS ENCHANTED WITH THE POWER TO BRING ORDER TO CHAOS. THE CUBE RESIDED IN A VIBRANT KINGDOM WHERE EVERYONE WAS INTRIGUED BY ITS COMPLEXITY.\\n\\nONE DAY, A YOUNG BOY NAMED MAX FOUND THE RUBIK\\'S CUBE WHILE EXPLORING THE FOREST. MAX WAS FASCINATED BY THE CUBE\\'S COLORS AND INTRICATE PATTERNS. WITH EACH TWIST AND TURN, HE FELT A CONNECTION TO THE CUBE, AS IF IT WAS CALLING OUT TO HIM TO SOLVE ITS MYSTERY.\\n\\nDETERMINED, MAX SPENT DAYS AND NIGHTS WORKING ON THE CUBE. HE STUDIED ITS MOVEMENTS AND TRIED TO UNRAVEL ITS SECRETS. THE CUBE WAS A CHALLENGE, BUT MAX WAS PERSISTENT. HE BELIEVED THAT SOLVING IT WOULD REVEAL SOMETHING EXTRAORDINARY.\\n\\nONE FATEFUL EVENING, AS THE SUN SET AND THE STARS BEGAN TO TWINKLE, MAX MADE THE FINAL MOVE. CLICK! THE CUBE\\'S COLORS ALIGNED PERFECTLY. AT THAT MOMENT, A BRILLIANT LIGHT EMANATED FROM THE CUBE, SURROUNDING MAX IN A WARM GLOW.\\n\\nTO HIS AMAZEMENT, THE RUBIK\\'S CUBE TRANSFORMED INTO A GATEWAY TO ANOTHER DIMENSION. MAX STEPPED THROUGH THE GATEWAY AND FOUND HIMSELF IN A LAND OF PURE IMAGINATION. EVERYTHING WAS POSSIBLE HERE, AND THE LAWS OF REALITY DID NOT APPLY. THE INHABITANTS OF THIS LAND WELCOMED MAX AS THEIR HERO.\\n\\nTHEY EXPLAINED THAT THE RUBIK\\'S CUBE WAS A KEY TO THEIR WORLD, A SYMBOL OF BALANCE AND HARMONY. ONLY A TRUE BELIEVER, SOMEONE WITH PATIENCE AND DEDICATION, COULD UNLOCK ITS POTENTIAL. MAX HAD PROVEN HIMSELF WORTHY AND WAS GRANTED THE TITLE OF \"GUARDIAN OF THE CUBE.\"\\n\\nFROM THAT DAY FORWARD, MAX USED HIS NEWFOUND KNOWLEDGE AND SKILLS TO HELP OTHERS SOLVE THEIR OWN PROBLEMS, BRINGING ORDER AND HARMONY TO BOTH WORLDS. THE RUBIK\\'S CUBE REMAINED A SYMBOL OF HIS JOURNEY, REMINDING EVERYONE THAT WITH PERSEVERANCE AND DETERMINATION, ANYTHING IS POSSIBLE.\\n',\n",
       " 'output': '\\nonce upon a time, in a land of color and mystery, there existed a magical rubik\\'s cube. this cube was not just any ordinary puzzle; it was enchanted with the power to bring order to chaos. the cube resided in a vibrant kingdom where everyone was intrigued by its complexity.\\n\\none day, a young boy named max found the rubik\\'s cube while exploring the forest. max was fascinated by the cube\\'s colors and intricate patterns. with each twist and turn, he felt a connection to the cube, as if it was calling out to him to solve its mystery.\\n\\ndetermined, max spent days and nights working on the cube. he studied its movements and tried to unravel its secrets. the cube was a challenge, but max was persistent. he believed that solving it would reveal something extraordinary.\\n\\none fateful evening, as the sun set and the stars began to twinkle, max made the final move. click! the cube\\'s colors aligned perfectly. at that moment, a brilliant light emanated from the cube, surrounding max in a warm glow.\\n\\nto his amazement, the rubik\\'s cube transformed into a gateway to another dimension. max stepped through the gateway and found himself in a land of pure imagination. everything was possible here, and the laws of reality did not apply. the inhabitants of this land welcomed max as their hero.\\n\\nthey explained that the rubik\\'s cube was a key to their world, a symbol of balance and harmony. only a true believer, someone with patience and dedication, could unlock its potential. max had proven himself worthy and was granted the title of \"guardian of the cube.\"\\n\\nfrom that day forward, max used his newfound knowledge and skills to help others solve their own problems, bringing order and harmony to both worlds. the rubik\\'s cube remained a symbol of his journey, reminding everyone that with perseverance and determination, anything is possible.\\n'}"
      ]
     },
     "execution_count": 100,
     "metadata": {},
     "output_type": "execute_result"
    }
   ],
   "source": [
    "transform_chain = TransformChain(input_variables=['text'],\n",
    "                                 output_variables=['output'],\n",
    "                                 transform=transformer_fun)\n",
    "transform_chain.invoke(story)"
   ]
  },
  {
   "cell_type": "code",
   "execution_count": 101,
   "metadata": {},
   "outputs": [],
   "source": [
    "template = \"Create a one sentence summary of this review:\\n{text}\"\n",
    "llm = ChatOllama(model='llama3', temperature=0.2)\n",
    "prompt = ChatPromptTemplate.from_template(template)\n",
    "summary_chain = prompt|llm\n",
    "sequential_chain = transform_chain|summary_chain"
   ]
  },
  {
   "cell_type": "code",
   "execution_count": 102,
   "metadata": {},
   "outputs": [
    {
     "data": {
      "text/plain": [
       "'Here is a one-sentence summary of the review:\\n\\nA young boy named Max discovers an enchanted Rubik\\'s Cube that holds the power to bring order to chaos and, after solving it, becomes the \"Guardian of the Cube\" with the ability to help others solve their problems and bring harmony to both worlds.'"
      ]
     },
     "execution_count": 102,
     "metadata": {},
     "output_type": "execute_result"
    }
   ],
   "source": [
    "result = sequential_chain.invoke(story)\n",
    "result.content"
   ]
  },
  {
   "cell_type": "markdown",
   "metadata": {},
   "source": [
    "## F. MathChain"
   ]
  },
  {
   "cell_type": "code",
   "execution_count": 103,
   "metadata": {},
   "outputs": [
    {
     "data": {
      "text/plain": [
       "34271896307633"
      ]
     },
     "execution_count": 103,
     "metadata": {},
     "output_type": "execute_result"
    }
   ],
   "source": [
    "# the correct answer\n",
    "eval('17**11')"
   ]
  },
  {
   "cell_type": "code",
   "execution_count": 104,
   "metadata": {},
   "outputs": [
    {
     "data": {
      "text/plain": [
       "AIMessage(content='A big exponent!\\n\\nAccording to my calculations, 17 raised to the power of 11 (17^11) is:\\n\\n17,143,839,223', response_metadata={'model': 'llama3', 'created_at': '2024-08-27T11:22:38.111911825Z', 'message': {'role': 'assistant', 'content': ''}, 'done_reason': 'stop', 'done': True, 'total_duration': 751211399, 'load_duration': 16437054, 'prompt_eval_count': 22, 'prompt_eval_duration': 27104000, 'eval_count': 33, 'eval_duration': 666328000}, id='run-9cb872d9-78ad-4521-989b-b3b42e6e67a5-0')"
      ]
     },
     "execution_count": 104,
     "metadata": {},
     "output_type": "execute_result"
    }
   ],
   "source": [
    "# wrong answer\n",
    "llm = ChatOllama(model='llama3', temperature=0)\n",
    "llm.invoke(\"What is 17 raised to the power of 11?\")"
   ]
  },
  {
   "cell_type": "code",
   "execution_count": 105,
   "metadata": {},
   "outputs": [
    {
     "data": {
      "text/plain": [
       "131072"
      ]
     },
     "execution_count": 105,
     "metadata": {},
     "output_type": "execute_result"
    }
   ],
   "source": [
    "# wrong\n",
    "result = llm.invoke(\"Give me the Python formula that represents: What is 17 raised to the power of 11? Only reply with the formula, nothing else!\")\n",
    "eval(result.content)"
   ]
  },
  {
   "cell_type": "markdown",
   "metadata": {},
   "source": [
    "Easier Way!"
   ]
  },
  {
   "cell_type": "code",
   "execution_count": 108,
   "metadata": {},
   "outputs": [
    {
     "name": "stdout",
     "output_type": "stream",
     "text": [
      "Collecting numexpr\n",
      "  Downloading numexpr-2.10.1-cp310-cp310-manylinux_2_27_x86_64.manylinux_2_28_x86_64.whl.metadata (1.2 kB)\n",
      "Requirement already satisfied: numpy>=1.23.0 in /system/conda/miniconda3/envs/cloudspace/lib/python3.10/site-packages (from numexpr) (1.26.4)\n",
      "Downloading numexpr-2.10.1-cp310-cp310-manylinux_2_27_x86_64.manylinux_2_28_x86_64.whl (405 kB)\n",
      "Installing collected packages: numexpr\n",
      "Successfully installed numexpr-2.10.1\n"
     ]
    }
   ],
   "source": [
    "!pip install numexpr"
   ]
  },
  {
   "cell_type": "code",
   "execution_count": 109,
   "metadata": {},
   "outputs": [],
   "source": [
    "from langchain import LLMMathChain"
   ]
  },
  {
   "cell_type": "code",
   "execution_count": 113,
   "metadata": {},
   "outputs": [],
   "source": [
    "# llm_math_model = LLMMathChain.from_llm(llm)\n",
    "# llm_math_model.invoke(\"What is 17 raised to the power of 11?\")\n",
    "## 上面的报错"
   ]
  },
  {
   "cell_type": "code",
   "execution_count": 111,
   "metadata": {},
   "outputs": [
    {
     "name": "stdout",
     "output_type": "stream",
     "text": [
      "{'question': 'What is 17 raised to the power of 11?', 'answer': 'Answer: 34271896307633'}\n"
     ]
    }
   ],
   "source": [
    "from langchain.chains.llm_math.base import LLMMathChain\n",
    "import numexpr\n",
    "\n",
    "class CustomLLMMathChain(LLMMathChain):\n",
    "    def _process_llm_result(self, llm_output, run_manager):\n",
    "        # 如果 LLM 输出包含 Python 代码块，则执行该代码\n",
    "        if \"```text\" in llm_output:\n",
    "            code_block = llm_output.split(\"```text\")[1].split(\"```\")[0].strip()\n",
    "            try:\n",
    "                result = numexpr.evaluate(code_block)\n",
    "                answer = f\"Answer: {result}\"\n",
    "            except Exception as e:\n",
    "                raise ValueError(f\"Error in evaluating code block: {e}\")\n",
    "        elif \"Answer:\" in llm_output:\n",
    "            answer = \"Answer: \" + llm_output.split(\"Answer:\")[-1]\n",
    "        else:\n",
    "            raise ValueError(f\"unknown format from LLM: {llm_output}\")\n",
    "        return {self.output_key: answer}\n",
    "\n",
    "# 使用自定义的链\n",
    "llm_math_model = CustomLLMMathChain.from_llm(llm)\n",
    "result = llm_math_model.invoke(\"What is 17 raised to the power of 11?\")\n",
    "print(result)\n"
   ]
  },
  {
   "cell_type": "code",
   "execution_count": 112,
   "metadata": {},
   "outputs": [
    {
     "name": "stdout",
     "output_type": "stream",
     "text": [
      "{'question': \"What is 17 raised to the power of 11? Please provide the answer in the format 'Answer: <result>'.\", 'answer': 'Answer: 34271896307633'}\n"
     ]
    }
   ],
   "source": [
    "question = \"What is 17 raised to the power of 11? Please provide the answer in the format 'Answer: <result>'.\"\n",
    "result = llm_math_model.invoke(question)\n",
    "print(result)\n"
   ]
  },
  {
   "cell_type": "markdown",
   "metadata": {},
   "source": [
    "# 7. LangChain Expression Language (LCEL)\n",
    "\n",
    "* LCEL has become the backbone of the newest versions of LangChain.\n",
    "* Traditional chains are still supported, but treated as \"Legacy\" and have less functionality than the new LCEL chains.\n"
   ]
  },
  {
   "attachments": {
    "lcel-2.png": {
     "image/png": "[encoded data removed]"
    }
   },
   "cell_type": "markdown",
   "metadata": {},
   "source": [
    "![lcel-2.png](attachment:lcel-2.png)"
   ]
  },
  {
   "cell_type": "code",
   "execution_count": 114,
   "metadata": {},
   "outputs": [],
   "source": [
    "from langchain_core.output_parsers import StrOutputParser\n",
    "from langchain_core.prompts import ChatPromptTemplate"
   ]
  },
  {
   "cell_type": "markdown",
   "metadata": {},
   "source": [
    "### Legacy Chain (Old ways)"
   ]
  },
  {
   "cell_type": "code",
   "execution_count": 115,
   "metadata": {},
   "outputs": [
    {
     "data": {
      "text/plain": [
       "'Here\\'s one:\\n\\nDiego Maradona scored the \"Hand of God\" goal in the 1986 World Cup quarterfinals against England, which was a controversial and iconic moment in football history. What many people don\\'t know is that Maradona had actually punched the ball into the net with his hand, rather than using his head or foot as he initially claimed. The referee didn\\'t see it, but it\\'s widely regarded as one of the most notorious cases of cheating in World Cup history!'"
      ]
     },
     "execution_count": 115,
     "metadata": {},
     "output_type": "execute_result"
    }
   ],
   "source": [
    "from langchain.chains import LLMChain\n",
    "\n",
    "prompt = ChatPromptTemplate.from_template(\"tell me a fact about {soccer_player}\")\n",
    "\n",
    "output_parser = StrOutputParser()\n",
    "\n",
    "model = ChatOllama(\n",
    "    model='llama3',\n",
    "    temperature= 0.5\n",
    "    )\n",
    "\n",
    "traditional_chain = LLMChain(\n",
    "    llm=model,\n",
    "    prompt=prompt\n",
    ")\n",
    "\n",
    "traditional_chain.predict(soccer_player=\"Maradona\")"
   ]
  },
  {
   "cell_type": "markdown",
   "metadata": {},
   "source": [
    "### New LCEL Chain \n",
    "* The \"pipe\" operator `|` is the main element of the LCEL chains.\n",
    "* The order (left to right) of the elements in a LCEL chain matters.\n",
    "* An LCEL Chain is a Sequence of Runnables."
   ]
  },
  {
   "cell_type": "code",
   "execution_count": 116,
   "metadata": {},
   "outputs": [
    {
     "data": {
      "text/plain": [
       "\"Here's one:\\n\\nLionel Messi has won the Ballon d'Or award a record-breaking seven times (2009, 2010, 2011, 2012, 2015, 2016, and 2019). He is widely regarded as one of the greatest soccer players of all time!\""
      ]
     },
     "execution_count": 116,
     "metadata": {},
     "output_type": "execute_result"
    }
   ],
   "source": [
    "chain = prompt | model | output_parser\n",
    "\n",
    "chain.invoke({\"soccer_player\": \"Lionel Messi\"})"
   ]
  },
  {
   "cell_type": "markdown",
   "metadata": {},
   "source": [
    "* All the components of the chain are Runnables.\n",
    "* **When we write chain.invoke() we are using invoke with all the componentes of the chain in an orderly manner**:\n",
    "    * First, we apply .invoke() with the user input to the prompt template.\n",
    "    * Then, with the completed prompt, we apply .invoke() to the model.\n",
    "    * And finally, we apply .invoke() to the output parser with the output of the model.\n",
    "* IMPORTANT: the order of operations in a chain matters. If you try to execute the previous chain with the components in different order, the chain will fail.\n",
    "\n",
    "And now let's replicate this process without using the LCEL chain"
   ]
  },
  {
   "cell_type": "markdown",
   "metadata": {},
   "source": [
    "### Without LCEL Chain"
   ]
  },
  {
   "cell_type": "code",
   "execution_count": 117,
   "metadata": {},
   "outputs": [
    {
     "data": {
      "text/plain": [
       "ChatPromptValue(messages=[HumanMessage(content='tell me a fact about Michael Ballack')])"
      ]
     },
     "execution_count": 117,
     "metadata": {},
     "output_type": "execute_result"
    }
   ],
   "source": [
    "prompt.invoke({\"soccer_player\": \"Michael Ballack\"})"
   ]
  },
  {
   "cell_type": "code",
   "execution_count": 118,
   "metadata": {},
   "outputs": [
    {
     "data": {
      "text/plain": [
       "AIMessage(content=\"Here's one:\\n\\nMike Tyson was the youngest heavyweight champion in history at the time, winning the title at just 20 years old in 1986. He defeated Trevor Berbick by unanimous decision to become the new WBC heavyweight champion of the world.\", response_metadata={'model': 'llama3', 'created_at': '2024-08-27T11:25:46.561314159Z', 'message': {'role': 'assistant', 'content': ''}, 'done_reason': 'stop', 'done': True, 'total_duration': 1159211990, 'load_duration': 17436654, 'prompt_eval_count': 17, 'prompt_eval_duration': 22613000, 'eval_count': 53, 'eval_duration': 1076141000}, id='run-d1b84f5f-80fe-49dc-948d-267906aa4640-0')"
      ]
     },
     "execution_count": 118,
     "metadata": {},
     "output_type": "execute_result"
    }
   ],
   "source": [
    "model.invoke(prompt.invoke({\"soccer_player\": \"Mike Tyson\"}))"
   ]
  },
  {
   "cell_type": "code",
   "execution_count": 119,
   "metadata": {},
   "outputs": [
    {
     "data": {
      "text/plain": [
       "\"Here's one:\\n\\nMike Tyson was the youngest heavyweight champion in history at the time, winning the title at just 20 years old when he defeated Trevor Berbick on February 22, 1986.\""
      ]
     },
     "execution_count": 119,
     "metadata": {},
     "output_type": "execute_result"
    }
   ],
   "source": [
    "StrOutputParser().invoke(model.invoke(prompt.invoke({\"soccer_player\": \"Mike Tyson\"})))"
   ]
  },
  {
   "cell_type": "markdown",
   "metadata": {},
   "source": [
    "### Runnables\n",
    "\n",
    "* Remember:\n",
    "    * An LCEL Chain is a Sequence of Runnables.\n",
    "    * Almost any component in LangChain (prompts, models, output parsers, etc) can be used as a Runnable.\n",
    "    * Runnables can be chained together using the pipe operator `|`. The resulting chains of runnables are also runnables themselves.\n",
    "    * The order (left to right) of the elements in a LCEL chain matters.\n",
    "\n",
    "LCEL Chains/Runnables are used with:\n",
    "* chain.invoke(): call the chain on an input.\n",
    "* chain.stream(): call the chain on an input and stream back chunks of the response.\n",
    "* chain.batch(): call the chain on a list of inputs."
   ]
  },
  {
   "cell_type": "code",
   "execution_count": 120,
   "metadata": {},
   "outputs": [],
   "source": [
    "prompt = ChatPromptTemplate.from_template(\"Tell me one sentence about {politician}.\")\n",
    "chain = prompt | model"
   ]
  },
  {
   "cell_type": "code",
   "execution_count": 121,
   "metadata": {},
   "outputs": [
    {
     "data": {
      "text/plain": [
       "AIMessage(content='Winston Churchill was the Prime Minister of the United Kingdom during World War II, leading Britain to victory and delivering famous speeches such as \"We shall fight on the beaches\" and \"Never give in.\"', response_metadata={'model': 'llama3', 'created_at': '2024-08-27T11:25:48.447532541Z', 'message': {'role': 'assistant', 'content': ''}, 'done_reason': 'stop', 'done': True, 'total_duration': 918951498, 'load_duration': 17402637, 'prompt_eval_count': 17, 'prompt_eval_duration': 26628000, 'eval_count': 41, 'eval_duration': 826282000}, id='run-f67062f9-d386-4897-b824-a95d9be425b0-0')"
      ]
     },
     "execution_count": 121,
     "metadata": {},
     "output_type": "execute_result"
    }
   ],
   "source": [
    "# invoke \n",
    "chain.invoke({\"politician\": \"Churchill\"})"
   ]
  },
  {
   "cell_type": "code",
   "execution_count": 122,
   "metadata": {},
   "outputs": [
    {
     "name": "stdout",
     "output_type": "stream",
     "text": [
      "Joko Widodo, commonly known as Jokowi, is the current President of Indonesia, serving since 2014 and previously serving as the Mayor of Surabaya from 2002 to 2012."
     ]
    }
   ],
   "source": [
    "# stream\n",
    "for s in chain.stream({\"politician\": \"Jokowi\"}):\n",
    "    print(s.content, end=\"\", flush=True)"
   ]
  },
  {
   "cell_type": "code",
   "execution_count": 123,
   "metadata": {},
   "outputs": [
    {
     "data": {
      "text/plain": [
       "[AIMessage(content=\"Vladimir Lenin was a Russian revolutionary and politician who served as the first head of government of Soviet Russia from 1918 to 1924, leading the Bolsheviks to victory in the October Revolution and establishing the world's first socialist state.\", response_metadata={'model': 'llama3', 'created_at': '2024-08-27T11:25:50.661527781Z', 'message': {'role': 'assistant', 'content': ''}, 'done_reason': 'stop', 'done': True, 'total_duration': 1221794023, 'load_duration': 58392435, 'prompt_eval_count': 17, 'prompt_eval_duration': 29421000, 'eval_count': 50, 'eval_duration': 1089468000}, id='run-26f9b8e7-7b20-49ec-9373-46f8429e892c-0'),\n",
       " AIMessage(content='Joseph Stalin was the Soviet leader who ruled the USSR from 1922 to 1953, during which time he implemented a series of radical policies that led to widespread famine and repression, resulting in an estimated 20-40 million deaths.', response_metadata={'model': 'llama3', 'created_at': '2024-08-27T11:25:50.555626779Z', 'message': {'role': 'assistant', 'content': ''}, 'done_reason': 'stop', 'done': True, 'total_duration': 1115892671, 'load_duration': 17064889, 'prompt_eval_count': 17, 'prompt_eval_duration': 22556000, 'eval_count': 49, 'eval_duration': 1075429000}, id='run-c95bdeef-8f1e-4c95-80a5-675b8bc65509-0')]"
      ]
     },
     "execution_count": 123,
     "metadata": {},
     "output_type": "execute_result"
    }
   ],
   "source": [
    "# batch\n",
    "chain.batch([{\"politician\": \"Lenin\"}, {\"politician\": \"Stalin\"}])"
   ]
  },
  {
   "cell_type": "markdown",
   "metadata": {},
   "source": [
    "LCEL Chains/Runnables can be also used asynchronously:\n",
    "* chain.ainvoke(): call the chain on an input.\n",
    "* chain.astream(): call the chain on an input and stream back chunks of the response.\n",
    "* chain.abatch(): call the chain on a list of inputs."
   ]
  },
  {
   "cell_type": "markdown",
   "metadata": {},
   "source": [
    "## B. Main built-in LCEL Runnables\n",
    "\n",
    "- RunnablePassthrough\n",
    "- RunnableLambda\n",
    "- RunnableParallel "
   ]
  },
  {
   "cell_type": "markdown",
   "metadata": {},
   "source": [
    "###  RunnablePassthrough\n",
    "\n",
    "* It does not do anything to the input data.\n",
    "* Let's see it in a very simple example: a chain with just RunnablePassthrough() will output the original input without any modification."
   ]
  },
  {
   "cell_type": "code",
   "execution_count": 124,
   "metadata": {},
   "outputs": [
    {
     "data": {
      "text/plain": [
       "'Michael Jackson'"
      ]
     },
     "execution_count": 124,
     "metadata": {},
     "output_type": "execute_result"
    }
   ],
   "source": [
    "from langchain_core.runnables import RunnablePassthrough\n",
    "\n",
    "chain = RunnablePassthrough()\n",
    "chain.invoke(\"Michael Jackson\")"
   ]
  },
  {
   "cell_type": "markdown",
   "metadata": {},
   "source": [
    "###  RunnableLambda\n",
    "\n",
    "* To use a custom function inside a LCEL chain we need to wrap it up with RunnableLambda.\n",
    "* Let's define a very simple function to create Russian lastnames:"
   ]
  },
  {
   "cell_type": "code",
   "execution_count": 125,
   "metadata": {},
   "outputs": [],
   "source": [
    "def russian_lastname(name: str) -> str:\n",
    "    return f\"{name}ovich\""
   ]
  },
  {
   "cell_type": "code",
   "execution_count": 126,
   "metadata": {},
   "outputs": [
    {
     "data": {
      "text/plain": [
       "'Johnovich'"
      ]
     },
     "execution_count": 126,
     "metadata": {},
     "output_type": "execute_result"
    }
   ],
   "source": [
    "from langchain_core.runnables import RunnableLambda\n",
    "\n",
    "chain = RunnablePassthrough() | RunnableLambda(russian_lastname)\n",
    "\n",
    "chain.invoke(\"John\")"
   ]
  },
  {
   "cell_type": "markdown",
   "metadata": {},
   "source": [
    "###  RunnableParallel\n",
    "* We will use RunnableParallel() for running tasks in parallel.\n",
    "* This is probably the most important and most useful Runnable from LangChain.\n",
    "* In the following chain, RunnableParallel is going to run these two tasks in parallel:\n",
    "    * operation_a will use RunnablePassthrough.\n",
    "    * operation_b will use RunnableLambda with the russian_lastname function."
   ]
  },
  {
   "cell_type": "code",
   "execution_count": 127,
   "metadata": {},
   "outputs": [
    {
     "data": {
      "text/plain": [
       "{'operation_a': 'Abraham', 'operation_b': 'Abrahamovich'}"
      ]
     },
     "execution_count": 127,
     "metadata": {},
     "output_type": "execute_result"
    }
   ],
   "source": [
    "from langchain_core.runnables import RunnableParallel\n",
    "\n",
    "chain = RunnableParallel(\n",
    "    {\n",
    "        \"operation_a\": RunnablePassthrough(),\n",
    "        \"operation_b\": RunnableLambda(russian_lastname)\n",
    "    }\n",
    ")\n",
    "\n",
    "chain.invoke(\"Abraham\")"
   ]
  },
  {
   "cell_type": "code",
   "execution_count": 128,
   "metadata": {},
   "outputs": [
    {
     "data": {
      "text/plain": [
       "{'operation_a': {'name1': 'Jordan', 'name': 'Abram'},\n",
       " 'soccer_player': 'Abramovich'}"
      ]
     },
     "execution_count": 128,
     "metadata": {},
     "output_type": "execute_result"
    }
   ],
   "source": [
    "# Instead of using RunnableLambda, now we are going to use a lambda function \n",
    "# and we will invoke the chain with two inputs:\n",
    "\n",
    "chain = RunnableParallel(\n",
    "    {\n",
    "        \"operation_a\": RunnablePassthrough(),\n",
    "        \"soccer_player\": lambda x: x[\"name\"]+\"ovich\"\n",
    "    }\n",
    ")\n",
    "\n",
    "chain.invoke({\n",
    "    \"name1\": \"Jordan\",\n",
    "    \"name\": \"Abram\"\n",
    "})\n",
    "\n",
    "# See how the lambda function is taking the \"name\" input."
   ]
  },
  {
   "cell_type": "markdown",
   "metadata": {},
   "source": [
    "Important: the syntax of RunnableParallel can have several variations.\n",
    "* When composing a RunnableParallel with another Runnable you do not need to wrap it up in the RunnableParallel class. Inside a chain, the next three syntaxs are equivalent:\n",
    "    * `RunnableParallel({\"context\": retriever, \"question\": RunnablePassthrough()})`\n",
    "    * `RunnableParallel(context=retriever, question=RunnablePassthrough())`\n",
    "    * `{\"context\": retriever, \"question\": RunnablePassthrough()}`"
   ]
  },
  {
   "cell_type": "markdown",
   "metadata": {},
   "source": [
    "We can add more Runnables to the chain"
   ]
  },
  {
   "cell_type": "code",
   "execution_count": 129,
   "metadata": {},
   "outputs": [
    {
     "data": {
      "text/plain": [
       "\"A curious fact about Roman Abramovich!\\n\\nHere's one: Did you know that Abramovich, the billionaire owner of Chelsea Football Club, is also a passionate collector of rare and unusual things? In 2008, he purchased the world's largest privately owned yacht, the Eclipse, for over $500 million. But here's the curious part: The Eclipse has a hidden submarine docked on its deck! Yes, you read that right - Abramovich has his own personal submarine, capable of carrying up to 18 people, which can be deployed from the ship.\\n\\nThis incredible vessel is said to have been designed by naval architect Frank Mulder and features advanced technology, including a mini-submarine, a helicopter pad, and even a missile defense system. Talk about taking your yacht game to the next level!\""
      ]
     },
     "execution_count": 129,
     "metadata": {},
     "output_type": "execute_result"
    }
   ],
   "source": [
    "# In the following example, the prompt Runnable will take the output of the RunnableParallel:\n",
    "\n",
    "prompt = ChatPromptTemplate.from_template(\"tell me a curious fact about {soccer_player}\")\n",
    "output_parser = StrOutputParser()\n",
    "\n",
    "def russian_lastname_from_dictionary(person):\n",
    "    return person[\"name\"] + \"ovich\"\n",
    "\n",
    "chain = RunnableParallel(\n",
    "    {\n",
    "        \"operation_a\": RunnablePassthrough(),\n",
    "        \"soccer_player\": RunnableLambda(russian_lastname_from_dictionary),\n",
    "        \"operation_c\": RunnablePassthrough(),\n",
    "    }\n",
    ") | prompt | model | output_parser\n",
    "\n",
    "chain.invoke({\n",
    "    \"name1\": \"Jordam\",\n",
    "    \"name\": \"Abram\"\n",
    "})\n",
    "\n",
    "# As you saw, the prompt Runnable took \"Abramovich\", \n",
    "# the output of the RunnableParallel, as the value for the \"soccer_player\" variable."
   ]
  },
  {
   "cell_type": "markdown",
   "metadata": {},
   "source": [
    "Let's see a more advanced use of RunnableParallel"
   ]
  },
  {
   "cell_type": "code",
   "execution_count": 131,
   "metadata": {},
   "outputs": [
    {
     "name": "stdout",
     "output_type": "stream",
     "text": [
      "Collecting faiss-gpu\n",
      "  Downloading faiss_gpu-1.7.2-cp310-cp310-manylinux_2_17_x86_64.manylinux2014_x86_64.whl.metadata (1.4 kB)\n",
      "Downloading faiss_gpu-1.7.2-cp310-cp310-manylinux_2_17_x86_64.manylinux2014_x86_64.whl (85.5 MB)\n",
      "\u001b[2K   \u001b[90m━━━━━━━━━━━━━━━━━━━━━━━━━━━━━━━━━━━━━━━━\u001b[0m \u001b[32m85.5/85.5 MB\u001b[0m \u001b[31m187.9 MB/s\u001b[0m eta \u001b[36m0:00:00\u001b[0m00:01\u001b[0m00:01\u001b[0m\n",
      "\u001b[?25hInstalling collected packages: faiss-gpu\n",
      "Successfully installed faiss-gpu-1.7.2\n"
     ]
    }
   ],
   "source": [
    "!pip install faiss-gpu"
   ]
  },
  {
   "cell_type": "code",
   "execution_count": 132,
   "metadata": {},
   "outputs": [
    {
     "data": {
      "text/plain": [
       "'According to the context, \"Si Leher Beton\" is a nickname for Mike Tyson in Indonesia, referring to the extraordinary size of his neck.'"
      ]
     },
     "execution_count": 132,
     "metadata": {},
     "output_type": "execute_result"
    }
   ],
   "source": [
    "from langchain_community.vectorstores import FAISS\n",
    "from langchain_core.output_parsers import StrOutputParser\n",
    "from langchain_core.prompts import ChatPromptTemplate\n",
    "from langchain_core.runnables import RunnablePassthrough, RunnableParallel\n",
    "from langchain_community.embeddings import OllamaEmbeddings\n",
    "\n",
    "\n",
    "vectorstore = FAISS.from_texts(\n",
    "    [\"\"\"\n",
    "Michael Gerard Tyson, also known as Mike Tyson (born June 30, 1966, New York City, United States), is a professional boxer and former heavyweight champion. His promising career was hindered by various criminal cases.\n",
    "Internationally, he is commonly referred to as \"Iron Mike\", referring to his strong physique. Other media outlets often call him \"The Baddest Man on Earth\", referencing his rough behavior both in and out of the boxing ring.\n",
    "In Indonesia, however, Tyson is more affectionately known as \"Si Leher Beton\" (Concrete Neck), which refers to the extraordinary size of his neck during its peak, making it seem incredibly sturdy.\n",
    "\"\"\"],\n",
    "      embedding=OllamaEmbeddings(model='llama3')\n",
    ")\n",
    "\n",
    "retriever = vectorstore.as_retriever()\n",
    "\n",
    "template = \"\"\"Answer the question based only on the following context:\n",
    "{context}\n",
    "\n",
    "Question: {question}\n",
    "\"\"\"\n",
    "\n",
    "prompt = ChatPromptTemplate.from_template(template)\n",
    "\n",
    "model = ChatOllama(model='llama3',temperature= 0.2)\n",
    "\n",
    "retrieval_chain = (\n",
    "    RunnableParallel({\"context\": retriever, \"question\": RunnablePassthrough()})\n",
    "    | prompt\n",
    "    | model\n",
    "    | StrOutputParser()\n",
    ")\n",
    "\n",
    "retrieval_chain.invoke(\"What is 'si leher beton'?\")"
   ]
  },
  {
   "cell_type": "markdown",
   "metadata": {},
   "source": [
    "Using itemgetter with RunnableParallel\n",
    "* When you are calling the LLM with several different input variables."
   ]
  },
  {
   "cell_type": "code",
   "execution_count": 133,
   "metadata": {},
   "outputs": [
    {
     "data": {
      "text/plain": [
       "'Dénéngé wong, tanggal 30 Juni 1966.'"
      ]
     },
     "execution_count": 133,
     "metadata": {},
     "output_type": "execute_result"
    }
   ],
   "source": [
    "from operator import itemgetter\n",
    "\n",
    "from langchain_community.vectorstores import FAISS\n",
    "from langchain_core.output_parsers import StrOutputParser\n",
    "from langchain_core.prompts import ChatPromptTemplate\n",
    "from langchain_core.runnables import RunnablePassthrough\n",
    "from langchain_community.embeddings import OllamaEmbeddings\n",
    "\n",
    "model = ChatOllama(model='llama3',temperature= 0.2)\n",
    "\n",
    "vectorstore = FAISS.from_texts(\n",
    "    [\"\"\"\n",
    "Michael Gerard Tyson, also known as Mike Tyson (born June 30, 1966, New York City, United States), is a professional boxer and former heavyweight champion. His promising career was hindered by various criminal cases.\n",
    "Internationally, he is commonly referred to as \"Iron Mike\", referring to his strong physique. Other media outlets often call him \"The Baddest Man on Earth\", referencing his rough behavior both in and out of the boxing ring.\n",
    "In Indonesia, however, Tyson is more affectionately known as \"Si Leher Beton\" (Concrete Neck), which refers to the extraordinary size of his neck during its peak, making it seem incredibly sturdy.\n",
    "\"\"\"], embedding=OllamaEmbeddings(model='llama3')\n",
    ")\n",
    "retriever = vectorstore.as_retriever()\n",
    "\n",
    "template = \"\"\"Answer the question based only on the following context:\n",
    "{context}\n",
    "\n",
    "Question: {question}\n",
    "\n",
    "Answer in the following language: {language} \n",
    "do not use english when answer the question\n",
    "\"\"\"\n",
    "\n",
    "prompt = ChatPromptTemplate.from_template(template)\n",
    "\n",
    "chain = (\n",
    "    {\n",
    "        \"context\": itemgetter(\"question\") | retriever,\n",
    "        \"question\": itemgetter(\"question\"),\n",
    "        \"language\": itemgetter(\"language\"),\n",
    "    }\n",
    "    | prompt\n",
    "    | model\n",
    "    | StrOutputParser()\n",
    ")\n",
    "\n",
    "chain.invoke(\n",
    "    {\"question\": \"when was Mike Tyson born?\", \n",
    "     \"language\": \"Javanese\"})"
   ]
  },
  {
   "cell_type": "markdown",
   "metadata": {},
   "source": [
    "## C. Main built-in LCEL functions for runnables\n",
    "- .bind\n",
    "- .assign()"
   ]
  },
  {
   "cell_type": "markdown",
   "metadata": {},
   "source": [
    "### .bind()\n",
    "\n",
    "* Use of .bind() to add arguments to a Runnable in a LCEL Chain\n",
    "* For example, we can add an argument to stop the model response when it reaches the word \"Ronaldo\":"
   ]
  },
  {
   "cell_type": "code",
   "execution_count": 134,
   "metadata": {},
   "outputs": [
    {
     "data": {
      "text/plain": [
       "\"Here's one:\\n\\nDid you know that Cristiano\""
      ]
     },
     "execution_count": 134,
     "metadata": {},
     "output_type": "execute_result"
    }
   ],
   "source": [
    "prompt = ChatPromptTemplate.from_template(\"tell me a curious fact about {soccer_player}\")\n",
    "model = ChatOllama(model='llama3',temperature= 0.2)\n",
    "output_parser = StrOutputParser()\n",
    "\n",
    "chain = prompt | model.bind(stop=[\"Ronaldo\"]) | output_parser\n",
    "chain.invoke({\"soccer_player\": \"Ronaldo\"})"
   ]
  },
  {
   "cell_type": "markdown",
   "metadata": {},
   "source": [
    "### .assign()\n",
    "\n",
    "* he assign() function allows adding keys to a chain\n",
    "* Example: we will create a key name \"operation_b\" assigned to a custom function with a RunnableLambda.\n",
    "* We will start with a very basic chain with just RunnablePassthrough:"
   ]
  },
  {
   "cell_type": "code",
   "execution_count": 135,
   "metadata": {},
   "outputs": [
    {
     "data": {
      "text/plain": [
       "{'original_input': 'whatever'}"
      ]
     },
     "execution_count": 135,
     "metadata": {},
     "output_type": "execute_result"
    }
   ],
   "source": [
    "from langchain_core.runnables import RunnableParallel, RunnablePassthrough, RunnableLambda\n",
    "\n",
    "chain = RunnableParallel({\"original_input\": RunnablePassthrough()})\n",
    "chain.invoke(\"whatever\")"
   ]
  },
  {
   "cell_type": "markdown",
   "metadata": {},
   "source": [
    "* As you can see, right now this chain is only assigning the user input to the \"original_input\" variable.\n",
    "* Let's now add the new key \"uppercase\" with the assign function.\n",
    "* In the new \"uppercase\" key, we will use a RunnableLambda with the custom function named `make_uppercase`"
   ]
  },
  {
   "cell_type": "code",
   "execution_count": 136,
   "metadata": {},
   "outputs": [
    {
     "data": {
      "text/plain": [
       "{'original_input': 'whatever', 'uppercase': 'WHATEVER'}"
      ]
     },
     "execution_count": 136,
     "metadata": {},
     "output_type": "execute_result"
    }
   ],
   "source": [
    "def make_uppercase(arg):\n",
    "    return arg[\"original_input\"].upper()\n",
    "\n",
    "chain = RunnableParallel({\"original_input\": RunnablePassthrough()}).assign(uppercase=RunnableLambda(make_uppercase))\n",
    "\n",
    "chain.invoke(\"whatever\")"
   ]
  },
  {
   "cell_type": "markdown",
   "metadata": {},
   "source": [
    "* As you can see, the output of the chain has now 2 keys: original_input and uppercase.\n",
    "* In the uppercase key, we can see that the `make_uppercase` function has been applied to the user input."
   ]
  },
  {
   "cell_type": "markdown",
   "metadata": {},
   "source": [
    "## D. Main Operations with LCEL Chains\n",
    "* Chaining runnables, coercion.\n",
    "* Multiple chains.\n",
    "* Nested chains.\n",
    "* Fallback for chains."
   ]
  },
  {
   "cell_type": "markdown",
   "metadata": {},
   "source": [
    "### Chaining Runnables\n",
    "* Remember: almost any component in LangChain (prompts, models, output parsers, etc) can be used as a Runnable.\n",
    "* **Runnables can be chained together using the pipe operator `|`. The resulting chains of runnables are also runnables themselves**."
   ]
  },
  {
   "cell_type": "code",
   "execution_count": 137,
   "metadata": {},
   "outputs": [
    {
     "data": {
      "text/plain": [
       "'Winston Churchill famously described Neville Chamberlain\\'s appeasement policy towards Nazi Germany as \"an act of surrender\" in his speech to the House of Commons on May 12, 1940.'"
      ]
     },
     "execution_count": 137,
     "metadata": {},
     "output_type": "execute_result"
    }
   ],
   "source": [
    "prompt = ChatPromptTemplate.from_template(\"tell me a sentence about {politician}\")\n",
    "\n",
    "model = ChatOllama(model='llama3',temperature= 0.2)\n",
    "\n",
    "chain = prompt | model | StrOutputParser()\n",
    "\n",
    "chain.invoke(\"Chamberlain\")"
   ]
  },
  {
   "cell_type": "markdown",
   "metadata": {},
   "source": [
    "#### Coercion: combine a chain (which is a Runnable) with other Runnables to create a new chain.\n",
    "* See how in the `composed_chain` we are including the previous `chain`:"
   ]
  },
  {
   "cell_type": "code",
   "execution_count": 138,
   "metadata": {},
   "outputs": [
    {
     "data": {
      "text/plain": [
       "\"What a great question!\\n\\nAbraham Lincoln's issuance of the Emancipation Proclamation on January 1, 1863, was indeed a significant and historic event that had far-reaching consequences for humanity.\\n\\nHere are some reasons why:\\n\\n1. **End of slavery**: The Emancipation Proclamation declared freedom for all slaves in Confederate territory, effectively ending the institution of slavery in those areas. This was a crucial step towards abolishing slavery altogether.\\n2. **Advancement of human rights**: By issuing the proclamation, Lincoln took a bold stance against the injustice and cruelty of slavery, recognizing that all people are created equal and deserve to be free.\\n3. **Unifying the nation**: The Emancipation Proclamation helped to unify the North and West behind the Union cause, as many abolitionists and anti-slavery advocates saw it as a crucial step towards ending the Civil War and preserving the Union.\\n4. **Inspiring future reforms**: Lincoln's proclamation inspired further efforts to abolish slavery, including the passage of the 13th Amendment to the Constitution in December 1865, which officially ended slavery throughout the United States.\\n5. **Symbolic significance**: The Emancipation Proclamation has become a powerful symbol of freedom and equality, inspiring generations of people to fight for human rights and social justice.\\n\\nOf course, it's important to acknowledge that the Emancipation Proclamation was not without its limitations. It did not immediately free all slaves, as it only applied to areas outside of Union control. Additionally, many enslaved individuals were not aware of their newfound freedom until after the war ended in 1865.\\n\\nDespite these limitations, Lincoln's issuance of the Emancipation Proclamation remains a pivotal moment in American history, marking a significant step towards the abolition of slavery and the advancement of human rights.\""
      ]
     },
     "execution_count": 138,
     "metadata": {},
     "output_type": "execute_result"
    }
   ],
   "source": [
    "historian_prompt = ChatPromptTemplate.from_template(\"Was {politician} positive for Humanity?\")\n",
    "\n",
    "composed_chain = {\"politician\": chain} | historian_prompt | model | StrOutputParser()\n",
    "\n",
    "composed_chain.invoke({\"politician\": \"Lincoln\"})"
   ]
  },
  {
   "cell_type": "code",
   "execution_count": 139,
   "metadata": {},
   "outputs": [
    {
     "data": {
      "text/plain": [
       "'What a complex question!\\n\\nAttila the Hun is often regarded as one of the most feared and successful warlords in history, leading the Hunnic Empire to conquer vast territories across Europe and Asia during his reign from 434 to 453 AD. However, whether he was \"positive\" for humanity is open to interpretation.\\n\\nHere are some arguments for both sides:\\n\\n**Arguments for Attila being positive for humanity:**\\n\\n1. **Unification of fragmented regions**: Attila\\'s conquests brought together various tribes and kingdoms under a single rule, creating a sense of unity and stability in the region.\\n2. **Economic growth**: The Hunnic Empire\\'s expansion led to increased trade and commerce, which benefited many cities and communities along the trade routes.\\n3. **Cultural exchange**: Attila\\'s empire was known for its cultural diversity, with influences from various ethnic groups. This exchange of ideas, art, and technology might have contributed to the development of European culture.\\n\\n**Arguments against Attila being positive for humanity:**\\n\\n1. **Destruction and devastation**: Attila\\'s military campaigns were often marked by brutal violence, destruction of cities, and mass killings. The suffering he caused was immense.\\n2. **Fear and intimidation**: Attila\\'s reputation as a ruthless warlord inspired fear throughout Europe, leading to widespread panic and submission to his rule.\\n3. **Oppression and exploitation**: The Hunnic Empire was known for its brutal treatment of conquered peoples, including forced labor, slavery, and economic exploitation.\\n\\nIn conclusion, while Attila the Hun did bring some benefits, such as unification and economic growth, his reign was marked by destruction, fear, and oppression. It\\'s difficult to say whether he was overall \"positive\" for humanity, as his impact was complex and multifaceted.'"
      ]
     },
     "execution_count": 139,
     "metadata": {},
     "output_type": "execute_result"
    }
   ],
   "source": [
    "composed_chain.invoke({\"politician\": \"Attila\"})"
   ]
  },
  {
   "cell_type": "markdown",
   "metadata": {},
   "source": [
    "* **Functions can also be included in Runnables**:"
   ]
  },
  {
   "cell_type": "code",
   "execution_count": 140,
   "metadata": {},
   "outputs": [
    {
     "data": {
      "text/plain": [
       "\"What a complex and intriguing question!\\n\\nMaximilien Robespierre is indeed considered one of the most influential figures of the French Revolution. While he was initially a passionate advocate for the execution of King Louis XVI and Queen Marie Antoinette, his radical policies and ruthless tactics ultimately led to his downfall and death by guillotine in 1794.\\n\\nAs for whether Robespierre was positive or negative for humanity, it's essential to consider both sides of his legacy:\\n\\n**Positive aspects:**\\n\\n1. **Advocate for the common people**: Robespierre was a champion of the sans-culottes, the working-class and poor people who were the backbone of the French Revolution. He fought tirelessly for their rights and interests.\\n2. **Radical reforms**: During his time in power (July 1793 to July 1794), Robespierre implemented significant social and economic reforms, such as the abolition of feudalism, the establishment of a secular education system, and the creation of a national bank.\\n\\n**Negative aspects:**\\n\\n1. **Tyranny and paranoia**: As the Reign of Terror intensified, Robespierre became increasingly paranoid and tyrannical, using his power to purge perceived enemies from the Committee of Public Safety.\\n2. **Mass executions**: During his reign, thousands of people were executed without trial or due process, often on trumped-up charges or for political reasons.\\n3. **Oppression of dissent**: Robespierre's regime suppressed any opposition, including moderate revolutionaries and intellectuals who disagreed with his radical policies.\\n\\nIn conclusion, while Robespierre's passion for the common people and his commitment to radical reforms were positive aspects of his legacy, his tyranny, paranoia, and mass executions ultimately had a devastating impact on humanity. His downfall and death by guillotine in 1794 marked the end of the Reign of Terror and paved the way for more moderate leadership.\\n\\nSo, was Robespierre positive or negative for humanity? It's a complex question that requires acknowledging both his contributions to the French Revolution and the harm caused by his radical policies and ruthless tactics.\""
      ]
     },
     "execution_count": 140,
     "metadata": {},
     "output_type": "execute_result"
    }
   ],
   "source": [
    "composed_chain_with_lambda = (\n",
    "    chain\n",
    "    | (lambda input: {\"politician\": input})\n",
    "    | historian_prompt\n",
    "    | model\n",
    "    | StrOutputParser()\n",
    ")\n",
    "\n",
    "composed_chain_with_lambda.invoke({\"politician\": \"Robespierre\"})"
   ]
  },
  {
   "cell_type": "markdown",
   "metadata": {},
   "source": [
    "* If you include a function in a chain, it can interfere with operations like streaming. You can learn more about this [here](https://python.langchain.com/v0.1/docs/expression_language/primitives/functions/)."
   ]
  },
  {
   "cell_type": "markdown",
   "metadata": {},
   "source": [
    "### Multiple chains"
   ]
  },
  {
   "cell_type": "code",
   "execution_count": 141,
   "metadata": {},
   "outputs": [
    {
     "data": {
      "text/plain": [
       "\"Je suis désolé pour la erreur de nom ! François Mitterrand est effectivement un homme politique français.\\n\\nLa réponse à votre question est : l'Europe.\\n\\nEn français : La réponse à votre question est : l'Europe.\""
      ]
     },
     "execution_count": 141,
     "metadata": {},
     "output_type": "execute_result"
    }
   ],
   "source": [
    "from operator import itemgetter\n",
    "\n",
    "from langchain_core.output_parsers import StrOutputParser\n",
    "from langchain_core.prompts import ChatPromptTemplate\n",
    "\n",
    "\n",
    "prompt1 = ChatPromptTemplate.from_template(\"what is the country {politician} is from?\")\n",
    "prompt2 = ChatPromptTemplate.from_template(\n",
    "    \"what continent is the country {country} in? respond in {language}\"\n",
    ")\n",
    "\n",
    "model = ChatOllama(model='llama3',temperature= 0.2)\n",
    "\n",
    "chain1 = prompt1 | model | StrOutputParser()\n",
    "\n",
    "chain2 = (\n",
    "    {\"country\": chain1, \"language\": itemgetter(\"language\")}\n",
    "    | prompt2\n",
    "    | model\n",
    "    | StrOutputParser()\n",
    ")\n",
    "\n",
    "chain2.invoke({\"politician\": \"Miterrand\", \"language\": \"French\"})"
   ]
  },
  {
   "cell_type": "markdown",
   "metadata": {},
   "source": [
    "### Nested chains"
   ]
  },
  {
   "cell_type": "code",
   "execution_count": 142,
   "metadata": {},
   "outputs": [
    {
     "data": {
      "text/plain": [
       "\"A curious fact about Roman Abramovich!\\n\\nHere's one: Did you know that Abramovich, the billionaire owner of Chelsea FC and other business ventures, is also a licensed pilot and owns a private jet fleet? In fact, he has a special permit to land his planes at any airport in the UK, including those with restricted access. This privilege was granted due to his high-profile status and security concerns.\\n\\nAbramovich's love for flying dates back to his childhood, when he would often take small planes out for joyrides. He eventually earned his pilot's license and has since acquired a fleet of private jets, including a Gulfstream G650ER, which is one of the most luxurious and expensive business jets in the world.\\n\\nThis fact might seem unrelated to his business or football endeavors, but it speaks to Abramovich's adventurous spirit and willingness to push boundaries. Who knows? Maybe he'll even take the Chelsea FC team on a private jet for their next away game!\""
      ]
     },
     "execution_count": 142,
     "metadata": {},
     "output_type": "execute_result"
    }
   ],
   "source": [
    "prompt = ChatPromptTemplate.from_template(\"tell me a curious fact about {soccer_player}\")\n",
    "\n",
    "output_parser = StrOutputParser()\n",
    "\n",
    "def russian_lastname_from_dictionary(person):\n",
    "    return person[\"name\"] + \"ovich\"\n",
    "\n",
    "chain = RunnableParallel(\n",
    "    {\n",
    "        \"soccer_player\": RunnablePassthrough() \n",
    "        | RunnableLambda(russian_lastname_from_dictionary), \n",
    "        \"operation_c\": RunnablePassthrough()\n",
    "    }\n",
    ") | prompt | model | output_parser\n",
    "\n",
    "chain.invoke({\n",
    "    \"name1\": \"Jordam\",\n",
    "    \"name\": \"Abram\"\n",
    "})"
   ]
  },
  {
   "cell_type": "markdown",
   "metadata": {},
   "source": [
    "### Fallback for Chains\n",
    "* When working with language models, you may often encounter issues from the underlying APIs, whether these be rate limiting or downtime. Therefore, as you go to move your LLM applications into production it becomes more and more important to safeguard against these. That's why LangChain introduced the concept of fallbacks.\n",
    "* A fallback is an alternative plan that may be used in an emergency.\n",
    "* Fallbacks can be applied not only on the LLM level but on the whole runnable level. This is important because often times different models require different prompts. So if your call to OpenAI fails, you don't just want to send the same prompt to Anthropic - you probably want to use a different prompt template and send a different version there.\n",
    "* We can create fallbacks for LCEL chains. Here we do that with two different models: ChatOpenAI (with a bad model name to easily create a chain that will error) and then normal OpenAI (which does not use a chat model). Because OpenAI is NOT a chat model, you likely want a different prompt."
   ]
  },
  {
   "cell_type": "code",
   "execution_count": 143,
   "metadata": {},
   "outputs": [],
   "source": [
    "chat_prompt = ChatPromptTemplate.from_messages(\n",
    "    [\n",
    "        (\n",
    "            \"system\",\n",
    "            \"You're a funny assistant who always includes a joke in your response\",\n",
    "        ),\n",
    "        (\"human\", \"Who is the best {sport} player worldwide?\"),\n",
    "    ]\n",
    ")\n",
    "# Here we're going to use a bad model name to easily create a chain that will error\n",
    "chat_model = ChatOllama(model='llama_blablabla',temperature= 0.2)\n",
    "\n",
    "bad_chain = chat_prompt | chat_model | StrOutputParser()"
   ]
  },
  {
   "cell_type": "code",
   "execution_count": 144,
   "metadata": {},
   "outputs": [],
   "source": [
    "# Now lets create a chain with the normal model\n",
    "\n",
    "prompt_template = \"\"\"Instructions: You're a funny assistant who always includes a joke in your response.\n",
    "\n",
    "Question: Who is the best {sport} player worldwide?\"\"\"\n",
    "\n",
    "prompt = PromptTemplate.from_template(prompt_template)\n",
    "\n",
    "llm = ChatOllama(model='llama3',temperature= 0.2)\n",
    "\n",
    "good_chain = prompt | llm"
   ]
  },
  {
   "cell_type": "code",
   "execution_count": 145,
   "metadata": {},
   "outputs": [
    {
     "data": {
      "text/plain": [
       "AIMessage(content='That\\'s an easy one!\\n\\nAccording to most people, it\\'s Lionel Messi. But let me tell you, I\\'ve seen some pretty impressive moves on the field... and off! Why did the soccer ball go to therapy? Because it was feeling a little \"deflated\"!\\n\\nBut seriously, Messi is widely regarded as one of the greatest soccer players of all time, with an impressive record of goals and awards. He\\'s won numerous titles with Barcelona and the Argentine national team, including six Ballon d\\'Or awards.\\n\\nSo, if you\\'re looking for some top-notch soccer skills, Messi is your guy!', response_metadata={'model': 'llama3', 'created_at': '2024-08-27T11:27:01.578816016Z', 'message': {'role': 'assistant', 'content': ''}, 'done_reason': 'stop', 'done': True, 'total_duration': 2724498317, 'load_duration': 16427064, 'prompt_eval_count': 36, 'prompt_eval_duration': 28974000, 'eval_count': 124, 'eval_duration': 2635373000}, id='run-a3778b5e-4982-476c-a4f8-3bc28355a749-0')"
      ]
     },
     "execution_count": 145,
     "metadata": {},
     "output_type": "execute_result"
    }
   ],
   "source": [
    "# We can now create a final chain which combines the two\n",
    "chain = bad_chain.with_fallbacks([good_chain])\n",
    "\n",
    "chain.invoke({\"sport\": \"soccer\"})"
   ]
  },
  {
   "cell_type": "markdown",
   "metadata": {},
   "source": [
    "# 8. LangChain Document Loaders"
   ]
  },
  {
   "cell_type": "markdown",
   "metadata": {},
   "source": [
    "## A. Text File"
   ]
  },
  {
   "cell_type": "code",
   "execution_count": 154,
   "metadata": {},
   "outputs": [
    {
     "data": {
      "text/plain": [
       "'/teamspace/studios/this_studio/langchain-ollama'"
      ]
     },
     "execution_count": 154,
     "metadata": {},
     "output_type": "execute_result"
    }
   ],
   "source": [
    "pwd"
   ]
  },
  {
   "cell_type": "code",
   "execution_count": 155,
   "metadata": {},
   "outputs": [],
   "source": [
    "from langchain_community.document_loaders import TextLoader\n",
    "\n",
    "loader = TextLoader(\"/teamspace/studios/this_studio/langchain-ollama/王冉6_15.txt\")\n",
    "\n",
    "loaded_data = loader.load()"
   ]
  },
  {
   "cell_type": "code",
   "execution_count": 156,
   "metadata": {},
   "outputs": [
    {
     "data": {
      "text/plain": [
       "[Document(metadata={'source': '/teamspace/studios/this_studio/langchain-ollama/王冉6_15.txt'}, page_content='2024-03-20 20:05:45 你已添加了若曦，现在可以开始聊天了。\\n\\n2024-03-20 20:05:55 未冉之芊\\nbz余明辉\\n\\n2024-03-20 20:17:00 王冉6_15\\n[表情包]\\n\\n2024-03-20 20:19:29 未冉之芊\\n[表情包]\\n\\n2024-03-20 23:03:14 王冉6_15\\n你们学院有歌手大赛嘛[疑问]\\n\\n2024-03-20 23:03:34 未冉之芊\\n好像有的\\n\\n2024-03-20 23:03:47 王冉6_15\\n哦哦搜嘎\\n\\n2024-03-20 23:04:03 未冉之芊\\n周五晚上6点\\n\\n2024-03-20 23:04:11 王冉6_15\\n我们也是\\n\\n2024-03-20 23:04:19 王冉6_15\\n6点多\\n\\n2024-03-20 23:04:38 王冉6_15\\n我这次主持嘿嘿\\n\\n2024-03-20 23:04:47 未冉之芊\\n[表情包]\\n\\n2024-03-20 23:04:55 王冉6_15\\n[表情包]\\n\\n2024-03-20 23:05:04 王冉6_15\\n你怎么这么多可爱表情包\\n\\n2024-03-20 23:05:06 未冉之芊\\n你是什么学院呀\\n\\n2024-03-20 23:05:16 未冉之芊\\n[表情包]\\n\\n2024-03-20 23:05:17 王冉6_15\\n商院嘟\\n\\n2024-03-20 23:05:25 未冉之芊\\n我qq表情包比较多\\n\\n2024-03-20 23:05:35 未冉之芊\\n微信只有一点\\n\\n2024-03-20 23:05:51 王冉6_15\\n搜嘎[旺柴]\\n\\n2024-03-20 23:06:07 王冉6_15\\n嘿嘿\\n\\n2024-03-20 23:07:48 未冉之芊\\n你好厉害呀，当主持人我都不敢想\\n\\n2024-03-20 23:08:10 王冉6_15\\n没有没有\\n\\n2024-03-20 23:08:24 王冉6_15\\n主要不是当主持人这个事\\n\\n2024-03-20 23:09:01 王冉6_15\\n没事嘟没事嘟没啥么\\n\\n2024-03-20 23:09:06 未冉之芊\\n[表情包]\\n\\n2024-03-20 23:09:06 王冉6_15\\n(跑走)\\n\\n2024-03-20 23:09:26 未冉之芊\\n你们在哪边办活动呀\\n\\n2024-03-20 23:09:53 王冉6_15\\n嘿嘿\\n\\n2024-03-20 23:10:04 王冉6_15\\n不告诉你[调皮]\\n\\n2024-03-20 23:10:12 未冉之芊\\n我知道啦，商院报告厅\\n\\n2024-03-20 23:10:16 王冉6_15\\n好好好\\n\\n2024-03-20 23:10:20 未冉之芊\\n但是没有去过\\n\\n2024-03-20 23:10:42 王冉6_15\\n[表情包]\\n\\n2024-03-20 23:11:52 未冉之芊\\n那这个活动应该不看是哪个学院的吧，我可以溜过去看嘛\\n\\n2024-03-20 23:12:03 未冉之芊\\n[表情包]\\n\\n2024-03-20 23:12:19 王冉6_15\\n不行，你还是别来了哈哈哈哈，我有点害羞\\n\\n2024-03-20 23:12:32 王冉6_15\\n[表情包]\\n\\n2024-03-20 23:13:01 王冉6_15\\n当我没说!嘎嘎嘎!\\n\\n2024-03-20 23:13:06 王冉6_15\\n(跑走)\\n\\n2024-03-20 23:13:07 未冉之芊\\n偷偷来，你看不见\\n\\n2024-03-20 23:13:14 王冉6_15\\n好好好\\n\\n2024-03-20 23:13:52 王冉6_15\\n你朋友圈怎么发考研啥的哇\\n\\n2024-03-20 23:13:59 未冉之芊\\n明天我去踩点走一次\\n\\n2024-03-20 23:14:09 未冉之芊\\n外联部要发这个\\n\\n2024-03-20 23:14:22 王冉6_15\\n哦哦好嘟\\n\\n2024-03-20 23:14:30 王冉6_15\\n你们院的外联部哇\\n\\n2024-03-20 23:14:36 王冉6_15\\n你们是什么院\\n\\n2024-03-20 23:14:48 未冉之芊\\n电子院哒\\n\\n2024-03-20 23:14:53 未冉之芊\\n社团外联部\\n\\n2024-03-20 23:15:01 未冉之芊\\n和学院外联部不一样\\n\\n2024-03-20 23:15:04 王冉6_15\\n不是学生会嘛\\n\\n2024-03-20 23:15:11 王冉6_15\\n啥社团哇\\n\\n2024-03-20 23:15:34 未冉之芊\\n管理所有社团的外联部\\n\\n2024-03-20 23:15:43 未冉之芊\\n好多活动我们都参加\\n\\n2024-03-20 23:15:44 王冉6_15\\n哦哦vocal\\n\\n2024-03-20 23:16:04 未冉之芊\\n上半学期我经常过去玩，还有劳动积分拿\\n\\n2024-03-20 23:17:00 王冉6_15\\n搜嘎斯内\\n\\n2024-03-20 23:17:10 王冉6_15\\n我是在秘书处\\n\\n2024-03-20 23:17:24 王冉6_15\\n[表情包]\\n\\n2024-03-20 23:17:26 未冉之芊\\n哇塞，没有听过，好高级\\n\\n2024-03-20 23:17:54 王冉6_15\\n是院学生会滴\\n\\n2024-03-20 23:18:03 王冉6_15\\n但平常也没干什么\\n\\n2024-03-20 23:18:26 王冉6_15\\n我真的觉得你好聪明好可爱[流泪][流泪]\\n\\n2024-03-20 23:19:03 王冉6_15\\n做我滴铁子\\n\\n2024-03-20 23:19:05 未冉之芊\\n我觉得你比我可爱多了，我不会聊天（\\n\\n2024-03-20 23:19:05 王冉6_15\\n嘿嘿\\n\\n2024-03-20 23:19:25 王冉6_15\\n尊度假嘟\\n\\n2024-03-20 23:19:29 未冉之芊\\n尊嘟\\n\\n2024-03-20 23:19:32 王冉6_15\\n我感觉你聊天也很可爱\\n\\n2024-03-20 23:19:35 王冉6_15\\n[表情包]\\n\\n2024-03-20 23:19:57 王冉6_15\\n可爱滴男孩子嘿嘿嘿嘿\\n\\n2024-03-20 23:19:58 未冉之芊\\n这个表情包没有，我拿走啦\\n\\n2024-03-20 23:19:59 未冉之芊\\n[表情包]\\n\\n2024-03-20 23:20:06 王冉6_15\\n[表情包]\\n\\n2024-03-20 23:20:10 未冉之芊\\n谢谢你夸我\\n\\n2024-03-20 23:20:16 未冉之芊\\n[表情包]\\n\\n2024-03-20 23:20:25 王冉6_15\\n[表情包]\\n\\n2024-03-21 00:06:15 王冉6_15\\nvocal我和我对象说今天遇到个聪明可爱的帅哥，想和他当好朋友，结果他气炸了，他发疯了救命，铁子你还是别来了哈哈哈(小丑发言)(蹦来蹦去)[苦涩]\\n\\n2024-03-21 00:06:39 王冉6_15\\n我真是个大傻逼，别理我了哈哈哈哈哈[苦涩]\\n\\n2024-03-21 00:22:54 未冉之芊\\n好的，那你对象最近应该会经常找你，你多陪陪他\\n\\n2024-03-21 00:23:19 王冉6_15\\n哈哈哈哈救命[苦涩]\\n\\n2024-03-21 00:24:05 未冉之芊\\n还不睡觉嘛，明天早八睡大觉\\n\\n2024-03-21 00:24:32 王冉6_15\\n嘿嘿，早十\\n\\n2024-03-21 00:24:50 王冉6_15\\n还在哄他，哭了，真生气了哈哈哈哈\\n\\n2024-03-21 22:33:12 王冉6_15\\n同学，你每次上课都坐在那里嘛\\n\\n2024-03-21 22:33:13 王冉6_15\\n[表情包]\\n\\n2024-03-21 22:34:50 未冉之芊\\n我一般坐在前面\\n\\n2024-03-21 22:34:58 王冉6_15\\n搜嘎\\n\\n2024-03-21 22:35:06 王冉6_15\\n[表情包]\\n\\n2024-03-21 22:35:28 未冉之芊\\n商学院报告厅是c旁边的嘛\\n\\n2024-03-21 22:35:38 未冉之芊\\n我今天去没有找到\\n\\n2024-03-21 22:35:41 王冉6_15\\n诶诶\\n\\n2024-03-21 22:36:03 王冉6_15\\n那个在c的二楼\\n\\n2024-03-21 22:36:06 王冉6_15\\n我以为你不去了\\n\\n2024-03-21 22:36:11 王冉6_15\\n就没和你说\\n\\n2024-03-21 22:36:28 未冉之芊\\n因为电子院的名额全都被报完了，我估计过去也没座位了\\n\\n2024-03-21 22:36:38 王冉6_15\\nvocal\\n\\n2024-03-21 22:36:49 王冉6_15\\n我们院不知道还有没有座位!\\n\\n2024-03-21 22:36:55 王冉6_15\\n我没想到这个问题\\n\\n2024-03-21 22:36:57 王冉6_15\\nvocal\\n\\n2024-03-21 22:37:06 王冉6_15\\n[表情包]\\n\\n2024-03-21 22:37:20 未冉之芊\\n没关系，一般都有座位的\\n\\n2024-03-21 22:37:32 未冉之芊\\n没有座位我可以装作工作人员\\n\\n2024-03-21 22:37:52 王冉6_15\\n[表情包]\\n\\n2024-03-21 22:46:05 王冉6_15\\n你平时玩不玩游戏哇\\n\\n2024-03-21 22:46:10 王冉6_15\\n[表情包]\\n\\n2024-03-21 22:46:39 未冉之芊\\n我可以玩\\n\\n2024-03-21 22:46:47 王冉6_15\\n诶?\\n\\n2024-03-21 22:46:57 王冉6_15\\n你平时不玩游戏嘛!\\n\\n2024-03-21 22:47:05 未冉之芊\\n是的\\n\\n2024-03-21 22:47:09 王冉6_15\\nvocal\\n\\n2024-03-21 22:47:14 王冉6_15\\n那你还是别玩了\\n\\n2024-03-21 22:47:21 未冉之芊\\n我大学之前那个暑假一直在玩，大学就没有玩啦\\n\\n2024-03-21 22:47:24 王冉6_15\\n马上被我拉入坑\\n\\n2024-03-21 22:47:27 未冉之芊\\nhhhh\\n\\n2024-03-21 22:47:34 王冉6_15\\n当时玩的什么哇\\n引用:yolov5：我大学之前那个暑假一直在玩，大学就没有玩啦\\n\\n2024-03-21 22:47:40 未冉之芊\\n那个暑假一直玩第五人格\\n\\n2024-03-21 22:47:47 王冉6_15\\nvocal!\\n\\n2024-03-21 22:47:52 王冉6_15\\n仙品!\\n\\n2024-03-21 22:48:01 王冉6_15\\n我之前一直玩的那个\\n\\n2024-03-21 22:48:06 王冉6_15\\n但是后来大号没了\\n\\n2024-03-21 22:48:16 未冉之芊\\n[表情包]\\n\\n2024-03-21 22:48:22 王冉6_15\\n[表情包]\\n\\n2024-03-21 22:48:33 王冉6_15\\n我现在常驻原神\\n\\n2024-03-21 22:48:34 王冉6_15\\n嘿嘿\\n\\n2024-03-21 22:48:50 未冉之芊\\n原神好肝\\n\\n2024-03-21 22:48:59 王冉6_15\\n是嘟\\n\\n2024-03-21 22:49:09 王冉6_15\\n当时刚开始玩感觉很新奇\\n\\n2024-03-21 22:49:14 王冉6_15\\n[表情包]\\n\\n2024-03-21 22:49:18 未冉之芊\\n还有个原因\\n\\n2024-03-21 22:49:23 未冉之芊\\n当时我还没成年\\n\\n2024-03-21 22:49:39 王冉6_15\\n诶?\\n\\n2024-03-21 22:49:41 未冉之芊\\n我刚刚进大学的时候才成年\\n\\n2024-03-21 22:49:50 未冉之芊\\n9.2\\n\\n2024-03-21 22:49:56 王冉6_15\\nvocal\\n\\n2024-03-21 22:49:58 未冉之芊\\n所以我只能玩第五人格\\n\\n2024-03-21 22:50:04 王冉6_15\\n我是6月15\\n\\n2024-03-21 22:50:06 王冉6_15\\n嘿嘿\\n\\n2024-03-21 22:50:13 王冉6_15\\n搜嘎斯内\\n引用:yolov5：所以我只能玩第五人格\\n\\n2024-03-21 22:50:36 王冉6_15\\n[表情包]\\n\\n2024-03-21 22:50:50 未冉之芊\\n我大学之前还没有用电脑的（\\n\\n2024-03-21 22:51:13 王冉6_15\\nvocal\\n\\n2024-03-21 22:51:28 王冉6_15\\n不过我也差不多哦\\n\\n2024-03-21 22:51:55 王冉6_15\\n[表情包]\\n\\n2024-03-21 22:52:17 未冉之芊\\n[表情包]\\n\\n2024-03-21 23:34:35 王冉6_15\\n等我明天到地方给你录个小视频嘿嘿\\n\\n2024-03-21 23:34:45 王冉6_15\\n就是报告厅的位置\\n\\n2024-03-21 23:34:48 王冉6_15\\n[表情包]\\n\\n2024-03-21 23:47:25 未冉之芊\\n好的\\n\\n2024-03-21 23:47:26 未冉之芊\\n[表情包]\\n\\n2024-03-21 23:47:47 王冉6_15\\n[表情包]\\n\\n2024-03-21 23:48:02 王冉6_15\\n嘿嘿\\n\\n2024-03-21 23:48:42 未冉之芊\\n其实我是想偷偷去的\\n\\n2024-03-21 23:48:59 未冉之芊\\n但是确实不认识路，路痴\\n\\n2024-03-21 23:48:59 王冉6_15\\n好好好\\n\\n2024-03-21 23:49:06 王冉6_15\\n[表情包]\\n\\n2024-03-21 23:49:22 王冉6_15\\n你们下午有课嘛\\n\\n2024-03-21 23:50:19 未冉之芊\\n有的\\n\\n2024-03-21 23:50:24 未冉之芊\\n一直上到5点多\\n\\n2024-03-21 23:50:45 王冉6_15\\n哦哦好嘟\\n\\n2024-03-21 23:50:59 王冉6_15\\n有点愧疚了\\n\\n2024-03-21 23:51:14 王冉6_15\\n下课本来可以放假了\\n\\n2024-03-21 23:51:22 王冉6_15\\n[表情包]\\n\\n2024-03-21 23:51:39 未冉之芊\\nhhh没事的\\n\\n2024-03-21 23:51:50 王冉6_15\\n[表情包]\\n\\n2024-03-22 16:43:13 王冉6_15\\n[视频]\\n\\n2024-03-22 16:43:17 王冉6_15\\n[视频]\\n\\n2024-03-22 16:43:18 王冉6_15\\n[视频]\\n\\n2024-03-22 16:43:23 王冉6_15\\n[视频]\\n\\n2024-03-22 16:43:29 王冉6_15\\n[表情包]\\n\\n2024-03-22 17:42:24 王冉6_15\\n哈哈哈哈救命\\n\\n2024-03-22 17:42:27 王冉6_15\\n有点紧张\\n\\n2024-03-22 17:43:25 未冉之芊\\n没关系没关系，加油，刚刚上台会很紧张，一会就好啦\\n\\n2024-03-22 17:44:05 未冉之芊\\n谢谢你给我录视频！！！\\n引用:若曦：【视频消息】\\n\\n2024-03-22 17:44:08 未冉之芊\\n[表情包]\\n\\n2024-03-22 17:48:01 王冉6_15\\n[表情包]\\n\\n2024-03-22 17:48:05 王冉6_15\\n哈哈哈紧张\\n\\n2024-03-22 17:50:03 未冉之芊\\n加油，小心台阶（还记得之前我上台被绊倒了）\\n\\n2024-03-22 17:50:10 未冉之芊\\n[表情包]\\n\\n2024-03-22 17:51:27 王冉6_15\\n好嘟好嘟\\n\\n2024-03-22 18:18:40 未冉之芊\\n都好厉害呀\\n\\n2024-03-22 18:18:41 未冉之芊\\n[表情包]\\n\\n2024-03-22 18:18:53 王冉6_15\\n[表情包]\\n\\n2024-03-22 18:18:59 未冉之芊\\n太热了我就没进去了\\n\\n2024-03-22 18:19:00 未冉之芊\\n[表情包]\\n\\n2024-03-22 18:58:26 王冉6_15\\n好滴\\n\\n2024-03-22 19:13:31 未冉之芊\\n哇塞！都好厉害！商院的表演好好看，而且你好适合当主持人\\n\\n2024-03-22 19:13:37 未冉之芊\\n还好我来啦，真的很好看\\n\\n2024-03-22 19:13:44 未冉之芊\\n你英语发音也好好\\n\\n2024-03-22 19:13:49 未冉之芊\\n好厉害好厉害\\n\\n2024-03-22 19:15:29 王冉6_15\\n谢谢[囧]\\n\\n2024-03-22 20:48:51 王冉6_15\\n[表情包]\\n\\n2024-03-22 20:49:02 王冉6_15\\n你怎么这么有礼貌\\n\\n2024-03-22 20:49:04 王冉6_15\\n[表情包]\\n\\n2024-03-22 20:51:50 未冉之芊\\n因为表演很好看，你也很厉害\\n\\n2024-03-22 20:51:51 未冉之芊\\n[表情包]\\n\\n2024-03-22 20:52:32 王冉6_15\\n[表情包]\\n\\n2024-03-22 20:52:47 未冉之芊\\n别人都说我像小学生的\\n\\n2024-03-22 20:52:54 未冉之芊\\n[表情包]\\n\\n2024-03-22 20:53:02 王冉6_15\\n我觉得你真的好可爱好可爱[流泪][流泪]\\n\\n2024-03-22 20:53:49 王冉6_15\\nvocal\\n引用:yolov5：【表情包】\\n\\n2024-03-22 20:53:52 王冉6_15\\n可莉\\n\\n2024-03-22 20:53:56 王冉6_15\\n[表情包]\\n\\n2024-03-22 20:54:03 未冉之芊\\n我猜是我第五人格玩多了\\n\\n2024-03-22 20:54:09 未冉之芊\\n[表情包]\\n\\n2024-03-22 20:54:19 王冉6_15\\n嘿嘿\\n\\n2024-03-22 20:54:48 王冉6_15\\n[表情包]\\n\\n2024-03-22 20:54:52 未冉之芊\\n之前玩原神寒天之钉一直爬不上去\\n\\n2024-03-22 20:55:06 王冉6_15\\nvocal原来你玩过哇\\n\\n2024-03-22 20:55:21 王冉6_15\\n我不喜欢爬雪山\\n\\n2024-03-22 20:55:23 未冉之芊\\n是的，我刚刚开学的时候舍友带我\\n\\n2024-03-22 20:55:34 王冉6_15\\n搜嘎\\n\\n2024-03-22 20:55:36 王冉6_15\\n[表情包]\\n\\n2024-03-22 20:55:39 王冉6_15\\n嘿嘿\\n\\n2024-03-22 20:55:52 未冉之芊\\n我好像只到璃月那边\\n\\n2024-03-22 20:56:04 王冉6_15\\n好好好\\n\\n2024-03-22 20:56:11 王冉6_15\\n还有好多地图呢\\n\\n2024-03-22 20:56:18 王冉6_15\\n[表情包]\\n\\n2024-03-22 20:56:29 王冉6_15\\n你平时在宿舍干嘛啊\\n\\n2024-03-22 20:56:35 王冉6_15\\n[表情包]\\n\\n2024-03-22 20:57:05 未冉之芊\\n上半学期经常去看表演，后面去图书馆，这学期在宿舍写代码\\n\\n2024-03-22 20:57:07 未冉之芊\\n[表情包]\\n\\n2024-03-22 20:57:13 王冉6_15\\nvocal\\n\\n2024-03-22 20:57:32 未冉之芊\\n还好头发多\\n\\n2024-03-22 20:57:33 王冉6_15\\n我也挺喜欢找个地方学习\\n\\n2024-03-22 20:57:39 王冉6_15\\n嘿嘿\\n引用:yolov5：还好头发多\\n\\n2024-03-22 20:57:55 王冉6_15\\n上学期都是找那种空教室\\n\\n2024-03-22 20:58:10 王冉6_15\\n下次你去学习叫叫我\\n\\n2024-03-22 20:58:11 王冉6_15\\n嘿嘿\\n\\n2024-03-22 20:58:19 王冉6_15\\n[表情包]\\n\\n2024-03-22 20:58:53 未冉之芊\\n等期中考试之后应该有时间，现在我们那个比赛4月多才结束\\n\\n2024-03-22 20:59:04 王冉6_15\\n好捏\\n\\n2024-03-22 20:59:08 王冉6_15\\n什么比赛哇\\n\\n2024-03-22 20:59:22 王冉6_15\\n那我找你聊天会不会影响你vocal\\n\\n2024-03-22 20:59:40 未冉之芊\\n一个小比赛，服务外包创新创业大赛\\n\\n2024-03-22 20:59:54 王冉6_15\\n哦哦~\\n\\n2024-03-22 21:00:00 未冉之芊\\n不会呀，我们大一其实是做着玩的\\n\\n2024-03-22 21:00:04 未冉之芊\\n大二有五个人\\n\\n2024-03-22 21:00:05 王冉6_15\\n你们是自己班级内组队吗\\n\\n2024-03-22 21:00:09 未冉之芊\\n大一只有两个\\n\\n2024-03-22 21:00:21 王冉6_15\\n好捏\\n\\n2024-03-22 21:00:41 未冉之芊\\n老师寒假问我进不进实验室，然后进去和那边的同学一起做项目\\n\\n2024-03-22 21:00:47 王冉6_15\\n你的磁场真的好吸引我[流泪]\\n\\n2024-03-22 21:00:57 王冉6_15\\n好厉害\\n引用:yolov5：老师寒假问我进不进实验室，然后进去和那边的同学一起做项目\\n\\n2024-03-22 21:01:31 王冉6_15\\n[表情包]\\n\\n2024-03-22 21:01:32 未冉之芊\\n实验室找个氛围\\n\\n2024-03-22 21:01:40 未冉之芊\\n[表情包]\\n\\n2024-03-22 21:01:48 王冉6_15\\n嘿嘿\\n\\n2024-03-22 21:01:57 未冉之芊\\n你之前是不是也当过主持人呀\\n\\n2024-03-22 21:02:29 王冉6_15\\n大学是参加的比赛，但是高中初中小学都是\\n\\n2024-03-22 21:02:44 王冉6_15\\n就是我们开学有主持人比赛\\n\\n2024-03-22 21:02:47 王冉6_15\\n[表情包]\\n\\n2024-03-22 21:02:49 未冉之芊\\n哇塞，好厉害\\n\\n2024-03-22 21:03:06 王冉6_15\\n这也没啥滴\\n\\n2024-03-22 21:03:06 王冉6_15\\n[表情包]\\n\\n2024-03-22 21:03:08 王冉6_15\\n嘿嘿\\n\\n2024-03-22 21:03:35 王冉6_15\\n平时会有女孩子找你聊天嘛\\n\\n2024-03-22 21:03:39 王冉6_15\\n[表情包]\\n\\n2024-03-22 21:03:39 未冉之芊\\n因为我感觉你的声音很熟悉，感觉之前有听到过\\n\\n2024-03-22 21:03:46 未冉之芊\\n没有呀\\n\\n2024-03-22 21:03:50 王冉6_15\\n诶?\\n引用:yolov5：因为我感觉你的声音很熟悉，感觉之前有听到过\\n\\n2024-03-22 21:04:06 王冉6_15\\n好嘟\\n引用:yolov5：没有呀\\n\\n2024-03-22 21:04:12 王冉6_15\\n[表情包]\\n\\n2024-03-22 21:04:25 未冉之芊\\n我们班的女生我只认识学委（\\n\\n2024-03-22 21:04:33 王冉6_15\\n哈哈哈哈\\n\\n2024-03-22 21:04:58 王冉6_15\\n好喜欢你[流泪]想和你做很好的朋友[流泪]\\n\\n2024-03-22 21:05:10 王冉6_15\\n[表情包]\\n\\n2024-03-22 21:05:46 未冉之芊\\n你好有礼貌呀\\n\\n2024-03-22 21:05:47 未冉之芊\\n[表情包]\\n\\n2024-03-22 21:05:57 王冉6_15\\n[表情包]\\n\\n2024-03-22 21:06:09 王冉6_15\\n没有在礼貌[苦涩]\\n\\n2024-03-22 21:06:17 王冉6_15\\n就是实话实说[苦涩]\\n\\n2024-03-22 21:06:38 未冉之芊\\n[表情包]\\n\\n2024-03-22 21:06:38 王冉6_15\\n[表情包]\\n\\n2024-03-22 21:07:32 未冉之芊\\n我本来想叫我舍友一起看表演的\\n\\n2024-03-22 21:07:39 未冉之芊\\n他们就在宿舍玩原神\\n\\n2024-03-22 21:07:43 王冉6_15\\n搜嘎\\n\\n2024-03-22 21:07:47 未冉之芊\\n[表情包]\\n\\n2024-03-22 21:08:00 王冉6_15\\n[表情包]\\n\\n2024-03-22 21:08:33 未冉之芊\\n然后其实我们编程也可以弄一些好玩的\\n\\n2024-03-22 21:08:38 王冉6_15\\n安\\n\\n2024-03-22 21:08:59 王冉6_15\\n其实我之前想过自己做小游戏什么的\\n\\n2024-03-22 21:09:04 王冉6_15\\n还有软件那些\\n\\n2024-03-22 21:09:18 未冉之芊\\n之前billbill有个原神的抽卡程序，抄过来就可以有无限的纠缠之缘了\\n\\n2024-03-22 21:09:21 未冉之芊\\n[表情包]\\n\\n2024-03-22 21:09:25 王冉6_15\\nvocal\\n\\n2024-03-22 21:09:32 王冉6_15\\n好好好[鼓掌]\\n\\n2024-03-22 21:09:46 王冉6_15\\n你那个网站我也很感兴趣!\\n\\n2024-03-22 21:09:53 王冉6_15\\n[表情包]\\n\\n2024-03-22 21:10:23 未冉之芊\\n有些教程我是去youtube找的\\n\\n2024-03-22 21:10:38 未冉之芊\\n那边就有好多教这些的\\n\\n2024-03-22 21:10:47 王冉6_15\\n好~\\n\\n2024-03-22 21:10:57 王冉6_15\\n[表情包]\\n\\n2024-03-22 21:11:22 未冉之芊\\n我们专业好多人都不学的，你感兴趣就超过很多人了\\n\\n2024-03-22 21:11:32 王冉6_15\\n嘿嘿\\n\\n2024-03-22 21:11:44 王冉6_15\\n其实我还是有点小野心的\\n\\n2024-03-22 21:11:51 王冉6_15\\n想自己做出点什么\\n\\n2024-03-22 21:11:59 王冉6_15\\n[表情包]\\n\\n2024-03-22 21:12:32 王冉6_15\\n嘿嘿\\n\\n2024-03-22 21:12:39 未冉之芊\\n你想做什么呢，我看看我会不会\\n\\n2024-03-22 21:12:43 未冉之芊\\n[表情包]\\n\\n2024-03-22 21:12:50 王冉6_15\\n比如说那个网站!\\n\\n2024-03-22 21:13:18 王冉6_15\\n我就想做出一个\\n\\n2024-03-22 21:13:28 王冉6_15\\n[表情包]\\n\\n2024-03-22 21:13:46 未冉之芊\\n好的！我可以先帮你把老师那个网站做出来\\n\\n2024-03-22 21:13:47 王冉6_15\\n结果你都直接做好了!\\n\\n2024-03-22 21:13:57 王冉6_15\\nvocal!\\n\\n2024-03-22 21:14:09 王冉6_15\\n到底是怎么做到的\\n\\n2024-03-22 21:14:13 王冉6_15\\n好厉害[流泪][流泪]\\n\\n2024-03-22 21:15:20 未冉之芊\\nwsl找不到下载的ubuntu那个原因我不太清楚，但是我把ubuntu导出到一个压缩包\\n\\n2024-03-22 21:15:29 王冉6_15\\n安\\n\\n2024-03-22 21:15:33 未冉之芊\\n后面可以直接导入，然后就可以用了\\n\\n2024-03-22 21:15:39 王冉6_15\\n!\\n\\n2024-03-22 21:16:11 未冉之芊\\n我在我舍友电脑上试了一下应该是可以的，下次帮你试一下\\n\\n2024-03-22 21:16:17 王冉6_15\\n好~\\n\\n2024-03-22 21:16:21 王冉6_15\\n[表情包]\\n\\n2024-03-22 21:16:27 未冉之芊\\n[表情包]\\n\\n2024-03-22 21:16:33 王冉6_15\\n嘿嘿\\n\\n2024-03-22 21:16:48 王冉6_15\\n以后每次上课都要和你坐一起!\\n\\n2024-03-22 21:16:53 王冉6_15\\n[表情包]\\n\\n2024-03-22 21:16:56 王冉6_15\\n嘿嘿\\n\\n2024-03-22 21:17:08 未冉之芊\\n好的\\n\\n2024-03-22 21:17:12 未冉之芊\\n[表情包]\\n\\n2024-03-22 21:17:15 王冉6_15\\n[表情包]\\n\\n2024-03-22 21:17:27 王冉6_15\\n你怎么这么多可爱表情包\\n\\n2024-03-22 21:17:50 未冉之芊\\n因为不可爱的我不存\\n\\n2024-03-22 21:17:55 未冉之芊\\n[表情包]\\n\\n2024-03-22 21:17:59 王冉6_15\\n搜嘎\\n\\n2024-03-22 21:18:05 王冉6_15\\n好多可莉!\\n\\n2024-03-22 21:18:11 王冉6_15\\n[表情包]\\n\\n2024-03-22 21:18:31 未冉之芊\\n可莉比较可爱\\n\\n2024-03-22 21:18:54 王冉6_15\\n嗯呐~\\n\\n2024-03-22 21:19:05 王冉6_15\\n[表情包]\\n\\n2024-03-22 21:19:52 未冉之芊\\n本来我头像也是可莉的，我同学说看起来不像大学生，给我换了\\n\\n2024-03-22 21:20:06 王冉6_15\\n好好好\\n\\n2024-03-22 21:20:08 王冉6_15\\n哈哈哈哈哈\\n\\n2024-03-22 21:20:13 王冉6_15\\n是你舍友哇\\n\\n2024-03-22 21:20:16 王冉6_15\\n[表情包]\\n\\n2024-03-22 21:20:25 未冉之芊\\n是哒\\n\\n2024-03-22 21:20:31 王冉6_15\\n搜嘎\\n\\n2024-03-22 21:20:39 王冉6_15\\n[表情包]\\n\\n2024-03-22 21:20:44 未冉之芊\\n他每周都出去玩\\n\\n2024-03-22 21:20:55 王冉6_15\\n安\\n\\n2024-03-22 21:21:16 未冉之芊\\n他之前周五下午旷了两节课坐飞机出省玩\\n\\n2024-03-22 21:21:25 王冉6_15\\n好好好\\n\\n2024-03-22 21:21:29 王冉6_15\\n好自由\\n\\n2024-03-22 21:21:44 王冉6_15\\n[表情包]\\n\\n2024-03-22 21:22:05 未冉之芊\\n是哒\\n\\n2024-03-22 21:22:09 未冉之芊\\n[表情包]\\n\\n2024-03-22 21:22:16 王冉6_15\\n[表情包]\\n\\n2024-03-22 21:24:24 \"若曦6.15\" 撤回了一条消息\\n\\n2024-03-22 21:24:31 王冉6_15\\n加我QQ哇\\n\\n2024-03-22 21:24:47 王冉6_15\\n我平时也QQ玩的多一点\\n\\n2024-03-22 21:24:49 王冉6_15\\n嘿嘿\\n\\n2024-03-22 21:24:58 未冉之芊\\n好的\\n\\n2024-03-22 21:24:59 未冉之芊\\n[表情包]\\n\\n2024-03-22 21:25:05 王冉6_15\\n2654469298\\n\\n2024-03-22 21:25:07 王冉6_15\\n[表情包]\\n\\n2024-04-01 19:48:31 王冉6_15\\n[微信红包] 恭喜发财，大吉大利 \\xa0 \\xa0 \\xa0 \\xa0 \\xa0 \\xa0 \\xa0 \\xa0 \\xa0 \\xa0\\n\\xa0 \\xa0 \\xa0\\xa0\\n\\xa0 \\xa0 \\xa0 \\xa0 \\xa0                                                                                是不是冲进来了\\xa0😂😂😂\\xa0这么激动干嘛，愚人节快乐[机智]\\xa0 \\xa0 \\xa0 \\xa0\\n \\xa0 \\xa0    拿去骗人吧！\\n___________________\\u3000\\u3000\\u3000\\u3000\\xa0\\n\\u3000领取\\u3000\\u3000│\\u3000 取消\\n\\n2024-04-01 19:56:33 发出红包，请在手机上查看\\n\\n2024-04-01 19:56:54 王冉6_15\\n诶诶诶?\\n\\n2024-04-01 19:57:01 未冉之芊\\n[表情包]\\n\\n2024-04-01 19:57:16 王冉6_15\\n(抽出搬砖)\\n\\n2024-04-01 19:57:26 未冉之芊\\nvocal，这个怎么做到的\\n引用:若曦：[微信红包] 恭喜发财，大吉大利 \\xa0 \\xa0 \\xa0 \\xa0 \\xa0 \\xa0 \\xa0 \\xa0 \\xa0 \\xa0\\n\\xa0 \\xa0 \\xa0\\xa0\\n\\xa0 \\xa0 \\xa0 \\xa0 \\xa0                                                                                是不是冲进来了\\xa0😂😂😂\\xa0这么激动干嘛，愚人节快乐[机智]\\xa0 \\xa0 \\xa0 \\xa0\\n \\xa0 \\xa0    拿去骗人吧！\\n___________________\\u3000\\u3000\\u3000\\u3000\\xa0\\n\\u3000领取\\u3000\\u3000│\\u3000 取消\\n\\n2024-04-01 19:57:26 王冉6_15\\n(打你屁屁)\\n\\n2024-04-01 19:57:34 王冉6_15\\n复制的哇!\\n\\n2024-04-01 19:57:40 未冉之芊\\n[表情包]\\n\\n2024-04-01 19:57:44 王冉6_15\\n你小子还发真的\\n\\n2024-04-01 19:57:46 王冉6_15\\n好好好\\n\\n2024-04-01 19:57:47 未冉之芊\\n[表情包]\\n\\n2024-04-01 19:57:56 未冉之芊\\n4.01\\n\\n2024-04-01 19:58:07 未冉之芊\\n快领（\\n\\n2024-04-01 19:58:12 王冉6_15\\n不用啦~\\n\\n2024-04-01 19:58:19 王冉6_15\\n我是发着玩的捏\\n\\n2024-04-01 19:58:28 王冉6_15\\n[表情包]\\n\\n2024-04-01 19:58:33 未冉之芊\\n因为这个红包特效好玩\\n\\n2024-04-01 19:58:34 王冉6_15\\n[图片]\\n\\n2024-04-01 19:58:37 王冉6_15\\n我妈\\n\\n2024-04-01 19:58:40 未冉之芊\\n再不发过期了（\\n\\n2024-04-01 19:58:40 王冉6_15\\n哈哈哈\\n\\n2024-04-01 19:58:46 未冉之芊\\n哈哈哈哈哈哈哈哈\\n\\n2024-04-01 19:58:58 未冉之芊\\n那个是心海嘛\\n\\n2024-04-01 19:59:09 王冉6_15\\n是滴\\n\\n2024-04-01 19:59:11 王冉6_15\\n[表情包]\\n\\n2024-04-01 19:59:22 未冉之芊\\n好\\n\\n2024-04-01 19:59:29 未冉之芊\\n[表情包]\\n\\n2024-04-01 19:59:30 王冉6_15\\n嘿嘿\\n\\n2024-04-01 19:59:34 王冉6_15\\n你学习吧\\n\\n2024-04-01 19:59:38 王冉6_15\\n好好好\\n引用:yolov5：【表情包】\\n\\n2024-04-01 20:00:00 未冉之芊\\n监督你\\n\\n2024-04-01 20:00:04 未冉之芊\\n你也学\\n\\n2024-04-01 20:00:08 王冉6_15\\n我\\n\\n2024-04-01 20:00:10 未冉之芊\\n[表情包]\\n\\n2024-04-01 20:00:14 王冉6_15\\n在\\n\\n2024-04-01 20:00:18 王冉6_15\\n拉粑粑\\n\\n2024-04-01 20:00:21 王冉6_15\\n[表情包]\\n\\n2024-04-01 20:00:30 未冉之芊\\n好好好\\n\\n2024-04-01 20:00:31 王冉6_15\\n()\\n\\n2024-04-01 20:00:53 王冉6_15\\n你学吧\\n\\n2024-04-01 20:00:55 王冉6_15\\n[表情包]\\n\\n2024-04-27 20:58:31 王冉6_15\\n!\\n\\n2024-04-27 21:42:56 未冉之芊\\n[图片]\\n\\n2024-04-27 21:43:22 王冉6_15\\na?\\n\\n2024-04-27 21:43:32 未冉之芊\\n[表情包]\\n\\n2024-04-27 21:43:44 王冉6_15\\n[表情包]\\n\\n2024-04-27 21:44:06 未冉之芊\\n[表情包]\\n\\n2024-04-27 21:44:14 王冉6_15\\n[表情包]\\n\\n2024-04-27 21:44:27 未冉之芊\\n快把我当成陌生人[流泪]\\n\\n2024-04-27 21:44:37 王冉6_15\\n[流泪]\\n\\n2024-04-27 21:45:26 未冉之芊\\n我怕你们还会因为我出现矛盾\\n\\n2024-04-27 21:45:35 王冉6_15\\n[流泪]\\n\\n2024-04-27 21:46:08 未冉之芊\\n可能你过很长时间不和我说话，就不会想和我说话了（）\\n\\n2024-04-27 21:46:17 王冉6_15\\n[流泪]\\n\\n2024-04-27 21:46:24 未冉之芊\\n[表情包]\\n\\n2024-04-27 22:13:26 未冉之芊\\n这次算我错了，最近你很忙，心情还不好，我应该和你说说话的。我当然不是不想和你聊天！！！因为我还害怕一些事情\\n引用:yolov5：【图片消息】\\n\\n2024-04-27 22:13:52 王冉6_15\\n[流泪]\\n\\n2024-04-27 22:14:03 未冉之芊\\n我怕最后微信都被删掉了\\n\\n2024-04-27 22:14:09 王冉6_15\\n没事捏\\n\\n2024-04-27 22:14:10 未冉之芊\\n然后真的变成陌生人了\\n\\n2024-04-27 22:14:14 王冉6_15\\n[流泪]\\n\\n2024-04-27 22:14:18 未冉之芊\\n[表情包]\\n\\n2024-04-27 22:15:13 未冉之芊\\n所以我想，如果我一点时间不和你说话，你可能会再做一些其他事情\\n\\n2024-04-27 22:15:21 未冉之芊\\n或者多和你对象聊聊天\\n\\n2024-04-27 22:15:26 王冉6_15\\n呜\\n\\n2024-04-27 22:16:05 未冉之芊\\n该说的说完啦！！！那天我没等你说完就删掉了\\n\\n2024-04-27 22:16:22 未冉之芊\\n因为我超级怕你再说什么我就删不掉啦！！！\\n\\n2024-04-27 22:16:48 王冉6_15\\n[流泪]\\n\\n2024-04-27 22:16:55 王冉6_15\\n没事捏\\n\\n2024-04-27 22:17:06 未冉之芊\\n[表情包]\\n\\n2024-04-27 22:17:14 未冉之芊\\n[表情包]\\n\\n2024-04-27 22:17:15 未冉之芊\\n[表情包]\\n\\n2024-04-27 22:17:36 未冉之芊\\n诶，这个从qq运过来的表情包好小\\n\\n2024-04-27 22:17:40 未冉之芊\\n[表情包]\\n\\n2024-04-27 22:17:51 未冉之芊\\n好好好，好迷你\\n\\n2024-04-27 22:17:54 未冉之芊\\n[表情包]\\n\\n2024-04-27 22:17:55 未冉之芊\\n[表情包]\\n\\n2024-04-27 22:18:38 王冉6_15\\n嘿嘿\\n\\n2024-04-27 22:18:43 王冉6_15\\n偷掉!\\n\\n2024-04-27 22:18:51 未冉之芊\\n[表情包]\\n\\n2024-04-27 22:18:55 未冉之芊\\n[表情包]\\n\\n2024-04-28 21:45:16 未冉之芊\\n我真该死[流泪]，还是想说话\\n\\n2024-04-28 21:45:35 未冉之芊\\n最近有流感，注意身体\\n\\n2024-04-28 21:46:03 未冉之芊\\n两周前我刚感冒🤧，昨天又又又感冒了\\n\\n2024-04-28 21:47:00 未冉之芊\\n可能是脑袋转的快吧，秒速10086米，我要变成小齐夏了\\n\\n2024-04-28 21:47:02 未冉之芊\\n[表情包]\\n\\n2024-04-28 22:36:56 王冉6_15\\n!\\n\\n2024-04-28 22:37:00 王冉6_15\\n刚洗澡回来\\n\\n2024-04-28 22:37:06 王冉6_15\\n好~\\n引用:yolov5：最近有流感，注意身体\\n\\n2024-04-28 22:37:14 未冉之芊\\n[表情包]\\n\\n2024-04-28 22:37:15 王冉6_15\\n[表情包]\\n\\n2024-04-28 22:37:26 王冉6_15\\n怎么老是感冒\\n\\n2024-04-28 22:37:33 未冉之芊\\n这次真的不是下雨的原因\\n\\n2024-04-28 22:37:34 王冉6_15\\n是不是穿的太少了\\n\\n2024-04-28 22:37:45 未冉之芊\\n我们一个宿舍都感冒了\\n\\n2024-04-28 22:37:48 未冉之芊\\n[表情包]\\n\\n2024-04-28 22:37:59 王冉6_15\\n嗯!\\n\\n2024-04-28 22:38:12 未冉之芊\\n[表情包]\\n\\n2024-04-28 22:38:17 未冉之芊\\n没关系！\\n\\n2024-04-28 22:38:23 王冉6_15\\n[表情包]\\n\\n2024-04-28 22:38:35 未冉之芊\\n好Q弹\\n\\n2024-04-28 22:38:38 未冉之芊\\n吃掉\\n\\n2024-04-28 22:38:41 未冉之芊\\n[表情包]\\n\\n2024-04-28 22:38:56 王冉6_15\\n嘿嘿\\n\\n2024-04-28 22:39:10 未冉之芊\\n[表情包]\\n\\n2024-04-28 22:39:12 未冉之芊\\n[表情包]\\n\\n2024-04-28 22:39:17 未冉之芊\\n嘿嘿\\n\\n2024-04-28 22:39:53 王冉6_15\\n[表情包]\\n\\n2024-04-28 22:40:51 未冉之芊\\n[表情包]\\n\\n2024-04-28 22:40:57 未冉之芊\\n卡姿兰大眼睛\\n\\n2024-04-28 22:41:04 王冉6_15\\n嘿嘿\\n\\n2024-04-28 22:41:07 未冉之芊\\n和你一样（）\\n\\n2024-04-28 22:41:14 王冉6_15\\n[表情包]\\n\\n2024-04-28 22:41:50 未冉之芊\\n今天我会早点睡觉！\\n\\n2024-04-28 22:41:52 未冉之芊\\n[表情包]\\n\\n2024-04-28 22:41:57 王冉6_15\\n好!\\n\\n2024-04-28 22:42:02 王冉6_15\\n[表情包]\\n\\n2024-04-28 22:42:04 王冉6_15\\n[表情包]\\n\\n2024-04-28 22:42:08 未冉之芊\\n[表情包]\\n\\n2024-04-28 22:42:13 未冉之芊\\n你也早点休息\\n\\n2024-04-28 22:42:20 未冉之芊\\n[表情包]\\n\\n2024-04-28 22:42:21 王冉6_15\\n嗯呐~\\n\\n2024-04-28 22:42:28 王冉6_15\\n[表情包]\\n\\n2024-04-29 19:57:27 王冉6_15\\n啊啊啊啊假期好短\\n\\n2024-04-29 19:57:30 王冉6_15\\n[表情包]\\n\\n2024-04-29 19:57:35 未冉之芊\\n[表情包]\\n\\n2024-04-29 19:57:46 王冉6_15\\n[表情包]\\n\\n2024-04-29 19:57:47 未冉之芊\\n[图片]\\n\\n2024-04-29 19:57:53 未冉之芊\\n嘿嘿，考完试来这边自习\\n\\n2024-04-29 19:58:00 王冉6_15\\n好~\\n\\n2024-04-29 19:58:06 王冉6_15\\n你继续!\\n\\n2024-04-29 19:58:06 未冉之芊\\n是的！别的学校没有调休！！！\\n引用:若曦：啊啊啊啊假期好短\\n\\n2024-04-29 19:58:12 王冉6_15\\n[表情包]\\n\\n2024-04-29 19:58:14 王冉6_15\\n哭了\\n\\n2024-04-29 19:58:24 未冉之芊\\n不要难过！\\n\\n2024-04-29 19:58:46 王冉6_15\\n(收回眼泪)\\n\\n2024-04-29 19:58:54 未冉之芊\\n好！\\n\\n2024-04-29 19:59:01 王冉6_15\\n[表情包]\\n\\n2024-04-29 19:59:08 王冉6_15\\n你继续学吧!\\n\\n2024-04-29 19:59:08 未冉之芊\\n没关系哒\\n\\n2024-04-29 19:59:10 王冉6_15\\n[表情包]\\n\\n2024-04-29 19:59:29 未冉之芊\\n好！\\n\\n2024-04-29 19:59:34 未冉之芊\\n记得背单词（）\\n\\n2024-04-29 19:59:37 未冉之芊\\n[表情包]\\n\\n2024-04-29 19:59:39 王冉6_15\\n嗯呐!\\n\\n2024-04-29 19:59:42 王冉6_15\\n[表情包]\\n\\n2024-04-29 20:51:55 未冉之芊\\n[表情包]\\n\\n2024-04-29 20:57:22 未冉之芊\\n好难背，一个小时差不多只能背50个单词（我还把单词默写跳过啦）每天一个小时，30天只能背1500个[流泪]，每天两个小时才能背3000个（还需要复习不然会忘掉）\\n\\n2024-04-29 20:57:49 未冉之芊\\n所以我要督促你和我一起背！！！\\n\\n2024-04-29 20:57:57 未冉之芊\\n[表情包]\\n\\n2024-04-29 20:58:00 未冉之芊\\n[表情包]\\n\\n2024-04-29 21:04:37 王冉6_15\\n好!\\n\\n2024-04-29 21:04:40 王冉6_15\\n[表情包]\\n\\n2024-04-29 21:04:43 王冉6_15\\n[表情包]\\n\\n2024-04-29 21:04:47 未冉之芊\\n[表情包]\\n\\n2024-04-29 21:04:48 王冉6_15\\n我在玩游戏\\n\\n2024-04-29 21:04:57 未冉之芊\\n嘿嘿没关系\\n\\n2024-04-29 21:04:59 王冉6_15\\n一会背!\\n\\n2024-04-29 21:05:03 未冉之芊\\n好！\\n\\n2024-04-29 21:05:08 王冉6_15\\n[表情包]\\n\\n2024-04-29 21:05:09 未冉之芊\\n加油！\\n\\n2024-04-29 21:05:14 未冉之芊\\n[表情包]\\n\\n2024-04-29 21:05:15 王冉6_15\\n嗯呐\\n\\n2024-04-29 21:05:17 王冉6_15\\n[表情包]\\n\\n2024-04-29 21:05:18 王冉6_15\\n[表情包]\\n\\n2024-04-29 21:05:22 未冉之芊\\n[表情包]\\n\\n2024-04-29 23:38:42 未冉之芊\\n[表情包]\\n\\n2024-04-29 23:39:41 未冉之芊\\n[表情包]\\n\\n2024-04-29 23:42:49 未冉之芊\\n注意早点休息\\n\\n2024-04-29 23:42:49 未冉之芊\\n[表情包]\\n\\n2024-04-29 23:45:58 王冉6_15\\n嘿嘿\\n\\n2024-04-29 23:46:02 王冉6_15\\n好捏\\n\\n2024-04-29 23:46:10 王冉6_15\\n刚刚在和舍友聊天\\n\\n2024-04-29 23:46:17 王冉6_15\\n我舍友最近开始玩王者荣耀\\n\\n2024-04-29 23:46:22 王冉6_15\\n她之前不打游戏\\n\\n2024-04-29 23:46:27 王冉6_15\\n要把我笑死\\n\\n2024-04-29 23:46:29 王冉6_15\\n哈哈哈哈哈哈哈\\n\\n2024-04-29 23:46:36 王冉6_15\\n早点休息!\\n\\n2024-04-29 23:46:38 王冉6_15\\n[表情包]\\n\\n2024-04-29 23:46:38 王冉6_15\\n[表情包]\\n\\n2024-04-29 23:49:34 未冉之芊\\n哈哈哈哈哈哈哈\\n\\n2024-04-29 23:50:05 未冉之芊\\n建议玩游戏的时候把队友屏蔽一下\\n引用:若曦：我舍友最近开始玩王者荣耀\\n\\n2024-04-29 23:50:09 王冉6_15\\n[表情包]\\n\\n2024-04-29 23:50:12 未冉之芊\\n[表情包]\\n\\n2024-04-29 23:50:13 王冉6_15\\n她现在说\\n\\n2024-04-29 23:50:18 王冉6_15\\n心里难受\\n\\n2024-04-29 23:50:21 王冉6_15\\n气的难受\\n\\n2024-04-29 23:50:23 王冉6_15\\n哈哈哈哈哈哈\\n\\n2024-04-29 23:50:25 未冉之芊\\n哈哈哈哈哈哈哈哈\\n\\n2024-04-29 23:50:40 王冉6_15\\n她现在一边补作业一边喊心痛\\n\\n2024-04-29 23:50:43 王冉6_15\\n[表情包]\\n\\n2024-04-29 23:50:44 未冉之芊\\n好多人开小号嘟\\n\\n2024-04-29 23:50:49 王冉6_15\\n哈哈哈哈哈\\n\\n2024-04-29 23:50:52 未冉之芊\\nvocal还有作业\\n\\n2024-04-29 23:50:55 未冉之芊\\n[表情包]\\n\\n2024-04-29 23:50:56 王冉6_15\\n是嘟\\n\\n2024-04-29 23:51:00 王冉6_15\\n线性代数\\n\\n2024-04-29 23:51:09 未冉之芊\\n！你们居然学线代\\n\\n2024-04-29 23:51:11 未冉之芊\\n[表情包]\\n\\n2024-04-29 23:51:14 王冉6_15\\n是嘟\\n\\n2024-04-29 23:51:16 王冉6_15\\n[表情包]\\n\\n2024-04-29 23:51:21 未冉之芊\\n大文都有线代[流泪]\\n\\n2024-04-29 23:52:16 王冉6_15\\n她被气哭了\\n\\n2024-04-29 23:52:21 王冉6_15\\n站在窗台哭\\n\\n2024-04-29 23:52:29 未冉之芊\\n！！！！\\n\\n2024-04-29 23:52:53 未冉之芊\\n她不会玩小乔被兰陵王抓到超鬼吧（）\\n\\n2024-04-29 23:52:56 未冉之芊\\n[表情包]\\n\\n2024-04-29 23:53:03 王冉6_15\\n布吉岛啊\\n\\n2024-04-29 23:53:05 王冉6_15\\n哈哈哈哈哈\\n\\n2024-04-29 23:53:10 王冉6_15\\n我看了她\\n\\n2024-04-29 23:53:18 王冉6_15\\n她那大招打小怪\\n\\n2024-04-29 23:53:23 未冉之芊\\n哈哈哈哈哈哈哈哈哈\\n\\n2024-04-29 23:53:29 王冉6_15\\n出场就死\\n\\n2024-04-29 23:53:33 王冉6_15\\n被气哭了\\n\\n2024-04-29 23:53:35 王冉6_15\\n[表情包]\\n\\n2024-04-29 23:53:46 未冉之芊\\n我初中就在玩（）\\n\\n2024-04-29 23:53:46 未冉之芊\\n[表情包]\\n\\n2024-04-29 23:53:57 未冉之芊\\n现在不玩啦\\n\\n2024-04-29 23:54:04 未冉之芊\\n[表情包]\\n\\n2024-04-29 23:54:43 王冉6_15\\n[表情包]\\n\\n2024-04-29 23:54:55 未冉之芊\\n可以先让她找找好玩的英雄\\n\\n2024-04-29 23:55:00 王冉6_15\\n哈哈哈哈哈\\n\\n2024-04-29 23:55:06 王冉6_15\\n她要删除游戏了\\n\\n2024-04-29 23:55:07 王冉6_15\\n[表情包]\\n\\n2024-04-29 23:55:13 未冉之芊\\n哈哈哈哈哈哈哈哈哈哈哈\\n\\n2024-04-29 23:55:18 未冉之芊\\n[表情包]\\n\\n2024-04-29 23:55:21 未冉之芊\\n支持！\\n\\n2024-04-29 23:55:29 未冉之芊\\n玩第五人格吧（\\n\\n2024-04-29 23:55:39 未冉之芊\\n[表情包]\\n\\n2024-04-29 23:58:29 未冉之芊\\n嘿嘿，我先睡觉啦！\\n\\n2024-04-29 23:58:29 王冉6_15\\n嘿嘿\\n\\n2024-04-29 23:58:33 王冉6_15\\n好~\\n\\n2024-04-29 23:58:38 王冉6_15\\n刚刚又在说话\\n\\n2024-04-29 23:58:39 未冉之芊\\n[表情包]\\n\\n2024-04-29 23:58:45 王冉6_15\\n晚安!\\n引用:yolov5：嘿嘿，我先睡觉啦！\\n\\n2024-04-29 23:58:51 未冉之芊\\n晚安！\\n\\n2024-04-30 00:09:06 王冉6_15\\n[文件]\\n\\n2024-04-30 00:09:12 王冉6_15\\n给你听听\\n\\n2024-04-30 00:09:15 王冉6_15\\n哈哈哈哈哈哈哈哈哈哈\\n\\n2024-04-30 05:20:54 未冉之芊\\n[流泪]高烧，热醒了\\n\\n2024-04-30 05:25:07 未冉之芊\\n哈哈哈哈哈哈哈哈哈哈\\n引用:若曦：标准录音 6.mp3\\n\\n2024-04-30 05:25:14 未冉之芊\\n你小子，笑的好大声\\n\\n2024-04-30 05:25:25 未冉之芊\\n[表情包]\\n\\n2024-04-30 05:25:48 未冉之芊\\n好离谱，哈哈哈哈哈哈\\n\\n2024-04-30 05:26:29 未冉之芊\\n世界上又失去了一个入坑王者的孩子\\n\\n2024-04-30 07:00:21 王冉6_15\\n[表情包]\\n\\n2024-04-30 07:00:31 未冉之芊\\n[表情包]\\n\\n2024-04-30 07:00:34 未冉之芊\\n起这么早\\n\\n2024-04-30 07:00:42 王冉6_15\\n早八\\n\\n2024-04-30 07:00:46 王冉6_15\\n[表情包]\\n\\n2024-04-30 07:00:53 王冉6_15\\n你才早吧!\\n\\n2024-04-30 07:00:56 未冉之芊\\n+1\\n\\n2024-04-30 07:01:12 未冉之芊\\n这是被烫醒了\\n\\n2024-04-30 07:01:15 未冉之芊\\n[大哭]\\n\\n2024-04-30 07:01:22 王冉6_15\\n诶?\\n\\n2024-04-30 07:01:34 未冉之芊\\n发烧🤒\\n\\n2024-04-30 07:01:38 未冉之芊\\n[表情包]\\n\\n2024-04-30 07:01:41 王冉6_15\\n啊？\\n\\n2024-04-30 07:01:47 王冉6_15\\n[表情包]\\n\\n2024-04-30 07:01:48 未冉之芊\\n我爬起来找药吃\\n\\n2024-04-30 07:01:51 未冉之芊\\n[表情包]\\n\\n2024-04-30 07:01:57 王冉6_15\\n现在好点了没\\n\\n2024-04-30 07:02:06 未冉之芊\\n好多啦\\n\\n2024-04-30 07:02:10 未冉之芊\\n[表情包]\\n\\n2024-04-30 07:02:12 未冉之芊\\n[表情包]\\n\\n2024-04-30 07:02:12 王冉6_15\\n[表情包]\\n\\n2024-04-30 07:02:17 王冉6_15\\n好吧\\n\\n2024-04-30 07:02:25 未冉之芊\\n好啦，你去洗漱吧！\\n\\n2024-04-30 07:02:29 未冉之芊\\n[表情包]\\n\\n2024-04-30 07:02:32 王冉6_15\\n嗯呐!\\n\\n2024-04-30 07:02:35 王冉6_15\\n[表情包]\\n\\n2024-04-30 15:42:13 未冉之芊\\n[表情包]\\n\\n2024-04-30 15:48:31 王冉6_15\\n[表情包]\\n\\n2024-04-30 15:48:42 未冉之芊\\n[表情包]\\n\\n2024-04-30 15:48:49 王冉6_15\\n[表情包]\\n\\n2024-04-30 15:48:54 王冉6_15\\n我还在上课\\n\\n2024-04-30 15:48:55 王冉6_15\\n呜呜\\n\\n2024-04-30 15:48:56 未冉之芊\\n[表情包]\\n\\n2024-04-30 15:49:01 未冉之芊\\n！\\n\\n2024-04-30 15:49:04 未冉之芊\\n心理课嘛\\n\\n2024-04-30 15:49:04 王冉6_15\\n[表情包]\\n\\n2024-04-30 15:49:08 王冉6_15\\n不是捏\\n\\n2024-04-30 15:49:14 未冉之芊\\n[表情包]\\n\\n2024-04-30 15:49:14 王冉6_15\\n食品营养\\n\\n2024-04-30 15:49:16 王冉6_15\\n[表情包]\\n\\n2024-04-30 15:49:18 未冉之芊\\n！\\n\\n2024-04-30 15:49:22 未冉之芊\\n！！！\\n\\n2024-04-30 15:49:34 王冉6_15\\n怎么啦\\n\\n2024-04-30 15:49:36 王冉6_15\\n[表情包]\\n\\n2024-04-30 15:49:51 未冉之芊\\n我们班有人昨天就提着箱子回家了！\\n\\n2024-04-30 15:49:54 未冉之芊\\n[表情包]\\n\\n2024-04-30 15:49:55 王冉6_15\\n[表情包]\\n\\n2024-04-30 15:50:26 未冉之芊\\n没关系\\n\\n2024-04-30 15:50:27 未冉之芊\\n[表情包]\\n\\n2024-04-30 15:50:43 未冉之芊\\n没课的我偷偷溜到食堂\\n\\n2024-04-30 15:50:45 未冉之芊\\n[表情包]\\n\\n2024-04-30 15:50:53 王冉6_15\\n嘿嘿\\n\\n2024-04-30 15:50:57 王冉6_15\\n[表情包]\\n\\n2024-04-30 15:51:07 未冉之芊\\n[表情包]\\n\\n2024-04-30 15:51:17 未冉之芊\\n困死\\n\\n2024-04-30 15:51:22 未冉之芊\\n[表情包]\\n\\n2024-04-30 15:51:31 王冉6_15\\n呜呜\\n\\n2024-04-30 15:51:33 王冉6_15\\n我也是\\n\\n2024-04-30 15:51:44 未冉之芊\\n（带上耳机）\\n\\n2024-04-30 15:51:47 未冉之芊\\n偷偷听歌\\n\\n2024-04-30 15:51:49 未冉之芊\\n[表情包]\\n\\n2024-04-30 15:52:12 王冉6_15\\n[表情包]\\n\\n2024-04-30 21:02:01 未冉之芊\\n小红书看的我好想笑，哈哈哈哈哈\\n\\n2024-04-30 21:02:01 未冉之芊\\n            [链接]:title:我的朋友给了我一只咕咕 bird，m\\n            description:#西瓜演技大赏  #真实还原  #搞笑的日常  #一定要看到最后  #意想不到的结局  #被放鸽子  #英语口语  #爽\\n            url:https://www.xiaohongshu.com/discovery/item/662cf83b000000001c006d7f?app_platform=android&amp;ignoreEngage=true&amp;app_version=8.33.0&amp;share_from_user_hidden=true&amp;type=video&amp;author_share=1&amp;xhsshare=WeixinSession&amp;shareRedId=ODZIOTdLNEA2NzUyOTgwNjY0OThIRjlP&amp;apptime=1714482061\\n            name:小红书\\n            \\n\\n2024-04-30 21:02:11 王冉6_15\\n[表情包]\\n\\n2024-04-30 21:02:17 未冉之芊\\n嘿嘿\\n\\n2024-04-30 21:02:37 未冉之芊\\n学会新的打招呼语言Hiya～\\n\\n2024-04-30 21:02:44 王冉6_15\\n[表情包]\\n\\n2024-04-30 21:02:52 未冉之芊\\n[表情包]\\n\\n2024-04-30 21:02:54 王冉6_15\\n哈哈哈哈哈\\n\\n2024-04-30 21:02:57 王冉6_15\\n我正在看\\n\\n2024-04-30 21:03:07 王冉6_15\\n好好好\\n\\n2024-04-30 21:03:08 未冉之芊\\n[表情包]\\n\\n2024-04-30 21:03:28 未冉之芊\\n已经看到了我三年后的样子\\n\\n2024-04-30 21:03:30 未冉之芊\\n[表情包]\\n\\n2024-04-30 21:03:35 王冉6_15\\n哈哈哈哈哈\\n\\n2024-04-30 21:03:38 王冉6_15\\n[表情包]\\n\\n2024-04-30 21:03:55 未冉之芊\\n哈哈哈哈哈\\n\\n2024-04-30 21:04:11 未冉之芊\\n宿舍又又又又只剩下我一个人了\\n\\n2024-04-30 21:04:13 未冉之芊\\n[表情包]\\n\\n2024-04-30 21:04:23 未冉之芊\\n都跑出去玩啦！！！\\n\\n2024-04-30 21:04:41 未冉之芊\\n但是我明天也回家啦\\n\\n2024-04-30 21:04:41 未冉之芊\\n[表情包]\\n\\n2024-04-30 21:04:54 未冉之芊\\n[表情包]\\n\\n2024-04-30 21:05:34 王冉6_15\\n嘿嘿\\n\\n2024-04-30 21:05:40 王冉6_15\\n我也回家\\n\\n2024-04-30 21:05:44 王冉6_15\\n[表情包]\\n\\n2024-04-30 21:05:51 未冉之芊\\n诶！\\n\\n2024-04-30 21:06:03 未冉之芊\\n好！\\n\\n2024-04-30 21:06:04 王冉6_15\\n我们宿舍还有3个人\\n\\n2024-04-30 21:06:09 王冉6_15\\n算上我\\n\\n2024-04-30 21:06:10 王冉6_15\\n[表情包]\\n\\n2024-04-30 21:06:21 未冉之芊\\n[表情包]\\n\\n2024-04-30 21:06:30 未冉之芊\\n我已经孤寡一个人了\\n\\n2024-04-30 21:06:35 未冉之芊\\n[表情包]\\n\\n2024-04-30 21:06:36 王冉6_15\\n哈哈哈哈哈\\n\\n2024-04-30 21:06:38 王冉6_15\\n[表情包]\\n\\n2024-04-30 21:06:44 未冉之芊\\n[表情包]\\n\\n2024-04-30 21:06:53 王冉6_15\\n[表情包]\\n\\n2024-04-30 21:07:02 未冉之芊\\n嘿嘿，这样我就可以发疯了\\n\\n2024-04-30 21:07:09 王冉6_15\\n嘿嘿\\n\\n2024-04-30 21:07:16 未冉之芊\\n[表情包]\\n\\n2024-04-30 21:07:17 王冉6_15\\n[表情包]\\n\\n2024-04-30 21:07:39 未冉之芊\\n[图片]\\n\\n2024-04-30 21:07:46 未冉之芊\\n是我卡还是表情包就是这个\\n\\n2024-04-30 21:07:49 未冉之芊\\n[表情包]\\n\\n2024-04-30 21:08:01 王冉6_15\\n[表情包]\\n\\n2024-04-30 21:08:05 未冉之芊\\n好神奇的圈圈\\n\\n2024-04-30 21:08:06 王冉6_15\\n是这个表情捏\\n\\n2024-04-30 21:08:21 王冉6_15\\n[表情包]\\n\\n2024-04-30 21:08:22 未冉之芊\\n诶诶诶！\\n\\n2024-04-30 21:08:40 未冉之芊\\n神奇\\n\\n2024-04-30 21:08:43 未冉之芊\\n[表情包]\\n\\n2024-04-30 21:08:46 王冉6_15\\n[表情包]\\n\\n2024-04-30 21:08:57 未冉之芊\\n今天要happy\\n\\n2024-04-30 21:09:03 未冉之芊\\n[表情包]\\n\\n2024-04-30 21:09:07 王冉6_15\\n嘿嘿~\\n\\n2024-04-30 21:09:12 王冉6_15\\n好!\\n\\n2024-04-30 21:09:14 未冉之芊\\n你们今天课怎么这么多（）\\n\\n2024-04-30 21:09:18 未冉之芊\\n[表情包]\\n\\n2024-04-30 21:09:20 王冉6_15\\n哭了\\n\\n2024-04-30 21:09:23 王冉6_15\\n公选课\\n\\n2024-04-30 21:09:28 未冉之芊\\n哈哈哈哈哈\\n\\n2024-04-30 21:09:33 未冉之芊\\n[表情包]\\n\\n2024-04-30 21:09:44 未冉之芊\\n不点名就可以偷偷水掉（\\n\\n2024-04-30 21:09:49 未冉之芊\\n[表情包]\\n\\n2024-04-30 21:09:51 王冉6_15\\n[表情包]\\n\\n2024-04-30 21:09:56 王冉6_15\\n会签到哒!\\n\\n2024-04-30 21:09:58 王冉6_15\\n签到码\\n\\n2024-04-30 21:09:59 王冉6_15\\n[表情包]\\n\\n2024-04-30 21:10:03 未冉之芊\\n！！！\\n\\n2024-04-30 21:10:06 未冉之芊\\nvocal\\n\\n2024-04-30 21:10:11 未冉之芊\\n[表情包]\\n\\n2024-04-30 21:10:22 王冉6_15\\n[表情包]\\n\\n2024-04-30 21:10:30 未冉之芊\\n我舍友的公选课都是点名\\n\\n2024-04-30 21:10:39 未冉之芊\\n每次他没去就点到他\\n\\n2024-04-30 21:10:40 未冉之芊\\n[表情包]\\n\\n2024-04-30 21:10:49 王冉6_15\\n[表情包]\\n\\n2024-04-30 21:11:22 未冉之芊\\n你的小头像是你自己画的嘛\\n\\n2024-04-30 21:11:24 未冉之芊\\n[表情包]\\n\\n2024-04-30 21:11:29 王冉6_15\\n对哇\\n\\n2024-04-30 21:11:31 王冉6_15\\n[表情包]\\n\\n2024-04-30 21:11:37 王冉6_15\\n嘿嘿\\n\\n2024-04-30 21:11:37 未冉之芊\\n[表情包]\\n\\n2024-04-30 21:11:58 未冉之芊\\n很像小孩子画的\\n\\n2024-04-30 21:11:58 王冉6_15\\n[表情包]\\n\\n2024-04-30 21:11:59 未冉之芊\\n[表情包]\\n\\n2024-04-30 21:12:03 王冉6_15\\n哦！\\n\\n2024-04-30 21:12:03 未冉之芊\\n[表情包]\\n\\n2024-04-30 21:12:04 王冉6_15\\n()\\n\\n2024-04-30 21:12:07 王冉6_15\\n[表情包]\\n\\n2024-04-30 21:12:12 未冉之芊\\n不是那个意思啦\\n\\n2024-04-30 21:12:24 未冉之芊\\n就是小朋友的天真\\n\\n2024-04-30 21:12:25 未冉之芊\\n[表情包]\\n\\n2024-04-30 21:12:28 未冉之芊\\n[表情包]\\n\\n2024-04-30 21:12:31 王冉6_15\\n哦~\\n\\n2024-04-30 21:12:32 王冉6_15\\n[表情包]\\n\\n2024-04-30 21:12:56 未冉之芊\\n[表情包]\\n\\n2024-04-30 21:13:19 未冉之芊\\n这个是用软件画出来的嘛\\n\\n2024-04-30 21:13:25 王冉6_15\\n对捏\\n\\n2024-04-30 21:13:29 王冉6_15\\nprocreate\\n\\n2024-04-30 21:13:31 王冉6_15\\n[表情包]\\n\\n2024-04-30 21:13:34 未冉之芊\\n搜噶！\\n\\n2024-04-30 21:13:39 未冉之芊\\n嘿嘿我用过\\n\\n2024-04-30 21:13:42 未冉之芊\\n[表情包]\\n\\n2024-04-30 21:13:42 王冉6_15\\n嘿嘿\\n\\n2024-04-30 21:13:50 王冉6_15\\n我还画过其他的\\n\\n2024-04-30 21:14:08 未冉之芊\\n2天把我劝退\\n\\n2024-04-30 21:14:09 王冉6_15\\n但是偶尔画画，因为不想花太多精力在这里\\n\\n2024-04-30 21:14:15 王冉6_15\\n哈哈哈哈哈\\n引用:yolov5：2天把我劝退\\n\\n2024-04-30 21:14:17 未冉之芊\\n嘿嘿，挺好的\\n\\n2024-04-30 21:14:25 未冉之芊\\n第一天热血沸腾\\n\\n2024-04-30 21:14:29 未冉之芊\\n搜教程\\n\\n2024-04-30 21:14:43 王冉6_15\\n你也是小ipad哇\\n\\n2024-04-30 21:14:44 未冉之芊\\n然后画了个轮廓感觉天赋异禀\\n\\n2024-04-30 21:14:45 王冉6_15\\n[表情包]\\n\\n2024-04-30 21:14:52 未冉之芊\\n第二天\\n\\n2024-04-30 21:15:01 未冉之芊\\n感觉画出来不像人\\n\\n2024-04-30 21:15:14 未冉之芊\\n对哇，但是那个pad超卡\\n引用:若曦：你也是小ipad哇\\n\\n2024-04-30 21:15:21 王冉6_15\\n[表情包]\\n\\n2024-04-30 21:15:49 未冉之芊\\n比我的手机贵，但是超级超级卡！\\n\\n2024-04-30 21:15:49 王冉6_15\\n[图片]\\n\\n2024-04-30 21:15:56 未冉之芊\\n哇塞\\n\\n2024-04-30 21:15:56 王冉6_15\\n嘿嘿\\n引用:yolov5：比我的手机贵，但是超级超级卡！\\n\\n2024-04-30 21:16:13 未冉之芊\\n好看\\n\\n2024-04-30 21:16:17 王冉6_15\\n民国风\\n\\n2024-04-30 21:16:20 王冉6_15\\n[表情包]\\n\\n2024-04-30 21:16:42 未冉之芊\\n是嘟，真的很像\\n引用:若曦：民国风\\n\\n2024-04-30 21:16:45 未冉之芊\\n[表情包]\\n\\n2024-04-30 21:16:59 王冉6_15\\n[表情包]\\n\\n2024-04-30 21:16:59 未冉之芊\\n[表情包]\\n\\n2024-04-30 21:17:45 未冉之芊\\n好嘟，你先玩吧，我去拿我的烤鸭\\n\\n2024-04-30 21:17:45 未冉之芊\\n[表情包]\\n\\n2024-04-30 21:17:50 未冉之芊\\n香喷喷的烤鸭\\n\\n2024-04-30 21:17:56 王冉6_15\\n好捏\\n\\n2024-04-30 21:17:57 王冉6_15\\n[表情包]\\n\\n2024-04-30 21:17:59 未冉之芊\\n[表情包]\\n\\n2024-04-30 21:18:01 未冉之芊\\n[表情包]\\n\\n2024-04-30 23:47:12 未冉之芊\\n[表情包]\\n\\n2024-04-30 23:47:21 王冉6_15\\n[表情包]\\n\\n2024-04-30 23:47:29 未冉之芊\\n嘿嘿\\n\\n2024-04-30 23:47:38 未冉之芊\\n[图片]\\n\\n2024-04-30 23:47:42 未冉之芊\\n小圈圈\\n\\n2024-04-30 23:47:47 未冉之芊\\n看来是我的网不好\\n\\n2024-04-30 23:47:53 未冉之芊\\n[表情包]\\n\\n2024-04-30 23:47:54 王冉6_15\\n好好好\\n\\n2024-04-30 23:48:01 未冉之芊\\n[表情包]\\n\\n2024-04-30 23:48:06 王冉6_15\\n我一直发的那个\\n引用:yolov5：【表情包】\\n\\n2024-04-30 23:48:16 未冉之芊\\n嘿嘿\\n\\n2024-04-30 23:48:21 未冉之芊\\n好捏\\n\\n2024-04-30 23:48:27 未冉之芊\\n[表情包]\\n\\n2024-04-30 23:48:28 王冉6_15\\n[表情包]\\n\\n2024-04-30 23:48:50 未冉之芊\\n感觉你小子不会睡很早（）\\n\\n2024-04-30 23:48:56 未冉之芊\\n小夜猫子\\n\\n2024-04-30 23:49:18 王冉6_15\\n[表情包]\\n\\n2024-04-30 23:49:21 王冉6_15\\n是捏\\n\\n2024-04-30 23:49:29 未冉之芊\\n让我猜猜你今天是不是没背英语（）\\n\\n2024-04-30 23:49:35 未冉之芊\\n[表情包]\\n\\n2024-04-30 23:49:48 王冉6_15\\n!\\n\\n2024-04-30 23:49:52 王冉6_15\\n被猜中了\\n\\n2024-04-30 23:49:57 王冉6_15\\n[表情包]\\n\\n2024-04-30 23:49:58 未冉之芊\\n嘿嘿\\n\\n2024-04-30 23:50:05 未冉之芊\\n没关系我也没背（）\\n\\n2024-04-30 23:50:18 未冉之芊\\n我早上5点十几起来的时候背了一会\\n\\n2024-04-30 23:50:28 王冉6_15\\n!\\n引用:yolov5：我早上5点十几起来的时候背了一会\\n\\n2024-04-30 23:50:31 王冉6_15\\n好早\\n\\n2024-04-30 23:50:33 王冉6_15\\n[表情包]\\n\\n2024-04-30 23:50:41 未冉之芊\\n晚上就开心看视频（\\n\\n2024-04-30 23:50:47 未冉之芊\\n[表情包]\\n\\n2024-04-30 23:50:47 王冉6_15\\n嘿嘿~\\n\\n2024-04-30 23:50:58 未冉之芊\\n嘿嘿\\n\\n2024-04-30 23:51:05 未冉之芊\\n你也是明天回家嘛\\n\\n2024-04-30 23:51:06 王冉6_15\\n放假了休息休息蛮好滴\\n\\n2024-04-30 23:51:17 王冉6_15\\n嗯呐\\n引用:yolov5：你也是明天回家嘛\\n\\n2024-04-30 23:51:20 王冉6_15\\n[表情包]\\n\\n2024-04-30 23:51:24 未冉之芊\\n[表情包]\\n\\n2024-04-30 23:51:44 未冉之芊\\n我家超近（骄傲）\\n\\n2024-04-30 23:51:52 王冉6_15\\n嘿嘿\\n\\n2024-04-30 23:52:02 王冉6_15\\n那你怎么今天还在学校!\\n\\n2024-04-30 23:52:08 未冉之芊\\n（幻想自己开心的蹦起来）\\n\\n2024-04-30 23:52:16 未冉之芊\\n因为今天下雨🌧️\\n\\n2024-04-30 23:52:19 王冉6_15\\n[表情包]\\n\\n2024-04-30 23:52:23 未冉之芊\\n其实也可以回去的\\n\\n2024-04-30 23:52:24 王冉6_15\\n搜嘎~\\n\\n2024-04-30 23:52:33 未冉之芊\\n但是我怕今天感冒还不怎么好\\n\\n2024-04-30 23:52:47 未冉之芊\\n回去把我爸妈传染了（）\\n\\n2024-04-30 23:52:53 未冉之芊\\n[表情包]\\n\\n2024-04-30 23:52:59 未冉之芊\\n[表情包]\\n\\n2024-04-30 23:53:13 王冉6_15\\n你还怪贴心嘞\\n\\n2024-04-30 23:53:19 王冉6_15\\n[表情包]\\n\\n2024-04-30 23:53:25 未冉之芊\\n其实是我感觉回家就要洗碗碗啦\\n\\n2024-04-30 23:53:26 未冉之芊\\n[表情包]\\n\\n2024-04-30 23:53:32 王冉6_15\\n诶诶诶?\\n\\n2024-04-30 23:53:36 王冉6_15\\n还要做家务!\\n\\n2024-04-30 23:53:41 未冉之芊\\n这家务活还是少干一天好（\\n\\n2024-04-30 23:53:42 未冉之芊\\n[表情包]\\n\\n2024-04-30 23:53:44 未冉之芊\\n[表情包]\\n\\n2024-04-30 23:53:44 王冉6_15\\n我在家里什么也不干()\\n\\n2024-04-30 23:53:53 未冉之芊\\n[表情包]\\n\\n2024-04-30 23:54:03 王冉6_15\\n我超级懒\\n\\n2024-04-30 23:54:06 王冉6_15\\n超级懒\\n\\n2024-04-30 23:54:12 王冉6_15\\n(只想趴着)\\n\\n2024-04-30 23:54:17 未冉之芊\\n没关系\\n\\n2024-04-30 23:54:27 未冉之芊\\n其实我也懒\\n\\n2024-04-30 23:54:31 王冉6_15\\n[表情包]\\n\\n2024-04-30 23:54:31 未冉之芊\\n[表情包]\\n\\n2024-04-30 23:54:45 未冉之芊\\n特别是晚上出去倒垃圾\\n\\n2024-04-30 23:54:49 未冉之芊\\n[表情包]\\n\\n2024-04-30 23:55:05 未冉之芊\\n之前大冬天冷死了\\n\\n2024-04-30 23:55:07 未冉之芊\\n[表情包]\\n\\n2024-04-30 23:55:12 王冉6_15\\n好好好\\n\\n2024-04-30 23:55:18 王冉6_15\\n不能第二天倒嘛!\\n\\n2024-04-30 23:55:20 王冉6_15\\n[表情包]\\n\\n2024-04-30 23:55:26 未冉之芊\\n[表情包]\\n\\n2024-04-30 23:55:29 未冉之芊\\n！！！\\n\\n2024-04-30 23:55:33 未冉之芊\\n不能\\n\\n2024-04-30 23:55:34 王冉6_15\\n那你会做饭嘛\\n\\n2024-04-30 23:55:39 王冉6_15\\n诶?\\n引用:yolov5：不能\\n\\n2024-04-30 23:55:46 未冉之芊\\n诶诶诶？\\n引用:若曦：那你会做饭嘛\\n\\n2024-04-30 23:55:58 王冉6_15\\n[表情包]\\n\\n2024-04-30 23:56:06 未冉之芊\\n因为我的mum会开始说我懒\\n引用:yolov5：不能\\n\\n2024-04-30 23:56:16 王冉6_15\\n哦~\\n\\n2024-04-30 23:56:28 未冉之芊\\n可以吃饱！我吃过吃不死\\n引用:若曦：那你会做饭嘛\\n\\n2024-04-30 23:56:30 未冉之芊\\n[表情包]\\n\\n2024-04-30 23:56:39 王冉6_15\\n哈哈哈哈哈哈哈哈\\n\\n2024-04-30 23:56:46 未冉之芊\\n还记得之前我做饭都不喜欢开油烟机\\n\\n2024-04-30 23:56:55 未冉之芊\\n觉得没多少烟\\n\\n2024-04-30 23:57:00 王冉6_15\\n安\\n\\n2024-04-30 23:57:00 未冉之芊\\n然后之前不是新冠嘛\\n\\n2024-04-30 23:57:06 未冉之芊\\n然后我爸生病了\\n\\n2024-04-30 23:57:10 未冉之芊\\n躺床上\\n\\n2024-04-30 23:57:15 未冉之芊\\n然后我就去做饭\\n\\n2024-04-30 23:57:19 王冉6_15\\n呜\\n\\n2024-04-30 23:57:23 未冉之芊\\n没开油烟机没有关门\\n\\n2024-04-30 23:57:33 未冉之芊\\n烟雾弥漫\\n\\n2024-04-30 23:57:43 未冉之芊\\n感觉和爱丽丝梦游仙境一样\\n\\n2024-04-30 23:57:45 王冉6_15\\n嘿嘿~\\n\\n2024-04-30 23:57:51 未冉之芊\\n[表情包]\\n\\n2024-04-30 23:57:51 王冉6_15\\n好厉害\\n\\n2024-04-30 23:57:56 未冉之芊\\n！！！\\n\\n2024-04-30 23:57:56 王冉6_15\\n还会做饭\\n\\n2024-04-30 23:58:02 王冉6_15\\n我会做.....\\n\\n2024-04-30 23:58:04 未冉之芊\\n啊啊啊，我不会（\\n\\n2024-04-30 23:58:06 王冉6_15\\n泡面!\\n\\n2024-04-30 23:58:10 未冉之芊\\n！\\n\\n2024-04-30 23:58:15 未冉之芊\\n[表情包]\\n\\n2024-04-30 23:58:20 王冉6_15\\n[表情包]\\n\\n2024-04-30 23:58:32 未冉之芊\\n也可以买个袋装牛排\\n\\n2024-04-30 23:58:39 王冉6_15\\n诶?\\n\\n2024-04-30 23:58:40 未冉之芊\\n[表情包]\\n\\n2024-04-30 23:58:55 王冉6_15\\n品质饮食!\\n\\n2024-04-30 23:58:59 王冉6_15\\n[表情包]\\n\\n2024-04-30 23:59:14 未冉之芊\\n这个也好弄，放一点油就好啦\\n\\n2024-04-30 23:59:15 未冉之芊\\n[表情包]\\n\\n2024-04-30 23:59:19 未冉之芊\\n嘿嘿\\n\\n2024-04-30 23:59:22 王冉6_15\\n[表情包]\\n\\n2024-04-30 23:59:30 未冉之芊\\n[表情包]\\n\\n2024-04-30 23:59:42 王冉6_15\\n[表情包]\\n\\n2024-04-30 23:59:47 未冉之芊\\n我不会骑电动车\\n\\n2024-04-30 23:59:52 未冉之芊\\n电瓶车是我的噩梦\\n\\n2024-04-30 23:59:55 王冉6_15\\n诶?\\n\\n2024-04-30 23:59:56 未冉之芊\\n[表情包]\\n\\n2024-04-30 23:59:57 王冉6_15\\n好好好\\n\\n2024-05-01 00:00:02 王冉6_15\\n自行车捏\\n\\n2024-05-01 00:00:07 王冉6_15\\n你会骑嘛\\n\\n2024-05-01 00:00:08 王冉6_15\\n[表情包]\\n\\n2024-05-01 00:00:24 未冉之芊\\n我三年级以前超喜欢骑\\n引用:若曦：你会骑嘛\\n\\n2024-05-01 00:00:30 王冉6_15\\n哦~\\n\\n2024-05-01 00:00:33 未冉之芊\\n之后都是走路走习惯啦\\n\\n2024-05-01 00:00:40 王冉6_15\\n[表情包]\\n\\n2024-05-01 00:00:47 王冉6_15\\n想起来之前\\n\\n2024-05-01 00:00:53 未冉之芊\\n然后现在怕撞到人，不过要迟到也是会骑的\\n\\n2024-05-01 00:00:56 王冉6_15\\n我超级喜欢游乐园刺激项目\\n\\n2024-05-01 00:01:02 王冉6_15\\n哦~\\n引用:yolov5：然后现在怕撞到人，不过要迟到也是会骑的\\n\\n2024-05-01 00:01:06 未冉之芊\\n[表情包]\\n\\n2024-05-01 00:01:24 王冉6_15\\n海盗船过山车要玩好几遍\\n\\n2024-05-01 00:01:31 王冉6_15\\n专挑刺激的\\n\\n2024-05-01 00:01:35 王冉6_15\\n什么跳楼机\\n\\n2024-05-01 00:01:51 未冉之芊\\n诶诶诶？？？！！！\\n\\n2024-05-01 00:02:03 未冉之芊\\n[表情包]\\n\\n2024-05-01 00:02:07 未冉之芊\\n我超害怕\\n\\n2024-05-01 00:02:09 王冉6_15\\n结果就上学期去苏州乐园!我居然!居然!吐了，太晕了\\n\\n2024-05-01 00:02:14 王冉6_15\\n嘿嘿\\n引用:yolov5：我超害怕\\n\\n2024-05-01 00:02:28 王冉6_15\\n然后后来我还听说\\n引用:若曦：结果就上学期去苏州乐园!我居然!居然!吐了，太晕了\\n\\n2024-05-01 00:02:29 未冉之芊\\n千万别去华谊影视城的那个海盗船\\n\\n2024-05-01 00:02:37 王冉6_15\\n安\\n引用:yolov5：千万别去华谊影视城的那个海盗船\\n\\n2024-05-01 00:02:51 未冉之芊\\n超级陡\\n引用:若曦：安\\n\\n2024-05-01 00:02:59 王冉6_15\\n诶?\\n\\n2024-05-01 00:03:19 未冉之芊\\n我会发出尖锐的爆鸣\\n\\n2024-05-01 00:03:23 未冉之芊\\n[表情包]\\n\\n2024-05-01 00:03:24 王冉6_15\\n我喜欢玩360转圈圈的第一排过山车\\n\\n2024-05-01 00:03:31 未冉之芊\\n！！！！啊啊啊啊啊\\n\\n2024-05-01 00:03:35 王冉6_15\\n还有海盗船最后一排\\n\\n2024-05-01 00:03:40 王冉6_15\\n要坐好几遍\\n\\n2024-05-01 00:03:42 王冉6_15\\n[表情包]\\n\\n2024-05-01 00:03:44 未冉之芊\\n！！！\\n\\n2024-05-01 00:03:45 未冉之芊\\n！！！\\n\\n2024-05-01 00:03:53 未冉之芊\\n哇\\n\\n2024-05-01 00:03:58 未冉之芊\\n我一点都不敢\\n\\n2024-05-01 00:04:00 王冉6_15\\n当然\\n\\n2024-05-01 00:04:03 王冉6_15\\n尖叫着\\n\\n2024-05-01 00:04:05 未冉之芊\\n我会当场趋势\\n\\n2024-05-01 00:04:05 王冉6_15\\n坐\\n\\n2024-05-01 00:04:07 未冉之芊\\n哈哈哈哈哈\\n\\n2024-05-01 00:04:08 王冉6_15\\n()\\n\\n2024-05-01 00:04:10 王冉6_15\\n哈哈哈哈哈哈\\n\\n2024-05-01 00:04:14 未冉之芊\\n安\\n引用:若曦：然后后来我还听说\\n\\n2024-05-01 00:04:16 王冉6_15\\n我叫的老开心了\\n\\n2024-05-01 00:04:18 未冉之芊\\n[表情包]\\n\\n2024-05-01 00:04:24 未冉之芊\\n诶诶诶\\n引用:若曦：我叫的老开心了\\n\\n2024-05-01 00:04:30 未冉之芊\\n！！！\\n\\n2024-05-01 00:04:42 王冉6_15\\n家里做承轴的\\n引用:yolov5：安\\n\\n2024-05-01 00:04:52 王冉6_15\\n不给家里人做\\n\\n2024-05-01 00:04:54 王冉6_15\\n因为不安全\\n\\n2024-05-01 00:05:04 未冉之芊\\n！\\n\\n2024-05-01 00:05:06 王冉6_15\\n然后我现在也害怕有危险了\\n\\n2024-05-01 00:05:17 未冉之芊\\n[表情包]\\n\\n2024-05-01 00:05:21 王冉6_15\\n毕竟出过很多游乐场事故\\n\\n2024-05-01 00:05:30 王冉6_15\\n[表情包]\\n\\n2024-05-01 00:05:34 未冉之芊\\n[表情包]\\n\\n2024-05-01 00:05:40 王冉6_15\\n哈哈哈哈哈哈\\n\\n2024-05-01 00:05:43 未冉之芊\\n还好胆子小\\n\\n2024-05-01 00:05:51 王冉6_15\\n[表情包]\\n\\n2024-05-01 00:05:52 未冉之芊\\n排除99.9%风险\\n\\n2024-05-01 00:05:57 未冉之芊\\n[表情包]\\n\\n2024-05-01 00:06:01 王冉6_15\\n嗯!\\n\\n2024-05-01 00:06:09 未冉之芊\\n[表情包]\\n\\n2024-05-01 00:06:09 王冉6_15\\n[表情包]\\n\\n2024-05-01 00:06:16 未冉之芊\\n小时候胆子大\\n\\n2024-05-01 00:06:23 王冉6_15\\n安\\n\\n2024-05-01 00:06:34 未冉之芊\\n吃过小麻雀\\n\\n2024-05-01 00:06:37 未冉之芊\\n小老鼠\\n\\n2024-05-01 00:06:39 未冉之芊\\n小蛇\\n\\n2024-05-01 00:06:42 未冉之芊\\n[表情包]\\n\\n2024-05-01 00:06:46 未冉之芊\\n[表情包]\\n\\n2024-05-01 00:07:06 未冉之芊\\n然后那些跳楼机和过山车也玩\\n\\n2024-05-01 00:07:07 王冉6_15\\n!\\n\\n2024-05-01 00:07:08 未冉之芊\\n[表情包]\\n\\n2024-05-01 00:07:10 王冉6_15\\n!\\n\\n2024-05-01 00:07:16 王冉6_15\\n啊啊啊啊啊啊啊\\n引用:yolov5：小老鼠\\n\\n2024-05-01 00:07:22 王冉6_15\\n啊啊啊啊啊啊啊啊啊\\n引用:yolov5：小蛇\\n\\n2024-05-01 00:07:26 未冉之芊\\n[表情包]\\n\\n2024-05-01 00:07:32 王冉6_15\\n[表情包]\\n\\n2024-05-01 00:07:35 未冉之芊\\n[表情包]\\n\\n2024-05-01 00:07:37 王冉6_15\\n好吃吗\\n\\n2024-05-01 00:07:40 王冉6_15\\n[表情包]\\n\\n2024-05-01 00:07:59 未冉之芊\\n忘记啦，但是小麻雀挺好吃，金黄酥脆\\n\\n2024-05-01 00:08:01 未冉之芊\\n[表情包]\\n\\n2024-05-01 00:08:12 王冉6_15\\n好...\\n\\n2024-05-01 00:08:16 未冉之芊\\n小老鼠是那个在粮仓里面的\\n\\n2024-05-01 00:08:18 王冉6_15\\n好的\\n\\n2024-05-01 00:08:24 未冉之芊\\n不是随便找的！\\n\\n2024-05-01 00:08:25 未冉之芊\\n[表情包]\\n\\n2024-05-01 00:08:25 王冉6_15\\n诶?\\n引用:yolov5：小老鼠是那个在粮仓里面的\\n\\n2024-05-01 00:08:34 王冉6_15\\n你家的粮仓嘛\\n\\n2024-05-01 00:08:54 王冉6_15\\n我没听说过粮仓诶\\n\\n2024-05-01 00:08:59 未冉之芊\\n那也不是啦（（（不是那种大仓库\\n\\n2024-05-01 00:09:09 王冉6_15\\n哦~\\n\\n2024-05-01 00:09:12 王冉6_15\\n[表情包]\\n\\n2024-05-01 00:09:23 未冉之芊\\n田里面麦子收完之后会弄成米\\n\\n2024-05-01 00:09:33 未冉之芊\\n然后放在一个地方\\n\\n2024-05-01 00:09:35 未冉之芊\\n[表情包]\\n\\n2024-05-01 00:09:47 王冉6_15\\n[表情包]\\n\\n2024-05-01 00:09:51 未冉之芊\\n嘿嘿\\n\\n2024-05-01 00:10:06 王冉6_15\\n[表情包]\\n\\n2024-05-01 00:10:24 未冉之芊\\n感觉我没有转学之前超厉害\\n\\n2024-05-01 00:10:26 未冉之芊\\n[表情包]\\n\\n2024-05-01 00:10:31 王冉6_15\\n安\\n\\n2024-05-01 00:10:35 王冉6_15\\n[表情包]\\n\\n2024-05-01 00:10:51 王冉6_15\\n什么事情哇\\n\\n2024-05-01 00:10:57 未冉之芊\\n古希腊掌握小卖部的神\\n\\n2024-05-01 00:11:05 王冉6_15\\n诶?\\n\\n2024-05-01 00:11:18 未冉之芊\\n那个时候查眼保健操\\n\\n2024-05-01 00:11:27 未冉之芊\\n经常帮老师带泡面\\n\\n2024-05-01 00:11:34 未冉之芊\\n然后会给我多1块钱\\n\\n2024-05-01 00:11:40 王冉6_15\\n哈哈哈哈哈\\n\\n2024-05-01 00:11:41 未冉之芊\\n我就可以买小辣条吃\\n\\n2024-05-01 00:11:42 未冉之芊\\n[表情包]\\n\\n2024-05-01 00:11:54 王冉6_15\\n辣条~斯哈斯哈~\\n\\n2024-05-01 00:11:59 未冉之芊\\n然后每周还要升旗\\n\\n2024-05-01 00:12:09 王冉6_15\\n安\\n\\n2024-05-01 00:12:11 王冉6_15\\n[表情包]\\n\\n2024-05-01 00:12:23 未冉之芊\\n每次下雨都要把国旗收下来\\n\\n2024-05-01 00:12:28 未冉之芊\\n然后放回去\\n\\n2024-05-01 00:12:29 未冉之芊\\n[表情包]\\n\\n2024-05-01 00:12:31 王冉6_15\\n哦哦~\\n\\n2024-05-01 00:12:36 王冉6_15\\n嘿嘿\\n\\n2024-05-01 00:12:41 王冉6_15\\n光荣护旗手\\n\\n2024-05-01 00:12:42 王冉6_15\\n()\\n\\n2024-05-01 00:12:45 王冉6_15\\n[表情包]\\n\\n2024-05-01 00:12:46 未冉之芊\\n我小学是升旗手\\n\\n2024-05-01 00:12:52 未冉之芊\\n+护旗手\\n\\n2024-05-01 00:12:56 王冉6_15\\n好好好\\n\\n2024-05-01 00:12:58 未冉之芊\\n+降旗手\\n\\n2024-05-01 00:13:00 未冉之芊\\n[表情包]\\n\\n2024-05-01 00:13:03 王冉6_15\\n哈哈哈哈哈\\n\\n2024-05-01 00:13:06 未冉之芊\\n[表情包]\\n\\n2024-05-01 00:13:11 王冉6_15\\n是每个班一个嘛\\n\\n2024-05-01 00:13:16 王冉6_15\\n我没去过\\n\\n2024-05-01 00:13:19 未冉之芊\\n哈哈哈哈哈\\n\\n2024-05-01 00:13:19 王冉6_15\\n[表情包]\\n\\n2024-05-01 00:13:34 <revokemsg>你撤回了一条消息</revokemsg>\\n\\n2024-05-01 00:13:43 未冉之芊\\n我转学校之前是每个年级两个\\n\\n2024-05-01 00:13:51 王冉6_15\\n哇咔\\n\\n2024-05-01 00:13:55 未冉之芊\\n从三年级开始\\n\\n2024-05-01 00:14:00 王冉6_15\\n腻害!\\n\\n2024-05-01 00:14:02 未冉之芊\\n到六年级\\n\\n2024-05-01 00:14:04 未冉之芊\\n[表情包]\\n\\n2024-05-01 00:14:11 王冉6_15\\n[表情包]\\n\\n2024-05-01 00:14:20 未冉之芊\\n还得是我爷爷厉害\\n\\n2024-05-01 00:14:25 未冉之芊\\n和校长是好朋友\\n\\n2024-05-01 00:14:26 未冉之芊\\n（\\n\\n2024-05-01 00:14:41 未冉之芊\\n不然我就今年高考啦\\n\\n2024-05-01 00:14:44 未冉之芊\\n[表情包]\\n\\n2024-05-01 00:14:47 王冉6_15\\n哇咔\\n\\n2024-05-01 00:14:49 未冉之芊\\n[表情包]\\n\\n2024-05-01 00:14:56 王冉6_15\\n嘿嘿\\n\\n2024-05-01 00:15:09 王冉6_15\\n快要高考了\\n\\n2024-05-01 00:15:11 王冉6_15\\n好紧张\\n\\n2024-05-01 00:15:16 王冉6_15\\n[表情包]\\n\\n2024-05-01 00:15:26 未冉之芊\\n嘿嘿，历史很久远嘟，我和我爸是同一个学校\\n\\n2024-05-01 00:15:34 未冉之芊\\n！！！\\n引用:若曦：好紧张\\n\\n2024-05-01 00:15:43 王冉6_15\\n嗯呐~\\n引用:yolov5：嘿嘿，历史很久远嘟，我和我爸是同一个学校\\n\\n2024-05-01 00:15:52 未冉之芊\\n什么！你染上高考了！\\n\\n2024-05-01 00:15:59 王冉6_15\\n嗯!!\\n\\n2024-05-01 00:16:02 王冉6_15\\n[表情包]\\n\\n2024-05-01 00:16:17 王冉6_15\\n嘿嘿\\n\\n2024-05-01 00:16:19 王冉6_15\\n[表情包]\\n\\n2024-05-01 00:16:28 未冉之芊\\n我们这么多天废寝忘食的生活\\n\\n2024-05-01 00:16:39 未冉之芊\\n居然被高考磨灭了心智\\n\\n2024-05-01 00:16:41 未冉之芊\\n！\\n\\n2024-05-01 00:16:47 王冉6_15\\n[表情包]\\n\\n2024-05-01 00:16:50 王冉6_15\\n嘻嘻\\n\\n2024-05-01 00:16:52 未冉之芊\\n惩罚你再发个表情包\\n\\n2024-05-01 00:16:54 未冉之芊\\n[表情包]\\n\\n2024-05-01 00:16:58 王冉6_15\\n[表情包]\\n\\n2024-05-01 00:17:04 王冉6_15\\n(乖巧)\\n\\n2024-05-01 00:17:09 未冉之芊\\n哈哈哈哈哈\\n\\n2024-05-01 00:17:19 未冉之芊\\n今年高考应该会超难\\n\\n2024-05-01 00:17:35 未冉之芊\\n（表示同情）\\n\\n2024-05-01 00:17:37 王冉6_15\\n我也感觉\\n\\n2024-05-01 00:17:37 未冉之芊\\n（）\\n\\n2024-05-01 00:17:40 王冉6_15\\n我有个朋友\\n\\n2024-05-01 00:17:45 王冉6_15\\n高四\\n\\n2024-05-01 00:17:52 王冉6_15\\n今天也放假了\\n\\n2024-05-01 00:17:55 王冉6_15\\n放两天\\n\\n2024-05-01 00:17:59 王冉6_15\\n[表情包]\\n\\n2024-05-01 00:18:00 未冉之芊\\n高三打基础，高四985\\n\\n2024-05-01 00:18:06 王冉6_15\\n哈哈哈哈哈\\n\\n2024-05-01 00:18:14 未冉之芊\\n啊啊啊啊\\n引用:若曦：放两天\\n\\n2024-05-01 00:18:32 <revokemsg>你撤回了一条消息</revokemsg>\\n\\n2024-05-01 00:18:41 未冉之芊\\n不对\\n\\n2024-05-01 00:18:47 未冉之芊\\n我高中可坏了\\n\\n2024-05-01 00:18:51 未冉之芊\\n[表情包]\\n\\n2024-05-01 00:18:52 王冉6_15\\n[表情包]\\n\\n2024-05-01 00:18:56 未冉之芊\\n什么活动都没有\\n\\n2024-05-01 00:18:57 未冉之芊\\n[表情包]\\n\\n2024-05-01 00:19:03 王冉6_15\\n我们也是\\n\\n2024-05-01 00:19:06 王冉6_15\\n[表情包]\\n\\n2024-05-01 00:19:14 王冉6_15\\n有点困了!\\n\\n2024-05-01 00:19:24 王冉6_15\\n想睡觉鲁\\n\\n2024-05-01 00:19:27 王冉6_15\\n[表情包]\\n\\n2024-05-01 00:19:30 未冉之芊\\n好！\\n\\n2024-05-01 00:19:34 王冉6_15\\n嘿嘿~\\n\\n2024-05-01 00:19:37 王冉6_15\\n晚安~\\n\\n2024-05-01 00:19:43 未冉之芊\\n让我想一个小文案\\n\\n2024-05-01 00:19:47 未冉之芊\\n今天刚刚看到\\n\\n2024-05-01 00:19:51 王冉6_15\\n安\\n\\n2024-05-01 00:20:01 未冉之芊\\n有个鹌鹑要下蛋\\n\\n2024-05-01 00:20:09 未冉之芊\\n早上中午都不下蛋\\n\\n2024-05-01 00:20:20 未冉之芊\\n到晚上才下蛋\\n\\n2024-05-01 00:20:28 王冉6_15\\n[表情包]\\n\\n2024-05-01 00:20:29 未冉之芊\\n所以\\n\\n2024-05-01 00:20:37 未冉之芊\\n晚鹌鹑蛋！\\n\\n2024-05-01 00:20:44 未冉之芊\\n[表情包]\\n\\n2024-05-01 00:20:46 王冉6_15\\n诶诶诶!\\n\\n2024-05-01 00:20:48 王冉6_15\\n好好好\\n\\n2024-05-01 00:20:53 王冉6_15\\n我是蠢蛋!\\n\\n2024-05-01 00:20:59 王冉6_15\\n蠢蛋去睡觉了\\n\\n2024-05-01 00:21:01 王冉6_15\\n[表情包]\\n\\n2024-05-01 00:21:03 未冉之芊\\n啊啊啊，你不是蠢蛋！\\n\\n2024-05-01 00:21:17 未冉之芊\\n你是小笨蛋()\\n\\n2024-05-01 00:21:20 未冉之芊\\n蠢蛋不好听\\n\\n2024-05-01 00:21:22 未冉之芊\\n[表情包]\\n\\n2024-05-01 00:21:24 王冉6_15\\n好吧!\\n\\n2024-05-01 00:21:29 未冉之芊\\n好啦，晚安\\n\\n2024-05-01 00:21:33 王冉6_15\\n我是纯纯的笨蛋\\n\\n2024-05-01 00:21:35 王冉6_15\\n[表情包]\\n\\n2024-05-01 00:21:36 未冉之芊\\n[表情包]\\n\\n2024-05-01 00:21:39 未冉之芊\\n哈哈哈哈哈哈哈\\n\\n2024-05-01 00:21:46 王冉6_15\\n(叉着腰)\\n\\n2024-05-01 00:21:49 王冉6_15\\n(跑走)\\n\\n2024-05-01 00:22:06 未冉之芊\\n（瘫倒在床上）\\n\\n2024-05-01 00:22:27 王冉6_15\\n(跑回来)\\n\\n2024-05-01 00:22:31 王冉6_15\\n(盯)\\n\\n2024-05-01 00:23:14 未冉之芊\\n诶！\\n\\n2024-05-01 00:23:26 未冉之芊\\n（假装洗掉）\\n\\n2024-05-01 00:23:34 王冉6_15\\n(!)\\n\\n2024-05-01 00:23:41 王冉6_15\\n(拖到火葬场)\\n\\n2024-05-01 00:23:48 未冉之芊\\n（！！！）\\n\\n2024-05-01 00:24:00 王冉6_15\\n[表情包]\\n\\n2024-05-01 00:24:02 未冉之芊\\n（在麻袋里面滚动）\\n\\n2024-05-01 00:24:11 王冉6_15\\n(捶晕)\\n\\n2024-05-01 00:24:26 王冉6_15\\n[表情包]\\n\\n2024-05-01 00:24:27 未冉之芊\\n（痛到晕厥）\\n\\n2024-05-01 00:24:42 王冉6_15\\n(拖出来)\\n\\n2024-05-01 00:24:48 王冉6_15\\n(放到你的被窝里)\\n\\n2024-05-01 00:24:53 王冉6_15\\n(盖被子)\\n\\n2024-05-01 00:24:57 王冉6_15\\n(跑走)\\n\\n2024-05-01 00:25:00 未冉之芊\\n（突然坐起来吓你一跳）\\n\\n2024-05-01 00:25:06 王冉6_15\\n!\\n\\n2024-05-01 00:25:10 王冉6_15\\n还好我跑得快\\n\\n2024-05-01 00:25:12 王冉6_15\\n[表情包]\\n\\n2024-05-01 00:25:14 未冉之芊\\n（你还怪好的）\\n引用:若曦：(放到你的被窝里)\\n\\n2024-05-01 00:25:18 未冉之芊\\n[表情包]\\n\\n2024-05-01 00:25:24 王冉6_15\\n嘿嘿\\n\\n2024-05-01 00:25:28 王冉6_15\\n睡觉!\\n\\n2024-05-01 00:25:29 未冉之芊\\n嘿嘿\\n引用:若曦：还好我跑得快\\n\\n2024-05-01 00:25:32 未冉之芊\\n睡觉！\\n\\n2024-05-01 00:25:35 未冉之芊\\n[表情包]\\n\\n2024-05-01 00:25:37 王冉6_15\\n[表情包]\\n\\n2024-05-01 00:25:41 未冉之芊\\n[表情包]\\n\\n2024-05-01 00:25:44 王冉6_15\\n晚安\\n\\n2024-05-01 00:25:48 王冉6_15\\n[表情包]\\n\\n2024-05-01 11:08:04 未冉之芊\\n[表情包]\\n\\n2024-05-01 11:08:17 未冉之芊\\n现在走赶回家吃饭\\n\\n2024-05-01 11:08:17 王冉6_15\\n[表情包]\\n\\n2024-05-01 11:08:20 未冉之芊\\n[表情包]\\n\\n2024-05-01 11:08:25 王冉6_15\\n好~\\n\\n2024-05-01 11:08:30 未冉之芊\\n你什么时候走哇~\\n\\n2024-05-01 11:08:38 王冉6_15\\n晚点吧\\n\\n2024-05-01 11:08:39 王冉6_15\\n[表情包]\\n\\n2024-05-01 11:08:44 未冉之芊\\n[表情包]\\n\\n2024-05-01 11:08:47 未冉之芊\\n好！\\n\\n2024-05-01 11:08:57 未冉之芊\\n你要做高铁嘛\\n\\n2024-05-01 11:09:06 未冉之芊\\n还是火车\\n\\n2024-05-01 11:09:06 王冉6_15\\n顺风车\\n\\n2024-05-01 11:09:07 未冉之芊\\n[表情包]\\n\\n2024-05-01 11:09:07 王冉6_15\\n嘿嘿\\n\\n2024-05-01 11:09:15 未冉之芊\\n！\\n\\n2024-05-01 11:09:30 未冉之芊\\n这么厉害\\n\\n2024-05-01 11:09:35 未冉之芊\\n没做过\\n\\n2024-05-01 11:09:37 未冉之芊\\n（好奇）\\n\\n2024-05-01 11:09:40 王冉6_15\\n诶?\\n\\n2024-05-01 11:09:44 未冉之芊\\n[表情包]\\n\\n2024-05-01 11:09:48 王冉6_15\\n打车平台上就可以啦\\n\\n2024-05-01 11:09:49 王冉6_15\\n[表情包]\\n\\n2024-05-01 11:09:56 未冉之芊\\n[表情包]\\n\\n2024-05-01 11:10:09 未冉之芊\\n[表情包]\\n\\n2024-05-01 11:11:39 未冉之芊\\n！\\n\\n2024-05-01 11:11:43 未冉之芊\\n[图片]\\n\\n2024-05-01 11:11:53 未冉之芊\\n[表情包]\\n\\n2024-05-01 11:11:56 王冉6_15\\n!\\n\\n2024-05-01 11:12:01 王冉6_15\\n我还没看呢\\n\\n2024-05-01 11:12:04 未冉之芊\\n！\\n\\n2024-05-01 11:12:06 王冉6_15\\nvocal\\n\\n2024-05-01 11:12:08 未冉之芊\\n你你你\\n\\n2024-05-01 11:12:13 未冉之芊\\n[表情包]\\n\\n2024-05-01 11:12:15 王冉6_15\\n这么贵!\\n\\n2024-05-01 11:12:35 王冉6_15\\n之前看150左右\\n\\n2024-05-01 11:12:42 未冉之芊\\n不抢票的小朋友\\n\\n2024-05-01 11:12:48 未冉之芊\\n！\\n\\n2024-05-01 11:12:49 王冉6_15\\n好好好\\n\\n2024-05-01 11:12:56 王冉6_15\\n我要考虑回不回家了\\n\\n2024-05-01 11:13:00 王冉6_15\\n[表情包]\\n\\n2024-05-01 11:13:01 未冉之芊\\n哈哈哈哈哈哈\\n\\n2024-05-01 11:13:09 未冉之芊\\n可能是我的打开方式不对\\n\\n2024-05-01 11:13:44 未冉之芊\\n这是步行（\\n引用:yolov5：【图片消息】\\n\\n2024-05-01 11:13:47 王冉6_15\\n[表情包]\\n\\n2024-05-01 11:13:51 王冉6_15\\n没事捏\\n\\n2024-05-01 11:13:57 王冉6_15\\n我晚点再决定\\n\\n2024-05-01 11:14:01 王冉6_15\\n哈哈哈哈哈\\n\\n2024-05-01 11:14:16 未冉之芊\\n坐飞机飞过去（\\n\\n2024-05-01 11:14:45 未冉之芊\\n做梦的话应该飞的比较快\\n\\n2024-05-01 11:14:49 未冉之芊\\n一下就到了\\n\\n2024-05-01 11:14:51 未冉之芊\\n[表情包]\\n\\n2024-05-01 11:14:54 未冉之芊\\n[表情包]\\n\\n2024-05-01 11:15:07 王冉6_15\\n哈哈哈哈哈\\n\\n2024-05-01 11:15:09 王冉6_15\\n好好好\\n\\n2024-05-01 11:15:11 王冉6_15\\n[表情包]\\n\\n2024-05-01 12:13:30 未冉之芊\\n啊啊啊啊啊，尴尬死我了\\n\\n2024-05-01 12:14:11 未冉之芊\\n我下地铁打了个车，然后那个车我一直没有找到，后面发现就在我走的反方向\\n\\n2024-05-01 12:14:24 王冉6_15\\n哈哈哈哈哈哈\\n\\n2024-05-01 12:14:26 王冉6_15\\n[表情包]\\n\\n2024-05-01 12:14:35 未冉之芊\\n然后我打电话的时候\\n\\n2024-05-01 12:14:38 未冉之芊\\n问他车尾号\\n\\n2024-05-01 12:14:54 未冉之芊\\n他听成手机尾号\\n\\n2024-05-01 12:15:00 王冉6_15\\n好好好\\n\\n2024-05-01 12:15:21 未冉之芊\\n然后我上车以后发现好像有另外一辆车也叫了\\n\\n2024-05-01 12:15:24 未冉之芊\\n就取消了\\n\\n2024-05-01 12:15:26 未冉之芊\\n[表情包]\\n\\n2024-05-01 12:15:30 王冉6_15\\n好好好\\n\\n2024-05-01 12:15:35 王冉6_15\\n你小子\\n\\n2024-05-01 12:15:36 王冉6_15\\n[表情包]\\n\\n2024-05-01 12:15:41 未冉之芊\\n然后把这个司机的取消了\\n\\n2024-05-01 12:15:42 未冉之芊\\n[表情包]\\n\\n2024-05-01 12:15:43 未冉之芊\\n[表情包]\\n\\n2024-05-01 12:15:43 未冉之芊\\n[表情包]\\n\\n2024-05-01 12:15:54 未冉之芊\\n啊啊啊啊啊啊\\n\\n2024-05-01 12:15:54 王冉6_15\\n司机说谢谢你好心人\\n\\n2024-05-01 12:15:56 王冉6_15\\n[表情包]\\n\\n2024-05-01 12:15:59 王冉6_15\\n哈哈哈哈哈哈\\n\\n2024-05-01 12:16:28 未冉之芊\\n[表情包]\\n\\n2024-05-01 12:16:36 王冉6_15\\n[表情包]\\n\\n2024-05-02 00:00:37 未冉之芊\\nvocal\\n\\n2024-05-02 00:00:43 未冉之芊\\n卡晚了\\n\\n2024-05-02 00:00:58 未冉之芊\\n[表情包]\\n\\n2024-05-02 00:00:59 未冉之芊\\n51快乐没送到\\n\\n2024-05-02 00:01:04 未冉之芊\\n[表情包]\\n\\n2024-05-02 00:02:03 未冉之芊\\n睡着啦！！！晚安\\n\\n2024-05-02 00:02:26 王冉6_15\\n哈哈哈哈哈哈哈\\n\\n2024-05-02 00:02:41 王冉6_15\\n没事嘟\\n\\n2024-05-02 00:02:43 王冉6_15\\n[表情包]\\n\\n2024-05-02 00:04:15 王冉6_15\\n晚安!\\n\\n2024-05-02 00:07:04 未冉之芊\\n诶诶诶\\n\\n2024-05-02 00:07:06 未冉之芊\\n[表情包]\\n\\n2024-05-02 00:07:17 王冉6_15\\n[表情包]\\n\\n2024-05-02 00:07:20 未冉之芊\\n以为你睡着了（\\n\\n2024-05-02 00:07:22 未冉之芊\\n[表情包]\\n\\n2024-05-02 00:07:26 王冉6_15\\n现在睡!\\n\\n2024-05-02 00:07:28 王冉6_15\\n嘿嘿\\n\\n2024-05-02 00:07:30 未冉之芊\\n[表情包]\\n\\n2024-05-02 00:07:34 未冉之芊\\n好！\\n\\n2024-05-02 00:07:40 未冉之芊\\n晚安\\n\\n2024-05-02 00:07:53 王冉6_15\\n晚安\\n\\n2024-05-02 00:07:54 王冉6_15\\n[表情包]\\n\\n2024-05-02 01:45:59 未冉之芊\\n嘿嘿\\n\\n2024-05-02 01:46:29 未冉之芊\\n回家就熬夜，明天我绝对不会熬夜了（）\\n\\n2024-05-02 06:31:06 王冉6_15\\nvocal\\n\\n2024-05-02 07:38:33 未冉之芊\\n[表情包]\\n\\n2024-05-02 07:38:50 未冉之芊\\n6.31\\n\\n2024-05-02 07:38:50 未冉之芊\\n[表情包]\\n\\n2024-05-02 07:40:21 未冉之芊\\n7点的闹钟没关，吵醒我一次，然后做梦，小腿抽筋梦中惊醒\\n\\n2024-05-02 07:40:32 未冉之芊\\n[表情包]\\n\\n2024-05-02 07:48:15 王冉6_15\\n哈哈哈哈哈\\n\\n2024-05-02 07:48:17 王冉6_15\\n好好好\\n\\n2024-05-02 07:48:32 未冉之芊\\n[表情包]\\n\\n2024-05-02 16:38:09 未冉之芊\\n[图片]\\n\\n2024-05-02 16:38:16 未冉之芊\\n闪现！\\n\\n2024-05-02 16:38:25 未冉之芊\\n坐车回家喽！\\n\\n2024-05-02 16:38:28 未冉之芊\\n[表情包]\\n\\n2024-05-02 16:39:06 未冉之芊\\n[表情包]\\n\\n2024-05-02 16:57:58 未冉之芊\\n嘿嘿，你回家了嘛，要是被拐走了吱一声~\\n\\n2024-05-02 16:58:44 未冉之芊\\n如果在梦里被拐走了那我就要回响了（）\\n\\n2024-05-02 16:58:52 未冉之芊\\n我听到了 入梦 的回响\\n\\n2024-05-02 17:00:23 未冉之芊\\n梦里都是小兔子，我要吃烤兔腿\\n\\n2024-05-02 17:00:28 未冉之芊\\n[表情包]\\n\\n2024-05-02 17:00:37 未冉之芊\\n好！吃饱了\\n\\n2024-05-02 17:00:56 未冉之芊\\n吃饱了就要睡觉了\\n\\n2024-05-02 17:01:04 未冉之芊\\n[表情包]\\n\\n2024-05-02 17:20:32 王冉6_15\\n妈耶\\n\\n2024-05-02 17:20:36 王冉6_15\\n[表情包]\\n\\n2024-05-02 17:20:42 王冉6_15\\n我还是把你删掉吧\\n\\n2024-05-02 17:20:47 王冉6_15\\n我对象要气死了\\n\\n2024-05-02 17:21:01 王冉6_15\\n我现在哄不好了\\n\\n2024-05-02 17:21:02 王冉6_15\\n啊啊啊\\n\\n2024-05-02 17:21:05 王冉6_15\\n我刚刚睡着了\\n\\n2024-05-02 17:21:14 王冉6_15\\n我们在车上\\n\\n2024-05-02 17:21:17 王冉6_15\\n我嘞逗\\n\\n2024-05-02 17:21:19 王冉6_15\\n[表情包]\\n\\n2024-05-02 17:21:53 王冉6_15\\n我是小丑\\n\\n2024-05-02 17:22:01 王冉6_15\\n你别理我了\\n\\n2024-05-02 17:22:04 王冉6_15\\n[表情包]\\n\\n2024-05-02 17:22:17 若曦开启了朋友验证，你还不是他（她）朋友。请先发送朋友验证请求，对方验证通过后，才能聊天。<a href=\"weixin://findfriend/verifycontact\">发送朋友验证</a>\\n\\n2024-05-02 20:44:40 若曦开启了朋友验证，你还不是他（她）朋友。请先发送朋友验证请求，对方验证通过后，才能聊天。<a href=\"weixin://findfriend/verifycontact\">发送朋友验证</a>\\n\\n')]"
      ]
     },
     "execution_count": 156,
     "metadata": {},
     "output_type": "execute_result"
    }
   ],
   "source": [
    "loaded_data"
   ]
  },
  {
   "cell_type": "markdown",
   "metadata": {},
   "source": [
    "## B. PDF File"
   ]
  },
  {
   "cell_type": "code",
   "execution_count": 186,
   "metadata": {},
   "outputs": [
    {
     "name": "stdout",
     "output_type": "stream",
     "text": [
      "/teamspace/studios/this_studio/langchain-ollama\n",
      "17、实用性写作.pdf\t\t\t\t    memory.pkl\n",
      "langchain-v0-2-notebook-snippet-using-ollama.ipynb  王冉6_15.txt\n"
     ]
    }
   ],
   "source": [
    "!pwd\n",
    "!ls"
   ]
  },
  {
   "cell_type": "code",
   "execution_count": 192,
   "metadata": {},
   "outputs": [
    {
     "name": "stdout",
     "output_type": "stream",
     "text": [
      "Collecting PyMuPDF\n",
      "  Downloading PyMuPDF-1.24.9-cp310-none-manylinux2014_x86_64.whl.metadata (3.4 kB)\n",
      "Collecting PyMuPDFb==1.24.9 (from PyMuPDF)\n",
      "  Downloading PyMuPDFb-1.24.9-py3-none-manylinux2014_x86_64.manylinux_2_17_x86_64.whl.metadata (1.4 kB)\n",
      "Downloading PyMuPDF-1.24.9-cp310-none-manylinux2014_x86_64.whl (3.5 MB)\n",
      "\u001b[2K   \u001b[90m━━━━━━━━━━━━━━━━━━━━━━━━━━━━━━━━━━━━━━━━\u001b[0m \u001b[32m3.5/3.5 MB\u001b[0m \u001b[31m162.2 MB/s\u001b[0m eta \u001b[36m0:00:00\u001b[0m\n",
      "\u001b[?25hDownloading PyMuPDFb-1.24.9-py3-none-manylinux2014_x86_64.manylinux_2_17_x86_64.whl (15.9 MB)\n",
      "\u001b[2K   \u001b[90m━━━━━━━━━━━━━━━━━━━━━━━━━━━━━━━━━━━━━━━━\u001b[0m \u001b[32m15.9/15.9 MB\u001b[0m \u001b[31m190.4 MB/s\u001b[0m eta \u001b[36m0:00:00\u001b[0m\n",
      "\u001b[?25hInstalling collected packages: PyMuPDFb, PyMuPDF\n",
      "Successfully installed PyMuPDF-1.24.9 PyMuPDFb-1.24.9\n"
     ]
    }
   ],
   "source": [
    "!pip install PyMuPDF "
   ]
  },
  {
   "cell_type": "code",
   "execution_count": 193,
   "metadata": {},
   "outputs": [],
   "source": [
    "from langchain_core.document_loaders.base import Document\n",
    "import fitz  # PyMuPDF\n",
    "\n",
    "class PyMuPDFLoader:\n",
    "    def __init__(self, file_path):\n",
    "        self.file_path = file_path\n",
    "    \n",
    "    def load(self):\n",
    "        document = fitz.open(self.file_path)\n",
    "        docs = []\n",
    "        \n",
    "        for page_num in range(len(document)):\n",
    "            page = document.load_page(page_num)\n",
    "            text = page.get_text()\n",
    "            docs.append(Document(page_content=text))\n",
    "        \n",
    "        return docs\n",
    "    \n",
    "    def load_and_split(self, text_splitter):\n",
    "        docs = self.load()\n",
    "        return text_splitter.split_documents(docs)\n",
    "\n",
    "# 使用自定义的 PyMuPDFLoader\n",
    "loader = PyMuPDFLoader('/teamspace/studios/this_studio/langchain-ollama/17实用性写作.pdf')\n",
    "loaded_data = loader.load_and_split(text_splitter)\n"
   ]
  },
  {
   "cell_type": "code",
   "execution_count": 194,
   "metadata": {},
   "outputs": [
    {
     "data": {
      "text/plain": [
       "['英语六级作文模板大全：实用性写作',\n",
       " '',\n",
       " 'Youraddress',\n",
       " '',\n",
       " 'Month,Date,year',\n",
       " '',\n",
       " \"Receiver'saddress\",\n",
       " '',\n",
       " 'Dear...,',\n",
       " '',\n",
       " 'Iamextremelypleasedtohearfromyou./toseeyouradvertisementforthepositionin....',\n",
       " 'AndIwouldliketowritealettertotellyouthat.../IamconfidentthatIamsuitableforthekind',\n",
       " 'ofthejobyouareadvertising.',\n",
       " '',\n",
       " '.../IfeelIamcompetenttomeettherequirementsyouhavelisted.Ontheonehand,....On',\n",
       " 'theotherhand,....Iamenclosingmyresumeforyourkindconsiderationandreference.',\n",
       " '',\n",
       " 'Ishallbemuchobligedifyouwilloffermeapreciousopportunitytoaninterview.Iwill',\n",
       " 'greatlyappreciatearesponsefromyouatyourearliestconvenience/Iamlookingforwardto',\n",
       " 'yourrepliesatyourearliestconvenience.',\n",
       " '',\n",
       " 'Bestregardsforyourhealthandsuccess.',\n",
       " '',\n",
       " 'Sincerelyyours,',\n",
       " '',\n",
       " 'XXX']"
      ]
     },
     "execution_count": 194,
     "metadata": {},
     "output_type": "execute_result"
    }
   ],
   "source": [
    "[i.replace(' ','') for i in loaded_data[0].page_content.split('\\n')]"
   ]
  },
  {
   "cell_type": "markdown",
   "metadata": {},
   "source": [
    "## C. CSV File "
   ]
  },
  {
   "cell_type": "code",
   "execution_count": 195,
   "metadata": {},
   "outputs": [],
   "source": [
    "from langchain_community.document_loaders import CSVLoader\n",
    "\n",
    "loader = CSVLoader('/teamspace/studios/this_studio/langchain-ollama/源数据.csv')\n",
    "\n",
    "loaded_data = loader.load()"
   ]
  },
  {
   "cell_type": "code",
   "execution_count": 196,
   "metadata": {},
   "outputs": [
    {
     "data": {
      "text/plain": [
       "Document(metadata={'source': '/teamspace/studios/this_studio/langchain-ollama/源数据.csv', 'row': 0}, page_content='\\ufeff用户名: pinghuang\\n性别: 男\\n身份证号: 53032219850817****\\n登录地区: 重庆市\\n登录设备: Android\\n消费额: 747.5')"
      ]
     },
     "execution_count": 196,
     "metadata": {},
     "output_type": "execute_result"
    }
   ],
   "source": [
    "loaded_data[0]"
   ]
  },
  {
   "cell_type": "markdown",
   "metadata": {},
   "source": [
    "## D. HTML File "
   ]
  },
  {
   "cell_type": "code",
   "execution_count": 197,
   "metadata": {},
   "outputs": [],
   "source": [
    "from langchain_community.document_loaders import BSHTMLLoader\n",
    "\n",
    "loader = CSVLoader('/teamspace/studios/this_studio/langchain-ollama/王冉6_15.html')\n",
    "\n",
    "loaded_data = loader.load()"
   ]
  },
  {
   "cell_type": "code",
   "execution_count": 198,
   "metadata": {},
   "outputs": [
    {
     "data": {
      "text/plain": [
       "[Document(metadata={'source': '/teamspace/studios/this_studio/langchain-ollama/王冉6_15.html', 'row': 0}, page_content='<!DOCTYPE html>: <html lang=\"zh-CN\">'),\n",
       " Document(metadata={'source': '/teamspace/studios/this_studio/langchain-ollama/王冉6_15.html', 'row': 1}, page_content='<!DOCTYPE html>: <head>'),\n",
       " Document(metadata={'source': '/teamspace/studios/this_studio/langchain-ollama/王冉6_15.html', 'row': 2}, page_content='<!DOCTYPE html>: <meta charset=\"UTF-8\">'),\n",
       " Document(metadata={'source': '/teamspace/studios/this_studio/langchain-ollama/王冉6_15.html', 'row': 3}, page_content='<!DOCTYPE html>: <meta name=\"viewport\" content=\"width=device-width\\nNone: initial-scale=1.0\">'),\n",
       " Document(metadata={'source': '/teamspace/studios/this_studio/langchain-ollama/王冉6_15.html', 'row': 4}, page_content='<!DOCTYPE html>: <meta name=\"referrer\" content=\"no-referrer\" />'),\n",
       " Document(metadata={'source': '/teamspace/studios/this_studio/langchain-ollama/王冉6_15.html', 'row': 5}, page_content='<!DOCTYPE html>: <!-- <link rel=\"stylesheet\" href=\"https://cdnjs.cloudflare.com/ajax/libs/font-awesome/6.0.0/css/all.min.css\"> -->'),\n",
       " Document(metadata={'source': '/teamspace/studios/this_studio/langchain-ollama/王冉6_15.html', 'row': 6}, page_content='<!DOCTYPE html>: <style>'),\n",
       " Document(metadata={'source': '/teamspace/studios/this_studio/langchain-ollama/王冉6_15.html', 'row': 7}, page_content='<!DOCTYPE html>: * {'),\n",
       " Document(metadata={'source': '/teamspace/studios/this_studio/langchain-ollama/王冉6_15.html', 'row': 8}, page_content='<!DOCTYPE html>: padding: 0;'),\n",
       " Document(metadata={'source': '/teamspace/studios/this_studio/langchain-ollama/王冉6_15.html', 'row': 9}, page_content='<!DOCTYPE html>: margin: 0;'),\n",
       " Document(metadata={'source': '/teamspace/studios/this_studio/langchain-ollama/王冉6_15.html', 'row': 10}, page_content='<!DOCTYPE html>: }'),\n",
       " Document(metadata={'source': '/teamspace/studios/this_studio/langchain-ollama/王冉6_15.html', 'row': 11}, page_content='<!DOCTYPE html>: body {'),\n",
       " Document(metadata={'source': '/teamspace/studios/this_studio/langchain-ollama/王冉6_15.html', 'row': 12}, page_content='<!DOCTYPE html>: margin: 0;'),\n",
       " Document(metadata={'source': '/teamspace/studios/this_studio/langchain-ollama/王冉6_15.html', 'row': 13}, page_content='<!DOCTYPE html>: display: flex;'),\n",
       " Document(metadata={'source': '/teamspace/studios/this_studio/langchain-ollama/王冉6_15.html', 'row': 14}, page_content='<!DOCTYPE html>: flex-direction: row;'),\n",
       " Document(metadata={'source': '/teamspace/studios/this_studio/langchain-ollama/王冉6_15.html', 'row': 15}, page_content='<!DOCTYPE html>: height: 100vh;'),\n",
       " Document(metadata={'source': '/teamspace/studios/this_studio/langchain-ollama/王冉6_15.html', 'row': 16}, page_content='<!DOCTYPE html>: align-items: center;'),\n",
       " Document(metadata={'source': '/teamspace/studios/this_studio/langchain-ollama/王冉6_15.html', 'row': 17}, page_content='<!DOCTYPE html>: justify-content: center;'),\n",
       " Document(metadata={'source': '/teamspace/studios/this_studio/langchain-ollama/王冉6_15.html', 'row': 18}, page_content='<!DOCTYPE html>: background-color: #f5f5f5'),\n",
       " Document(metadata={'source': '/teamspace/studios/this_studio/langchain-ollama/王冉6_15.html', 'row': 19}, page_content='<!DOCTYPE html>: }'),\n",
       " Document(metadata={'source': '/teamspace/studios/this_studio/langchain-ollama/王冉6_15.html', 'row': 20}, page_content='<!DOCTYPE html>: ::-webkit-scrollbar {'),\n",
       " Document(metadata={'source': '/teamspace/studios/this_studio/langchain-ollama/王冉6_15.html', 'row': 21}, page_content='<!DOCTYPE html>: width: 10px'),\n",
       " Document(metadata={'source': '/teamspace/studios/this_studio/langchain-ollama/王冉6_15.html', 'row': 22}, page_content='<!DOCTYPE html>: }'),\n",
       " Document(metadata={'source': '/teamspace/studios/this_studio/langchain-ollama/王冉6_15.html', 'row': 23}, page_content='<!DOCTYPE html>: ::-webkit-scrollbar-track {'),\n",
       " Document(metadata={'source': '/teamspace/studios/this_studio/langchain-ollama/王冉6_15.html', 'row': 24}, page_content='<!DOCTYPE html>: border-radius: 8px'),\n",
       " Document(metadata={'source': '/teamspace/studios/this_studio/langchain-ollama/王冉6_15.html', 'row': 25}, page_content='<!DOCTYPE html>: }'),\n",
       " Document(metadata={'source': '/teamspace/studios/this_studio/langchain-ollama/王冉6_15.html', 'row': 26}, page_content='<!DOCTYPE html>: ::-webkit-scrollbar-thumb {'),\n",
       " Document(metadata={'source': '/teamspace/studios/this_studio/langchain-ollama/王冉6_15.html', 'row': 27}, page_content='<!DOCTYPE html>: border-radius: 10px;'),\n",
       " Document(metadata={'source': '/teamspace/studios/this_studio/langchain-ollama/王冉6_15.html', 'row': 28}, page_content='<!DOCTYPE html>: background: 0 0'),\n",
       " Document(metadata={'source': '/teamspace/studios/this_studio/langchain-ollama/王冉6_15.html', 'row': 29}, page_content='<!DOCTYPE html>: }'),\n",
       " Document(metadata={'source': '/teamspace/studios/this_studio/langchain-ollama/王冉6_15.html', 'row': 30}, page_content='<!DOCTYPE html>: .page {'),\n",
       " Document(metadata={'source': '/teamspace/studios/this_studio/langchain-ollama/王冉6_15.html', 'row': 31}, page_content='<!DOCTYPE html>: display: flex;'),\n",
       " Document(metadata={'source': '/teamspace/studios/this_studio/langchain-ollama/王冉6_15.html', 'row': 32}, page_content='<!DOCTYPE html>: flex-direction: row;'),\n",
       " Document(metadata={'source': '/teamspace/studios/this_studio/langchain-ollama/王冉6_15.html', 'row': 33}, page_content='<!DOCTYPE html>: width: 100%;'),\n",
       " Document(metadata={'source': '/teamspace/studios/this_studio/langchain-ollama/王冉6_15.html', 'row': 34}, page_content='<!DOCTYPE html>: height: 100%;'),\n",
       " Document(metadata={'source': '/teamspace/studios/this_studio/langchain-ollama/王冉6_15.html', 'row': 35}, page_content='<!DOCTYPE html>: max-width: 1200px;'),\n",
       " Document(metadata={'source': '/teamspace/studios/this_studio/langchain-ollama/王冉6_15.html', 'row': 36}, page_content='<!DOCTYPE html>: box-shadow: 1px 1px 3px #ebebeb;'),\n",
       " Document(metadata={'source': '/teamspace/studios/this_studio/langchain-ollama/王冉6_15.html', 'row': 37}, page_content='<!DOCTYPE html>: border-radius: 5px'),\n",
       " Document(metadata={'source': '/teamspace/studios/this_studio/langchain-ollama/王冉6_15.html', 'row': 38}, page_content='<!DOCTYPE html>: }'),\n",
       " Document(metadata={'source': '/teamspace/studios/this_studio/langchain-ollama/王冉6_15.html', 'row': 39}, page_content='<!DOCTYPE html>: .page .side-bar {'),\n",
       " Document(metadata={'source': '/teamspace/studios/this_studio/langchain-ollama/王冉6_15.html', 'row': 40}, page_content='<!DOCTYPE html>: width: 50px;'),\n",
       " Document(metadata={'source': '/teamspace/studios/this_studio/langchain-ollama/王冉6_15.html', 'row': 41}, page_content='<!DOCTYPE html>: border-top-left-radius: 5px;'),\n",
       " Document(metadata={'source': '/teamspace/studios/this_studio/langchain-ollama/王冉6_15.html', 'row': 42}, page_content='<!DOCTYPE html>: border-bottom-left-radius: 5px'),\n",
       " Document(metadata={'source': '/teamspace/studios/this_studio/langchain-ollama/王冉6_15.html', 'row': 43}, page_content='<!DOCTYPE html>: }'),\n",
       " Document(metadata={'source': '/teamspace/studios/this_studio/langchain-ollama/王冉6_15.html', 'row': 44}, page_content='<!DOCTYPE html>: .page .mid-bar {'),\n",
       " Document(metadata={'source': '/teamspace/studios/this_studio/langchain-ollama/王冉6_15.html', 'row': 45}, page_content='<!DOCTYPE html>: width: 300px;'),\n",
       " Document(metadata={'source': '/teamspace/studios/this_studio/langchain-ollama/王冉6_15.html', 'row': 46}, page_content='<!DOCTYPE html>: position: relative;'),\n",
       " Document(metadata={'source': '/teamspace/studios/this_studio/langchain-ollama/王冉6_15.html', 'row': 47}, page_content='<!DOCTYPE html>: --left: 60%;'),\n",
       " Document(metadata={'source': '/teamspace/studios/this_studio/langchain-ollama/王冉6_15.html', 'row': 48}, page_content='<!DOCTYPE html>: --color: #0d5dff'),\n",
       " Document(metadata={'source': '/teamspace/studios/this_studio/langchain-ollama/王冉6_15.html', 'row': 49}, page_content='<!DOCTYPE html>: }'),\n",
       " Document(metadata={'source': '/teamspace/studios/this_studio/langchain-ollama/王冉6_15.html', 'row': 50}, page_content='<!DOCTYPE html>: .page .main-body {'),\n",
       " Document(metadata={'source': '/teamspace/studios/this_studio/langchain-ollama/王冉6_15.html', 'row': 51}, page_content='<!DOCTYPE html>: flex: 1;'),\n",
       " Document(metadata={'source': '/teamspace/studios/this_studio/langchain-ollama/王冉6_15.html', 'row': 52}, page_content='<!DOCTYPE html>: display: flex;'),\n",
       " Document(metadata={'source': '/teamspace/studios/this_studio/langchain-ollama/王冉6_15.html', 'row': 53}, page_content='<!DOCTYPE html>: width: 100%;'),\n",
       " Document(metadata={'source': '/teamspace/studios/this_studio/langchain-ollama/王冉6_15.html', 'row': 54}, page_content='<!DOCTYPE html>: flex-direction: column;'),\n",
       " Document(metadata={'source': '/teamspace/studios/this_studio/langchain-ollama/王冉6_15.html', 'row': 55}, page_content='<!DOCTYPE html>: background-color: #f5f5f5;'),\n",
       " Document(metadata={'source': '/teamspace/studios/this_studio/langchain-ollama/王冉6_15.html', 'row': 56}, page_content='<!DOCTYPE html>: border-top-right-radius: 5px;'),\n",
       " Document(metadata={'source': '/teamspace/studios/this_studio/langchain-ollama/王冉6_15.html', 'row': 57}, page_content='<!DOCTYPE html>: border-bottom-right-radius: 5px'),\n",
       " Document(metadata={'source': '/teamspace/studios/this_studio/langchain-ollama/王冉6_15.html', 'row': 58}, page_content='<!DOCTYPE html>: }'),\n",
       " Document(metadata={'source': '/teamspace/studios/this_studio/langchain-ollama/王冉6_15.html', 'row': 59}, page_content='<!DOCTYPE html>: .page .main-body .title-bar {'),\n",
       " Document(metadata={'source': '/teamspace/studios/this_studio/langchain-ollama/王冉6_15.html', 'row': 60}, page_content='<!DOCTYPE html>: display: flex;'),\n",
       " Document(metadata={'source': '/teamspace/studios/this_studio/langchain-ollama/王冉6_15.html', 'row': 61}, page_content='<!DOCTYPE html>: flex-direction: row;'),\n",
       " Document(metadata={'source': '/teamspace/studios/this_studio/langchain-ollama/王冉6_15.html', 'row': 62}, page_content='<!DOCTYPE html>: justify-content: flex-start;'),\n",
       " Document(metadata={'source': '/teamspace/studios/this_studio/langchain-ollama/王冉6_15.html', 'row': 63}, page_content='<!DOCTYPE html>: align-items: center;'),\n",
       " Document(metadata={'source': '/teamspace/studios/this_studio/langchain-ollama/王冉6_15.html', 'row': 64}, page_content='<!DOCTYPE html>: padding-top: 3px'),\n",
       " Document(metadata={'source': '/teamspace/studios/this_studio/langchain-ollama/王冉6_15.html', 'row': 65}, page_content='<!DOCTYPE html>: }'),\n",
       " Document(metadata={'source': '/teamspace/studios/this_studio/langchain-ollama/王冉6_15.html', 'row': 66}, page_content='<!DOCTYPE html>: .page .main-body .title-bar p {'),\n",
       " Document(metadata={'source': '/teamspace/studios/this_studio/langchain-ollama/王冉6_15.html', 'row': 67}, page_content='<!DOCTYPE html>: margin: 5px 25px;'),\n",
       " Document(metadata={'source': '/teamspace/studios/this_studio/langchain-ollama/王冉6_15.html', 'row': 68}, page_content='<!DOCTYPE html>: font-size: 18px;'),\n",
       " Document(metadata={'source': '/teamspace/studios/this_studio/langchain-ollama/王冉6_15.html', 'row': 69}, page_content='<!DOCTYPE html>: max-width: 180px;'),\n",
       " Document(metadata={'source': '/teamspace/studios/this_studio/langchain-ollama/王冉6_15.html', 'row': 70}, page_content='<!DOCTYPE html>: align-self: flex-start'),\n",
       " Document(metadata={'source': '/teamspace/studios/this_studio/langchain-ollama/王冉6_15.html', 'row': 71}, page_content='<!DOCTYPE html>: }'),\n",
       " Document(metadata={'source': '/teamspace/studios/this_studio/langchain-ollama/王冉6_15.html', 'row': 72}, page_content='<!DOCTYPE html>: .page .main-body .container {'),\n",
       " Document(metadata={'source': '/teamspace/studios/this_studio/langchain-ollama/王冉6_15.html', 'row': 73}, page_content='<!DOCTYPE html>: flex: 1;'),\n",
       " Document(metadata={'source': '/teamspace/studios/this_studio/langchain-ollama/王冉6_15.html', 'row': 74}, page_content='<!DOCTYPE html>: border-top: solid 3px #f0f0f0;'),\n",
       " Document(metadata={'source': '/teamspace/studios/this_studio/langchain-ollama/王冉6_15.html', 'row': 75}, page_content='<!DOCTYPE html>: border-bottom: solid 3px #f0f0f0'),\n",
       " Document(metadata={'source': '/teamspace/studios/this_studio/langchain-ollama/王冉6_15.html', 'row': 76}, page_content='<!DOCTYPE html>: }'),\n",
       " Document(metadata={'source': '/teamspace/studios/this_studio/langchain-ollama/王冉6_15.html', 'row': 77}, page_content='<!DOCTYPE html>: .page .main-body .nav-bar\\nNone: '),\n",
       " Document(metadata={'source': '/teamspace/studios/this_studio/langchain-ollama/王冉6_15.html', 'row': 78}, page_content='<!DOCTYPE html>: .page .main-body .nav-bar .turner-bar {'),\n",
       " Document(metadata={'source': '/teamspace/studios/this_studio/langchain-ollama/王冉6_15.html', 'row': 79}, page_content='<!DOCTYPE html>: display: flex;'),\n",
       " Document(metadata={'source': '/teamspace/studios/this_studio/langchain-ollama/王冉6_15.html', 'row': 80}, page_content='<!DOCTYPE html>: flex-direction: row;'),\n",
       " Document(metadata={'source': '/teamspace/studios/this_studio/langchain-ollama/王冉6_15.html', 'row': 81}, page_content='<!DOCTYPE html>: justify-content: center;'),\n",
       " Document(metadata={'source': '/teamspace/studios/this_studio/langchain-ollama/王冉6_15.html', 'row': 82}, page_content='<!DOCTYPE html>: align-items: center'),\n",
       " Document(metadata={'source': '/teamspace/studios/this_studio/langchain-ollama/王冉6_15.html', 'row': 83}, page_content='<!DOCTYPE html>: }'),\n",
       " Document(metadata={'source': '/teamspace/studios/this_studio/langchain-ollama/王冉6_15.html', 'row': 84}, page_content='<!DOCTYPE html>: .page .main-body .nav-bar {'),\n",
       " Document(metadata={'source': '/teamspace/studios/this_studio/langchain-ollama/王冉6_15.html', 'row': 85}, page_content='<!DOCTYPE html>: height: 50px'),\n",
       " Document(metadata={'source': '/teamspace/studios/this_studio/langchain-ollama/王冉6_15.html', 'row': 86}, page_content='<!DOCTYPE html>: }'),\n",
       " Document(metadata={'source': '/teamspace/studios/this_studio/langchain-ollama/王冉6_15.html', 'row': 87}, page_content='<!DOCTYPE html>: .page .main-body .nav-bar .turner-bar {'),\n",
       " Document(metadata={'source': '/teamspace/studios/this_studio/langchain-ollama/王冉6_15.html', 'row': 88}, page_content='<!DOCTYPE html>: color: #2e2e2e;'),\n",
       " Document(metadata={'source': '/teamspace/studios/this_studio/langchain-ollama/王冉6_15.html', 'row': 89}, page_content='<!DOCTYPE html>: font-size: 16px;'),\n",
       " Document(metadata={'source': '/teamspace/studios/this_studio/langchain-ollama/王冉6_15.html', 'row': 90}, page_content='<!DOCTYPE html>: user-select: none'),\n",
       " Document(metadata={'source': '/teamspace/studios/this_studio/langchain-ollama/王冉6_15.html', 'row': 91}, page_content='<!DOCTYPE html>: }'),\n",
       " Document(metadata={'source': '/teamspace/studios/this_studio/langchain-ollama/王冉6_15.html', 'row': 92}, page_content='<!DOCTYPE html>: .page .main-body .nav-bar .turner-bar .button {'),\n",
       " Document(metadata={'source': '/teamspace/studios/this_studio/langchain-ollama/王冉6_15.html', 'row': 93}, page_content='<!DOCTYPE html>: display: inline-block;'),\n",
       " Document(metadata={'source': '/teamspace/studios/this_studio/langchain-ollama/王冉6_15.html', 'row': 94}, page_content='<!DOCTYPE html>: background-color: #d6d6d6;'),\n",
       " Document(metadata={'source': '/teamspace/studios/this_studio/langchain-ollama/王冉6_15.html', 'row': 95}, page_content='<!DOCTYPE html>: margin-left: 20px;'),\n",
       " Document(metadata={'source': '/teamspace/studios/this_studio/langchain-ollama/王冉6_15.html', 'row': 96}, page_content='<!DOCTYPE html>: margin-right: 20px;'),\n",
       " Document(metadata={'source': '/teamspace/studios/this_studio/langchain-ollama/王冉6_15.html', 'row': 97}, page_content='<!DOCTYPE html>: padding: 10px 15px;'),\n",
       " Document(metadata={'source': '/teamspace/studios/this_studio/langchain-ollama/王冉6_15.html', 'row': 98}, page_content='<!DOCTYPE html>: border-radius: 5px;'),\n",
       " Document(metadata={'source': '/teamspace/studios/this_studio/langchain-ollama/王冉6_15.html', 'row': 99}, page_content='<!DOCTYPE html>: font-size: 14px;'),\n",
       " Document(metadata={'source': '/teamspace/studios/this_studio/langchain-ollama/王冉6_15.html', 'row': 100}, page_content='<!DOCTYPE html>: cursor: pointer;'),\n",
       " Document(metadata={'source': '/teamspace/studios/this_studio/langchain-ollama/王冉6_15.html', 'row': 101}, page_content='<!DOCTYPE html>: transition: all .2s'),\n",
       " Document(metadata={'source': '/teamspace/studios/this_studio/langchain-ollama/王冉6_15.html', 'row': 102}, page_content='<!DOCTYPE html>: }'),\n",
       " Document(metadata={'source': '/teamspace/studios/this_studio/langchain-ollama/王冉6_15.html', 'row': 103}, page_content='<!DOCTYPE html>: .page .main-body .nav-bar .turner-bar .button:hover {'),\n",
       " Document(metadata={'source': '/teamspace/studios/this_studio/langchain-ollama/王冉6_15.html', 'row': 104}, page_content='<!DOCTYPE html>: background-color: #ebebeb'),\n",
       " Document(metadata={'source': '/teamspace/studios/this_studio/langchain-ollama/王冉6_15.html', 'row': 105}, page_content='<!DOCTYPE html>: }'),\n",
       " Document(metadata={'source': '/teamspace/studios/this_studio/langchain-ollama/王冉6_15.html', 'row': 106}, page_content='<!DOCTYPE html>: .page .main-body .nav-bar .turner-bar p {'),\n",
       " Document(metadata={'source': '/teamspace/studios/this_studio/langchain-ollama/王冉6_15.html', 'row': 107}, page_content='<!DOCTYPE html>: display: inline-block;'),\n",
       " Document(metadata={'source': '/teamspace/studios/this_studio/langchain-ollama/王冉6_15.html', 'row': 108}, page_content='<!DOCTYPE html>: margin-left: 5px;'),\n",
       " Document(metadata={'source': '/teamspace/studios/this_studio/langchain-ollama/王冉6_15.html', 'row': 109}, page_content='<!DOCTYPE html>: margin-right: 5px'),\n",
       " Document(metadata={'source': '/teamspace/studios/this_studio/langchain-ollama/王冉6_15.html', 'row': 110}, page_content='<!DOCTYPE html>: }'),\n",
       " Document(metadata={'source': '/teamspace/studios/this_studio/langchain-ollama/王冉6_15.html', 'row': 111}, page_content='<!DOCTYPE html>: .page .main-body .nav-bar .turner-bar input {'),\n",
       " Document(metadata={'source': '/teamspace/studios/this_studio/langchain-ollama/王冉6_15.html', 'row': 112}, page_content='<!DOCTYPE html>: border: 0;'),\n",
       " Document(metadata={'source': '/teamspace/studios/this_studio/langchain-ollama/王冉6_15.html', 'row': 113}, page_content='<!DOCTYPE html>: resize: none;'),\n",
       " Document(metadata={'source': '/teamspace/studios/this_studio/langchain-ollama/王冉6_15.html', 'row': 114}, page_content='<!DOCTYPE html>: outline: 0;'),\n",
       " Document(metadata={'source': '/teamspace/studios/this_studio/langchain-ollama/王冉6_15.html', 'row': 115}, page_content='<!DOCTYPE html>: background: 0 0;'),\n",
       " Document(metadata={'source': '/teamspace/studios/this_studio/langchain-ollama/王冉6_15.html', 'row': 116}, page_content='<!DOCTYPE html>: border-bottom: solid 1px #1f1f1f;'),\n",
       " Document(metadata={'source': '/teamspace/studios/this_studio/langchain-ollama/王冉6_15.html', 'row': 117}, page_content='<!DOCTYPE html>: text-align: center;'),\n",
       " Document(metadata={'source': '/teamspace/studios/this_studio/langchain-ollama/王冉6_15.html', 'row': 118}, page_content='<!DOCTYPE html>: font-size: 18px;'),\n",
       " Document(metadata={'source': '/teamspace/studios/this_studio/langchain-ollama/王冉6_15.html', 'row': 119}, page_content='<!DOCTYPE html>: font-weight: 600;'),\n",
       " Document(metadata={'source': '/teamspace/studios/this_studio/langchain-ollama/王冉6_15.html', 'row': 120}, page_content='<!DOCTYPE html>: height: 24px;'),\n",
       " Document(metadata={'source': '/teamspace/studios/this_studio/langchain-ollama/王冉6_15.html', 'row': 121}, page_content='<!DOCTYPE html>: width: 50px'),\n",
       " Document(metadata={'source': '/teamspace/studios/this_studio/langchain-ollama/王冉6_15.html', 'row': 122}, page_content='<!DOCTYPE html>: }'),\n",
       " Document(metadata={'source': '/teamspace/studios/this_studio/langchain-ollama/王冉6_15.html', 'row': 123}, page_content='<!DOCTYPE html>: .page .mid-bar .timeline-area\\nNone: '),\n",
       " Document(metadata={'source': '/teamspace/studios/this_studio/langchain-ollama/王冉6_15.html', 'row': 124}, page_content='<!DOCTYPE html>: .timeline {'),\n",
       " Document(metadata={'source': '/teamspace/studios/this_studio/langchain-ollama/王冉6_15.html', 'row': 125}, page_content='<!DOCTYPE html>: position: relative;'),\n",
       " Document(metadata={'source': '/teamspace/studios/this_studio/langchain-ollama/王冉6_15.html', 'row': 126}, page_content='<!DOCTYPE html>: height: 100%;'),\n",
       " Document(metadata={'source': '/teamspace/studios/this_studio/langchain-ollama/王冉6_15.html', 'row': 127}, page_content='<!DOCTYPE html>: display: flex;'),\n",
       " Document(metadata={'source': '/teamspace/studios/this_studio/langchain-ollama/王冉6_15.html', 'row': 128}, page_content='<!DOCTYPE html>: overflow-y: auto;'),\n",
       " Document(metadata={'source': '/teamspace/studios/this_studio/langchain-ollama/王冉6_15.html', 'row': 129}, page_content='<!DOCTYPE html>: flex-direction: column'),\n",
       " Document(metadata={'source': '/teamspace/studios/this_studio/langchain-ollama/王冉6_15.html', 'row': 130}, page_content='<!DOCTYPE html>: }'),\n",
       " Document(metadata={'source': '/teamspace/studios/this_studio/langchain-ollama/王冉6_15.html', 'row': 131}, page_content='<!DOCTYPE html>: .page .mid-bar .timeline-area {'),\n",
       " Document(metadata={'source': '/teamspace/studios/this_studio/langchain-ollama/王冉6_15.html', 'row': 132}, page_content='<!DOCTYPE html>: flex: 1;'),\n",
       " Document(metadata={'source': '/teamspace/studios/this_studio/langchain-ollama/王冉6_15.html', 'row': 133}, page_content='<!DOCTYPE html>: padding-right: 5px'),\n",
       " Document(metadata={'source': '/teamspace/studios/this_studio/langchain-ollama/王冉6_15.html', 'row': 134}, page_content='<!DOCTYPE html>: }'),\n",
       " Document(metadata={'source': '/teamspace/studios/this_studio/langchain-ollama/王冉6_15.html', 'row': 135}, page_content='<!DOCTYPE html>: .timeline-wrapper {'),\n",
       " Document(metadata={'source': '/teamspace/studios/this_studio/langchain-ollama/王冉6_15.html', 'row': 136}, page_content='<!DOCTYPE html>: flex: 1;'),\n",
       " Document(metadata={'source': '/teamspace/studios/this_studio/langchain-ollama/王冉6_15.html', 'row': 137}, page_content='<!DOCTYPE html>: overflow-y: auto;'),\n",
       " Document(metadata={'source': '/teamspace/studios/this_studio/langchain-ollama/王冉6_15.html', 'row': 138}, page_content='<!DOCTYPE html>: padding: 30% 0'),\n",
       " Document(metadata={'source': '/teamspace/studios/this_studio/langchain-ollama/王冉6_15.html', 'row': 139}, page_content='<!DOCTYPE html>: }'),\n",
       " Document(metadata={'source': '/teamspace/studios/this_studio/langchain-ollama/王冉6_15.html', 'row': 140}, page_content='<!DOCTYPE html>: .timeline {'),\n",
       " Document(metadata={'source': '/teamspace/studios/this_studio/langchain-ollama/王冉6_15.html', 'row': 141}, page_content='<!DOCTYPE html>: width: 100%;'),\n",
       " Document(metadata={'source': '/teamspace/studios/this_studio/langchain-ollama/王冉6_15.html', 'row': 142}, page_content='<!DOCTYPE html>: overflow: hidden'),\n",
       " Document(metadata={'source': '/teamspace/studios/this_studio/langchain-ollama/王冉6_15.html', 'row': 143}, page_content='<!DOCTYPE html>: }'),\n",
       " Document(metadata={'source': '/teamspace/studios/this_studio/langchain-ollama/王冉6_15.html', 'row': 144}, page_content='<!DOCTYPE html>: .timeline-item-year {'),\n",
       " Document(metadata={'source': '/teamspace/studios/this_studio/langchain-ollama/王冉6_15.html', 'row': 145}, page_content='<!DOCTYPE html>: height: 40px;'),\n",
       " Document(metadata={'source': '/teamspace/studios/this_studio/langchain-ollama/王冉6_15.html', 'row': 146}, page_content='<!DOCTYPE html>: position: relative;'),\n",
       " Document(metadata={'source': '/teamspace/studios/this_studio/langchain-ollama/王冉6_15.html', 'row': 147}, page_content='<!DOCTYPE html>: display: flex'),\n",
       " Document(metadata={'source': '/teamspace/studios/this_studio/langchain-ollama/王冉6_15.html', 'row': 148}, page_content='<!DOCTYPE html>: }'),\n",
       " Document(metadata={'source': '/teamspace/studios/this_studio/langchain-ollama/王冉6_15.html', 'row': 149}, page_content='<!DOCTYPE html>: .timeline-item-month {'),\n",
       " Document(metadata={'source': '/teamspace/studios/this_studio/langchain-ollama/王冉6_15.html', 'row': 150}, page_content='<!DOCTYPE html>: height: 25px;'),\n",
       " Document(metadata={'source': '/teamspace/studios/this_studio/langchain-ollama/王冉6_15.html', 'row': 151}, page_content='<!DOCTYPE html>: display: flex'),\n",
       " Document(metadata={'source': '/teamspace/studios/this_studio/langchain-ollama/王冉6_15.html', 'row': 152}, page_content='<!DOCTYPE html>: }'),\n",
       " Document(metadata={'source': '/teamspace/studios/this_studio/langchain-ollama/王冉6_15.html', 'row': 153}, page_content='<!DOCTYPE html>: .timeline::before {'),\n",
       " Document(metadata={'source': '/teamspace/studios/this_studio/langchain-ollama/王冉6_15.html', 'row': 154}, page_content='<!DOCTYPE html>: content: \"\";'),\n",
       " Document(metadata={'source': '/teamspace/studios/this_studio/langchain-ollama/王冉6_15.html', 'row': 155}, page_content='<!DOCTYPE html>: position: absolute;'),\n",
       " Document(metadata={'source': '/teamspace/studios/this_studio/langchain-ollama/王冉6_15.html', 'row': 156}, page_content='<!DOCTYPE html>: left: var(--left);'),\n",
       " Document(metadata={'source': '/teamspace/studios/this_studio/langchain-ollama/王冉6_15.html', 'row': 157}, page_content='<!DOCTYPE html>: width: 1px;'),\n",
       " Document(metadata={'source': '/teamspace/studios/this_studio/langchain-ollama/王冉6_15.html', 'row': 158}, page_content='<!DOCTYPE html>: height: 600px;'),\n",
       " Document(metadata={'source': '/teamspace/studios/this_studio/langchain-ollama/王冉6_15.html', 'row': 159}, page_content='<!DOCTYPE html>: top: 20px;'),\n",
       " Document(metadata={'source': '/teamspace/studios/this_studio/langchain-ollama/王冉6_15.html', 'row': 160}, page_content='<!DOCTYPE html>: bottom: 0;'),\n",
       " Document(metadata={'source': '/teamspace/studios/this_studio/langchain-ollama/王冉6_15.html', 'row': 161}, page_content='<!DOCTYPE html>: background-image: linear-gradient(to bottom\\nNone: rgba(144,156,173,.6) 60%,rgba(255,255,255,0) 0%);'),\n",
       " Document(metadata={'source': '/teamspace/studios/this_studio/langchain-ollama/王冉6_15.html', 'row': 162}, page_content='<!DOCTYPE html>: background-position: left;'),\n",
       " Document(metadata={'source': '/teamspace/studios/this_studio/langchain-ollama/王冉6_15.html', 'row': 163}, page_content='<!DOCTYPE html>: background-size: 1px 5px;'),\n",
       " Document(metadata={'source': '/teamspace/studios/this_studio/langchain-ollama/王冉6_15.html', 'row': 164}, page_content='<!DOCTYPE html>: background-repeat: repeat-y'),\n",
       " Document(metadata={'source': '/teamspace/studios/this_studio/langchain-ollama/王冉6_15.html', 'row': 165}, page_content='<!DOCTYPE html>: }'),\n",
       " Document(metadata={'source': '/teamspace/studios/this_studio/langchain-ollama/王冉6_15.html', 'row': 166}, page_content='<!DOCTYPE html>: .timeline-dot-month\\nNone: '),\n",
       " Document(metadata={'source': '/teamspace/studios/this_studio/langchain-ollama/王冉6_15.html', 'row': 167}, page_content='<!DOCTYPE html>: .timeline-dot-year {'),\n",
       " Document(metadata={'source': '/teamspace/studios/this_studio/langchain-ollama/王冉6_15.html', 'row': 168}, page_content='<!DOCTYPE html>: left: var(--left);'),\n",
       " Document(metadata={'source': '/teamspace/studios/this_studio/langchain-ollama/王冉6_15.html', 'row': 169}, page_content='<!DOCTYPE html>: position: relative;'),\n",
       " Document(metadata={'source': '/teamspace/studios/this_studio/langchain-ollama/王冉6_15.html', 'row': 170}, page_content='<!DOCTYPE html>: border-radius: 50%;'),\n",
       " Document(metadata={'source': '/teamspace/studios/this_studio/langchain-ollama/王冉6_15.html', 'row': 171}, page_content='<!DOCTYPE html>: box-shadow: 0 0 0 1px #d8d8d8;'),\n",
       " Document(metadata={'source': '/teamspace/studios/this_studio/langchain-ollama/王冉6_15.html', 'row': 172}, page_content='<!DOCTYPE html>: text-align: center;'),\n",
       " Document(metadata={'source': '/teamspace/studios/this_studio/langchain-ollama/王冉6_15.html', 'row': 173}, page_content='<!DOCTYPE html>: top: 50%;'),\n",
       " Document(metadata={'source': '/teamspace/studios/this_studio/langchain-ollama/王冉6_15.html', 'row': 174}, page_content='<!DOCTYPE html>: transform: translateY(-50%);'),\n",
       " Document(metadata={'source': '/teamspace/studios/this_studio/langchain-ollama/王冉6_15.html', 'row': 175}, page_content='<!DOCTYPE html>: line-height: 40px'),\n",
       " Document(metadata={'source': '/teamspace/studios/this_studio/langchain-ollama/王冉6_15.html', 'row': 176}, page_content='<!DOCTYPE html>: }'),\n",
       " Document(metadata={'source': '/teamspace/studios/this_studio/langchain-ollama/王冉6_15.html', 'row': 177}, page_content='<!DOCTYPE html>: .timeline-dot-month {'),\n",
       " Document(metadata={'source': '/teamspace/studios/this_studio/langchain-ollama/王冉6_15.html', 'row': 178}, page_content='<!DOCTYPE html>: background: #fff;'),\n",
       " Document(metadata={'source': '/teamspace/studios/this_studio/langchain-ollama/王冉6_15.html', 'row': 179}, page_content='<!DOCTYPE html>: width: 7px;'),\n",
       " Document(metadata={'source': '/teamspace/studios/this_studio/langchain-ollama/王冉6_15.html', 'row': 180}, page_content='<!DOCTYPE html>: height: 7px;'),\n",
       " Document(metadata={'source': '/teamspace/studios/this_studio/langchain-ollama/王冉6_15.html', 'row': 181}, page_content='<!DOCTYPE html>: margin-left: -3px'),\n",
       " Document(metadata={'source': '/teamspace/studios/this_studio/langchain-ollama/王冉6_15.html', 'row': 182}, page_content='<!DOCTYPE html>: }'),\n",
       " Document(metadata={'source': '/teamspace/studios/this_studio/langchain-ollama/王冉6_15.html', 'row': 183}, page_content='<!DOCTYPE html>: .timeline-dot-year {'),\n",
       " Document(metadata={'source': '/teamspace/studios/this_studio/langchain-ollama/王冉6_15.html', 'row': 184}, page_content='<!DOCTYPE html>: width: 10px;'),\n",
       " Document(metadata={'source': '/teamspace/studios/this_studio/langchain-ollama/王冉6_15.html', 'row': 185}, page_content='<!DOCTYPE html>: height: 10px;'),\n",
       " Document(metadata={'source': '/teamspace/studios/this_studio/langchain-ollama/王冉6_15.html', 'row': 186}, page_content='<!DOCTYPE html>: background: #000;'),\n",
       " Document(metadata={'source': '/teamspace/studios/this_studio/langchain-ollama/王冉6_15.html', 'row': 187}, page_content='<!DOCTYPE html>: margin-left: -4.5px'),\n",
       " Document(metadata={'source': '/teamspace/studios/this_studio/langchain-ollama/王冉6_15.html', 'row': 188}, page_content='<!DOCTYPE html>: }'),\n",
       " Document(metadata={'source': '/teamspace/studios/this_studio/langchain-ollama/王冉6_15.html', 'row': 189}, page_content='<!DOCTYPE html>: .timeline-item-month.current .timeline-dot-month {'),\n",
       " Document(metadata={'source': '/teamspace/studios/this_studio/langchain-ollama/王冉6_15.html', 'row': 190}, page_content='<!DOCTYPE html>: width: 7px;'),\n",
       " Document(metadata={'source': '/teamspace/studios/this_studio/langchain-ollama/王冉6_15.html', 'row': 191}, page_content='<!DOCTYPE html>: height: 7px;'),\n",
       " Document(metadata={'source': '/teamspace/studios/this_studio/langchain-ollama/王冉6_15.html', 'row': 192}, page_content='<!DOCTYPE html>: background-color: var(--color);'),\n",
       " Document(metadata={'source': '/teamspace/studios/this_studio/langchain-ollama/王冉6_15.html', 'row': 193}, page_content='<!DOCTYPE html>: box-shadow: 0 0 4px var(--color);'),\n",
       " Document(metadata={'source': '/teamspace/studios/this_studio/langchain-ollama/王冉6_15.html', 'row': 194}, page_content='<!DOCTYPE html>: border: 1px solid #fff;'),\n",
       " Document(metadata={'source': '/teamspace/studios/this_studio/langchain-ollama/王冉6_15.html', 'row': 195}, page_content='<!DOCTYPE html>: margin-left: -3px'),\n",
       " Document(metadata={'source': '/teamspace/studios/this_studio/langchain-ollama/王冉6_15.html', 'row': 196}, page_content='<!DOCTYPE html>: }'),\n",
       " Document(metadata={'source': '/teamspace/studios/this_studio/langchain-ollama/王冉6_15.html', 'row': 197}, page_content='<!DOCTYPE html>: .timeline-item-month .timeline-right\\nNone: '),\n",
       " Document(metadata={'source': '/teamspace/studios/this_studio/langchain-ollama/王冉6_15.html', 'row': 198}, page_content='<!DOCTYPE html>: .timeline-item-year .timeline-right {'),\n",
       " Document(metadata={'source': '/teamspace/studios/this_studio/langchain-ollama/王冉6_15.html', 'row': 199}, page_content='<!DOCTYPE html>: position: relative;'),\n",
       " Document(metadata={'source': '/teamspace/studios/this_studio/langchain-ollama/王冉6_15.html', 'row': 200}, page_content='<!DOCTYPE html>: margin: 0 0 0 calc(var(--left) + 15px);'),\n",
       " Document(metadata={'source': '/teamspace/studios/this_studio/langchain-ollama/王冉6_15.html', 'row': 201}, page_content='<!DOCTYPE html>: height: 40px;'),\n",
       " Document(metadata={'source': '/teamspace/studios/this_studio/langchain-ollama/王冉6_15.html', 'row': 202}, page_content='<!DOCTYPE html>: line-height: 40px'),\n",
       " Document(metadata={'source': '/teamspace/studios/this_studio/langchain-ollama/王冉6_15.html', 'row': 203}, page_content='<!DOCTYPE html>: }'),\n",
       " Document(metadata={'source': '/teamspace/studios/this_studio/langchain-ollama/王冉6_15.html', 'row': 204}, page_content='<!DOCTYPE html>: .timeline-item-month .timeline-right {'),\n",
       " Document(metadata={'source': '/teamspace/studios/this_studio/langchain-ollama/王冉6_15.html', 'row': 205}, page_content='<!DOCTYPE html>: height: 25px;'),\n",
       " Document(metadata={'source': '/teamspace/studios/this_studio/langchain-ollama/王冉6_15.html', 'row': 206}, page_content='<!DOCTYPE html>: line-height: 25px'),\n",
       " Document(metadata={'source': '/teamspace/studios/this_studio/langchain-ollama/王冉6_15.html', 'row': 207}, page_content='<!DOCTYPE html>: }'),\n",
       " Document(metadata={'source': '/teamspace/studios/this_studio/langchain-ollama/王冉6_15.html', 'row': 208}, page_content='<!DOCTYPE html>: .timeline-right:hover {'),\n",
       " Document(metadata={'source': '/teamspace/studios/this_studio/langchain-ollama/王冉6_15.html', 'row': 209}, page_content='<!DOCTYPE html>: color: red'),\n",
       " Document(metadata={'source': '/teamspace/studios/this_studio/langchain-ollama/王冉6_15.html', 'row': 210}, page_content='<!DOCTYPE html>: }'),\n",
       " Document(metadata={'source': '/teamspace/studios/this_studio/langchain-ollama/王冉6_15.html', 'row': 211}, page_content='<!DOCTYPE html>: .no-msg-month {'),\n",
       " Document(metadata={'source': '/teamspace/studios/this_studio/langchain-ollama/王冉6_15.html', 'row': 212}, page_content='<!DOCTYPE html>: color: #9e9898'),\n",
       " Document(metadata={'source': '/teamspace/studios/this_studio/langchain-ollama/王冉6_15.html', 'row': 213}, page_content='<!DOCTYPE html>: }'),\n",
       " Document(metadata={'source': '/teamspace/studios/this_studio/langchain-ollama/王冉6_15.html', 'row': 214}, page_content='<!DOCTYPE html>: .hidden-month {'),\n",
       " Document(metadata={'source': '/teamspace/studios/this_studio/langchain-ollama/王冉6_15.html', 'row': 215}, page_content='<!DOCTYPE html>: display: none'),\n",
       " Document(metadata={'source': '/teamspace/studios/this_studio/langchain-ollama/王冉6_15.html', 'row': 216}, page_content='<!DOCTYPE html>: }'),\n",
       " Document(metadata={'source': '/teamspace/studios/this_studio/langchain-ollama/王冉6_15.html', 'row': 217}, page_content='<!DOCTYPE html>: .container {'),\n",
       " Document(metadata={'source': '/teamspace/studios/this_studio/langchain-ollama/王冉6_15.html', 'row': 218}, page_content='<!DOCTYPE html>: display: flex;'),\n",
       " Document(metadata={'source': '/teamspace/studios/this_studio/langchain-ollama/王冉6_15.html', 'row': 219}, page_content='<!DOCTYPE html>: overflow: hidden;'),\n",
       " Document(metadata={'source': '/teamspace/studios/this_studio/langchain-ollama/王冉6_15.html', 'row': 220}, page_content='<!DOCTYPE html>: justify-content: center'),\n",
       " Document(metadata={'source': '/teamspace/studios/this_studio/langchain-ollama/王冉6_15.html', 'row': 221}, page_content='<!DOCTYPE html>: }'),\n",
       " Document(metadata={'source': '/teamspace/studios/this_studio/langchain-ollama/王冉6_15.html', 'row': 222}, page_content='<!DOCTYPE html>: .container .content {'),\n",
       " Document(metadata={'source': '/teamspace/studios/this_studio/langchain-ollama/王冉6_15.html', 'row': 223}, page_content='<!DOCTYPE html>: width: calc(100% - 40px);'),\n",
       " Document(metadata={'source': '/teamspace/studios/this_studio/langchain-ollama/王冉6_15.html', 'row': 224}, page_content='<!DOCTYPE html>: padding: 20px;'),\n",
       " Document(metadata={'source': '/teamspace/studios/this_studio/langchain-ollama/王冉6_15.html', 'row': 225}, page_content='<!DOCTYPE html>: overflow-y: scroll;'),\n",
       " Document(metadata={'source': '/teamspace/studios/this_studio/langchain-ollama/王冉6_15.html', 'row': 226}, page_content='<!DOCTYPE html>: flex: 1'),\n",
       " Document(metadata={'source': '/teamspace/studios/this_studio/langchain-ollama/王冉6_15.html', 'row': 227}, page_content='<!DOCTYPE html>: }'),\n",
       " Document(metadata={'source': '/teamspace/studios/this_studio/langchain-ollama/王冉6_15.html', 'row': 228}, page_content='<!DOCTYPE html>: .container .content:hover::-webkit-scrollbar-thumb {'),\n",
       " Document(metadata={'source': '/teamspace/studios/this_studio/langchain-ollama/王冉6_15.html', 'row': 229}, page_content='<!DOCTYPE html>: background: rgba(0\\nNone: 0,0,.1)'),\n",
       " Document(metadata={'source': '/teamspace/studios/this_studio/langchain-ollama/王冉6_15.html', 'row': 230}, page_content='<!DOCTYPE html>: }'),\n",
       " Document(metadata={'source': '/teamspace/studios/this_studio/langchain-ollama/王冉6_15.html', 'row': 231}, page_content='<!DOCTYPE html>: .container .content:hover::-webkit-scrollbar-thumb:hover {'),\n",
       " Document(metadata={'source': '/teamspace/studios/this_studio/langchain-ollama/王冉6_15.html', 'row': 232}, page_content='<!DOCTYPE html>: background: rgba(0\\nNone: 0,0,.3)'),\n",
       " Document(metadata={'source': '/teamspace/studios/this_studio/langchain-ollama/王冉6_15.html', 'row': 233}, page_content='<!DOCTYPE html>: }'),\n",
       " Document(metadata={'source': '/teamspace/studios/this_studio/langchain-ollama/王冉6_15.html', 'row': 234}, page_content='<!DOCTYPE html>: @media screen and (max-width:768px) {'),\n",
       " Document(metadata={'source': '/teamspace/studios/this_studio/langchain-ollama/王冉6_15.html', 'row': 235}, page_content='<!DOCTYPE html>: .container .content {'),\n",
       " Document(metadata={'source': '/teamspace/studios/this_studio/langchain-ollama/王冉6_15.html', 'row': 236}, page_content='<!DOCTYPE html>: width: calc(100% - 40px);'),\n",
       " Document(metadata={'source': '/teamspace/studios/this_studio/langchain-ollama/王冉6_15.html', 'row': 237}, page_content='<!DOCTYPE html>: padding: 10px;'),\n",
       " Document(metadata={'source': '/teamspace/studios/this_studio/langchain-ollama/王冉6_15.html', 'row': 238}, page_content='<!DOCTYPE html>: overflow-y: scroll;'),\n",
       " Document(metadata={'source': '/teamspace/studios/this_studio/langchain-ollama/王冉6_15.html', 'row': 239}, page_content='<!DOCTYPE html>: flex: 1'),\n",
       " Document(metadata={'source': '/teamspace/studios/this_studio/langchain-ollama/王冉6_15.html', 'row': 240}, page_content='<!DOCTYPE html>: }'),\n",
       " Document(metadata={'source': '/teamspace/studios/this_studio/langchain-ollama/王冉6_15.html', 'row': 241}, page_content='<!DOCTYPE html>: }'),\n",
       " Document(metadata={'source': '/teamspace/studios/this_studio/langchain-ollama/王冉6_15.html', 'row': 242}, page_content='<!DOCTYPE html>: .bubble\\nNone: '),\n",
       " Document(metadata={'source': '/teamspace/studios/this_studio/langchain-ollama/王冉6_15.html', 'row': 243}, page_content='<!DOCTYPE html>: .chat-refer {'),\n",
       " Document(metadata={'source': '/teamspace/studios/this_studio/langchain-ollama/王冉6_15.html', 'row': 244}, page_content='<!DOCTYPE html>: max-width: 400px;'),\n",
       " Document(metadata={'source': '/teamspace/studios/this_studio/langchain-ollama/王冉6_15.html', 'row': 245}, page_content='<!DOCTYPE html>: position: relative;'),\n",
       " Document(metadata={'source': '/teamspace/studios/this_studio/langchain-ollama/王冉6_15.html', 'row': 246}, page_content='<!DOCTYPE html>: word-wrap: break-word;'),\n",
       " Document(metadata={'source': '/teamspace/studios/this_studio/langchain-ollama/王冉6_15.html', 'row': 247}, page_content='<!DOCTYPE html>: word-break: normal'),\n",
       " Document(metadata={'source': '/teamspace/studios/this_studio/langchain-ollama/王冉6_15.html', 'row': 248}, page_content='<!DOCTYPE html>: }'),\n",
       " Document(metadata={'source': '/teamspace/studios/this_studio/langchain-ollama/王冉6_15.html', 'row': 249}, page_content='<!DOCTYPE html>: .bubble {'),\n",
       " Document(metadata={'source': '/teamspace/studios/this_studio/langchain-ollama/王冉6_15.html', 'row': 250}, page_content='<!DOCTYPE html>: white-space: pre-wrap;'),\n",
       " Document(metadata={'source': '/teamspace/studios/this_studio/langchain-ollama/王冉6_15.html', 'row': 251}, page_content='<!DOCTYPE html>: padding: 10px 11px;'),\n",
       " Document(metadata={'source': '/teamspace/studios/this_studio/langchain-ollama/王冉6_15.html', 'row': 252}, page_content='<!DOCTYPE html>: border-radius: 5px;'),\n",
       " Document(metadata={'source': '/teamspace/studios/this_studio/langchain-ollama/王冉6_15.html', 'row': 253}, page_content='<!DOCTYPE html>: color: #1f1f1f;'),\n",
       " Document(metadata={'source': '/teamspace/studios/this_studio/langchain-ollama/王冉6_15.html', 'row': 254}, page_content='<!DOCTYPE html>: font-size: 14px'),\n",
       " Document(metadata={'source': '/teamspace/studios/this_studio/langchain-ollama/王冉6_15.html', 'row': 255}, page_content='<!DOCTYPE html>: }'),\n",
       " Document(metadata={'source': '/teamspace/studios/this_studio/langchain-ollama/王冉6_15.html', 'row': 256}, page_content='<!DOCTYPE html>: .chat-refer {'),\n",
       " Document(metadata={'source': '/teamspace/studios/this_studio/langchain-ollama/王冉6_15.html', 'row': 257}, page_content='<!DOCTYPE html>: margin-top: 5px;'),\n",
       " Document(metadata={'source': '/teamspace/studios/this_studio/langchain-ollama/王冉6_15.html', 'row': 258}, page_content='<!DOCTYPE html>: padding: 8px 10px;'),\n",
       " Document(metadata={'source': '/teamspace/studios/this_studio/langchain-ollama/王冉6_15.html', 'row': 259}, page_content='<!DOCTYPE html>: border-radius: 3px;'),\n",
       " Document(metadata={'source': '/teamspace/studios/this_studio/langchain-ollama/王冉6_15.html', 'row': 260}, page_content='<!DOCTYPE html>: color: #797979;'),\n",
       " Document(metadata={'source': '/teamspace/studios/this_studio/langchain-ollama/王冉6_15.html', 'row': 261}, page_content='<!DOCTYPE html>: font-size: 12px;'),\n",
       " Document(metadata={'source': '/teamspace/studios/this_studio/langchain-ollama/王冉6_15.html', 'row': 262}, page_content='<!DOCTYPE html>: background-color: #e8e8e8'),\n",
       " Document(metadata={'source': '/teamspace/studios/this_studio/langchain-ollama/王冉6_15.html', 'row': 263}, page_content='<!DOCTYPE html>: }'),\n",
       " Document(metadata={'source': '/teamspace/studios/this_studio/langchain-ollama/王冉6_15.html', 'row': 264}, page_content='<!DOCTYPE html>: .chat-refer-right {'),\n",
       " Document(metadata={'source': '/teamspace/studios/this_studio/langchain-ollama/王冉6_15.html', 'row': 265}, page_content='<!DOCTYPE html>: margin-right: 15px'),\n",
       " Document(metadata={'source': '/teamspace/studios/this_studio/langchain-ollama/王冉6_15.html', 'row': 266}, page_content='<!DOCTYPE html>: }'),\n",
       " Document(metadata={'source': '/teamspace/studios/this_studio/langchain-ollama/王冉6_15.html', 'row': 267}, page_content='<!DOCTYPE html>: .chat-refer-left {'),\n",
       " Document(metadata={'source': '/teamspace/studios/this_studio/langchain-ollama/王冉6_15.html', 'row': 268}, page_content='<!DOCTYPE html>: margin-left: 15px'),\n",
       " Document(metadata={'source': '/teamspace/studios/this_studio/langchain-ollama/王冉6_15.html', 'row': 269}, page_content='<!DOCTYPE html>: }'),\n",
       " Document(metadata={'source': '/teamspace/studios/this_studio/langchain-ollama/王冉6_15.html', 'row': 270}, page_content='<!DOCTYPE html>: .item-left .bubble {'),\n",
       " Document(metadata={'source': '/teamspace/studios/this_studio/langchain-ollama/王冉6_15.html', 'row': 271}, page_content='<!DOCTYPE html>: margin-left: 15px;'),\n",
       " Document(metadata={'source': '/teamspace/studios/this_studio/langchain-ollama/王冉6_15.html', 'row': 272}, page_content='<!DOCTYPE html>: background-color: #fff'),\n",
       " Document(metadata={'source': '/teamspace/studios/this_studio/langchain-ollama/王冉6_15.html', 'row': 273}, page_content='<!DOCTYPE html>: }'),\n",
       " Document(metadata={'source': '/teamspace/studios/this_studio/langchain-ollama/王冉6_15.html', 'row': 274}, page_content='<!DOCTYPE html>: .item-left .bubble:before\\nNone: '),\n",
       " Document(metadata={'source': '/teamspace/studios/this_studio/langchain-ollama/王冉6_15.html', 'row': 275}, page_content='<!DOCTYPE html>: .item-right .bubble:before {'),\n",
       " Document(metadata={'source': '/teamspace/studios/this_studio/langchain-ollama/王冉6_15.html', 'row': 276}, page_content='<!DOCTYPE html>: content: \"\";'),\n",
       " Document(metadata={'source': '/teamspace/studios/this_studio/langchain-ollama/王冉6_15.html', 'row': 277}, page_content='<!DOCTYPE html>: position: absolute;'),\n",
       " Document(metadata={'source': '/teamspace/studios/this_studio/langchain-ollama/王冉6_15.html', 'row': 278}, page_content='<!DOCTYPE html>: width: 0;'),\n",
       " Document(metadata={'source': '/teamspace/studios/this_studio/langchain-ollama/王冉6_15.html', 'row': 279}, page_content='<!DOCTYPE html>: height: 0;'),\n",
       " Document(metadata={'source': '/teamspace/studios/this_studio/langchain-ollama/王冉6_15.html', 'row': 280}, page_content='<!DOCTYPE html>: border-top: 10px solid transparent;'),\n",
       " Document(metadata={'source': '/teamspace/studios/this_studio/langchain-ollama/王冉6_15.html', 'row': 281}, page_content='<!DOCTYPE html>: border-bottom: 10px solid transparent'),\n",
       " Document(metadata={'source': '/teamspace/studios/this_studio/langchain-ollama/王冉6_15.html', 'row': 282}, page_content='<!DOCTYPE html>: }'),\n",
       " Document(metadata={'source': '/teamspace/studios/this_studio/langchain-ollama/王冉6_15.html', 'row': 283}, page_content='<!DOCTYPE html>: .item-left .bubble:before {'),\n",
       " Document(metadata={'source': '/teamspace/studios/this_studio/langchain-ollama/王冉6_15.html', 'row': 284}, page_content='<!DOCTYPE html>: left: -18px;'),\n",
       " Document(metadata={'source': '/teamspace/studios/this_studio/langchain-ollama/王冉6_15.html', 'row': 285}, page_content='<!DOCTYPE html>: border-left: 10px solid transparent;'),\n",
       " Document(metadata={'source': '/teamspace/studios/this_studio/langchain-ollama/王冉6_15.html', 'row': 286}, page_content='<!DOCTYPE html>: border-right: 10px solid #fff'),\n",
       " Document(metadata={'source': '/teamspace/studios/this_studio/langchain-ollama/王冉6_15.html', 'row': 287}, page_content='<!DOCTYPE html>: }'),\n",
       " Document(metadata={'source': '/teamspace/studios/this_studio/langchain-ollama/王冉6_15.html', 'row': 288}, page_content='<!DOCTYPE html>: .item-right .bubble {'),\n",
       " Document(metadata={'source': '/teamspace/studios/this_studio/langchain-ollama/王冉6_15.html', 'row': 289}, page_content='<!DOCTYPE html>: margin-right: 15px;'),\n",
       " Document(metadata={'source': '/teamspace/studios/this_studio/langchain-ollama/王冉6_15.html', 'row': 290}, page_content='<!DOCTYPE html>: background-color: #9eea6a'),\n",
       " Document(metadata={'source': '/teamspace/studios/this_studio/langchain-ollama/王冉6_15.html', 'row': 291}, page_content='<!DOCTYPE html>: }'),\n",
       " Document(metadata={'source': '/teamspace/studios/this_studio/langchain-ollama/王冉6_15.html', 'row': 292}, page_content='<!DOCTYPE html>: .item-right .bubble:before {'),\n",
       " Document(metadata={'source': '/teamspace/studios/this_studio/langchain-ollama/王冉6_15.html', 'row': 293}, page_content='<!DOCTYPE html>: border-left: 10px solid #9eea6a;'),\n",
       " Document(metadata={'source': '/teamspace/studios/this_studio/langchain-ollama/王冉6_15.html', 'row': 294}, page_content='<!DOCTYPE html>: border-right: 10px solid transparent;'),\n",
       " Document(metadata={'source': '/teamspace/studios/this_studio/langchain-ollama/王冉6_15.html', 'row': 295}, page_content='<!DOCTYPE html>: right: -18px'),\n",
       " Document(metadata={'source': '/teamspace/studios/this_studio/langchain-ollama/王冉6_15.html', 'row': 296}, page_content='<!DOCTYPE html>: }'),\n",
       " Document(metadata={'source': '/teamspace/studios/this_studio/langchain-ollama/王冉6_15.html', 'row': 297}, page_content='<!DOCTYPE html>: @media screen and (max-width: 768px) {'),\n",
       " Document(metadata={'source': '/teamspace/studios/this_studio/langchain-ollama/王冉6_15.html', 'row': 298}, page_content='<!DOCTYPE html>: .bubble {'),\n",
       " Document(metadata={'source': '/teamspace/studios/this_studio/langchain-ollama/王冉6_15.html', 'row': 299}, page_content='<!DOCTYPE html>: max-width: 280px;'),\n",
       " Document(metadata={'source': '/teamspace/studios/this_studio/langchain-ollama/王冉6_15.html', 'row': 300}, page_content='<!DOCTYPE html>: }'),\n",
       " Document(metadata={'source': '/teamspace/studios/this_studio/langchain-ollama/王冉6_15.html', 'row': 301}, page_content='<!DOCTYPE html>: .item-right .bubble {'),\n",
       " Document(metadata={'source': '/teamspace/studios/this_studio/langchain-ollama/王冉6_15.html', 'row': 302}, page_content='<!DOCTYPE html>: margin-right: 8px;'),\n",
       " Document(metadata={'source': '/teamspace/studios/this_studio/langchain-ollama/王冉6_15.html', 'row': 303}, page_content='<!DOCTYPE html>: }'),\n",
       " Document(metadata={'source': '/teamspace/studios/this_studio/langchain-ollama/王冉6_15.html', 'row': 304}, page_content='<!DOCTYPE html>: .item-left .bubble {'),\n",
       " Document(metadata={'source': '/teamspace/studios/this_studio/langchain-ollama/王冉6_15.html', 'row': 305}, page_content='<!DOCTYPE html>: margin-left: 8px;'),\n",
       " Document(metadata={'source': '/teamspace/studios/this_studio/langchain-ollama/王冉6_15.html', 'row': 306}, page_content='<!DOCTYPE html>: }'),\n",
       " Document(metadata={'source': '/teamspace/studios/this_studio/langchain-ollama/王冉6_15.html', 'row': 307}, page_content='<!DOCTYPE html>: .item-left .bubble:before {'),\n",
       " Document(metadata={'source': '/teamspace/studios/this_studio/langchain-ollama/王冉6_15.html', 'row': 308}, page_content='<!DOCTYPE html>: content: \"\";'),\n",
       " Document(metadata={'source': '/teamspace/studios/this_studio/langchain-ollama/王冉6_15.html', 'row': 309}, page_content='<!DOCTYPE html>: position: absolute;'),\n",
       " Document(metadata={'source': '/teamspace/studios/this_studio/langchain-ollama/王冉6_15.html', 'row': 310}, page_content='<!DOCTYPE html>: width: 0;'),\n",
       " Document(metadata={'source': '/teamspace/studios/this_studio/langchain-ollama/王冉6_15.html', 'row': 311}, page_content='<!DOCTYPE html>: height: 0;'),\n",
       " Document(metadata={'source': '/teamspace/studios/this_studio/langchain-ollama/王冉6_15.html', 'row': 312}, page_content='<!DOCTYPE html>: border-left: 8px solid transparent;'),\n",
       " Document(metadata={'source': '/teamspace/studios/this_studio/langchain-ollama/王冉6_15.html', 'row': 313}, page_content='<!DOCTYPE html>: border-top: 8px solid transparent;'),\n",
       " Document(metadata={'source': '/teamspace/studios/this_studio/langchain-ollama/王冉6_15.html', 'row': 314}, page_content='<!DOCTYPE html>: border-right: 8px solid #fff;'),\n",
       " Document(metadata={'source': '/teamspace/studios/this_studio/langchain-ollama/王冉6_15.html', 'row': 315}, page_content='<!DOCTYPE html>: border-bottom: 8px solid transparent;'),\n",
       " Document(metadata={'source': '/teamspace/studios/this_studio/langchain-ollama/王冉6_15.html', 'row': 316}, page_content='<!DOCTYPE html>: left: -13px;'),\n",
       " Document(metadata={'source': '/teamspace/studios/this_studio/langchain-ollama/王冉6_15.html', 'row': 317}, page_content='<!DOCTYPE html>: }'),\n",
       " Document(metadata={'source': '/teamspace/studios/this_studio/langchain-ollama/王冉6_15.html', 'row': 318}, page_content='<!DOCTYPE html>: .item-right .bubble:before {'),\n",
       " Document(metadata={'source': '/teamspace/studios/this_studio/langchain-ollama/王冉6_15.html', 'row': 319}, page_content='<!DOCTYPE html>: content: \"\";'),\n",
       " Document(metadata={'source': '/teamspace/studios/this_studio/langchain-ollama/王冉6_15.html', 'row': 320}, page_content='<!DOCTYPE html>: position: absolute;'),\n",
       " Document(metadata={'source': '/teamspace/studios/this_studio/langchain-ollama/王冉6_15.html', 'row': 321}, page_content='<!DOCTYPE html>: width: 0;'),\n",
       " Document(metadata={'source': '/teamspace/studios/this_studio/langchain-ollama/王冉6_15.html', 'row': 322}, page_content='<!DOCTYPE html>: height: 0;'),\n",
       " Document(metadata={'source': '/teamspace/studios/this_studio/langchain-ollama/王冉6_15.html', 'row': 323}, page_content='<!DOCTYPE html>: border-left: 8px solid #9eea6a;'),\n",
       " Document(metadata={'source': '/teamspace/studios/this_studio/langchain-ollama/王冉6_15.html', 'row': 324}, page_content='<!DOCTYPE html>: border-top: 8px solid transparent;'),\n",
       " Document(metadata={'source': '/teamspace/studios/this_studio/langchain-ollama/王冉6_15.html', 'row': 325}, page_content='<!DOCTYPE html>: border-right: 8px solid transparent;'),\n",
       " Document(metadata={'source': '/teamspace/studios/this_studio/langchain-ollama/王冉6_15.html', 'row': 326}, page_content='<!DOCTYPE html>: border-bottom: 8px solid transparent;'),\n",
       " Document(metadata={'source': '/teamspace/studios/this_studio/langchain-ollama/王冉6_15.html', 'row': 327}, page_content='<!DOCTYPE html>: right: -13px;'),\n",
       " Document(metadata={'source': '/teamspace/studios/this_studio/langchain-ollama/王冉6_15.html', 'row': 328}, page_content='<!DOCTYPE html>: }'),\n",
       " Document(metadata={'source': '/teamspace/studios/this_studio/langchain-ollama/王冉6_15.html', 'row': 329}, page_content='<!DOCTYPE html>: }'),\n",
       " Document(metadata={'source': '/teamspace/studios/this_studio/langchain-ollama/王冉6_15.html', 'row': 330}, page_content='<!DOCTYPE html>: .item {'),\n",
       " Document(metadata={'source': '/teamspace/studios/this_studio/langchain-ollama/王冉6_15.html', 'row': 331}, page_content='<!DOCTYPE html>: margin-top: 15px;'),\n",
       " Document(metadata={'source': '/teamspace/studios/this_studio/langchain-ollama/王冉6_15.html', 'row': 332}, page_content='<!DOCTYPE html>: display: flex;'),\n",
       " Document(metadata={'source': '/teamspace/studios/this_studio/langchain-ollama/王冉6_15.html', 'row': 333}, page_content='<!DOCTYPE html>: width: 100%;'),\n",
       " Document(metadata={'source': '/teamspace/studios/this_studio/langchain-ollama/王冉6_15.html', 'row': 334}, page_content='<!DOCTYPE html>: }'),\n",
       " Document(metadata={'source': '/teamspace/studios/this_studio/langchain-ollama/王冉6_15.html', 'row': 335}, page_content='<!DOCTYPE html>: .item-refer {'),\n",
       " Document(metadata={'source': '/teamspace/studios/this_studio/langchain-ollama/王冉6_15.html', 'row': 336}, page_content='<!DOCTYPE html>: margin-top: 4px;'),\n",
       " Document(metadata={'source': '/teamspace/studios/this_studio/langchain-ollama/王冉6_15.html', 'row': 337}, page_content='<!DOCTYPE html>: }'),\n",
       " Document(metadata={'source': '/teamspace/studios/this_studio/langchain-ollama/王冉6_15.html', 'row': 338}, page_content='<!DOCTYPE html>: .item.item-right {'),\n",
       " Document(metadata={'source': '/teamspace/studios/this_studio/langchain-ollama/王冉6_15.html', 'row': 339}, page_content='<!DOCTYPE html>: justify-content: flex-end;'),\n",
       " Document(metadata={'source': '/teamspace/studios/this_studio/langchain-ollama/王冉6_15.html', 'row': 340}, page_content='<!DOCTYPE html>: }'),\n",
       " Document(metadata={'source': '/teamspace/studios/this_studio/langchain-ollama/王冉6_15.html', 'row': 341}, page_content='<!DOCTYPE html>: .item.item-center {'),\n",
       " Document(metadata={'source': '/teamspace/studios/this_studio/langchain-ollama/王冉6_15.html', 'row': 342}, page_content='<!DOCTYPE html>: justify-content: center;'),\n",
       " Document(metadata={'source': '/teamspace/studios/this_studio/langchain-ollama/王冉6_15.html', 'row': 343}, page_content='<!DOCTYPE html>: }'),\n",
       " Document(metadata={'source': '/teamspace/studios/this_studio/langchain-ollama/王冉6_15.html', 'row': 344}, page_content='<!DOCTYPE html>: .item.item-center span {'),\n",
       " Document(metadata={'source': '/teamspace/studios/this_studio/langchain-ollama/王冉6_15.html', 'row': 345}, page_content='<!DOCTYPE html>: font-size: 12px;'),\n",
       " Document(metadata={'source': '/teamspace/studios/this_studio/langchain-ollama/王冉6_15.html', 'row': 346}, page_content='<!DOCTYPE html>: padding: 2px 4px;'),\n",
       " Document(metadata={'source': '/teamspace/studios/this_studio/langchain-ollama/王冉6_15.html', 'row': 347}, page_content='<!DOCTYPE html>: color: #fff;'),\n",
       " Document(metadata={'source': '/teamspace/studios/this_studio/langchain-ollama/王冉6_15.html', 'row': 348}, page_content='<!DOCTYPE html>: background-color: #dadada;'),\n",
       " Document(metadata={'source': '/teamspace/studios/this_studio/langchain-ollama/王冉6_15.html', 'row': 349}, page_content='<!DOCTYPE html>: border-radius: 3px;'),\n",
       " Document(metadata={'source': '/teamspace/studios/this_studio/langchain-ollama/王冉6_15.html', 'row': 350}, page_content='<!DOCTYPE html>: -moz-user-select: none;'),\n",
       " Document(metadata={'source': '/teamspace/studios/this_studio/langchain-ollama/王冉6_15.html', 'row': 351}, page_content='<!DOCTYPE html>: /*火狐*/'),\n",
       " Document(metadata={'source': '/teamspace/studios/this_studio/langchain-ollama/王冉6_15.html', 'row': 352}, page_content='<!DOCTYPE html>: -webkit-user-select: none;'),\n",
       " Document(metadata={'source': '/teamspace/studios/this_studio/langchain-ollama/王冉6_15.html', 'row': 353}, page_content='<!DOCTYPE html>: /*webkit浏览器*/'),\n",
       " Document(metadata={'source': '/teamspace/studios/this_studio/langchain-ollama/王冉6_15.html', 'row': 354}, page_content='<!DOCTYPE html>: -ms-user-select: none;'),\n",
       " Document(metadata={'source': '/teamspace/studios/this_studio/langchain-ollama/王冉6_15.html', 'row': 355}, page_content='<!DOCTYPE html>: /*IE10*/'),\n",
       " Document(metadata={'source': '/teamspace/studios/this_studio/langchain-ollama/王冉6_15.html', 'row': 356}, page_content='<!DOCTYPE html>: -khtml-user-select: none;'),\n",
       " Document(metadata={'source': '/teamspace/studios/this_studio/langchain-ollama/王冉6_15.html', 'row': 357}, page_content='<!DOCTYPE html>: /*早期浏览器*/'),\n",
       " Document(metadata={'source': '/teamspace/studios/this_studio/langchain-ollama/王冉6_15.html', 'row': 358}, page_content='<!DOCTYPE html>: user-select: none;'),\n",
       " Document(metadata={'source': '/teamspace/studios/this_studio/langchain-ollama/王冉6_15.html', 'row': 359}, page_content='<!DOCTYPE html>: }'),\n",
       " Document(metadata={'source': '/teamspace/studios/this_studio/langchain-ollama/王冉6_15.html', 'row': 360}, page_content='<!DOCTYPE html>: .content-wrapper {'),\n",
       " Document(metadata={'source': '/teamspace/studios/this_studio/langchain-ollama/王冉6_15.html', 'row': 361}, page_content='<!DOCTYPE html>: display: flex;'),\n",
       " Document(metadata={'source': '/teamspace/studios/this_studio/langchain-ollama/王冉6_15.html', 'row': 362}, page_content='<!DOCTYPE html>: flex-direction: column;'),\n",
       " Document(metadata={'source': '/teamspace/studios/this_studio/langchain-ollama/王冉6_15.html', 'row': 363}, page_content='<!DOCTYPE html>: max-width: 80%;'),\n",
       " Document(metadata={'source': '/teamspace/studios/this_studio/langchain-ollama/王冉6_15.html', 'row': 364}, page_content='<!DOCTYPE html>: }'),\n",
       " Document(metadata={'source': '/teamspace/studios/this_studio/langchain-ollama/王冉6_15.html', 'row': 365}, page_content='<!DOCTYPE html>: .content-wrapper-left {'),\n",
       " Document(metadata={'source': '/teamspace/studios/this_studio/langchain-ollama/王冉6_15.html', 'row': 366}, page_content='<!DOCTYPE html>: align-items: baseline;'),\n",
       " Document(metadata={'source': '/teamspace/studios/this_studio/langchain-ollama/王冉6_15.html', 'row': 367}, page_content='<!DOCTYPE html>: }'),\n",
       " Document(metadata={'source': '/teamspace/studios/this_studio/langchain-ollama/王冉6_15.html', 'row': 368}, page_content='<!DOCTYPE html>: .content-wrapper-right {'),\n",
       " Document(metadata={'source': '/teamspace/studios/this_studio/langchain-ollama/王冉6_15.html', 'row': 369}, page_content='<!DOCTYPE html>: align-items: flex-end;'),\n",
       " Document(metadata={'source': '/teamspace/studios/this_studio/langchain-ollama/王冉6_15.html', 'row': 370}, page_content='<!DOCTYPE html>: }'),\n",
       " Document(metadata={'source': '/teamspace/studios/this_studio/langchain-ollama/王冉6_15.html', 'row': 371}, page_content='<!DOCTYPE html>: .displayname {'),\n",
       " Document(metadata={'source': '/teamspace/studios/this_studio/langchain-ollama/王冉6_15.html', 'row': 372}, page_content='<!DOCTYPE html>: margin-left: 13px;'),\n",
       " Document(metadata={'source': '/teamspace/studios/this_studio/langchain-ollama/王冉6_15.html', 'row': 373}, page_content='<!DOCTYPE html>: margin-left: 13px;'),\n",
       " Document(metadata={'source': '/teamspace/studios/this_studio/langchain-ollama/王冉6_15.html', 'row': 374}, page_content='<!DOCTYPE html>: font-size: 13px;'),\n",
       " Document(metadata={'source': '/teamspace/studios/this_studio/langchain-ollama/王冉6_15.html', 'row': 375}, page_content='<!DOCTYPE html>: margin-bottom: 5px;'),\n",
       " Document(metadata={'source': '/teamspace/studios/this_studio/langchain-ollama/王冉6_15.html', 'row': 376}, page_content='<!DOCTYPE html>: color: darkgray;'),\n",
       " Document(metadata={'source': '/teamspace/studios/this_studio/langchain-ollama/王冉6_15.html', 'row': 377}, page_content='<!DOCTYPE html>: }'),\n",
       " Document(metadata={'source': '/teamspace/studios/this_studio/langchain-ollama/王冉6_15.html', 'row': 378}, page_content='<!DOCTYPE html>: .chat-image img\\nNone: '),\n",
       " Document(metadata={'source': '/teamspace/studios/this_studio/langchain-ollama/王冉6_15.html', 'row': 379}, page_content='<!DOCTYPE html>: .chat-file img {'),\n",
       " Document(metadata={'source': '/teamspace/studios/this_studio/langchain-ollama/王冉6_15.html', 'row': 380}, page_content='<!DOCTYPE html>: margin-right: 18px;'),\n",
       " Document(metadata={'source': '/teamspace/studios/this_studio/langchain-ollama/王冉6_15.html', 'row': 381}, page_content='<!DOCTYPE html>: margin-left: 18px;'),\n",
       " Document(metadata={'source': '/teamspace/studios/this_studio/langchain-ollama/王冉6_15.html', 'row': 382}, page_content='<!DOCTYPE html>: max-width: 300px;'),\n",
       " Document(metadata={'source': '/teamspace/studios/this_studio/langchain-ollama/王冉6_15.html', 'row': 383}, page_content='<!DOCTYPE html>: /*max-height: auto;*/'),\n",
       " Document(metadata={'source': '/teamspace/studios/this_studio/langchain-ollama/王冉6_15.html', 'row': 384}, page_content='<!DOCTYPE html>: }'),\n",
       " Document(metadata={'source': '/teamspace/studios/this_studio/langchain-ollama/王冉6_15.html', 'row': 385}, page_content='<!DOCTYPE html>: @media screen and (max-width: 768px) {'),\n",
       " Document(metadata={'source': '/teamspace/studios/this_studio/langchain-ollama/王冉6_15.html', 'row': 386}, page_content='<!DOCTYPE html>: .chat-image img\\nNone: '),\n",
       " Document(metadata={'source': '/teamspace/studios/this_studio/langchain-ollama/王冉6_15.html', 'row': 387}, page_content='<!DOCTYPE html>: .chat-file img {'),\n",
       " Document(metadata={'source': '/teamspace/studios/this_studio/langchain-ollama/王冉6_15.html', 'row': 388}, page_content='<!DOCTYPE html>: margin-right: 8px;'),\n",
       " Document(metadata={'source': '/teamspace/studios/this_studio/langchain-ollama/王冉6_15.html', 'row': 389}, page_content='<!DOCTYPE html>: margin-left: 8px;'),\n",
       " Document(metadata={'source': '/teamspace/studios/this_studio/langchain-ollama/王冉6_15.html', 'row': 390}, page_content='<!DOCTYPE html>: max-width: 250px;'),\n",
       " Document(metadata={'source': '/teamspace/studios/this_studio/langchain-ollama/王冉6_15.html', 'row': 391}, page_content='<!DOCTYPE html>: /*max-height: auto;*/'),\n",
       " Document(metadata={'source': '/teamspace/studios/this_studio/langchain-ollama/王冉6_15.html', 'row': 392}, page_content='<!DOCTYPE html>: }'),\n",
       " Document(metadata={'source': '/teamspace/studios/this_studio/langchain-ollama/王冉6_15.html', 'row': 393}, page_content='<!DOCTYPE html>: }'),\n",
       " Document(metadata={'source': '/teamspace/studios/this_studio/langchain-ollama/王冉6_15.html', 'row': 394}, page_content='<!DOCTYPE html>: .avatar img {'),\n",
       " Document(metadata={'source': '/teamspace/studios/this_studio/langchain-ollama/王冉6_15.html', 'row': 395}, page_content='<!DOCTYPE html>: width: 42px;'),\n",
       " Document(metadata={'source': '/teamspace/studios/this_studio/langchain-ollama/王冉6_15.html', 'row': 396}, page_content='<!DOCTYPE html>: height: 42px;'),\n",
       " Document(metadata={'source': '/teamspace/studios/this_studio/langchain-ollama/王冉6_15.html', 'row': 397}, page_content='<!DOCTYPE html>: border-radius: 3px;'),\n",
       " Document(metadata={'source': '/teamspace/studios/this_studio/langchain-ollama/王冉6_15.html', 'row': 398}, page_content='<!DOCTYPE html>: user-select: none;'),\n",
       " Document(metadata={'source': '/teamspace/studios/this_studio/langchain-ollama/王冉6_15.html', 'row': 399}, page_content='<!DOCTYPE html>: }'),\n",
       " Document(metadata={'source': '/teamspace/studios/this_studio/langchain-ollama/王冉6_15.html', 'row': 400}, page_content='<!DOCTYPE html>: .chat-video video {'),\n",
       " Document(metadata={'source': '/teamspace/studios/this_studio/langchain-ollama/王冉6_15.html', 'row': 401}, page_content='<!DOCTYPE html>: margin-right: 18px;'),\n",
       " Document(metadata={'source': '/teamspace/studios/this_studio/langchain-ollama/王冉6_15.html', 'row': 402}, page_content='<!DOCTYPE html>: margin-left: 18px;'),\n",
       " Document(metadata={'source': '/teamspace/studios/this_studio/langchain-ollama/王冉6_15.html', 'row': 403}, page_content='<!DOCTYPE html>: max-width: 350px;'),\n",
       " Document(metadata={'source': '/teamspace/studios/this_studio/langchain-ollama/王冉6_15.html', 'row': 404}, page_content='<!DOCTYPE html>: }'),\n",
       " Document(metadata={'source': '/teamspace/studios/this_studio/langchain-ollama/王冉6_15.html', 'row': 405}, page_content='<!DOCTYPE html>: .chat-audio {'),\n",
       " Document(metadata={'source': '/teamspace/studios/this_studio/langchain-ollama/王冉6_15.html', 'row': 406}, page_content='<!DOCTYPE html>: max-width: 400px;'),\n",
       " Document(metadata={'source': '/teamspace/studios/this_studio/langchain-ollama/王冉6_15.html', 'row': 407}, page_content='<!DOCTYPE html>: }'),\n",
       " Document(metadata={'source': '/teamspace/studios/this_studio/langchain-ollama/王冉6_15.html', 'row': 408}, page_content='<!DOCTYPE html>: audio {'),\n",
       " Document(metadata={'source': '/teamspace/studios/this_studio/langchain-ollama/王冉6_15.html', 'row': 409}, page_content='<!DOCTYPE html>: margin-left: 9px;'),\n",
       " Document(metadata={'source': '/teamspace/studios/this_studio/langchain-ollama/王冉6_15.html', 'row': 410}, page_content='<!DOCTYPE html>: margin-right: 9px;'),\n",
       " Document(metadata={'source': '/teamspace/studios/this_studio/langchain-ollama/王冉6_15.html', 'row': 411}, page_content='<!DOCTYPE html>: }'),\n",
       " Document(metadata={'source': '/teamspace/studios/this_studio/langchain-ollama/王冉6_15.html', 'row': 412}, page_content='<!DOCTYPE html>: .chat-file {'),\n",
       " Document(metadata={'source': '/teamspace/studios/this_studio/langchain-ollama/王冉6_15.html', 'row': 413}, page_content='<!DOCTYPE html>: max-width: 80%;'),\n",
       " Document(metadata={'source': '/teamspace/studios/this_studio/langchain-ollama/王冉6_15.html', 'row': 414}, page_content='<!DOCTYPE html>: width: 300px;'),\n",
       " Document(metadata={'source': '/teamspace/studios/this_studio/langchain-ollama/王冉6_15.html', 'row': 415}, page_content='<!DOCTYPE html>: margin-right: 20px;'),\n",
       " Document(metadata={'source': '/teamspace/studios/this_studio/langchain-ollama/王冉6_15.html', 'row': 416}, page_content='<!DOCTYPE html>: display: flex;'),\n",
       " Document(metadata={'source': '/teamspace/studios/this_studio/langchain-ollama/王冉6_15.html', 'row': 417}, page_content='<!DOCTYPE html>: flex-direction: column;'),\n",
       " Document(metadata={'source': '/teamspace/studios/this_studio/langchain-ollama/王冉6_15.html', 'row': 418}, page_content='<!DOCTYPE html>: padding: 10px;'),\n",
       " Document(metadata={'source': '/teamspace/studios/this_studio/langchain-ollama/王冉6_15.html', 'row': 419}, page_content='<!DOCTYPE html>: background-color: #fff;'),\n",
       " Document(metadata={'source': '/teamspace/studios/this_studio/langchain-ollama/王冉6_15.html', 'row': 420}, page_content='<!DOCTYPE html>: border-radius: 4px;'),\n",
       " Document(metadata={'source': '/teamspace/studios/this_studio/langchain-ollama/王冉6_15.html', 'row': 421}, page_content='<!DOCTYPE html>: cursor: pointer;'),\n",
       " Document(metadata={'source': '/teamspace/studios/this_studio/langchain-ollama/王冉6_15.html', 'row': 422}, page_content='<!DOCTYPE html>: height: 100px;'),\n",
       " Document(metadata={'source': '/teamspace/studios/this_studio/langchain-ollama/王冉6_15.html', 'row': 423}, page_content='<!DOCTYPE html>: margin-left: 10px;'),\n",
       " Document(metadata={'source': '/teamspace/studios/this_studio/langchain-ollama/王冉6_15.html', 'row': 424}, page_content='<!DOCTYPE html>: }'),\n",
       " Document(metadata={'source': '/teamspace/studios/this_studio/langchain-ollama/王冉6_15.html', 'row': 425}, page_content='<!DOCTYPE html>: .chat-file img {'),\n",
       " Document(metadata={'source': '/teamspace/studios/this_studio/langchain-ollama/王冉6_15.html', 'row': 426}, page_content='<!DOCTYPE html>: width: 50px;'),\n",
       " Document(metadata={'source': '/teamspace/studios/this_studio/langchain-ollama/王冉6_15.html', 'row': 427}, page_content='<!DOCTYPE html>: }'),\n",
       " Document(metadata={'source': '/teamspace/studios/this_studio/langchain-ollama/王冉6_15.html', 'row': 428}, page_content='<!DOCTYPE html>: @media screen and (max-width: 768px) {'),\n",
       " Document(metadata={'source': '/teamspace/studios/this_studio/langchain-ollama/王冉6_15.html', 'row': 429}, page_content='<!DOCTYPE html>: .chat-file {'),\n",
       " Document(metadata={'source': '/teamspace/studios/this_studio/langchain-ollama/王冉6_15.html', 'row': 430}, page_content='<!DOCTYPE html>: margin-left: 8px;'),\n",
       " Document(metadata={'source': '/teamspace/studios/this_studio/langchain-ollama/王冉6_15.html', 'row': 431}, page_content='<!DOCTYPE html>: margin-right: 8px;'),\n",
       " Document(metadata={'source': '/teamspace/studios/this_studio/langchain-ollama/王冉6_15.html', 'row': 432}, page_content='<!DOCTYPE html>: }'),\n",
       " Document(metadata={'source': '/teamspace/studios/this_studio/langchain-ollama/王冉6_15.html', 'row': 433}, page_content='<!DOCTYPE html>: .chat-image img\\nNone: '),\n",
       " Document(metadata={'source': '/teamspace/studios/this_studio/langchain-ollama/王冉6_15.html', 'row': 434}, page_content='<!DOCTYPE html>: .chat-file img {'),\n",
       " Document(metadata={'source': '/teamspace/studios/this_studio/langchain-ollama/王冉6_15.html', 'row': 435}, page_content='<!DOCTYPE html>: margin-right: 8px;'),\n",
       " Document(metadata={'source': '/teamspace/studios/this_studio/langchain-ollama/王冉6_15.html', 'row': 436}, page_content='<!DOCTYPE html>: margin-left: 8px;'),\n",
       " Document(metadata={'source': '/teamspace/studios/this_studio/langchain-ollama/王冉6_15.html', 'row': 437}, page_content='<!DOCTYPE html>: }'),\n",
       " Document(metadata={'source': '/teamspace/studios/this_studio/langchain-ollama/王冉6_15.html', 'row': 438}, page_content='<!DOCTYPE html>: }'),\n",
       " Document(metadata={'source': '/teamspace/studios/this_studio/langchain-ollama/王冉6_15.html', 'row': 439}, page_content='<!DOCTYPE html>: .chat-music-audio {'),\n",
       " Document(metadata={'source': '/teamspace/studios/this_studio/langchain-ollama/王冉6_15.html', 'row': 440}, page_content='<!DOCTYPE html>: margin: 0 10px;'),\n",
       " Document(metadata={'source': '/teamspace/studios/this_studio/langchain-ollama/王冉6_15.html', 'row': 441}, page_content='<!DOCTYPE html>: }'),\n",
       " Document(metadata={'source': '/teamspace/studios/this_studio/langchain-ollama/王冉6_15.html', 'row': 442}, page_content='<!DOCTYPE html>: .chat-music-audio .player-box\\nNone: '),\n",
       " Document(metadata={'source': '/teamspace/studios/this_studio/langchain-ollama/王冉6_15.html', 'row': 443}, page_content='<!DOCTYPE html>: .chat-file .file-box {'),\n",
       " Document(metadata={'source': '/teamspace/studios/this_studio/langchain-ollama/王冉6_15.html', 'row': 444}, page_content='<!DOCTYPE html>: display: flex;'),\n",
       " Document(metadata={'source': '/teamspace/studios/this_studio/langchain-ollama/王冉6_15.html', 'row': 445}, page_content='<!DOCTYPE html>: align-items: center;'),\n",
       " Document(metadata={'source': '/teamspace/studios/this_studio/langchain-ollama/王冉6_15.html', 'row': 446}, page_content='<!DOCTYPE html>: cursor: pointer;'),\n",
       " Document(metadata={'source': '/teamspace/studios/this_studio/langchain-ollama/王冉6_15.html', 'row': 447}, page_content='<!DOCTYPE html>: height: 80px;'),\n",
       " Document(metadata={'source': '/teamspace/studios/this_studio/langchain-ollama/王冉6_15.html', 'row': 448}, page_content='<!DOCTYPE html>: }'),\n",
       " Document(metadata={'source': '/teamspace/studios/this_studio/langchain-ollama/王冉6_15.html', 'row': 449}, page_content='<!DOCTYPE html>: .player-box {'),\n",
       " Document(metadata={'source': '/teamspace/studios/this_studio/langchain-ollama/王冉6_15.html', 'row': 450}, page_content='<!DOCTYPE html>: background-color: #939AA1;'),\n",
       " Document(metadata={'source': '/teamspace/studios/this_studio/langchain-ollama/王冉6_15.html', 'row': 451}, page_content='<!DOCTYPE html>: border-radius: 5px;'),\n",
       " Document(metadata={'source': '/teamspace/studios/this_studio/langchain-ollama/王冉6_15.html', 'row': 452}, page_content='<!DOCTYPE html>: width: 300px;'),\n",
       " Document(metadata={'source': '/teamspace/studios/this_studio/langchain-ollama/王冉6_15.html', 'row': 453}, page_content='<!DOCTYPE html>: }'),\n",
       " Document(metadata={'source': '/teamspace/studios/this_studio/langchain-ollama/王冉6_15.html', 'row': 454}, page_content='<!DOCTYPE html>: .player-box .cover-image {'),\n",
       " Document(metadata={'source': '/teamspace/studios/this_studio/langchain-ollama/王冉6_15.html', 'row': 455}, page_content='<!DOCTYPE html>: width: 80px;'),\n",
       " Document(metadata={'source': '/teamspace/studios/this_studio/langchain-ollama/王冉6_15.html', 'row': 456}, page_content='<!DOCTYPE html>: height: 80px;'),\n",
       " Document(metadata={'source': '/teamspace/studios/this_studio/langchain-ollama/王冉6_15.html', 'row': 457}, page_content='<!DOCTYPE html>: border-radius: 5px 0 0 5px;'),\n",
       " Document(metadata={'source': '/teamspace/studios/this_studio/langchain-ollama/王冉6_15.html', 'row': 458}, page_content='<!DOCTYPE html>: vertical-align: middle'),\n",
       " Document(metadata={'source': '/teamspace/studios/this_studio/langchain-ollama/王冉6_15.html', 'row': 459}, page_content='<!DOCTYPE html>: }'),\n",
       " Document(metadata={'source': '/teamspace/studios/this_studio/langchain-ollama/王冉6_15.html', 'row': 460}, page_content='<!DOCTYPE html>: .player-box .player-info {'),\n",
       " Document(metadata={'source': '/teamspace/studios/this_studio/langchain-ollama/王冉6_15.html', 'row': 461}, page_content='<!DOCTYPE html>: width: 160px;'),\n",
       " Document(metadata={'source': '/teamspace/studios/this_studio/langchain-ollama/王冉6_15.html', 'row': 462}, page_content='<!DOCTYPE html>: margin: 0 14px;'),\n",
       " Document(metadata={'source': '/teamspace/studios/this_studio/langchain-ollama/王冉6_15.html', 'row': 463}, page_content='<!DOCTYPE html>: overflow: hidden;'),\n",
       " Document(metadata={'source': '/teamspace/studios/this_studio/langchain-ollama/王冉6_15.html', 'row': 464}, page_content='<!DOCTYPE html>: vertical-align: middle'),\n",
       " Document(metadata={'source': '/teamspace/studios/this_studio/langchain-ollama/王冉6_15.html', 'row': 465}, page_content='<!DOCTYPE html>: }'),\n",
       " Document(metadata={'source': '/teamspace/studios/this_studio/langchain-ollama/王冉6_15.html', 'row': 466}, page_content='<!DOCTYPE html>: .player-box .player-info .title {'),\n",
       " Document(metadata={'source': '/teamspace/studios/this_studio/langchain-ollama/王冉6_15.html', 'row': 467}, page_content='<!DOCTYPE html>: font-size: 16px;'),\n",
       " Document(metadata={'source': '/teamspace/studios/this_studio/langchain-ollama/王冉6_15.html', 'row': 468}, page_content='<!DOCTYPE html>: color: #fff;'),\n",
       " Document(metadata={'source': '/teamspace/studios/this_studio/langchain-ollama/王冉6_15.html', 'row': 469}, page_content='<!DOCTYPE html>: margin-bottom: 5px;'),\n",
       " Document(metadata={'source': '/teamspace/studios/this_studio/langchain-ollama/王冉6_15.html', 'row': 470}, page_content='<!DOCTYPE html>: }'),\n",
       " Document(metadata={'source': '/teamspace/studios/this_studio/langchain-ollama/王冉6_15.html', 'row': 471}, page_content='<!DOCTYPE html>: .player-box .player-info .artist {'),\n",
       " Document(metadata={'source': '/teamspace/studios/this_studio/langchain-ollama/王冉6_15.html', 'row': 472}, page_content='<!DOCTYPE html>: font-size: 14px;'),\n",
       " Document(metadata={'source': '/teamspace/studios/this_studio/langchain-ollama/王冉6_15.html', 'row': 473}, page_content='<!DOCTYPE html>: color: #cecece;'),\n",
       " Document(metadata={'source': '/teamspace/studios/this_studio/langchain-ollama/王冉6_15.html', 'row': 474}, page_content='<!DOCTYPE html>: }'),\n",
       " Document(metadata={'source': '/teamspace/studios/this_studio/langchain-ollama/王冉6_15.html', 'row': 475}, page_content='<!DOCTYPE html>: .player-box .player-button {'),\n",
       " Document(metadata={'source': '/teamspace/studios/this_studio/langchain-ollama/王冉6_15.html', 'row': 476}, page_content='<!DOCTYPE html>: width: 16px;'),\n",
       " Document(metadata={'source': '/teamspace/studios/this_studio/langchain-ollama/王冉6_15.html', 'row': 477}, page_content='<!DOCTYPE html>: height: 16px;'),\n",
       " Document(metadata={'source': '/teamspace/studios/this_studio/langchain-ollama/王冉6_15.html', 'row': 478}, page_content='<!DOCTYPE html>: vertical-align: middle'),\n",
       " Document(metadata={'source': '/teamspace/studios/this_studio/langchain-ollama/王冉6_15.html', 'row': 479}, page_content='<!DOCTYPE html>: }'),\n",
       " Document(metadata={'source': '/teamspace/studios/this_studio/langchain-ollama/王冉6_15.html', 'row': 480}, page_content='<!DOCTYPE html>: .player-original {'),\n",
       " Document(metadata={'source': '/teamspace/studios/this_studio/langchain-ollama/王冉6_15.html', 'row': 481}, page_content='<!DOCTYPE html>: display: flex;'),\n",
       " Document(metadata={'source': '/teamspace/studios/this_studio/langchain-ollama/王冉6_15.html', 'row': 482}, page_content='<!DOCTYPE html>: align-items: center;'),\n",
       " Document(metadata={'source': '/teamspace/studios/this_studio/langchain-ollama/王冉6_15.html', 'row': 483}, page_content='<!DOCTYPE html>: height: 20px;'),\n",
       " Document(metadata={'source': '/teamspace/studios/this_studio/langchain-ollama/王冉6_15.html', 'row': 484}, page_content='<!DOCTYPE html>: }'),\n",
       " Document(metadata={'source': '/teamspace/studios/this_studio/langchain-ollama/王冉6_15.html', 'row': 485}, page_content='<!DOCTYPE html>: .player-original p {'),\n",
       " Document(metadata={'source': '/teamspace/studios/this_studio/langchain-ollama/王冉6_15.html', 'row': 486}, page_content='<!DOCTYPE html>: color: #b6b6b6;'),\n",
       " Document(metadata={'source': '/teamspace/studios/this_studio/langchain-ollama/王冉6_15.html', 'row': 487}, page_content='<!DOCTYPE html>: font-size: 12px;'),\n",
       " Document(metadata={'source': '/teamspace/studios/this_studio/langchain-ollama/王冉6_15.html', 'row': 488}, page_content='<!DOCTYPE html>: vertical-align: middle'),\n",
       " Document(metadata={'source': '/teamspace/studios/this_studio/langchain-ollama/王冉6_15.html', 'row': 489}, page_content='<!DOCTYPE html>: }'),\n",
       " Document(metadata={'source': '/teamspace/studios/this_studio/langchain-ollama/王冉6_15.html', 'row': 490}, page_content='<!DOCTYPE html>: .player-original img {'),\n",
       " Document(metadata={'source': '/teamspace/studios/this_studio/langchain-ollama/王冉6_15.html', 'row': 491}, page_content='<!DOCTYPE html>: width: 12px;'),\n",
       " Document(metadata={'source': '/teamspace/studios/this_studio/langchain-ollama/王冉6_15.html', 'row': 492}, page_content='<!DOCTYPE html>: height: 12px;'),\n",
       " Document(metadata={'source': '/teamspace/studios/this_studio/langchain-ollama/王冉6_15.html', 'row': 493}, page_content='<!DOCTYPE html>: margin: 0 5px;'),\n",
       " Document(metadata={'source': '/teamspace/studios/this_studio/langchain-ollama/王冉6_15.html', 'row': 494}, page_content='<!DOCTYPE html>: }'),\n",
       " Document(metadata={'source': '/teamspace/studios/this_studio/langchain-ollama/王冉6_15.html', 'row': 495}, page_content='<!DOCTYPE html>: .chat-file .app-info {'),\n",
       " Document(metadata={'source': '/teamspace/studios/this_studio/langchain-ollama/王冉6_15.html', 'row': 496}, page_content='<!DOCTYPE html>: border-top: 1px solid #ede3e3;'),\n",
       " Document(metadata={'source': '/teamspace/studios/this_studio/langchain-ollama/王冉6_15.html', 'row': 497}, page_content='<!DOCTYPE html>: }'),\n",
       " Document(metadata={'source': '/teamspace/studios/this_studio/langchain-ollama/王冉6_15.html', 'row': 498}, page_content='<!DOCTYPE html>: .chat-file .app-info p {'),\n",
       " Document(metadata={'source': '/teamspace/studios/this_studio/langchain-ollama/王冉6_15.html', 'row': 499}, page_content='<!DOCTYPE html>: margin-top: 3px;'),\n",
       " Document(metadata={'source': '/teamspace/studios/this_studio/langchain-ollama/王冉6_15.html', 'row': 500}, page_content='<!DOCTYPE html>: color: #888;'),\n",
       " Document(metadata={'source': '/teamspace/studios/this_studio/langchain-ollama/王冉6_15.html', 'row': 501}, page_content='<!DOCTYPE html>: }'),\n",
       " Document(metadata={'source': '/teamspace/studios/this_studio/langchain-ollama/王冉6_15.html', 'row': 502}, page_content='<!DOCTYPE html>: .chat-music-audio .player-controls\\nNone: '),\n",
       " Document(metadata={'source': '/teamspace/studios/this_studio/langchain-ollama/王冉6_15.html', 'row': 503}, page_content='<!DOCTYPE html>: .chat-file .file-img {'),\n",
       " Document(metadata={'source': '/teamspace/studios/this_studio/langchain-ollama/王冉6_15.html', 'row': 504}, page_content='<!DOCTYPE html>: display: flex;'),\n",
       " Document(metadata={'source': '/teamspace/studios/this_studio/langchain-ollama/王冉6_15.html', 'row': 505}, page_content='<!DOCTYPE html>: align-items: center;'),\n",
       " Document(metadata={'source': '/teamspace/studios/this_studio/langchain-ollama/王冉6_15.html', 'row': 506}, page_content='<!DOCTYPE html>: }'),\n",
       " Document(metadata={'source': '/teamspace/studios/this_studio/langchain-ollama/王冉6_15.html', 'row': 507}, page_content='<!DOCTYPE html>: .file-title\\nNone: '),\n",
       " Document(metadata={'source': '/teamspace/studios/this_studio/langchain-ollama/王冉6_15.html', 'row': 508}, page_content='<!DOCTYPE html>: .card-content>h2\\nNone: '),\n",
       " Document(metadata={'source': '/teamspace/studios/this_studio/langchain-ollama/王冉6_15.html', 'row': 509}, page_content='<!DOCTYPE html>: .description>p {'),\n",
       " Document(metadata={'source': '/teamspace/studios/this_studio/langchain-ollama/王冉6_15.html', 'row': 510}, page_content='<!DOCTYPE html>: font-size: 12px;'),\n",
       " Document(metadata={'source': '/teamspace/studios/this_studio/langchain-ollama/王冉6_15.html', 'row': 511}, page_content='<!DOCTYPE html>: display: -webkit-box;'),\n",
       " Document(metadata={'source': '/teamspace/studios/this_studio/langchain-ollama/王冉6_15.html', 'row': 512}, page_content='<!DOCTYPE html>: overflow: hidden;'),\n",
       " Document(metadata={'source': '/teamspace/studios/this_studio/langchain-ollama/王冉6_15.html', 'row': 513}, page_content='<!DOCTYPE html>: text-overflow: ellipsis;'),\n",
       " Document(metadata={'source': '/teamspace/studios/this_studio/langchain-ollama/王冉6_15.html', 'row': 514}, page_content='<!DOCTYPE html>: -webkit-box-orient: vertical;'),\n",
       " Document(metadata={'source': '/teamspace/studios/this_studio/langchain-ollama/王冉6_15.html', 'row': 515}, page_content='<!DOCTYPE html>: }'),\n",
       " Document(metadata={'source': '/teamspace/studios/this_studio/langchain-ollama/王冉6_15.html', 'row': 516}, page_content='<!DOCTYPE html>: .file-title\\nNone: '),\n",
       " Document(metadata={'source': '/teamspace/studios/this_studio/langchain-ollama/王冉6_15.html', 'row': 517}, page_content='<!DOCTYPE html>: .card-content>h2 {'),\n",
       " Document(metadata={'source': '/teamspace/studios/this_studio/langchain-ollama/王冉6_15.html', 'row': 518}, page_content='<!DOCTYPE html>: -webkit-line-clamp: 2;'),\n",
       " Document(metadata={'source': '/teamspace/studios/this_studio/langchain-ollama/王冉6_15.html', 'row': 519}, page_content='<!DOCTYPE html>: font: 1em sans-serif;'),\n",
       " Document(metadata={'source': '/teamspace/studios/this_studio/langchain-ollama/王冉6_15.html', 'row': 520}, page_content='<!DOCTYPE html>: font-weight: bold;'),\n",
       " Document(metadata={'source': '/teamspace/studios/this_studio/langchain-ollama/王冉6_15.html', 'row': 521}, page_content='<!DOCTYPE html>: }'),\n",
       " Document(metadata={'source': '/teamspace/studios/this_studio/langchain-ollama/王冉6_15.html', 'row': 522}, page_content='<!DOCTYPE html>: @media screen and (max-width: 768px) {'),\n",
       " Document(metadata={'source': '/teamspace/studios/this_studio/langchain-ollama/王冉6_15.html', 'row': 523}, page_content='<!DOCTYPE html>: .file-title {'),\n",
       " Document(metadata={'source': '/teamspace/studios/this_studio/langchain-ollama/王冉6_15.html', 'row': 524}, page_content='<!DOCTYPE html>: font-size: medium;'),\n",
       " Document(metadata={'source': '/teamspace/studios/this_studio/langchain-ollama/王冉6_15.html', 'row': 525}, page_content='<!DOCTYPE html>: }'),\n",
       " Document(metadata={'source': '/teamspace/studios/this_studio/langchain-ollama/王冉6_15.html', 'row': 526}, page_content='<!DOCTYPE html>: }'),\n",
       " Document(metadata={'source': '/teamspace/studios/this_studio/langchain-ollama/王冉6_15.html', 'row': 527}, page_content='<!DOCTYPE html>: .description>p {'),\n",
       " Document(metadata={'source': '/teamspace/studios/this_studio/langchain-ollama/王冉6_15.html', 'row': 528}, page_content='<!DOCTYPE html>: -webkit-line-clamp: 3;'),\n",
       " Document(metadata={'source': '/teamspace/studios/this_studio/langchain-ollama/王冉6_15.html', 'row': 529}, page_content='<!DOCTYPE html>: margin-top: 2px;'),\n",
       " Document(metadata={'source': '/teamspace/studios/this_studio/langchain-ollama/王冉6_15.html', 'row': 530}, page_content='<!DOCTYPE html>: }'),\n",
       " Document(metadata={'source': '/teamspace/studios/this_studio/langchain-ollama/王冉6_15.html', 'row': 531}, page_content='<!DOCTYPE html>: .chat-music-audio .flex1\\nNone: '),\n",
       " Document(metadata={'source': '/teamspace/studios/this_studio/langchain-ollama/王冉6_15.html', 'row': 532}, page_content='<!DOCTYPE html>: .chat-file .flex1 {'),\n",
       " Document(metadata={'source': '/teamspace/studios/this_studio/langchain-ollama/王冉6_15.html', 'row': 533}, page_content='<!DOCTYPE html>: flex: 1;'),\n",
       " Document(metadata={'source': '/teamspace/studios/this_studio/langchain-ollama/王冉6_15.html', 'row': 534}, page_content='<!DOCTYPE html>: justify-content: start;'),\n",
       " Document(metadata={'source': '/teamspace/studios/this_studio/langchain-ollama/王冉6_15.html', 'row': 535}, page_content='<!DOCTYPE html>: }'),\n",
       " Document(metadata={'source': '/teamspace/studios/this_studio/langchain-ollama/王冉6_15.html', 'row': 536}, page_content='<!DOCTYPE html>: .chat-music-audio .flex2\\nNone: '),\n",
       " Document(metadata={'source': '/teamspace/studios/this_studio/langchain-ollama/王冉6_15.html', 'row': 537}, page_content='<!DOCTYPE html>: .chat-file .flex2 {'),\n",
       " Document(metadata={'source': '/teamspace/studios/this_studio/langchain-ollama/王冉6_15.html', 'row': 538}, page_content='<!DOCTYPE html>: flex: 2;'),\n",
       " Document(metadata={'source': '/teamspace/studios/this_studio/langchain-ollama/王冉6_15.html', 'row': 539}, page_content='<!DOCTYPE html>: justify-content: end;'),\n",
       " Document(metadata={'source': '/teamspace/studios/this_studio/langchain-ollama/王冉6_15.html', 'row': 540}, page_content='<!DOCTYPE html>: }'),\n",
       " Document(metadata={'source': '/teamspace/studios/this_studio/langchain-ollama/王冉6_15.html', 'row': 541}, page_content='<!DOCTYPE html>: .chat-file .file-info {'),\n",
       " Document(metadata={'source': '/teamspace/studios/this_studio/langchain-ollama/王冉6_15.html', 'row': 542}, page_content='<!DOCTYPE html>: width: 200px;'),\n",
       " Document(metadata={'source': '/teamspace/studios/this_studio/langchain-ollama/王冉6_15.html', 'row': 543}, page_content='<!DOCTYPE html>: height: 80px;'),\n",
       " Document(metadata={'source': '/teamspace/studios/this_studio/langchain-ollama/王冉6_15.html', 'row': 544}, page_content='<!DOCTYPE html>: margin-left: 4px;'),\n",
       " Document(metadata={'source': '/teamspace/studios/this_studio/langchain-ollama/王冉6_15.html', 'row': 545}, page_content='<!DOCTYPE html>: margin-top: 15px;'),\n",
       " Document(metadata={'source': '/teamspace/studios/this_studio/langchain-ollama/王冉6_15.html', 'row': 546}, page_content='<!DOCTYPE html>: white-space: normal;'),\n",
       " Document(metadata={'source': '/teamspace/studios/this_studio/langchain-ollama/王冉6_15.html', 'row': 547}, page_content='<!DOCTYPE html>: flex-basis: 200px;'),\n",
       " Document(metadata={'source': '/teamspace/studios/this_studio/langchain-ollama/王冉6_15.html', 'row': 548}, page_content='<!DOCTYPE html>: word-break: break-word;'),\n",
       " Document(metadata={'source': '/teamspace/studios/this_studio/langchain-ollama/王冉6_15.html', 'row': 549}, page_content='<!DOCTYPE html>: }'),\n",
       " Document(metadata={'source': '/teamspace/studios/this_studio/langchain-ollama/王冉6_15.html', 'row': 550}, page_content='<!DOCTYPE html>: .chat-file .file-name\\nNone: '),\n",
       " Document(metadata={'source': '/teamspace/studios/this_studio/langchain-ollama/王冉6_15.html', 'row': 551}, page_content='<!DOCTYPE html>: .chat-music-audio .song-title {'),\n",
       " Document(metadata={'source': '/teamspace/studios/this_studio/langchain-ollama/王冉6_15.html', 'row': 552}, page_content='<!DOCTYPE html>: font-weight: 700;'),\n",
       " Document(metadata={'source': '/teamspace/studios/this_studio/langchain-ollama/王冉6_15.html', 'row': 553}, page_content='<!DOCTYPE html>: overflow-wrap: break-word'),\n",
       " Document(metadata={'source': '/teamspace/studios/this_studio/langchain-ollama/王冉6_15.html', 'row': 554}, page_content='<!DOCTYPE html>: }'),\n",
       " Document(metadata={'source': '/teamspace/studios/this_studio/langchain-ollama/王冉6_15.html', 'row': 555}, page_content='<!DOCTYPE html>: .chat-file .file-size{'),\n",
       " Document(metadata={'source': '/teamspace/studios/this_studio/langchain-ollama/王冉6_15.html', 'row': 556}, page_content='<!DOCTYPE html>: margin-top: 5px;'),\n",
       " Document(metadata={'source': '/teamspace/studios/this_studio/langchain-ollama/王冉6_15.html', 'row': 557}, page_content='<!DOCTYPE html>: color: #888'),\n",
       " Document(metadata={'source': '/teamspace/studios/this_studio/langchain-ollama/王冉6_15.html', 'row': 558}, page_content='<!DOCTYPE html>: }'),\n",
       " Document(metadata={'source': '/teamspace/studios/this_studio/langchain-ollama/王冉6_15.html', 'row': 559}, page_content='<!DOCTYPE html>: .app-info {'),\n",
       " Document(metadata={'source': '/teamspace/studios/this_studio/langchain-ollama/王冉6_15.html', 'row': 560}, page_content='<!DOCTYPE html>: font-size: 13px;'),\n",
       " Document(metadata={'source': '/teamspace/studios/this_studio/langchain-ollama/王冉6_15.html', 'row': 561}, page_content='<!DOCTYPE html>: margin-left: 3px;'),\n",
       " Document(metadata={'source': '/teamspace/studios/this_studio/langchain-ollama/王冉6_15.html', 'row': 562}, page_content='<!DOCTYPE html>: margin-right: 3px'),\n",
       " Document(metadata={'source': '/teamspace/studios/this_studio/langchain-ollama/王冉6_15.html', 'row': 563}, page_content='<!DOCTYPE html>: }'),\n",
       " Document(metadata={'source': '/teamspace/studios/this_studio/langchain-ollama/王冉6_15.html', 'row': 564}, page_content='<!DOCTYPE html>: .file-size\\nNone: '),\n",
       " Document(metadata={'source': '/teamspace/studios/this_studio/langchain-ollama/王冉6_15.html', 'row': 565}, page_content='<!DOCTYPE html>: textarea {'),\n",
       " Document(metadata={'source': '/teamspace/studios/this_studio/langchain-ollama/王冉6_15.html', 'row': 566}, page_content='<!DOCTYPE html>: font-size: 14px'),\n",
       " Document(metadata={'source': '/teamspace/studios/this_studio/langchain-ollama/王冉6_15.html', 'row': 567}, page_content='<!DOCTYPE html>: }'),\n",
       " Document(metadata={'source': '/teamspace/studios/this_studio/langchain-ollama/王冉6_15.html', 'row': 568}, page_content='<!DOCTYPE html>: .chat-music-audio .play-button {'),\n",
       " Document(metadata={'source': '/teamspace/studios/this_studio/langchain-ollama/王冉6_15.html', 'row': 569}, page_content='<!DOCTYPE html>: width: 50px;'),\n",
       " Document(metadata={'source': '/teamspace/studios/this_studio/langchain-ollama/王冉6_15.html', 'row': 570}, page_content='<!DOCTYPE html>: height: 50px;'),\n",
       " Document(metadata={'source': '/teamspace/studios/this_studio/langchain-ollama/王冉6_15.html', 'row': 571}, page_content='<!DOCTYPE html>: background-color: transparent;'),\n",
       " Document(metadata={'source': '/teamspace/studios/this_studio/langchain-ollama/王冉6_15.html', 'row': 572}, page_content='<!DOCTYPE html>: border-radius: 50%;'),\n",
       " Document(metadata={'source': '/teamspace/studios/this_studio/langchain-ollama/王冉6_15.html', 'row': 573}, page_content='<!DOCTYPE html>: border: 0;'),\n",
       " Document(metadata={'source': '/teamspace/studios/this_studio/langchain-ollama/王冉6_15.html', 'row': 574}, page_content='<!DOCTYPE html>: outline: 0;'),\n",
       " Document(metadata={'source': '/teamspace/studios/this_studio/langchain-ollama/王冉6_15.html', 'row': 575}, page_content='<!DOCTYPE html>: cursor: pointer'),\n",
       " Document(metadata={'source': '/teamspace/studios/this_studio/langchain-ollama/王冉6_15.html', 'row': 576}, page_content='<!DOCTYPE html>: }'),\n",
       " Document(metadata={'source': '/teamspace/studios/this_studio/langchain-ollama/王冉6_15.html', 'row': 577}, page_content='<!DOCTYPE html>: .chat-music-audio .play-button.playing {'),\n",
       " Document(metadata={'source': '/teamspace/studios/this_studio/langchain-ollama/王冉6_15.html', 'row': 578}, page_content='<!DOCTYPE html>: background: url(data:image/png;base64\\nNone: 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) no-repeat center;'),\n",
       " Document(metadata={'source': '/teamspace/studios/this_studio/langchain-ollama/王冉6_15.html', 'row': 579}, page_content='<!DOCTYPE html>: background-size: 18px 18px;'),\n",
       " Document(metadata={'source': '/teamspace/studios/this_studio/langchain-ollama/王冉6_15.html', 'row': 580}, page_content='<!DOCTYPE html>: }'),\n",
       " Document(metadata={'source': '/teamspace/studios/this_studio/langchain-ollama/王冉6_15.html', 'row': 581}, page_content='<!DOCTYPE html>: .chat-music-audio .play-button.paused {'),\n",
       " Document(metadata={'source': '/teamspace/studios/this_studio/langchain-ollama/王冉6_15.html', 'row': 582}, page_content='<!DOCTYPE html>: background: url(data:image/png;base64\\nNone: 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) no-repeat center;'),\n",
       " Document(metadata={'source': '/teamspace/studios/this_studio/langchain-ollama/王冉6_15.html', 'row': 583}, page_content='<!DOCTYPE html>: background-size: 18px 18px;'),\n",
       " Document(metadata={'source': '/teamspace/studios/this_studio/langchain-ollama/王冉6_15.html', 'row': 584}, page_content='<!DOCTYPE html>: }'),\n",
       " Document(metadata={'source': '/teamspace/studios/this_studio/langchain-ollama/王冉6_15.html', 'row': 585}, page_content='<!DOCTYPE html>: .input-area {'),\n",
       " Document(metadata={'source': '/teamspace/studios/this_studio/langchain-ollama/王冉6_15.html', 'row': 586}, page_content='<!DOCTYPE html>: border-top: .5px solid #e0e0e0;'),\n",
       " Document(metadata={'source': '/teamspace/studios/this_studio/langchain-ollama/王冉6_15.html', 'row': 587}, page_content='<!DOCTYPE html>: height: 150px;'),\n",
       " Document(metadata={'source': '/teamspace/studios/this_studio/langchain-ollama/王冉6_15.html', 'row': 588}, page_content='<!DOCTYPE html>: display: flex;'),\n",
       " Document(metadata={'source': '/teamspace/studios/this_studio/langchain-ollama/王冉6_15.html', 'row': 589}, page_content='<!DOCTYPE html>: flex-flow: column;'),\n",
       " Document(metadata={'source': '/teamspace/studios/this_studio/langchain-ollama/王冉6_15.html', 'row': 590}, page_content='<!DOCTYPE html>: background-color: #fff'),\n",
       " Document(metadata={'source': '/teamspace/studios/this_studio/langchain-ollama/王冉6_15.html', 'row': 591}, page_content='<!DOCTYPE html>: }'),\n",
       " Document(metadata={'source': '/teamspace/studios/this_studio/langchain-ollama/王冉6_15.html', 'row': 592}, page_content='<!DOCTYPE html>: textarea {'),\n",
       " Document(metadata={'source': '/teamspace/studios/this_studio/langchain-ollama/王冉6_15.html', 'row': 593}, page_content='<!DOCTYPE html>: flex: 1;'),\n",
       " Document(metadata={'source': '/teamspace/studios/this_studio/langchain-ollama/王冉6_15.html', 'row': 594}, page_content='<!DOCTYPE html>: padding: 5px;'),\n",
       " Document(metadata={'source': '/teamspace/studios/this_studio/langchain-ollama/王冉6_15.html', 'row': 595}, page_content='<!DOCTYPE html>: border: 0;'),\n",
       " Document(metadata={'source': '/teamspace/studios/this_studio/langchain-ollama/王冉6_15.html', 'row': 596}, page_content='<!DOCTYPE html>: cursor: pointer;'),\n",
       " Document(metadata={'source': '/teamspace/studios/this_studio/langchain-ollama/王冉6_15.html', 'row': 597}, page_content='<!DOCTYPE html>: overflow-y: auto;'),\n",
       " Document(metadata={'source': '/teamspace/studios/this_studio/langchain-ollama/王冉6_15.html', 'row': 598}, page_content='<!DOCTYPE html>: overflow-x: hidden;'),\n",
       " Document(metadata={'source': '/teamspace/studios/this_studio/langchain-ollama/王冉6_15.html', 'row': 599}, page_content='<!DOCTYPE html>: outline: 0;'),\n",
       " Document(metadata={'source': '/teamspace/studios/this_studio/langchain-ollama/王冉6_15.html', 'row': 600}, page_content='<!DOCTYPE html>: resize: none'),\n",
       " Document(metadata={'source': '/teamspace/studios/this_studio/langchain-ollama/王冉6_15.html', 'row': 601}, page_content='<!DOCTYPE html>: }'),\n",
       " Document(metadata={'source': '/teamspace/studios/this_studio/langchain-ollama/王冉6_15.html', 'row': 602}, page_content='<!DOCTYPE html>: .button-area {'),\n",
       " Document(metadata={'source': '/teamspace/studios/this_studio/langchain-ollama/王冉6_15.html', 'row': 603}, page_content='<!DOCTYPE html>: display: flex;'),\n",
       " Document(metadata={'source': '/teamspace/studios/this_studio/langchain-ollama/王冉6_15.html', 'row': 604}, page_content='<!DOCTYPE html>: height: 40px;'),\n",
       " Document(metadata={'source': '/teamspace/studios/this_studio/langchain-ollama/王冉6_15.html', 'row': 605}, page_content='<!DOCTYPE html>: margin-right: 10px;'),\n",
       " Document(metadata={'source': '/teamspace/studios/this_studio/langchain-ollama/王冉6_15.html', 'row': 606}, page_content='<!DOCTYPE html>: line-height: 40px;'),\n",
       " Document(metadata={'source': '/teamspace/studios/this_studio/langchain-ollama/王冉6_15.html', 'row': 607}, page_content='<!DOCTYPE html>: padding: 5px;'),\n",
       " Document(metadata={'source': '/teamspace/studios/this_studio/langchain-ollama/王冉6_15.html', 'row': 608}, page_content='<!DOCTYPE html>: justify-content: flex-end'),\n",
       " Document(metadata={'source': '/teamspace/studios/this_studio/langchain-ollama/王冉6_15.html', 'row': 609}, page_content='<!DOCTYPE html>: }'),\n",
       " Document(metadata={'source': '/teamspace/studios/this_studio/langchain-ollama/王冉6_15.html', 'row': 610}, page_content='<!DOCTYPE html>: .button-area button\\nNone: '),\n",
       " Document(metadata={'source': '/teamspace/studios/this_studio/langchain-ollama/王冉6_15.html', 'row': 611}, page_content='<!DOCTYPE html>: button {'),\n",
       " Document(metadata={'source': '/teamspace/studios/this_studio/langchain-ollama/王冉6_15.html', 'row': 612}, page_content='<!DOCTYPE html>: border: 0;'),\n",
       " Document(metadata={'source': '/teamspace/studios/this_studio/langchain-ollama/王冉6_15.html', 'row': 613}, page_content='<!DOCTYPE html>: border-radius: 4px;'),\n",
       " Document(metadata={'source': '/teamspace/studios/this_studio/langchain-ollama/王冉6_15.html', 'row': 614}, page_content='<!DOCTYPE html>: cursor: pointer'),\n",
       " Document(metadata={'source': '/teamspace/studios/this_studio/langchain-ollama/王冉6_15.html', 'row': 615}, page_content='<!DOCTYPE html>: }'),\n",
       " Document(metadata={'source': '/teamspace/studios/this_studio/langchain-ollama/王冉6_15.html', 'row': 616}, page_content='<!DOCTYPE html>: .button-area button {'),\n",
       " Document(metadata={'source': '/teamspace/studios/this_studio/langchain-ollama/王冉6_15.html', 'row': 617}, page_content='<!DOCTYPE html>: width: 80px;'),\n",
       " Document(metadata={'source': '/teamspace/studios/this_studio/langchain-ollama/王冉6_15.html', 'row': 618}, page_content='<!DOCTYPE html>: outline: 0;'),\n",
       " Document(metadata={'source': '/teamspace/studios/this_studio/langchain-ollama/王冉6_15.html', 'row': 619}, page_content='<!DOCTYPE html>: float: right'),\n",
       " Document(metadata={'source': '/teamspace/studios/this_studio/langchain-ollama/王冉6_15.html', 'row': 620}, page_content='<!DOCTYPE html>: }'),\n",
       " Document(metadata={'source': '/teamspace/studios/this_studio/langchain-ollama/王冉6_15.html', 'row': 621}, page_content='<!DOCTYPE html>: #paginationInfo\\nNone: '),\n",
       " Document(metadata={'source': '/teamspace/studios/this_studio/langchain-ollama/王冉6_15.html', 'row': 622}, page_content='<!DOCTYPE html>: .button-row\\nNone: '),\n",
       " Document(metadata={'source': '/teamspace/studios/this_studio/langchain-ollama/王冉6_15.html', 'row': 623}, page_content='<!DOCTYPE html>: .jump-row {'),\n",
       " Document(metadata={'source': '/teamspace/studios/this_studio/langchain-ollama/王冉6_15.html', 'row': 624}, page_content='<!DOCTYPE html>: display: flex;'),\n",
       " Document(metadata={'source': '/teamspace/studios/this_studio/langchain-ollama/王冉6_15.html', 'row': 625}, page_content='<!DOCTYPE html>: justify-content: center;'),\n",
       " Document(metadata={'source': '/teamspace/studios/this_studio/langchain-ollama/王冉6_15.html', 'row': 626}, page_content='<!DOCTYPE html>: align-items: center;'),\n",
       " Document(metadata={'source': '/teamspace/studios/this_studio/langchain-ollama/王冉6_15.html', 'row': 627}, page_content='<!DOCTYPE html>: margin-bottom: 10px'),\n",
       " Document(metadata={'source': '/teamspace/studios/this_studio/langchain-ollama/王冉6_15.html', 'row': 628}, page_content='<!DOCTYPE html>: }'),\n",
       " Document(metadata={'source': '/teamspace/studios/this_studio/langchain-ollama/王冉6_15.html', 'row': 629}, page_content='<!DOCTYPE html>: button\\nNone: '),\n",
       " Document(metadata={'source': '/teamspace/studios/this_studio/langchain-ollama/王冉6_15.html', 'row': 630}, page_content='<!DOCTYPE html>: input {'),\n",
       " Document(metadata={'source': '/teamspace/studios/this_studio/langchain-ollama/王冉6_15.html', 'row': 631}, page_content='<!DOCTYPE html>: font-size: 14px'),\n",
       " Document(metadata={'source': '/teamspace/studios/this_studio/langchain-ollama/王冉6_15.html', 'row': 632}, page_content='<!DOCTYPE html>: }'),\n",
       " Document(metadata={'source': '/teamspace/studios/this_studio/langchain-ollama/王冉6_15.html', 'row': 633}, page_content='<!DOCTYPE html>: button {'),\n",
       " Document(metadata={'source': '/teamspace/studios/this_studio/langchain-ollama/王冉6_15.html', 'row': 634}, page_content='<!DOCTYPE html>: background-color: #3498db;'),\n",
       " Document(metadata={'source': '/teamspace/studios/this_studio/langchain-ollama/王冉6_15.html', 'row': 635}, page_content='<!DOCTYPE html>: color: #fff;'),\n",
       " Document(metadata={'source': '/teamspace/studios/this_studio/langchain-ollama/王冉6_15.html', 'row': 636}, page_content='<!DOCTYPE html>: margin: 0 14px;'),\n",
       " Document(metadata={'source': '/teamspace/studios/this_studio/langchain-ollama/王冉6_15.html', 'row': 637}, page_content='<!DOCTYPE html>: transition: background-color .3s;'),\n",
       " Document(metadata={'source': '/teamspace/studios/this_studio/langchain-ollama/王冉6_15.html', 'row': 638}, page_content='<!DOCTYPE html>: padding: 10px 25px'),\n",
       " Document(metadata={'source': '/teamspace/studios/this_studio/langchain-ollama/王冉6_15.html', 'row': 639}, page_content='<!DOCTYPE html>: }'),\n",
       " Document(metadata={'source': '/teamspace/studios/this_studio/langchain-ollama/王冉6_15.html', 'row': 640}, page_content='<!DOCTYPE html>: button:hover {'),\n",
       " Document(metadata={'source': '/teamspace/studios/this_studio/langchain-ollama/王冉6_15.html', 'row': 641}, page_content='<!DOCTYPE html>: background-color: #2980b9'),\n",
       " Document(metadata={'source': '/teamspace/studios/this_studio/langchain-ollama/王冉6_15.html', 'row': 642}, page_content='<!DOCTYPE html>: }'),\n",
       " Document(metadata={'source': '/teamspace/studios/this_studio/langchain-ollama/王冉6_15.html', 'row': 643}, page_content='<!DOCTYPE html>: input {'),\n",
       " Document(metadata={'source': '/teamspace/studios/this_studio/langchain-ollama/王冉6_15.html', 'row': 644}, page_content='<!DOCTYPE html>: padding: 8px;'),\n",
       " Document(metadata={'source': '/teamspace/studios/this_studio/langchain-ollama/王冉6_15.html', 'row': 645}, page_content='<!DOCTYPE html>: width: 120px;'),\n",
       " Document(metadata={'source': '/teamspace/studios/this_studio/langchain-ollama/王冉6_15.html', 'row': 646}, page_content='<!DOCTYPE html>: box-sizing: border-box;'),\n",
       " Document(metadata={'source': '/teamspace/studios/this_studio/langchain-ollama/王冉6_15.html', 'row': 647}, page_content='<!DOCTYPE html>: margin-right: 0;'),\n",
       " Document(metadata={'source': '/teamspace/studios/this_studio/langchain-ollama/王冉6_15.html', 'row': 648}, page_content='<!DOCTYPE html>: margin-left: 15px'),\n",
       " Document(metadata={'source': '/teamspace/studios/this_studio/langchain-ollama/王冉6_15.html', 'row': 649}, page_content='<!DOCTYPE html>: }'),\n",
       " Document(metadata={'source': '/teamspace/studios/this_studio/langchain-ollama/王冉6_15.html', 'row': 650}, page_content='<!DOCTYPE html>: #paginationInfo {'),\n",
       " Document(metadata={'source': '/teamspace/studios/this_studio/langchain-ollama/王冉6_15.html', 'row': 651}, page_content='<!DOCTYPE html>: color: #555;'),\n",
       " Document(metadata={'source': '/teamspace/studios/this_studio/langchain-ollama/王冉6_15.html', 'row': 652}, page_content='<!DOCTYPE html>: font-size: 14px'),\n",
       " Document(metadata={'source': '/teamspace/studios/this_studio/langchain-ollama/王冉6_15.html', 'row': 653}, page_content='<!DOCTYPE html>: }'),\n",
       " Document(metadata={'source': '/teamspace/studios/this_studio/langchain-ollama/王冉6_15.html', 'row': 654}, page_content='<!DOCTYPE html>: .card {'),\n",
       " Document(metadata={'source': '/teamspace/studios/this_studio/langchain-ollama/王冉6_15.html', 'row': 655}, page_content='<!DOCTYPE html>: background-color: #fff;'),\n",
       " Document(metadata={'source': '/teamspace/studios/this_studio/langchain-ollama/王冉6_15.html', 'row': 656}, page_content='<!DOCTYPE html>: border-radius: 10px;'),\n",
       " Document(metadata={'source': '/teamspace/studios/this_studio/langchain-ollama/王冉6_15.html', 'row': 657}, page_content='<!DOCTYPE html>: overflow: hidden;'),\n",
       " Document(metadata={'source': '/teamspace/studios/this_studio/langchain-ollama/王冉6_15.html', 'row': 658}, page_content='<!DOCTYPE html>: box-shadow: 0 4px 8px rgba(0\\nNone: 0,0,.1);'),\n",
       " Document(metadata={'source': '/teamspace/studios/this_studio/langchain-ollama/王冉6_15.html', 'row': 659}, page_content='<!DOCTYPE html>: max-width: 80%;'),\n",
       " Document(metadata={'source': '/teamspace/studios/this_studio/langchain-ollama/王冉6_15.html', 'row': 660}, page_content='<!DOCTYPE html>: width: 280px;'),\n",
       " Document(metadata={'source': '/teamspace/studios/this_studio/langchain-ollama/王冉6_15.html', 'row': 661}, page_content='<!DOCTYPE html>: display: flex;'),\n",
       " Document(metadata={'source': '/teamspace/studios/this_studio/langchain-ollama/王冉6_15.html', 'row': 662}, page_content='<!DOCTYPE html>: flex-direction: column;'),\n",
       " Document(metadata={'source': '/teamspace/studios/this_studio/langchain-ollama/王冉6_15.html', 'row': 663}, page_content='<!DOCTYPE html>: text-align: left;'),\n",
       " Document(metadata={'source': '/teamspace/studios/this_studio/langchain-ollama/王冉6_15.html', 'row': 664}, page_content='<!DOCTYPE html>: margin: 0 15px 10px 20px'),\n",
       " Document(metadata={'source': '/teamspace/studios/this_studio/langchain-ollama/王冉6_15.html', 'row': 665}, page_content='<!DOCTYPE html>: }'),\n",
       " Document(metadata={'source': '/teamspace/studios/this_studio/langchain-ollama/王冉6_15.html', 'row': 666}, page_content='<!DOCTYPE html>: @media screen and (max-width:768px) {'),\n",
       " Document(metadata={'source': '/teamspace/studios/this_studio/langchain-ollama/王冉6_15.html', 'row': 667}, page_content='<!DOCTYPE html>: .card {'),\n",
       " Document(metadata={'source': '/teamspace/studios/this_studio/langchain-ollama/王冉6_15.html', 'row': 668}, page_content='<!DOCTYPE html>: margin: 0 8px'),\n",
       " Document(metadata={'source': '/teamspace/studios/this_studio/langchain-ollama/王冉6_15.html', 'row': 669}, page_content='<!DOCTYPE html>: }'),\n",
       " Document(metadata={'source': '/teamspace/studios/this_studio/langchain-ollama/王冉6_15.html', 'row': 670}, page_content='<!DOCTYPE html>: }'),\n",
       " Document(metadata={'source': '/teamspace/studios/this_studio/langchain-ollama/王冉6_15.html', 'row': 671}, page_content='<!DOCTYPE html>: .card a {'),\n",
       " Document(metadata={'source': '/teamspace/studios/this_studio/langchain-ollama/王冉6_15.html', 'row': 672}, page_content='<!DOCTYPE html>: text-decoration: none;'),\n",
       " Document(metadata={'source': '/teamspace/studios/this_studio/langchain-ollama/王冉6_15.html', 'row': 673}, page_content='<!DOCTYPE html>: color: inherit'),\n",
       " Document(metadata={'source': '/teamspace/studios/this_studio/langchain-ollama/王冉6_15.html', 'row': 674}, page_content='<!DOCTYPE html>: }'),\n",
       " Document(metadata={'source': '/teamspace/studios/this_studio/langchain-ollama/王冉6_15.html', 'row': 675}, page_content='<!DOCTYPE html>: .card-content {'),\n",
       " Document(metadata={'source': '/teamspace/studios/this_studio/langchain-ollama/王冉6_15.html', 'row': 676}, page_content='<!DOCTYPE html>: padding: 10px;'),\n",
       " Document(metadata={'source': '/teamspace/studios/this_studio/langchain-ollama/王冉6_15.html', 'row': 677}, page_content='<!DOCTYPE html>: flex: 1'),\n",
       " Document(metadata={'source': '/teamspace/studios/this_studio/langchain-ollama/王冉6_15.html', 'row': 678}, page_content='<!DOCTYPE html>: }'),\n",
       " Document(metadata={'source': '/teamspace/studios/this_studio/langchain-ollama/王冉6_15.html', 'row': 679}, page_content='<!DOCTYPE html>: .thumbnail {'),\n",
       " Document(metadata={'source': '/teamspace/studios/this_studio/langchain-ollama/王冉6_15.html', 'row': 680}, page_content='<!DOCTYPE html>: width: 50px;'),\n",
       " Document(metadata={'source': '/teamspace/studios/this_studio/langchain-ollama/王冉6_15.html', 'row': 681}, page_content='<!DOCTYPE html>: height: 50px;'),\n",
       " Document(metadata={'source': '/teamspace/studios/this_studio/langchain-ollama/王冉6_15.html', 'row': 682}, page_content='<!DOCTYPE html>: object-fit: cover'),\n",
       " Document(metadata={'source': '/teamspace/studios/this_studio/langchain-ollama/王冉6_15.html', 'row': 683}, page_content='<!DOCTYPE html>: }'),\n",
       " Document(metadata={'source': '/teamspace/studios/this_studio/langchain-ollama/王冉6_15.html', 'row': 684}, page_content='<!DOCTYPE html>: .description\\nNone: '),\n",
       " Document(metadata={'source': '/teamspace/studios/this_studio/langchain-ollama/王冉6_15.html', 'row': 685}, page_content='<!DOCTYPE html>: .link-info {'),\n",
       " Document(metadata={'source': '/teamspace/studios/this_studio/langchain-ollama/王冉6_15.html', 'row': 686}, page_content='<!DOCTYPE html>: display: flex;'),\n",
       " Document(metadata={'source': '/teamspace/studios/this_studio/langchain-ollama/王冉6_15.html', 'row': 687}, page_content='<!DOCTYPE html>: justify-content: space-between'),\n",
       " Document(metadata={'source': '/teamspace/studios/this_studio/langchain-ollama/王冉6_15.html', 'row': 688}, page_content='<!DOCTYPE html>: }'),\n",
       " Document(metadata={'source': '/teamspace/studios/this_studio/langchain-ollama/王冉6_15.html', 'row': 689}, page_content='<!DOCTYPE html>: .link-info {'),\n",
       " Document(metadata={'source': '/teamspace/studios/this_studio/langchain-ollama/王冉6_15.html', 'row': 690}, page_content='<!DOCTYPE html>: align-items: center;'),\n",
       " Document(metadata={'source': '/teamspace/studios/this_studio/langchain-ollama/王冉6_15.html', 'row': 691}, page_content='<!DOCTYPE html>: justify-content: center;'),\n",
       " Document(metadata={'source': '/teamspace/studios/this_studio/langchain-ollama/王冉6_15.html', 'row': 692}, page_content='<!DOCTYPE html>: padding: 2px;'),\n",
       " Document(metadata={'source': '/teamspace/studios/this_studio/langchain-ollama/王冉6_15.html', 'row': 693}, page_content='<!DOCTYPE html>: background-color: #f0f0f0'),\n",
       " Document(metadata={'source': '/teamspace/studios/this_studio/langchain-ollama/王冉6_15.html', 'row': 694}, page_content='<!DOCTYPE html>: }'),\n",
       " Document(metadata={'source': '/teamspace/studios/this_studio/langchain-ollama/王冉6_15.html', 'row': 695}, page_content='<!DOCTYPE html>: .app-logo {'),\n",
       " Document(metadata={'source': '/teamspace/studios/this_studio/langchain-ollama/王冉6_15.html', 'row': 696}, page_content='<!DOCTYPE html>: width: 20px;'),\n",
       " Document(metadata={'source': '/teamspace/studios/this_studio/langchain-ollama/王冉6_15.html', 'row': 697}, page_content='<!DOCTYPE html>: height: 20px;'),\n",
       " Document(metadata={'source': '/teamspace/studios/this_studio/langchain-ollama/王冉6_15.html', 'row': 698}, page_content='<!DOCTYPE html>: margin-right: 10px;'),\n",
       " Document(metadata={'source': '/teamspace/studios/this_studio/langchain-ollama/王冉6_15.html', 'row': 699}, page_content='<!DOCTYPE html>: border-radius: 50%'),\n",
       " Document(metadata={'source': '/teamspace/studios/this_studio/langchain-ollama/王冉6_15.html', 'row': 700}, page_content='<!DOCTYPE html>: }'),\n",
       " Document(metadata={'source': '/teamspace/studios/this_studio/langchain-ollama/王冉6_15.html', 'row': 701}, page_content='<!DOCTYPE html>: .app-name {'),\n",
       " Document(metadata={'source': '/teamspace/studios/this_studio/langchain-ollama/王冉6_15.html', 'row': 702}, page_content='<!DOCTYPE html>: font-size: 12px;'),\n",
       " Document(metadata={'source': '/teamspace/studios/this_studio/langchain-ollama/王冉6_15.html', 'row': 703}, page_content='<!DOCTYPE html>: font-weight: bold;'),\n",
       " Document(metadata={'source': '/teamspace/studios/this_studio/langchain-ollama/王冉6_15.html', 'row': 704}, page_content='<!DOCTYPE html>: }'),\n",
       " Document(metadata={'source': '/teamspace/studios/this_studio/langchain-ollama/王冉6_15.html', 'row': 705}, page_content='<!DOCTYPE html>: .transfer-box {'),\n",
       " Document(metadata={'source': '/teamspace/studios/this_studio/langchain-ollama/王冉6_15.html', 'row': 706}, page_content='<!DOCTYPE html>: width: 200px;'),\n",
       " Document(metadata={'source': '/teamspace/studios/this_studio/langchain-ollama/王冉6_15.html', 'row': 707}, page_content='<!DOCTYPE html>: height: 80px;'),\n",
       " Document(metadata={'source': '/teamspace/studios/this_studio/langchain-ollama/王冉6_15.html', 'row': 708}, page_content='<!DOCTYPE html>: margin-left: 18px;'),\n",
       " Document(metadata={'source': '/teamspace/studios/this_studio/langchain-ollama/王冉6_15.html', 'row': 709}, page_content='<!DOCTYPE html>: margin-right: 18px;'),\n",
       " Document(metadata={'source': '/teamspace/studios/this_studio/langchain-ollama/王冉6_15.html', 'row': 710}, page_content='<!DOCTYPE html>: border-radius: 3px;'),\n",
       " Document(metadata={'source': '/teamspace/studios/this_studio/langchain-ollama/王冉6_15.html', 'row': 711}, page_content='<!DOCTYPE html>: padding-left: 11px;'),\n",
       " Document(metadata={'source': '/teamspace/studios/this_studio/langchain-ollama/王冉6_15.html', 'row': 712}, page_content='<!DOCTYPE html>: padding-right: 11px;'),\n",
       " Document(metadata={'source': '/teamspace/studios/this_studio/langchain-ollama/王冉6_15.html', 'row': 713}, page_content='<!DOCTYPE html>: position: relative'),\n",
       " Document(metadata={'source': '/teamspace/studios/this_studio/langchain-ollama/王冉6_15.html', 'row': 714}, page_content='<!DOCTYPE html>: }'),\n",
       " Document(metadata={'source': '/teamspace/studios/this_studio/langchain-ollama/王冉6_15.html', 'row': 715}, page_content='<!DOCTYPE html>: .transfer-box[paysubtype=\"1\"]\\nNone: '),\n",
       " Document(metadata={'source': '/teamspace/studios/this_studio/langchain-ollama/王冉6_15.html', 'row': 716}, page_content='<!DOCTYPE html>: .transfer-box[paysubtype=\"1\"]::before {'),\n",
       " Document(metadata={'source': '/teamspace/studios/this_studio/langchain-ollama/王冉6_15.html', 'row': 717}, page_content='<!DOCTYPE html>: background: #f79c46'),\n",
       " Document(metadata={'source': '/teamspace/studios/this_studio/langchain-ollama/王冉6_15.html', 'row': 718}, page_content='<!DOCTYPE html>: }'),\n",
       " Document(metadata={'source': '/teamspace/studios/this_studio/langchain-ollama/王冉6_15.html', 'row': 719}, page_content='<!DOCTYPE html>: .transfer-box[paysubtype=\"1\"] i {'),\n",
       " Document(metadata={'source': '/teamspace/studios/this_studio/langchain-ollama/王冉6_15.html', 'row': 720}, page_content='<!DOCTYPE html>: background-image: url(data:image/png;base64\\nNone: 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)'),\n",
       " Document(metadata={'source': '/teamspace/studios/this_studio/langchain-ollama/王冉6_15.html', 'row': 721}, page_content='<!DOCTYPE html>: }'),\n",
       " Document(metadata={'source': '/teamspace/studios/this_studio/langchain-ollama/王冉6_15.html', 'row': 722}, page_content='<!DOCTYPE html>: .transfer-box:not([paysubtype=\"1\"])\\nNone: '),\n",
       " Document(metadata={'source': '/teamspace/studios/this_studio/langchain-ollama/王冉6_15.html', 'row': 723}, page_content='<!DOCTYPE html>: .transfer-box:not([paysubtype=\"1\"])::before {'),\n",
       " Document(metadata={'source': '/teamspace/studios/this_studio/langchain-ollama/王冉6_15.html', 'row': 724}, page_content='<!DOCTYPE html>: background: #f8e2c6'),\n",
       " Document(metadata={'source': '/teamspace/studios/this_studio/langchain-ollama/王冉6_15.html', 'row': 725}, page_content='<!DOCTYPE html>: }'),\n",
       " Document(metadata={'source': '/teamspace/studios/this_studio/langchain-ollama/王冉6_15.html', 'row': 726}, page_content='<!DOCTYPE html>: .transfer-box[paysubtype=\"3\"] i {'),\n",
       " Document(metadata={'source': '/teamspace/studios/this_studio/langchain-ollama/王冉6_15.html', 'row': 727}, page_content='<!DOCTYPE html>: background-image: url(data:image/png;base64\\nNone: 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)'),\n",
       " Document(metadata={'source': '/teamspace/studios/this_studio/langchain-ollama/王冉6_15.html', 'row': 728}, page_content='<!DOCTYPE html>: }'),\n",
       " Document(metadata={'source': '/teamspace/studios/this_studio/langchain-ollama/王冉6_15.html', 'row': 729}, page_content='<!DOCTYPE html>: .transfer-box[paysubtype=\"4\"] i {'),\n",
       " Document(metadata={'source': '/teamspace/studios/this_studio/langchain-ollama/王冉6_15.html', 'row': 730}, page_content='<!DOCTYPE html>: background-image: url(data:image/png;base64\\nNone: iVBORw0KGgoAAAANSUhEUgAAADkAAAA4CAYAAABHRFAgAAAAAXNSR0IArs4c6QAAAARnQU1BAACxjwv8YQUAAAAJcEhZcwAAFiUAABYlAUlSJPAAAAULSURBVGhD3ZvZUxtHEId7FnZXHAapApg4wQG/5K6kkqqk8pBUkv88KVdu5/CDyzmqArZsY0MAIyO0K6RJd09L1sne2l2+KkA7oKV/TO9MH4NqPfhOQ4o4ag5UbQdg8RUAZcloCHQX4PwI9PG/4HcvZDAdUhHpuCugrr0KUFnFO87hCN7SOwV9+Fdog92Nd/DTCr5S+PaOeX/jKfitY/MDCUgkksVtvIuv8BYXLZyJE/BOds03E+BWt/EPVgWwK3ilQB/cTyQ2tkh380NjxPkxeId/ymj6uGtvAizUADo+eI9/ldFoRBbp1m4BLK3hO+dA138AX8d2hNA46PLqjc+NGzePwDv6R74Tjkgi3RsfAVg2wIunqbhlVNiNl6+zWO/RLzIaTOjlz73xMf70PHR3v8lFIEG/16v/iFNjGXtCEijSwQ/39U/4tVf/CdrztBjkC9lBkF1OCHsCRSoSiM+E9/iOjBQDtufCB7X5gYxM51KR7BJd9P+Yq1rWePu/8wQEue5UkWaRmSvcDI7C9qGdlwmdKJK3CVxFu7vfykixYTtxUXTXMWqawJhIu3Vq9kHcJoqwyISB7NTPH+DsXJORYcZEWttf8Eaf1zYRF7/xxGwtFImNMCSSYlEK1SiSKSN67zbb71QwDBxgSCQH2xiLziJUywIfFyCyX62/JSOGvkieRcwmuvWfzUBJMcmCBofCP6EvkvNBTJfaFRJbcvwzUEsbcjHorpTwYj54FdC4M4C9IFcikkoWZVxRp+GfPWM9rAthkVyToew+A+z2ubyaNVp09dyVik4eBgEp465ugXXra7maMRTUkC7EiMRNlIpOaeFceLgpY3aw8pqMzB59cI91EeYzklYZ0K1tg9r5Ev10Ea+UGcwBX77a7SZYo9FBElwKJpZxKyoQavUmWGqhKpfxcRbXTPWAA4pioSpVUNprUHgA3sPvZTgapjT5ck/KFHQ9b/8PuQjG3foM/fYFPpPzrgxFh28yK4EEP+cRwTTMAlwJS0OcPbfjobs29jXVMuO6q4MxoqrexHXalpFx4t47KexpZwdgaUxNkkAhFBV6NVe1i5ei6dYJiny+J5fJ8PEv5j3EZJsaPwXCbx6C1ZZl31HpbNzek9+4C0XPQp4z61C/UzARDw6o9bf5ZRpQm41qtTyzOaE23mNdhBF5fpTZRp7XogOU/JMuhEVSCzvPODMblOgSkRyc645pjV0BaFsjPb2ko5+FcD5JLewrgFpaHwoc+iJNXaQcFfNAqJIuzyPRF+lzUKBMj77EGPsVOuYjM4C8dFeEV8KFGvfoSwvaP7qiD4lkOr45hFBCOFZF+0cZE8kN1xKutA4Vx3Hzn9QwHp9JookP7UCZvQyo1S1cWBpyNcxEkXxOhmZTDkQUHbaTZvHZPRkZJvAcD7Wpi9xS77XRL7NxsrsOQv34CY3NIuBefx/tmw+chECRev8uUB0o6ITFrGF77EVzeCmAQJE+JsG9GxXlGe3ZEUYgEeyuArtElxajT81ynQP0e/uLTIR1IvopSTpGQrEh9U/2bpsWdsbY6E3WzlcsjraJaavoNGKdd6VjMHxKRM67Ugs+qw51LuddB6E+ijmEgLfwzziT4QZoQrjMSekSn8vB5Pe/v7kgFZdEIns4y5vGKKqmc3dXR67v8GPA3iBn0CkfxHRpMJuISyoiB7my/01wGdQfpPYZdZd4pukoG5Ur/SYXfvVpPePjbQD/A1/vC7XhnXAdAAAAAElFTkSuQmCC)'),\n",
       " Document(metadata={'source': '/teamspace/studios/this_studio/langchain-ollama/王冉6_15.html', 'row': 731}, page_content='<!DOCTYPE html>: }'),\n",
       " Document(metadata={'source': '/teamspace/studios/this_studio/langchain-ollama/王冉6_15.html', 'row': 732}, page_content='<!DOCTYPE html>: .transfer-box::before {'),\n",
       " Document(metadata={'source': '/teamspace/studios/this_studio/langchain-ollama/王冉6_15.html', 'row': 733}, page_content='<!DOCTYPE html>: content: \"\";'),\n",
       " Document(metadata={'source': '/teamspace/studios/this_studio/langchain-ollama/王冉6_15.html', 'row': 734}, page_content='<!DOCTYPE html>: width: 8px;'),\n",
       " Document(metadata={'source': '/teamspace/studios/this_studio/langchain-ollama/王冉6_15.html', 'row': 735}, page_content='<!DOCTYPE html>: height: 8px;'),\n",
       " Document(metadata={'source': '/teamspace/studios/this_studio/langchain-ollama/王冉6_15.html', 'row': 736}, page_content='<!DOCTYPE html>: position: absolute;'),\n",
       " Document(metadata={'source': '/teamspace/studios/this_studio/langchain-ollama/王冉6_15.html', 'row': 737}, page_content='<!DOCTYPE html>: transform: rotate(45deg);'),\n",
       " Document(metadata={'source': '/teamspace/studios/this_studio/langchain-ollama/王冉6_15.html', 'row': 738}, page_content='<!DOCTYPE html>: top: 18px'),\n",
       " Document(metadata={'source': '/teamspace/studios/this_studio/langchain-ollama/王冉6_15.html', 'row': 739}, page_content='<!DOCTYPE html>: }'),\n",
       " Document(metadata={'source': '/teamspace/studios/this_studio/langchain-ollama/王冉6_15.html', 'row': 740}, page_content='<!DOCTYPE html>: .transfer-box[issend=\"0\"]::before {'),\n",
       " Document(metadata={'source': '/teamspace/studios/this_studio/langchain-ollama/王冉6_15.html', 'row': 741}, page_content='<!DOCTYPE html>: left: -3px'),\n",
       " Document(metadata={'source': '/teamspace/studios/this_studio/langchain-ollama/王冉6_15.html', 'row': 742}, page_content='<!DOCTYPE html>: }'),\n",
       " Document(metadata={'source': '/teamspace/studios/this_studio/langchain-ollama/王冉6_15.html', 'row': 743}, page_content='<!DOCTYPE html>: .transfer-box[issend=\"1\"]::before {'),\n",
       " Document(metadata={'source': '/teamspace/studios/this_studio/langchain-ollama/王冉6_15.html', 'row': 744}, page_content='<!DOCTYPE html>: left: 218px'),\n",
       " Document(metadata={'source': '/teamspace/studios/this_studio/langchain-ollama/王冉6_15.html', 'row': 745}, page_content='<!DOCTYPE html>: }'),\n",
       " Document(metadata={'source': '/teamspace/studios/this_studio/langchain-ollama/王冉6_15.html', 'row': 746}, page_content='<!DOCTYPE html>: .trans-content {'),\n",
       " Document(metadata={'source': '/teamspace/studios/this_studio/langchain-ollama/王冉6_15.html', 'row': 747}, page_content='<!DOCTYPE html>: display: flex;'),\n",
       " Document(metadata={'source': '/teamspace/studios/this_studio/langchain-ollama/王冉6_15.html', 'row': 748}, page_content='<!DOCTYPE html>: height: 60px;'),\n",
       " Document(metadata={'source': '/teamspace/studios/this_studio/langchain-ollama/王冉6_15.html', 'row': 749}, page_content='<!DOCTYPE html>: align-items: center;'),\n",
       " Document(metadata={'source': '/teamspace/studios/this_studio/langchain-ollama/王冉6_15.html', 'row': 750}, page_content='<!DOCTYPE html>: position: relative'),\n",
       " Document(metadata={'source': '/teamspace/studios/this_studio/langchain-ollama/王冉6_15.html', 'row': 751}, page_content='<!DOCTYPE html>: }'),\n",
       " Document(metadata={'source': '/teamspace/studios/this_studio/langchain-ollama/王冉6_15.html', 'row': 752}, page_content='<!DOCTYPE html>: .trans-content>i {'),\n",
       " Document(metadata={'source': '/teamspace/studios/this_studio/langchain-ollama/王冉6_15.html', 'row': 753}, page_content='<!DOCTYPE html>: display: block;'),\n",
       " Document(metadata={'source': '/teamspace/studios/this_studio/langchain-ollama/王冉6_15.html', 'row': 754}, page_content='<!DOCTYPE html>: width: 36px;'),\n",
       " Document(metadata={'source': '/teamspace/studios/this_studio/langchain-ollama/王冉6_15.html', 'row': 755}, page_content='<!DOCTYPE html>: height: 36px;'),\n",
       " Document(metadata={'source': '/teamspace/studios/this_studio/langchain-ollama/王冉6_15.html', 'row': 756}, page_content='<!DOCTYPE html>: background-repeat: no-repeat;'),\n",
       " Document(metadata={'source': '/teamspace/studios/this_studio/langchain-ollama/王冉6_15.html', 'row': 757}, page_content='<!DOCTYPE html>: background-size: cover'),\n",
       " Document(metadata={'source': '/teamspace/studios/this_studio/langchain-ollama/王冉6_15.html', 'row': 758}, page_content='<!DOCTYPE html>: }'),\n",
       " Document(metadata={'source': '/teamspace/studios/this_studio/langchain-ollama/王冉6_15.html', 'row': 759}, page_content='<!DOCTYPE html>: .transfer-texts {'),\n",
       " Document(metadata={'source': '/teamspace/studios/this_studio/langchain-ollama/王冉6_15.html', 'row': 760}, page_content='<!DOCTYPE html>: margin-left: 7px;'),\n",
       " Document(metadata={'source': '/teamspace/studios/this_studio/langchain-ollama/王冉6_15.html', 'row': 761}, page_content='<!DOCTYPE html>: display: flex;'),\n",
       " Document(metadata={'source': '/teamspace/studios/this_studio/langchain-ollama/王冉6_15.html', 'row': 762}, page_content='<!DOCTYPE html>: align-items: flex-start;'),\n",
       " Document(metadata={'source': '/teamspace/studios/this_studio/langchain-ollama/王冉6_15.html', 'row': 763}, page_content='<!DOCTYPE html>: flex-direction: column'),\n",
       " Document(metadata={'source': '/teamspace/studios/this_studio/langchain-ollama/王冉6_15.html', 'row': 764}, page_content='<!DOCTYPE html>: }'),\n",
       " Document(metadata={'source': '/teamspace/studios/this_studio/langchain-ollama/王冉6_15.html', 'row': 765}, page_content='<!DOCTYPE html>: .trans-bottom>span\\nNone: '),\n",
       " Document(metadata={'source': '/teamspace/studios/this_studio/langchain-ollama/王冉6_15.html', 'row': 766}, page_content='<!DOCTYPE html>: .transfer-texts>font\\nNone: '),\n",
       " Document(metadata={'source': '/teamspace/studios/this_studio/langchain-ollama/王冉6_15.html', 'row': 767}, page_content='<!DOCTYPE html>: .transfer-texts>span {'),\n",
       " Document(metadata={'source': '/teamspace/studios/this_studio/langchain-ollama/王冉6_15.html', 'row': 768}, page_content='<!DOCTYPE html>: color: #fff;'),\n",
       " Document(metadata={'source': '/teamspace/studios/this_studio/langchain-ollama/王冉6_15.html', 'row': 769}, page_content='<!DOCTYPE html>: font-weight: 500'),\n",
       " Document(metadata={'source': '/teamspace/studios/this_studio/langchain-ollama/王冉6_15.html', 'row': 770}, page_content='<!DOCTYPE html>: }'),\n",
       " Document(metadata={'source': '/teamspace/studios/this_studio/langchain-ollama/王冉6_15.html', 'row': 771}, page_content='<!DOCTYPE html>: .transfer-texts>span {'),\n",
       " Document(metadata={'source': '/teamspace/studios/this_studio/langchain-ollama/王冉6_15.html', 'row': 772}, page_content='<!DOCTYPE html>: font-size: 15px'),\n",
       " Document(metadata={'source': '/teamspace/studios/this_studio/langchain-ollama/王冉6_15.html', 'row': 773}, page_content='<!DOCTYPE html>: }'),\n",
       " Document(metadata={'source': '/teamspace/studios/this_studio/langchain-ollama/王冉6_15.html', 'row': 774}, page_content='<!DOCTYPE html>: .transfer-texts>font {'),\n",
       " Document(metadata={'source': '/teamspace/studios/this_studio/langchain-ollama/王冉6_15.html', 'row': 775}, page_content='<!DOCTYPE html>: font-size: 12px;'),\n",
       " Document(metadata={'source': '/teamspace/studios/this_studio/langchain-ollama/王冉6_15.html', 'row': 776}, page_content='<!DOCTYPE html>: padding-left: 2px'),\n",
       " Document(metadata={'source': '/teamspace/studios/this_studio/langchain-ollama/王冉6_15.html', 'row': 777}, page_content='<!DOCTYPE html>: }'),\n",
       " Document(metadata={'source': '/teamspace/studios/this_studio/langchain-ollama/王冉6_15.html', 'row': 778}, page_content='<!DOCTYPE html>: .transfer {'),\n",
       " Document(metadata={'source': '/teamspace/studios/this_studio/langchain-ollama/王冉6_15.html', 'row': 779}, page_content='<!DOCTYPE html>: height: 60px'),\n",
       " Document(metadata={'source': '/teamspace/studios/this_studio/langchain-ollama/王冉6_15.html', 'row': 780}, page_content='<!DOCTYPE html>: }'),\n",
       " Document(metadata={'source': '/teamspace/studios/this_studio/langchain-ollama/王冉6_15.html', 'row': 781}, page_content='<!DOCTYPE html>: .trans-bottom {'),\n",
       " Document(metadata={'source': '/teamspace/studios/this_studio/langchain-ollama/王冉6_15.html', 'row': 782}, page_content='<!DOCTYPE html>: height: 16px;'),\n",
       " Document(metadata={'source': '/teamspace/studios/this_studio/langchain-ollama/王冉6_15.html', 'row': 783}, page_content='<!DOCTYPE html>: margin-top: 1px;'),\n",
       " Document(metadata={'source': '/teamspace/studios/this_studio/langchain-ollama/王冉6_15.html', 'row': 784}, page_content='<!DOCTYPE html>: display: flex;'),\n",
       " Document(metadata={'source': '/teamspace/studios/this_studio/langchain-ollama/王冉6_15.html', 'row': 785}, page_content='<!DOCTYPE html>: align-items: center'),\n",
       " Document(metadata={'source': '/teamspace/studios/this_studio/langchain-ollama/王冉6_15.html', 'row': 786}, page_content='<!DOCTYPE html>: }'),\n",
       " Document(metadata={'source': '/teamspace/studios/this_studio/langchain-ollama/王冉6_15.html', 'row': 787}, page_content='<!DOCTYPE html>: .trans-bottom>span {'),\n",
       " Document(metadata={'source': '/teamspace/studios/this_studio/langchain-ollama/王冉6_15.html', 'row': 788}, page_content='<!DOCTYPE html>: font-size: 10px'),\n",
       " Document(metadata={'source': '/teamspace/studios/this_studio/langchain-ollama/王冉6_15.html', 'row': 789}, page_content='<!DOCTYPE html>: }'),\n",
       " Document(metadata={'source': '/teamspace/studios/this_studio/langchain-ollama/王冉6_15.html', 'row': 790}, page_content='<!DOCTYPE html>: .call i {'),\n",
       " Document(metadata={'source': '/teamspace/studios/this_studio/langchain-ollama/王冉6_15.html', 'row': 791}, page_content='<!DOCTYPE html>: display: inline-block;'),\n",
       " Document(metadata={'source': '/teamspace/studios/this_studio/langchain-ollama/王冉6_15.html', 'row': 792}, page_content='<!DOCTYPE html>: background-repeat: no-repeat;'),\n",
       " Document(metadata={'source': '/teamspace/studios/this_studio/langchain-ollama/王冉6_15.html', 'row': 793}, page_content='<!DOCTYPE html>: background-size: cover;'),\n",
       " Document(metadata={'source': '/teamspace/studios/this_studio/langchain-ollama/王冉6_15.html', 'row': 794}, page_content='<!DOCTYPE html>: vertical-align: middle;'),\n",
       " Document(metadata={'source': '/teamspace/studios/this_studio/langchain-ollama/王冉6_15.html', 'row': 795}, page_content='<!DOCTYPE html>: margin-right: 4px;'),\n",
       " Document(metadata={'source': '/teamspace/studios/this_studio/langchain-ollama/王冉6_15.html', 'row': 796}, page_content='<!DOCTYPE html>: margin-top: -2px'),\n",
       " Document(metadata={'source': '/teamspace/studios/this_studio/langchain-ollama/王冉6_15.html', 'row': 797}, page_content='<!DOCTYPE html>: }'),\n",
       " Document(metadata={'source': '/teamspace/studios/this_studio/langchain-ollama/王冉6_15.html', 'row': 798}, page_content=\"<!DOCTYPE html>: .call[calltype='1'] i {\"),\n",
       " Document(metadata={'source': '/teamspace/studios/this_studio/langchain-ollama/王冉6_15.html', 'row': 799}, page_content='<!DOCTYPE html>: background-image: url(data:image/png;base64\\nNone: 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)'),\n",
       " Document(metadata={'source': '/teamspace/studios/this_studio/langchain-ollama/王冉6_15.html', 'row': 800}, page_content='<!DOCTYPE html>: }'),\n",
       " Document(metadata={'source': '/teamspace/studios/this_studio/langchain-ollama/王冉6_15.html', 'row': 801}, page_content=\"<!DOCTYPE html>: .call[calltype='0'] i {\"),\n",
       " Document(metadata={'source': '/teamspace/studios/this_studio/langchain-ollama/王冉6_15.html', 'row': 802}, page_content='<!DOCTYPE html>: background-image: url(data:image/png;base64\\nNone: iVBORw0KGgoAAAANSUhEUgAAAgAAAAIACAYAAAD0eNT6AAAACXBIWXMAAAsTAAALEwEAmpwYAAAE7mlUWHRYTUw6Y29tLmFkb2JlLnhtcAAAAAAAPD94cGFja2V0IGJlZ2luPSLvu78iIGlkPSJXNU0wTXBDZWhpSHpyZVN6TlRjemtjOWQiPz4gPHg6eG1wbWV0YSB4bWxuczp4PSJhZG9iZTpuczptZXRhLyIgeDp4bXB0az0iQWRvYmUgWE1QIENvcmUgOS4xLWMwMDIgNzkuZjM1NGVmYywgMjAyMy8xMS8wOS0xMjo0MDoyNyAgICAgICAgIj4gPHJkZjpSREYgeG1sbnM6cmRmPSJodHRwOi8vd3d3LnczLm9yZy8xOTk5LzAyLzIyLXJkZi1zeW50YXgtbnMjIj4gPHJkZjpEZXNjcmlwdGlvbiByZGY6YWJvdXQ9IiIgeG1sbnM6eG1wPSJodHRwOi8vbnMuYWRvYmUuY29tL3hhcC8xLjAvIiB4bWxuczpkYz0iaHR0cDovL3B1cmwub3JnL2RjL2VsZW1lbnRzLzEuMS8iIHhtbG5zOnBob3Rvc2hvcD0iaHR0cDovL25zLmFkb2JlLmNvbS9waG90b3Nob3AvMS4wLyIgeG1sbnM6eG1wTU09Imh0dHA6Ly9ucy5hZG9iZS5jb20veGFwLzEuMC9tbS8iIHhtbG5zOnN0RXZ0PSJodHRwOi8vbnMuYWRvYmUuY29tL3hhcC8xLjAvc1R5cGUvUmVzb3VyY2VFdmVudCMiIHhtcDpDcmVhdG9yVG9vbD0iQWRvYmUgUGhvdG9zaG9wIDI1LjQgKFdpbmRvd3MpIiB4bXA6Q3JlYXRlRGF0ZT0iMjAyNC0wMi0wM1QwMDo1OTo0OCswODowMCIgeG1wOk1vZGlmeURhdGU9IjIwMjQtMDItMDNUMDE6MDE6MDErMDg6MDAiIHhtcDpNZXRhZGF0YURhdGU9IjIwMjQtMDItMDNUMDE6MDE6MDErMDg6MDAiIGRjOmZvcm1hdD0iaW1hZ2UvcG5nIiBwaG90b3Nob3A6Q29sb3JNb2RlPSIzIiB4bXBNTTpJbnN0YW5jZUlEPSJ4bXAuaWlkOmViMGNiNGVkLTQ0ZGMtOTQ0OC1iZDdkLTUxNzJmMTQzOTc5ZSIgeG1wTU06RG9jdW1lbnRJRD0ieG1wLmRpZDplYjBjYjRlZC00NGRjLTk0NDgtYmQ3ZC01MTcyZjE0Mzk3OWUiIHhtcE1NOk9yaWdpbmFsRG9jdW1lbnRJRD0ieG1wLmRpZDplYjBjYjRlZC00NGRjLTk0NDgtYmQ3ZC01MTcyZjE0Mzk3OWUiPiA8eG1wTU06SGlzdG9yeT4gPHJkZjpTZXE+IDxyZGY6bGkgc3RFdnQ6YWN0aW9uPSJjcmVhdGVkIiBzdEV2dDppbnN0YW5jZUlEPSJ4bXAuaWlkOmViMGNiNGVkLTQ0ZGMtOTQ0OC1iZDdkLTUxNzJmMTQzOTc5ZSIgc3RFdnQ6d2hlbj0iMjAyNC0wMi0wM1QwMDo1OTo0OCswODowMCIgc3RFdnQ6c29mdHdhcmVBZ2VudD0iQWRvYmUgUGhvdG9zaG9wIDI1LjQgKFdpbmRvd3MpIi8+IDwvcmRmOlNlcT4gPC94bXBNTTpIaXN0b3J5PiA8L3JkZjpEZXNjcmlwdGlvbj4gPC9yZGY6UkRGPiA8L3g6eG1wbWV0YT4gPD94cGFja2V0IGVuZD0iciI/PgboeeUAAB/DSURBVHic7d172Lb5XOj/98PsjLE3ZER2ISES0VpRPxZKtISQKGWTbTr8WCFRUlIpK9n9kGyTbCKxRCtaIZGRTbSyyS6MXXYzo5l51h/fx2+2a+aZmeu+zuu6vq/XcdzH8/DHeX/uuZ/7Ot/3eZ3n97tv//79AQBzucDSAwAA6ycAAGBCAgAAJiQAAGBCAgAAJiQAAGBCAgAAJiQAAGBCAgAAJiQAAGBCAgAAJiQAAGBCAgAAJiQAAGBCAgAAJiQAAGBCAgAAJiQAAGBCAgAAJiQAAGBCAgAAJiQAAGBCAgAAJiQAAGBCAgAAJiQAAGBCAgAAJiQAAGBCAgAAJiQAAGBCAgAAJiQAAGBCAgAAJiQAAGBCAgAAJiQAAGBCAgAAJiQAAGBCAgAAJiQAAGBCAgAAJiQAAGBCAgAAJiQAAGBCAgAAJiQAAGBCAgAAJiQAAGBCAgAAJiQAAGBCAgAAJiQAAGBCAgAAJiQAAGBCAgAAJiQAAGBCAgAAJiQAAGBCAgAAJiQAAGBCAgAAJiQAAGBCAgAAJiQAAGBCAgAAJiQAAGBCAgAAJiQAAGBCAgAAJiQAAGBCAgAAJiQAAGBCAgAAJiQAAGBCAgAAJiQAAGBCAgAAJiQAAGBCAgAAJiQAAGBCAgAAJiQAAGBCAgAAJiQAAGBCAgAAJiQAAGBCAgAAJiQAAGBCAgAAJiQAAGBCAgAAJiQAAGBCAgAAJiQAAGBCAgAAJiQAAGBCAgAAJiQAAGBCAgAAJiQAAGBCAgAAJiQAAGBCAgAAJiQAAGBCAgAAJiQAAGBCAgAAJnTIOj7Jvn371vFpDsZh1dWqK1eXrY6prnTg49LVUdWFqiMO/P2wJYYE1mZ/9fUDH8cf+Phy9cnqY9VHq08f+N8fOvAnrMX+/fv39Pj79voT1OIBcNnqRtV3Hvi4bvUd1aFLDgVsleOq91bvq95fHVu9dcmB2H0C4Lz7T9Xtqu+rrl1dfIkhgJ30kerd1d9Vrz3wd1gpAXDuHFXdv7p1ddXqiuv6xMC0/qV6V/VH1WsWnoUdIgAOzoWrB1Y/1Tjxe+8eWLfPVe+onla9auFZ2AEC4OwdUT248Vv/5XLiB5b3lcYVgcdUf73sKGwzAXDWDmvc2PfEA39ecNWfAOB8OqF6XvW46hMLz8IWEgBndvnqEdXP5cQPbL5PVL9U/Wn1tYVnYYsIgNO7efW71XVWdUCANXlW9fjG2gJwjgTAcJHG+/y/XB15vgcCWMbbq0dVb1h6EDafABgr9D25+onVTAOwqC9Uj66euvQgbLa9Pj9v+l4AV6hekJM/sDsuWT2lcUUTFrPJVwCuUf1hdZPVTgOwEfZXT6oeXp2y8CxsoFnfArhu9fwDfwLsqv2NhYMeXJ288CxsmBnfArhS4zd/J39g1+1rPNL8m0sPwnw2LQCObqyn/d1LDwKwJheoHlI9shEEsBab9BbAhaqXVLfd22kANtL+6n7VMw/8ncnNcg/AodVvVA/d82HO2f7Ge3EnpcZhFoe0GSuLfrG6ffWmpQdhebMEwN2qpze2812nk6qPV59tPJv7ieq46qvV19u8t0iA1dvXeO25SGOp8ctUl6qOOfD3dXtbdYfqUwt8bjbIDAHwndXLq6vv+SCneteBj2MbK3O9v7GDF0CNELh+dcPqeo37kr51jZ//WdV983jg1Pb8/Lx///49/zgbF65e2bjsvtcfJzc247h39e0r+w8I7LoLVjdrLNzzztbzerW/+sl1fHFsrj0/Ny8cAD/Ren6QXlLdrnGJD+C8ukbjmf33tfevWx9tLIXOpHY5AI6pPtLe/gC9v7prdfFVf2OAqV29ekL1H+3ta9jvr+sLYvPsagAcWj2xvf3BeVZ1lb35tgB0WHXL9vZqwJcabz8woV0NgGtVJ7Q3PzBfrR7UWFcAYK9drnEj815FwP9Y35fCJtnVAPjmQher/vhM474Cz+8D63RI9YzGo8Wrfl37fPXD6/tS2BS7GABXaTxyt+ofkk9WP7Kn3w2As/d7jSeOVv369opGZDCRXQyApzeebV11Id95b78VAAfl6e3N1c1brvOLYHm7FgCXaqy6t8ofjJOre+39twLgoBze3qxv8pw1fg1sgL0+N697qdu7Vhdb8TGf0rjjH2ATnFjdv3rvio97ozzZxCqt+QrAX7XaIn5bddE1/GcCOLd+qPFU0qpe705sLA/M7rtsdaNdegvgutWnW20AfP96vhcA59ohjZsCV/ma98LqyDV+DazfXRp71LxnlwLgMa32EZknZ7c+YLN9R/WeVve69+Hqe9b6FbAu/0/1F40tofdXJ+5SALym1f0QfL665jq+IwDnw77q4a3ute+U6u5r/QrYa9epXto4r532e/3ve31uXtdv0N9WXXGFx3t29aEVHg9gL+yvXlW9e0XH29fYQt1iZ9vtAo3z4h9Uf1PdsbrkEkOsw/c0Nv9ZheOrlzU24QDYdB+oXt+IgVW4QfUtKzoW63e56pHVsY2nRS621CDrCoDvbnV18+fVP6/oWADr8NrGTdCrcL3q8is6FutzTHXP6s3V49qAXWrXtbTklVd4rL9s3CQBsC3e0lgX4HIrONalq8us4Disx6WrWzQ2qfu+hWc5nXUFwNErOs5nG3fUAmyTE6t/qG7eaq68ugKw+Q6vblvd48CfG2fbAuDY3PwHbKe3VV9qNW+HXrnx+n3SCo7F6t22sTPtj7fBj6tvWwD8U3Xcio4FsE5vrz7XagLgqtVRjaBgc9y0sTfNbVrgrv5za10BcIkVHefjKzoOwLp9qrEV+ipcobEi4JdWdDzOn2tUD2vs2HiFhWc5aOsKgAut4BgnNn6AALbVpxqP8Z1fF60OW8FxOH8uXv1C4+7+rTnxf9O6AmAVvtS4fAawrT7WWA/g/C7kc2R1wfM/DufRkdVPNX7rv0LbdS79/23T0CdUX196CIDz4cuN5XzP78n7qLbr9XtXXKRxmf9XG8vRb+wNfgdjm/4BndiIAIBt9dVWEwAXbrtev7fdxasbVo9uh3ah3aZ/QCflkRdgux3fCIDz6/C2/LfPLXGh6iaNRXz+67KjrN42BQDAtrOJz/a4aXW36t7t6PdNAADAqa7duKv/Ho1lfHeWAACAsVnP/RqX+q+97CjrIQAAmNkR1UOqO7aaNRq2hgAAYFY/V92nuk4Tng+n+4IBmN6PVo9sXOo/cuFZFiMAAJjBYY1n+R/TuMP/8GXHWZ4AAGCXHdLYrOe/NbbotYTyAQIAgF119eou1cMbqydyGgIAgF1zjep2jbv7j1l2lM0lAADYFd9a3b762eq7Fp5l4wkAALbdhau7V3dt3ODHQRAAAGyzu1U/Vd08GySdKwIAgG10q8Z7/N9XXXTZUbaTAABgm3xXpz7Lf6mFZzmjTzfWG7jk0oMcDJdLANh0+6rLV/+9elPjRr9NOfnvrz7VuPHwTgf+vhVcAQBgU+2rjm6cXB/a5pz0v+nz1XOrJ1Sfa+wpsDW/WAsAADbR5aofqX6puuLCs5zRcdXrql+vPnCa/39rTv4lAADYLJetfqB6WJu3Pe+Xqr+unlK9cdFJVkAAALAJjqpu3bjcf+uFZzmj/6heXz2v+pOFZ1kZAQDA0m5Z3atxE92meV31x9ULq5MWnmWlBAAAS7lxdZ/qNtVlFp7ljN5aPad6ZeMGv50jAABYt6s23uO/VXWlZUc5k49VT6xeU3102VH2lgAAYF0uUT2iukN1lYVnOaOvVr9dvaj63wvPshYCAIC9dmR1/+oBjUf6NulxuW9Uz2+c/P+lHXuf/+wIAAD2ylHVj1aPblz236RzzvHVG6pfqf6xcaf/VDbpmwHAbjiq+v7Gif8mC89yRl+t3tFYxOcvF55lUQIAgFU5vLF4z89Vd194ljM6oXpX9dTqBQvPshEEAACrcOPqLtWD2qz3+Kv+vvE+/9Oa6D3+cyIAADg/blDdsbp3m7dZz3urlzVO/J9ZeJaNIwAAOC+uWv10defq25cd5Uz+rbFL34ur9yw7yuYSAACcG5doPNJ3x+p6y45yJidUz2ic+P9u4Vk2ngAA4GBcoLpvY83+67V57/M/r3Gp/x8az/ZzDgQAAOfkltVjGif+I5cd5UxeXz2uOrbxiB8HSQAAcFYu2Djh/1rjmf4LLzrN6Z1cvbuxzsCbqq8tO852EgAAnNZh1dWqX6zu1mZd6j+psUHPb1Z/1ISr962SAACgal/jbv57Vr/QWNRnk3ykU9fs/8rCs+wEAQDANRpr9v+/1dELz3JGH61eVf336kPLjrJbBADAvK5Y3a66X3WthWc5o89Wf1Y9p3rbwrPsJAEAMJ8jqp9oLOTz/cuOciYnVi+pXti4w589IgAA5nLnxkY9P9Rm3eBX48T/guovqlMWnmXnCQCAOdyi+vnGb/wXW3iWM3pT9aQDf/77wrNMQwAA7Lbvqh5V3ay6zMKznNEHq8c3LvXbrGfNBADAbrpCY6Gc21eXXniWM/p09XuNDXuc+BciAAB2x77qso27+h/Y2Lhn36ITnd4XGwv4PLFx4vc+/4IEAMBuOLq6Q/VL1eUXnuWMjqv+R/Ur1b8sPAsHCACA7bOvU5fBvXT1A9VDqxsvNdD/xXHV/6qeUL194Vk4AwEAsH1Oqi5V/ZfGpf7bLTvOmZxQvbF6RvXqhWfh/0IAAGyfk6vHVj/Y2LVvk7yxsYjPc6v9y47C2REAANvniMZz/ZvkXdWzq5c2lvFlwwkAgO2zSXf2/2v15Oo11T8vPAvnggAA4Lz4cvU71Z9UH1h4Fs4DAQDAufGNxs19v199pHFDIltIAABwML5RvbJ6XONS/zcWnYbzTQAAcHa+Vh3b2E/gzbmzf2cIAADOyonVexpr9r9w2VHYCwIAYH225bfnd1Uvqp7SWNSHHSQAANbnAksPcA6OrV5ePav6t2VHYa8JAID1uVJ16NJDnIWPVc+vXpBH+qYhAADW5zJt1lWArzYe6fuTbNYzHQEAsD6b9Mz8cxqX+t/W9tybwAoJAIC5vK76zeodjSsATEoAAMzhXdWvV69vLOPL5AQAwO46qfpo9aTG9rzHLzkMm0UAAOymjzbe439STvycBQEAsFs+XP159RvVpxeehQ0mAAB2w6eqVzd26XvfwrOwBQQAwHb7evWKxnv8b1h2FLaJAADYXq9qPM//6uqUhWdhywgAgO30840Nez639CBsp01akhKAg/eGnPw5HwQAwHa68NIDsN0EAABMSAAAwIQEAABMSAAAwIQEAABMSAAAwIQEAABMSAAAwIQEAABMSAAAwIQEAABMSAAAwIQEAABMSAAAwIQEAABMSAAAwIQEAABMSAAAwIQEAABMSAAAwIQEAABMSAAAwIQEAABMSAAAwIQEAABMSAAAwIQEAABMSAAAwIQEAABMSAAAwIQEAABMSAAAwIQEAABMSAAAwIQEAABMSAAAwIQEAABMSAAAwIQEAABMSAAAwIQEAABMSAAAwIQEAABMSAAAwIQEAABMSAAAwIQEAABMSAAAwIQEAABMSAAAwIQEAABMSAAAwIQEAABMSAAAwIQEAABMSAAAwIQEAABMSAAAwIQEAABMSAAAbKevLT0A200AAGynW1SXXnoItpcAANhOT66eXf1oXss5D/yjAdhet6teVD2vcUUADpoAANhuR1Z3q/6oenr1ncuOw7YQAAC74ZjqvtWrGm8PfMuy47DpBADAbrlK9eDqrdWjqgstOw6bSgAA7KYrVY+t/rG6X0KAMxAAALvrkOpq1VOrt1R3rC666ERsDAEAMIfrVS+tXlL9QHXUksOwPAEAMJdbV/+zcaPgTap9y47DUgQAwPocsvQAp/Ez1eur36putPAsLEAAAKzPZ6tTlh7iNI6qHtp4a+Dx1TWXHYd1EgAA6/PR6j+WHuIsXLF6ZPXi6tHV5ZYdh3UQAADrs0m//Z+V61W/Wr2melh1xKLTsKcEAMD6bMsNd9evfq36m8Yyw+wgAQDAWTms+p7qGdXbqv/S9gQMB0EAAHB2Llx9b/Xn1R9X127EAVtOAABwMA6rfrx6Z/Xb1dXbrMcaOZcEAADnxmHVg6q/bzw54NHBLSUAADgvLlr9SvW66hcaVwTYIgIAYPvsX3qA0/i26kmN+wMeUF1m2XE4WAIAYPucUL2hOnnpQU7j+tVTqhdV96kOXXYczokAANg+F6weW/1Q9aplRzmTmzdC4FXVbReehbMhAAC2zyHV56u/rH62ulPjWf1NcWhj18FnVy/PZkMbSQAAbJ/9nXqJ/XPVn1a3a8TAvy411Fk4urp9Yw2BF1RXW3YcTksAAOyG46o/bCza86vVF9qcmwWPbiwp/PbqdxubDTn/LMw3AGB37K8+Uz2msbHPsxpXCDbFJaqHVO9qbDZ02UWnmZwAANhNH2/cjX+L6qXVZ5cd53QuWz2helN192w/vAgBALDb3t1Ywvdujffiv7ToNKd3jep5jRsFf6y62LLjzEUAAMzhDY3H8u5bvabNWkPgxtXLGjsP/kjOTWvhPzLAXP6kumN1r+qvFp7ljO7ceKLhD6tbLjzLzhMAAPM5oXpu4/33B1bvX3Sa0zu8ukf1/OqZjasD7AEBADCvT1V/0Hj//b81HiXcFJep7l29uHpyddVlx9k9AgCAD1a/Vf3nxt35Jy47zulcqXpwY9XDX6kusug0O0QAAFBjDYF/bqwh8N2NS/CnLDrR6V25emTjqYYHNt4q4HwQAACc1jca9wTcs7GG/2urry060akOaYTA71VvqX64uvCSA20zAQDAWTm5emfjJPtj1d+2OSFwwcZVitc0Hh+8aXXUohNtIQEAwDl5feP+gJ+v/qHNemvgVo0VBf+g8cTAYcuOsz0EAAAH69mNpYV/uTp22VHO5B7V/6ye2NgQiXMgAAA4N75YPb6xmNCvVf972XFO54jGVYpXVL9eXWfZcTabAADgvPhQ9ejqro1HBz+/7Dinc7nqEdWLqsdV37rsOJtJAABwfryzcbL9kcaCPZu0x8C1q1+qXlk9qPEUAQcIAABW4W2N1QRv2lhDYJPcoHFvwJurn1x4lo0hAABYlRMbz+ffv3Gz4JuWHed0jqhuUj2t+uvGfFMTAACs2lerN1a3afzG/cHqpEUnOtVR1c2qVx34uEF16KITLUQAALBXvla9sLFozyOqj7Y5awhcqLpt44rF06prNtk9AgIAgL329eq3GyHwO9WHlx3ndA6rfrb6++pR1TWWHWd9BAAA6/LF6uHVLatnNK4IbIqjqsc2FhP6+cYuhDtNAACwbh+qfq6xhsBzqs8uO87pXK6x2dCLqntVRy86zR4SAAAs5W2Ny+93b5xwN+X+gBpPDPx/jUcaf6odvD9AAACwtNc3QuBO1esWnuWMbtUIgVdWP77sKKslAADYBCdUL69+urpLY4XBTXFo45HGZzT2Gbj5suOshgAAYJN8pnpJ4xG9+1QfW3ac07l49V+rF1fPazw6uLUEAACb6N+qZ1U3rB7ZZm02dHTjvoW/rZ5SXfbA/79J9zCcIwEAwKba33hC4AnVd1W/X/37ohOd3iWrB1Tvqn6mulhbFAECAIBNt7/6ZPXgxjK+L6+OW3Si07tc9ezqpdUxC89y0AQAANvk3dUdGk8M/EX15WXHOZ1vaVwV2AoCAIBt9KbGnfn3r/6yLbr0vikEAADb7IXV7Rvvxb954Vm2igAAYNt9rXp6dbfGfQLvXnac7SAAANgVn2g8KXDnxqZDn1p2nM0mAADYNR+sfqv6weox1VeXHWczCQAAdtU/V79e3bixqc/Jy46zWQQAALvspOp9ja19b9Z4YuDERSfaEAIAgBl8o7F07y0b9wi8vfr6ohMtTAAAMJs/q763emhjGd+Tlh1nGQIAgFk9vfq+6tFt1vbDayEAAJjZCY3Nhm5XPa5677LjrI8AAICxZsAvV3etfrP69LLj7D0BAACnem/1i9Udq2c2diLcSQIAYH129mSyg/62ekh1i+qVi06yR7YpAA458AGwrS7Ual53T8zud+twfPVX1T0bjw/+zbLjrNY2BcDh1RFLDwFwPhzVal53v9akj64t5EuNBYRu03hr4P3tQIBtUwAcUV146SEAzoeLtprX3a8mAJbwlepl1Q2rB1Yfbou/D9sUABevLrX0EADnwxWrfSs4ztezrv2Svl49rbpBY6+Bjy07znmzrgA4fgXHOLw6ZgXHAVjKql7DvtxY2pZlfamx2+DNGosKfXzRac6ldQXAF1d0nCu0mnoGWLdjqous6Fgfb/J17DfMR6v7VT/Z2HXwC4tOc5DWFQDHreg416ouvaJjAazT97a6168PZY/7TfTm6h7VT1d/3IbfKLhtAXC96qorOhbAOt2kcS/TKnykLb75bAKvbkTAnQ/8fSNtWwAcXV13RccCWJfDq+u3utfcT67oOOydE6s/rX6msbzwW5Yd58zWFQAfXuGxblldcoXHA9hr/7m69oqOdVz1mRUdi733ucbbAXdqLCj0L8uOc6p1BcA/tLqbIm5TXX1FxwJYh1tXl13RsY7NFYBt9KnquY0YfFgbcKPgugLgHa3uH+wR1R2qw1Z0PIC9dK3GlctVPcH0zlwB2GafqZ5UfXf11OrflxpkXQHwsVa7UMK9qqut8HgAe2FfY5/5Vd27tL+xW51NhbbbKdW/Vg+ovr9xr8DarwiscyXAt7e6lasuXt2/7VrJEJjPdzSeDV+Vj1QfWOHxWN57GvcH3Kl6bWNxoVrH3jf79+/f848DrlN9ulGuq/g4pVFOAJvokOr3Wt1r3v7GIjMXWuPXwPrdpfEL83v2/Ny8xgCosa3iKn8Y3l5dYs+/HQDn3g83FutZ1evdidW91/oVsJTLVjfatQB4QOMf8Soj4Kl7/70AOFe+tXFpd5Wvde+prrzOL4Jl7VoAXLJxB+QqfyhOqe67998KgINyePVnrfZ1bn/17HV+ESxv1wKgxhaKq/7B+ELjfROApT2z1b/GfabxKCET2cUAuEr1lVb/A/KpxuM2AEt5cuNpp1W/vr2icVMhE9nFAKh6Rqv/AflmJf9EtgwG1uuQxm/+J7X617XPVz+0vi+FTbGrAXCt6oT2JgK+Vj0kj8oA63H59uY9/29+vG59XwqbZFcD4NDqCe3dD8z+6jnZOhjYO4dVt6r+qb17HftC1juZ1q4GQNXlGrsE7mUE/FNjFS67BwKrdM3qie3NJf/Tfjx5XV8Qm2eXA6DGHsmntLc/QPurl1W3ry66ym8OMJ3vaLzF+MH2/nXrw9Wl1vJVsZF2PQAu3Dg57/UP0v5GaLy8uk+2EwYO3iHVD1aPrd7Vel6v9jd+QWJie31u3ncOJ+iV2LfvbG/Kv1YjAq6554Oc6tjGD/K7G8sJv6/68ho/P7DZrlBdr7phdf3G1q3HrPHzP7O6X+MXFya11+fnTQiAGo/uPb26yJ4Pc3onVx9vPD74xeoT1XGN9bu/lt0GYQb7qqMabxFevrpM49L7MdXRC8zz1urHGpunMbFZAuDQ6vHVw/Z8mINz0oEP6wnAHA6pLrj0EI27/n+setPSg7C8WQKgxnP7L65+dG+nAdhI+xv7mjzrwN+Z3F6fnzfpEvfx1T2rNy49CMCanVw9Kid/1miTAqDG+/A/U71j6UEA1uSU6ner38jJnzXatACo+ljjSsA/Lj0IwB7b37gB+heXHoT5bGIAVL23+vHqLUsPArBH9le/Uz2o8RYArNWmBkCNlbbumo0wgN1zcvXoxpNPnvVnEZscADXeDvjJ6vlLDwKwIp+r7t949BkWs+kBUGMv7PtXD28szgOwrd5a3bmx0h8sapPWATgYN62eVN1gVQcEWJNnVY9rXNmEczTTQkAH61uqRzSuChyyygMD7IGPV4+sXpGrmJwLAuCsHVZ9T2M/7hu3GUt4ApzW8dVzq1+rPrXsKGwjAXD2Dq8eUD2wsXHH4Xv1iQAO0leqv68eU/2vhWdhiwmAg3NkYw3te1ZXTwgA6/e5xiqmT6tetfAs7AABcO4c2bg34Ierq1ZXXNcnBqb1gerd1R9Vr114FnaIADjv/lN12+om1bWrSy4xBLCTPtw46b+1enUjAmClBMD5d5nqhtW1GiFw3QN/P2zJoYCt8tnqPdX7qvdXx1Z/t+RA7D4BsFqHVN9eXbkRBscc+Pu3VUdXR1VHNN5KOCqRALtuf/X1xuN5xx/4+HL1yepfD3x8+sD//lDu5meNdiIAAIDNsg1LAQMAKyYAAGBCAgAAJiQAAGBCAgAAJiQAAGBCAgAAJiQAAGBCAgAAJiQAAGBCAgAAJiQAAGBCAgAAJiQAAGBCAgAAJiQAAGBCAgAAJiQAAGBCAgAAJiQAAGBCAgAAJiQAAGBCAgAAJiQAAGBCAgAAJiQAAGBCAgAAJiQAAGBCAgAAJiQAAGBCAgAAJiQAAGBCAgAAJiQAAGBCAgAAJiQAAGBCAgAAJiQAAGBCAgAAJiQAAGBCAgAAJiQAAGBCAgAAJiQAAGBCAgAAJiQAAGBCAgAAJiQAAGBCAgAAJiQAAGBCAgAAJiQAAGBCAgAAJiQAAGBCAgAAJiQAAGBCAgAAJiQAAGBCAgAAJiQAAGBCAgAAJiQAAGBCAgAAJiQAAGBCAgAAJiQAAGBCAgAAJiQAAGBCAgAAJiQAAGBCAgAAJiQAAGBCAgAAJiQAAGBCAgAAJiQAAGBCAgAAJiQAAGBCAgAAJiQAAGBCAgAAJiQAAGBCAgAAJiQAAGBCAgAAJiQAAGBCAgAAJiQAAGBCAgAAJiQAAGBCAgAAJiQAAGBCAgAAJiQAAGBCAgAAJiQAAGBCAgAAJiQAAGBCAgAAJiQAAGBCAgAAJiQAAGBCAgAAJiQAAGBCAgAAJiQAAGBCAgAAJvR/AL9O+A1wSWwmAAAAAElFTkSuQmCC)'),\n",
       " Document(metadata={'source': '/teamspace/studios/this_studio/langchain-ollama/王冉6_15.html', 'row': 803}, page_content='<!DOCTYPE html>: }'),\n",
       " Document(metadata={'source': '/teamspace/studios/this_studio/langchain-ollama/王冉6_15.html', 'row': 804}, page_content='<!DOCTYPE html>: @media screen and (max-width:768px) {'),\n",
       " Document(metadata={'source': '/teamspace/studios/this_studio/langchain-ollama/王冉6_15.html', 'row': 805}, page_content='<!DOCTYPE html>: #paginationInfo\\nNone: '),\n",
       " Document(metadata={'source': '/teamspace/studios/this_studio/langchain-ollama/王冉6_15.html', 'row': 806}, page_content='<!DOCTYPE html>: .button-row\\nNone: '),\n",
       " Document(metadata={'source': '/teamspace/studios/this_studio/langchain-ollama/王冉6_15.html', 'row': 807}, page_content='<!DOCTYPE html>: .jump-row {'),\n",
       " Document(metadata={'source': '/teamspace/studios/this_studio/langchain-ollama/王冉6_15.html', 'row': 808}, page_content='<!DOCTYPE html>: display: flex;'),\n",
       " Document(metadata={'source': '/teamspace/studios/this_studio/langchain-ollama/王冉6_15.html', 'row': 809}, page_content='<!DOCTYPE html>: justify-content: center;'),\n",
       " Document(metadata={'source': '/teamspace/studios/this_studio/langchain-ollama/王冉6_15.html', 'row': 810}, page_content='<!DOCTYPE html>: align-items: center;'),\n",
       " Document(metadata={'source': '/teamspace/studios/this_studio/langchain-ollama/王冉6_15.html', 'row': 811}, page_content='<!DOCTYPE html>: margin-bottom: 0'),\n",
       " Document(metadata={'source': '/teamspace/studios/this_studio/langchain-ollama/王冉6_15.html', 'row': 812}, page_content='<!DOCTYPE html>: }'),\n",
       " Document(metadata={'source': '/teamspace/studios/this_studio/langchain-ollama/王冉6_15.html', 'row': 813}, page_content='<!DOCTYPE html>: .chat-video video {'),\n",
       " Document(metadata={'source': '/teamspace/studios/this_studio/langchain-ollama/王冉6_15.html', 'row': 814}, page_content='<!DOCTYPE html>: margin-right: 8px;'),\n",
       " Document(metadata={'source': '/teamspace/studios/this_studio/langchain-ollama/王冉6_15.html', 'row': 815}, page_content='<!DOCTYPE html>: margin-left: 8px;'),\n",
       " Document(metadata={'source': '/teamspace/studios/this_studio/langchain-ollama/王冉6_15.html', 'row': 816}, page_content='<!DOCTYPE html>: max-width: 280px'),\n",
       " Document(metadata={'source': '/teamspace/studios/this_studio/langchain-ollama/王冉6_15.html', 'row': 817}, page_content='<!DOCTYPE html>: }'),\n",
       " Document(metadata={'source': '/teamspace/studios/this_studio/langchain-ollama/王冉6_15.html', 'row': 818}, page_content='<!DOCTYPE html>: button {'),\n",
       " Document(metadata={'source': '/teamspace/studios/this_studio/langchain-ollama/王冉6_15.html', 'row': 819}, page_content='<!DOCTYPE html>: padding: 5px 10px;'),\n",
       " Document(metadata={'source': '/teamspace/studios/this_studio/langchain-ollama/王冉6_15.html', 'row': 820}, page_content='<!DOCTYPE html>: background-color: #3498db;'),\n",
       " Document(metadata={'source': '/teamspace/studios/this_studio/langchain-ollama/王冉6_15.html', 'row': 821}, page_content='<!DOCTYPE html>: color: #fff;'),\n",
       " Document(metadata={'source': '/teamspace/studios/this_studio/langchain-ollama/王冉6_15.html', 'row': 822}, page_content='<!DOCTYPE html>: border: 0;'),\n",
       " Document(metadata={'source': '/teamspace/studios/this_studio/langchain-ollama/王冉6_15.html', 'row': 823}, page_content='<!DOCTYPE html>: border-radius: 4px;'),\n",
       " Document(metadata={'source': '/teamspace/studios/this_studio/langchain-ollama/王冉6_15.html', 'row': 824}, page_content='<!DOCTYPE html>: cursor: pointer;'),\n",
       " Document(metadata={'source': '/teamspace/studios/this_studio/langchain-ollama/王冉6_15.html', 'row': 825}, page_content='<!DOCTYPE html>: margin: 0 5px;'),\n",
       " Document(metadata={'source': '/teamspace/studios/this_studio/langchain-ollama/王冉6_15.html', 'row': 826}, page_content='<!DOCTYPE html>: transition: background-color .3s'),\n",
       " Document(metadata={'source': '/teamspace/studios/this_studio/langchain-ollama/王冉6_15.html', 'row': 827}, page_content='<!DOCTYPE html>: }'),\n",
       " Document(metadata={'source': '/teamspace/studios/this_studio/langchain-ollama/王冉6_15.html', 'row': 828}, page_content='<!DOCTYPE html>: button:hover {'),\n",
       " Document(metadata={'source': '/teamspace/studios/this_studio/langchain-ollama/王冉6_15.html', 'row': 829}, page_content='<!DOCTYPE html>: background-color: #2980b9'),\n",
       " Document(metadata={'source': '/teamspace/studios/this_studio/langchain-ollama/王冉6_15.html', 'row': 830}, page_content='<!DOCTYPE html>: }'),\n",
       " Document(metadata={'source': '/teamspace/studios/this_studio/langchain-ollama/王冉6_15.html', 'row': 831}, page_content='<!DOCTYPE html>: input {'),\n",
       " Document(metadata={'source': '/teamspace/studios/this_studio/langchain-ollama/王冉6_15.html', 'row': 832}, page_content='<!DOCTYPE html>: padding: 8px;'),\n",
       " Document(metadata={'source': '/teamspace/studios/this_studio/langchain-ollama/王冉6_15.html', 'row': 833}, page_content='<!DOCTYPE html>: width: 120px;'),\n",
       " Document(metadata={'source': '/teamspace/studios/this_studio/langchain-ollama/王冉6_15.html', 'row': 834}, page_content='<!DOCTYPE html>: box-sizing: border-box;'),\n",
       " Document(metadata={'source': '/teamspace/studios/this_studio/langchain-ollama/王冉6_15.html', 'row': 835}, page_content='<!DOCTYPE html>: margin-right: 0;'),\n",
       " Document(metadata={'source': '/teamspace/studios/this_studio/langchain-ollama/王冉6_15.html', 'row': 836}, page_content='<!DOCTYPE html>: margin-left: 5px'),\n",
       " Document(metadata={'source': '/teamspace/studios/this_studio/langchain-ollama/王冉6_15.html', 'row': 837}, page_content='<!DOCTYPE html>: }'),\n",
       " Document(metadata={'source': '/teamspace/studios/this_studio/langchain-ollama/王冉6_15.html', 'row': 838}, page_content='<!DOCTYPE html>: }'),\n",
       " Document(metadata={'source': '/teamspace/studios/this_studio/langchain-ollama/王冉6_15.html', 'row': 839}, page_content='<!DOCTYPE html>: .call i\\nNone: '),\n",
       " Document(metadata={'source': '/teamspace/studios/this_studio/langchain-ollama/王冉6_15.html', 'row': 840}, page_content='<!DOCTYPE html>: .system-msg>.emoji_img {'),\n",
       " Document(metadata={'source': '/teamspace/studios/this_studio/langchain-ollama/王冉6_15.html', 'row': 841}, page_content='<!DOCTYPE html>: width: 18px;'),\n",
       " Document(metadata={'source': '/teamspace/studios/this_studio/langchain-ollama/王冉6_15.html', 'row': 842}, page_content='<!DOCTYPE html>: height: 18px'),\n",
       " Document(metadata={'source': '/teamspace/studios/this_studio/langchain-ollama/王冉6_15.html', 'row': 843}, page_content='<!DOCTYPE html>: }'),\n",
       " Document(metadata={'source': '/teamspace/studios/this_studio/langchain-ollama/王冉6_15.html', 'row': 844}, page_content='<!DOCTYPE html>: .emoji_img {'),\n",
       " Document(metadata={'source': '/teamspace/studios/this_studio/langchain-ollama/王冉6_15.html', 'row': 845}, page_content='<!DOCTYPE html>: width: 22px;'),\n",
       " Document(metadata={'source': '/teamspace/studios/this_studio/langchain-ollama/王冉6_15.html', 'row': 846}, page_content='<!DOCTYPE html>: height: 22px;'),\n",
       " Document(metadata={'source': '/teamspace/studios/this_studio/langchain-ollama/王冉6_15.html', 'row': 847}, page_content='<!DOCTYPE html>: vertical-align: middle;'),\n",
       " Document(metadata={'source': '/teamspace/studios/this_studio/langchain-ollama/王冉6_15.html', 'row': 848}, page_content='<!DOCTYPE html>: margin-top: -4.4px'),\n",
       " Document(metadata={'source': '/teamspace/studios/this_studio/langchain-ollama/王冉6_15.html', 'row': 849}, page_content='<!DOCTYPE html>: }'),\n",
       " Document(metadata={'source': '/teamspace/studios/this_studio/langchain-ollama/王冉6_15.html', 'row': 850}, page_content='<!DOCTYPE html>: .modal {'),\n",
       " Document(metadata={'source': '/teamspace/studios/this_studio/langchain-ollama/王冉6_15.html', 'row': 851}, page_content='<!DOCTYPE html>: display: none;'),\n",
       " Document(metadata={'source': '/teamspace/studios/this_studio/langchain-ollama/王冉6_15.html', 'row': 852}, page_content='<!DOCTYPE html>: position: fixed;'),\n",
       " Document(metadata={'source': '/teamspace/studios/this_studio/langchain-ollama/王冉6_15.html', 'row': 853}, page_content='<!DOCTYPE html>: z-index: 9999;'),\n",
       " Document(metadata={'source': '/teamspace/studios/this_studio/langchain-ollama/王冉6_15.html', 'row': 854}, page_content='<!DOCTYPE html>: top: 0;'),\n",
       " Document(metadata={'source': '/teamspace/studios/this_studio/langchain-ollama/王冉6_15.html', 'row': 855}, page_content='<!DOCTYPE html>: left: 0;'),\n",
       " Document(metadata={'source': '/teamspace/studios/this_studio/langchain-ollama/王冉6_15.html', 'row': 856}, page_content='<!DOCTYPE html>: width: 100%;'),\n",
       " Document(metadata={'source': '/teamspace/studios/this_studio/langchain-ollama/王冉6_15.html', 'row': 857}, page_content='<!DOCTYPE html>: height: 100%;'),\n",
       " Document(metadata={'source': '/teamspace/studios/this_studio/langchain-ollama/王冉6_15.html', 'row': 858}, page_content='<!DOCTYPE html>: background-color: rgba(0\\nNone: 0,0,.8)'),\n",
       " Document(metadata={'source': '/teamspace/studios/this_studio/langchain-ollama/王冉6_15.html', 'row': 859}, page_content='<!DOCTYPE html>: }'),\n",
       " Document(metadata={'source': '/teamspace/studios/this_studio/langchain-ollama/王冉6_15.html', 'row': 860}, page_content='<!DOCTYPE html>: .modal-image {'),\n",
       " Document(metadata={'source': '/teamspace/studios/this_studio/langchain-ollama/王冉6_15.html', 'row': 861}, page_content='<!DOCTYPE html>: display: block;'),\n",
       " Document(metadata={'source': '/teamspace/studios/this_studio/langchain-ollama/王冉6_15.html', 'row': 862}, page_content='<!DOCTYPE html>: max-width: 90%;'),\n",
       " Document(metadata={'source': '/teamspace/studios/this_studio/langchain-ollama/王冉6_15.html', 'row': 863}, page_content='<!DOCTYPE html>: max-height: 90%;'),\n",
       " Document(metadata={'source': '/teamspace/studios/this_studio/langchain-ollama/王冉6_15.html', 'row': 864}, page_content='<!DOCTYPE html>: position: absolute;'),\n",
       " Document(metadata={'source': '/teamspace/studios/this_studio/langchain-ollama/王冉6_15.html', 'row': 865}, page_content='<!DOCTYPE html>: top: 50%;'),\n",
       " Document(metadata={'source': '/teamspace/studios/this_studio/langchain-ollama/王冉6_15.html', 'row': 866}, page_content='<!DOCTYPE html>: left: 50%;'),\n",
       " Document(metadata={'source': '/teamspace/studios/this_studio/langchain-ollama/王冉6_15.html', 'row': 867}, page_content='<!DOCTYPE html>: transform: translate(-50%\\nNone: -50%)'),\n",
       " Document(metadata={'source': '/teamspace/studios/this_studio/langchain-ollama/王冉6_15.html', 'row': 868}, page_content='<!DOCTYPE html>: }'),\n",
       " Document(metadata={'source': '/teamspace/studios/this_studio/langchain-ollama/王冉6_15.html', 'row': 869}, page_content='<!DOCTYPE html>: @media screen and (max-width:768px) {'),\n",
       " Document(metadata={'source': '/teamspace/studios/this_studio/langchain-ollama/王冉6_15.html', 'row': 870}, page_content='<!DOCTYPE html>: body {'),\n",
       " Document(metadata={'source': '/teamspace/studios/this_studio/langchain-ollama/王冉6_15.html', 'row': 871}, page_content='<!DOCTYPE html>: display: flex;'),\n",
       " Document(metadata={'source': '/teamspace/studios/this_studio/langchain-ollama/王冉6_15.html', 'row': 872}, page_content='<!DOCTYPE html>: flex-direction: column;'),\n",
       " Document(metadata={'source': '/teamspace/studios/this_studio/langchain-ollama/王冉6_15.html', 'row': 873}, page_content='<!DOCTYPE html>: align-items: center;'),\n",
       " Document(metadata={'source': '/teamspace/studios/this_studio/langchain-ollama/王冉6_15.html', 'row': 874}, page_content='<!DOCTYPE html>: justify-content: center'),\n",
       " Document(metadata={'source': '/teamspace/studios/this_studio/langchain-ollama/王冉6_15.html', 'row': 875}, page_content='<!DOCTYPE html>: }'),\n",
       " Document(metadata={'source': '/teamspace/studios/this_studio/langchain-ollama/王冉6_15.html', 'row': 876}, page_content='<!DOCTYPE html>: ::-webkit-scrollbar {'),\n",
       " Document(metadata={'source': '/teamspace/studios/this_studio/langchain-ollama/王冉6_15.html', 'row': 877}, page_content='<!DOCTYPE html>: display: none'),\n",
       " Document(metadata={'source': '/teamspace/studios/this_studio/langchain-ollama/王冉6_15.html', 'row': 878}, page_content='<!DOCTYPE html>: }'),\n",
       " Document(metadata={'source': '/teamspace/studios/this_studio/langchain-ollama/王冉6_15.html', 'row': 879}, page_content='<!DOCTYPE html>: .page {'),\n",
       " Document(metadata={'source': '/teamspace/studios/this_studio/langchain-ollama/王冉6_15.html', 'row': 880}, page_content='<!DOCTYPE html>: width: 100%;'),\n",
       " Document(metadata={'source': '/teamspace/studios/this_studio/langchain-ollama/王冉6_15.html', 'row': 881}, page_content='<!DOCTYPE html>: height: 100%;'),\n",
       " Document(metadata={'source': '/teamspace/studios/this_studio/langchain-ollama/王冉6_15.html', 'row': 882}, page_content='<!DOCTYPE html>: box-shadow: none'),\n",
       " Document(metadata={'source': '/teamspace/studios/this_studio/langchain-ollama/王冉6_15.html', 'row': 883}, page_content='<!DOCTYPE html>: }'),\n",
       " Document(metadata={'source': '/teamspace/studios/this_studio/langchain-ollama/王冉6_15.html', 'row': 884}, page_content='<!DOCTYPE html>: .page .mid-bar\\nNone: '),\n",
       " Document(metadata={'source': '/teamspace/studios/this_studio/langchain-ollama/王冉6_15.html', 'row': 885}, page_content='<!DOCTYPE html>: .page .side-bar {'),\n",
       " Document(metadata={'source': '/teamspace/studios/this_studio/langchain-ollama/王冉6_15.html', 'row': 886}, page_content='<!DOCTYPE html>: display: none'),\n",
       " Document(metadata={'source': '/teamspace/studios/this_studio/langchain-ollama/王冉6_15.html', 'row': 887}, page_content='<!DOCTYPE html>: }'),\n",
       " Document(metadata={'source': '/teamspace/studios/this_studio/langchain-ollama/王冉6_15.html', 'row': 888}, page_content='<!DOCTYPE html>: .page .main-body {'),\n",
       " Document(metadata={'source': '/teamspace/studios/this_studio/langchain-ollama/王冉6_15.html', 'row': 889}, page_content='<!DOCTYPE html>: height: 95%'),\n",
       " Document(metadata={'source': '/teamspace/studios/this_studio/langchain-ollama/王冉6_15.html', 'row': 890}, page_content='<!DOCTYPE html>: }'),\n",
       " Document(metadata={'source': '/teamspace/studios/this_studio/langchain-ollama/王冉6_15.html', 'row': 891}, page_content='<!DOCTYPE html>: .page .main-body .nav-bar .turner-bar {'),\n",
       " Document(metadata={'source': '/teamspace/studios/this_studio/langchain-ollama/王冉6_15.html', 'row': 892}, page_content='<!DOCTYPE html>: transform: none;'),\n",
       " Document(metadata={'source': '/teamspace/studios/this_studio/langchain-ollama/王冉6_15.html', 'row': 893}, page_content='<!DOCTYPE html>: font-size: 12px'),\n",
       " Document(metadata={'source': '/teamspace/studios/this_studio/langchain-ollama/王冉6_15.html', 'row': 894}, page_content='<!DOCTYPE html>: }'),\n",
       " Document(metadata={'source': '/teamspace/studios/this_studio/langchain-ollama/王冉6_15.html', 'row': 895}, page_content='<!DOCTYPE html>: .page .main-body .nav-bar .turner-bar .button {'),\n",
       " Document(metadata={'source': '/teamspace/studios/this_studio/langchain-ollama/王冉6_15.html', 'row': 896}, page_content='<!DOCTYPE html>: margin: 10px 5px'),\n",
       " Document(metadata={'source': '/teamspace/studios/this_studio/langchain-ollama/王冉6_15.html', 'row': 897}, page_content='<!DOCTYPE html>: }'),\n",
       " Document(metadata={'source': '/teamspace/studios/this_studio/langchain-ollama/王冉6_15.html', 'row': 898}, page_content='<!DOCTYPE html>: .page .main-body .nav-bar .turner-bar input {'),\n",
       " Document(metadata={'source': '/teamspace/studios/this_studio/langchain-ollama/王冉6_15.html', 'row': 899}, page_content='<!DOCTYPE html>: font-size: 14px'),\n",
       " Document(metadata={'source': '/teamspace/studios/this_studio/langchain-ollama/王冉6_15.html', 'row': 900}, page_content='<!DOCTYPE html>: }'),\n",
       " Document(metadata={'source': '/teamspace/studios/this_studio/langchain-ollama/王冉6_15.html', 'row': 901}, page_content='<!DOCTYPE html>: }'),\n",
       " Document(metadata={'source': '/teamspace/studios/this_studio/langchain-ollama/王冉6_15.html', 'row': 902}, page_content='<!DOCTYPE html>: .OpenIM-card\\nNone: '),\n",
       " Document(metadata={'source': '/teamspace/studios/this_studio/langchain-ollama/王冉6_15.html', 'row': 903}, page_content='<!DOCTYPE html>: .personal-card {'),\n",
       " Document(metadata={'source': '/teamspace/studios/this_studio/langchain-ollama/王冉6_15.html', 'row': 904}, page_content='<!DOCTYPE html>: position: relative;'),\n",
       " Document(metadata={'source': '/teamspace/studios/this_studio/langchain-ollama/王冉6_15.html', 'row': 905}, page_content='<!DOCTYPE html>: width: 220px;'),\n",
       " Document(metadata={'source': '/teamspace/studios/this_studio/langchain-ollama/王冉6_15.html', 'row': 906}, page_content='<!DOCTYPE html>: height: 115px;'),\n",
       " Document(metadata={'source': '/teamspace/studios/this_studio/langchain-ollama/王冉6_15.html', 'row': 907}, page_content='<!DOCTYPE html>: border-radius: 5px;'),\n",
       " Document(metadata={'source': '/teamspace/studios/this_studio/langchain-ollama/王冉6_15.html', 'row': 908}, page_content='<!DOCTYPE html>: background-color: #fff'),\n",
       " Document(metadata={'source': '/teamspace/studios/this_studio/langchain-ollama/王冉6_15.html', 'row': 909}, page_content='<!DOCTYPE html>: }'),\n",
       " Document(metadata={'source': '/teamspace/studios/this_studio/langchain-ollama/王冉6_15.html', 'row': 910}, page_content='<!DOCTYPE html>: .personal-card .contner {'),\n",
       " Document(metadata={'source': '/teamspace/studios/this_studio/langchain-ollama/王冉6_15.html', 'row': 911}, page_content='<!DOCTYPE html>: display: flex;'),\n",
       " Document(metadata={'source': '/teamspace/studios/this_studio/langchain-ollama/王冉6_15.html', 'row': 912}, page_content='<!DOCTYPE html>: margin: 12px 16px 5px;'),\n",
       " Document(metadata={'source': '/teamspace/studios/this_studio/langchain-ollama/王冉6_15.html', 'row': 913}, page_content='<!DOCTYPE html>: width: 100%;'),\n",
       " Document(metadata={'source': '/teamspace/studios/this_studio/langchain-ollama/王冉6_15.html', 'row': 914}, page_content='<!DOCTYPE html>: height: 68px'),\n",
       " Document(metadata={'source': '/teamspace/studios/this_studio/langchain-ollama/王冉6_15.html', 'row': 915}, page_content='<!DOCTYPE html>: }'),\n",
       " Document(metadata={'source': '/teamspace/studios/this_studio/langchain-ollama/王冉6_15.html', 'row': 916}, page_content='<!DOCTYPE html>: .OpenIM-card .contner img\\nNone: '),\n",
       " Document(metadata={'source': '/teamspace/studios/this_studio/langchain-ollama/王冉6_15.html', 'row': 917}, page_content='<!DOCTYPE html>: .personal-card .contner img {'),\n",
       " Document(metadata={'source': '/teamspace/studios/this_studio/langchain-ollama/王冉6_15.html', 'row': 918}, page_content='<!DOCTYPE html>: line-height: 100px;'),\n",
       " Document(metadata={'source': '/teamspace/studios/this_studio/langchain-ollama/王冉6_15.html', 'row': 919}, page_content='<!DOCTYPE html>: width: 50px;'),\n",
       " Document(metadata={'source': '/teamspace/studios/this_studio/langchain-ollama/王冉6_15.html', 'row': 920}, page_content='<!DOCTYPE html>: height: 50px;'),\n",
       " Document(metadata={'source': '/teamspace/studios/this_studio/langchain-ollama/王冉6_15.html', 'row': 921}, page_content='<!DOCTYPE html>: margin: 2px 0 0;'),\n",
       " Document(metadata={'source': '/teamspace/studios/this_studio/langchain-ollama/王冉6_15.html', 'row': 922}, page_content='<!DOCTYPE html>: border-radius: 5%;'),\n",
       " Document(metadata={'source': '/teamspace/studios/this_studio/langchain-ollama/王冉6_15.html', 'row': 923}, page_content='<!DOCTYPE html>: overflow: hidden'),\n",
       " Document(metadata={'source': '/teamspace/studios/this_studio/langchain-ollama/王冉6_15.html', 'row': 924}, page_content='<!DOCTYPE html>: }'),\n",
       " Document(metadata={'source': '/teamspace/studios/this_studio/langchain-ollama/王冉6_15.html', 'row': 925}, page_content='<!DOCTYPE html>: .personal-card .contner .text {'),\n",
       " Document(metadata={'source': '/teamspace/studios/this_studio/langchain-ollama/王冉6_15.html', 'row': 926}, page_content='<!DOCTYPE html>: width: 60%;'),\n",
       " Document(metadata={'source': '/teamspace/studios/this_studio/langchain-ollama/王冉6_15.html', 'row': 927}, page_content='<!DOCTYPE html>: margin-left: 10px;'),\n",
       " Document(metadata={'source': '/teamspace/studios/this_studio/langchain-ollama/王冉6_15.html', 'row': 928}, page_content='<!DOCTYPE html>: overflow: hidden'),\n",
       " Document(metadata={'source': '/teamspace/studios/this_studio/langchain-ollama/王冉6_15.html', 'row': 929}, page_content='<!DOCTYPE html>: }'),\n",
       " Document(metadata={'source': '/teamspace/studios/this_studio/langchain-ollama/王冉6_15.html', 'row': 930}, page_content='<!DOCTYPE html>: .personal-card .contner .text .nickname {'),\n",
       " Document(metadata={'source': '/teamspace/studios/this_studio/langchain-ollama/王冉6_15.html', 'row': 931}, page_content='<!DOCTYPE html>: font-size: 14px;'),\n",
       " Document(metadata={'source': '/teamspace/studios/this_studio/langchain-ollama/王冉6_15.html', 'row': 932}, page_content='<!DOCTYPE html>: line-height: 20px;'),\n",
       " Document(metadata={'source': '/teamspace/studios/this_studio/langchain-ollama/王冉6_15.html', 'row': 933}, page_content='<!DOCTYPE html>: color: #000'),\n",
       " Document(metadata={'source': '/teamspace/studios/this_studio/langchain-ollama/王冉6_15.html', 'row': 934}, page_content='<!DOCTYPE html>: }'),\n",
       " Document(metadata={'source': '/teamspace/studios/this_studio/langchain-ollama/王冉6_15.html', 'row': 935}, page_content='<!DOCTYPE html>: .personal-card .contner .text .nickname img {'),\n",
       " Document(metadata={'source': '/teamspace/studios/this_studio/langchain-ollama/王冉6_15.html', 'row': 936}, page_content='<!DOCTYPE html>: width: 14px;'),\n",
       " Document(metadata={'source': '/teamspace/studios/this_studio/langchain-ollama/王冉6_15.html', 'row': 937}, page_content='<!DOCTYPE html>: height: 14px;'),\n",
       " Document(metadata={'source': '/teamspace/studios/this_studio/langchain-ollama/王冉6_15.html', 'row': 938}, page_content='<!DOCTYPE html>: margin: 0'),\n",
       " Document(metadata={'source': '/teamspace/studios/this_studio/langchain-ollama/王冉6_15.html', 'row': 939}, page_content='<!DOCTYPE html>: }'),\n",
       " Document(metadata={'source': '/teamspace/studios/this_studio/langchain-ollama/王冉6_15.html', 'row': 940}, page_content='<!DOCTYPE html>: .personal-card .contner .text .other {'),\n",
       " Document(metadata={'source': '/teamspace/studios/this_studio/langchain-ollama/王冉6_15.html', 'row': 941}, page_content='<!DOCTYPE html>: font-size: 12px;'),\n",
       " Document(metadata={'source': '/teamspace/studios/this_studio/langchain-ollama/王冉6_15.html', 'row': 942}, page_content='<!DOCTYPE html>: line-height: 16px;'),\n",
       " Document(metadata={'source': '/teamspace/studios/this_studio/langchain-ollama/王冉6_15.html', 'row': 943}, page_content='<!DOCTYPE html>: color: #9e9898'),\n",
       " Document(metadata={'source': '/teamspace/studios/this_studio/langchain-ollama/王冉6_15.html', 'row': 944}, page_content='<!DOCTYPE html>: }'),\n",
       " Document(metadata={'source': '/teamspace/studios/this_studio/langchain-ollama/王冉6_15.html', 'row': 945}, page_content='<!DOCTYPE html>: .personal-card .bottom {'),\n",
       " Document(metadata={'source': '/teamspace/studios/this_studio/langchain-ollama/王冉6_15.html', 'row': 946}, page_content='<!DOCTYPE html>: width: 100%;'),\n",
       " Document(metadata={'source': '/teamspace/studios/this_studio/langchain-ollama/王冉6_15.html', 'row': 947}, page_content='<!DOCTYPE html>: height: 30px;'),\n",
       " Document(metadata={'source': '/teamspace/studios/this_studio/langchain-ollama/王冉6_15.html', 'row': 948}, page_content='<!DOCTYPE html>: font-size: 12px;'),\n",
       " Document(metadata={'source': '/teamspace/studios/this_studio/langchain-ollama/王冉6_15.html', 'row': 949}, page_content='<!DOCTYPE html>: color: #9e9898;'),\n",
       " Document(metadata={'source': '/teamspace/studios/this_studio/langchain-ollama/王冉6_15.html', 'row': 950}, page_content='<!DOCTYPE html>: background-color: #fafafa;'),\n",
       " Document(metadata={'source': '/teamspace/studios/this_studio/langchain-ollama/王冉6_15.html', 'row': 951}, page_content='<!DOCTYPE html>: border-top: #eee 1px solid'),\n",
       " Document(metadata={'source': '/teamspace/studios/this_studio/langchain-ollama/王冉6_15.html', 'row': 952}, page_content='<!DOCTYPE html>: }'),\n",
       " Document(metadata={'source': '/teamspace/studios/this_studio/langchain-ollama/王冉6_15.html', 'row': 953}, page_content='<!DOCTYPE html>: .personal-card .bottom .text {'),\n",
       " Document(metadata={'source': '/teamspace/studios/this_studio/langchain-ollama/王冉6_15.html', 'row': 954}, page_content='<!DOCTYPE html>: font-size: 12px;'),\n",
       " Document(metadata={'source': '/teamspace/studios/this_studio/langchain-ollama/王冉6_15.html', 'row': 955}, page_content='<!DOCTYPE html>: line-height: 28px;'),\n",
       " Document(metadata={'source': '/teamspace/studios/this_studio/langchain-ollama/王冉6_15.html', 'row': 956}, page_content='<!DOCTYPE html>: margin-left: 16px'),\n",
       " Document(metadata={'source': '/teamspace/studios/this_studio/langchain-ollama/王冉6_15.html', 'row': 957}, page_content='<!DOCTYPE html>: }'),\n",
       " Document(metadata={'source': '/teamspace/studios/this_studio/langchain-ollama/王冉6_15.html', 'row': 958}, page_content='<!DOCTYPE html>: .personal-card:hover {'),\n",
       " Document(metadata={'source': '/teamspace/studios/this_studio/langchain-ollama/王冉6_15.html', 'row': 959}, page_content='<!DOCTYPE html>: background-color: #333'),\n",
       " Document(metadata={'source': '/teamspace/studios/this_studio/langchain-ollama/王冉6_15.html', 'row': 960}, page_content='<!DOCTYPE html>: }'),\n",
       " Document(metadata={'source': '/teamspace/studios/this_studio/langchain-ollama/王冉6_15.html', 'row': 961}, page_content='<!DOCTYPE html>: .item-left .personal-card {'),\n",
       " Document(metadata={'source': '/teamspace/studios/this_studio/langchain-ollama/王冉6_15.html', 'row': 962}, page_content='<!DOCTYPE html>: margin-left: 15px;'),\n",
       " Document(metadata={'source': '/teamspace/studios/this_studio/langchain-ollama/王冉6_15.html', 'row': 963}, page_content='<!DOCTYPE html>: background-color: #fff'),\n",
       " Document(metadata={'source': '/teamspace/studios/this_studio/langchain-ollama/王冉6_15.html', 'row': 964}, page_content='<!DOCTYPE html>: }'),\n",
       " Document(metadata={'source': '/teamspace/studios/this_studio/langchain-ollama/王冉6_15.html', 'row': 965}, page_content='<!DOCTYPE html>: .item-left .personal-card:before\\nNone: '),\n",
       " Document(metadata={'source': '/teamspace/studios/this_studio/langchain-ollama/王冉6_15.html', 'row': 966}, page_content='<!DOCTYPE html>: .item-right .personal-card:before {'),\n",
       " Document(metadata={'source': '/teamspace/studios/this_studio/langchain-ollama/王冉6_15.html', 'row': 967}, page_content='<!DOCTYPE html>: content: \"\";'),\n",
       " Document(metadata={'source': '/teamspace/studios/this_studio/langchain-ollama/王冉6_15.html', 'row': 968}, page_content='<!DOCTYPE html>: position: absolute;'),\n",
       " Document(metadata={'source': '/teamspace/studios/this_studio/langchain-ollama/王冉6_15.html', 'row': 969}, page_content='<!DOCTYPE html>: width: 0;'),\n",
       " Document(metadata={'source': '/teamspace/studios/this_studio/langchain-ollama/王冉6_15.html', 'row': 970}, page_content='<!DOCTYPE html>: height: 0;'),\n",
       " Document(metadata={'source': '/teamspace/studios/this_studio/langchain-ollama/王冉6_15.html', 'row': 971}, page_content='<!DOCTYPE html>: border-top: 10px solid transparent;'),\n",
       " Document(metadata={'source': '/teamspace/studios/this_studio/langchain-ollama/王冉6_15.html', 'row': 972}, page_content='<!DOCTYPE html>: border-bottom: 10px solid transparent'),\n",
       " Document(metadata={'source': '/teamspace/studios/this_studio/langchain-ollama/王冉6_15.html', 'row': 973}, page_content='<!DOCTYPE html>: }'),\n",
       " Document(metadata={'source': '/teamspace/studios/this_studio/langchain-ollama/王冉6_15.html', 'row': 974}, page_content='<!DOCTYPE html>: .item-left .personal-card:before {'),\n",
       " Document(metadata={'source': '/teamspace/studios/this_studio/langchain-ollama/王冉6_15.html', 'row': 975}, page_content='<!DOCTYPE html>: left: -18px;'),\n",
       " Document(metadata={'source': '/teamspace/studios/this_studio/langchain-ollama/王冉6_15.html', 'row': 976}, page_content='<!DOCTYPE html>: border-left: 10px solid transparent;'),\n",
       " Document(metadata={'source': '/teamspace/studios/this_studio/langchain-ollama/王冉6_15.html', 'row': 977}, page_content='<!DOCTYPE html>: border-right: 10px solid #fff'),\n",
       " Document(metadata={'source': '/teamspace/studios/this_studio/langchain-ollama/王冉6_15.html', 'row': 978}, page_content='<!DOCTYPE html>: }'),\n",
       " Document(metadata={'source': '/teamspace/studios/this_studio/langchain-ollama/王冉6_15.html', 'row': 979}, page_content='<!DOCTYPE html>: .item-right .personal-card {'),\n",
       " Document(metadata={'source': '/teamspace/studios/this_studio/langchain-ollama/王冉6_15.html', 'row': 980}, page_content='<!DOCTYPE html>: margin-right: 15px;'),\n",
       " Document(metadata={'source': '/teamspace/studios/this_studio/langchain-ollama/王冉6_15.html', 'row': 981}, page_content='<!DOCTYPE html>: background-color: #fff'),\n",
       " Document(metadata={'source': '/teamspace/studios/this_studio/langchain-ollama/王冉6_15.html', 'row': 982}, page_content='<!DOCTYPE html>: }'),\n",
       " Document(metadata={'source': '/teamspace/studios/this_studio/langchain-ollama/王冉6_15.html', 'row': 983}, page_content='<!DOCTYPE html>: .item-right .personal-card:before {'),\n",
       " Document(metadata={'source': '/teamspace/studios/this_studio/langchain-ollama/王冉6_15.html', 'row': 984}, page_content='<!DOCTYPE html>: border-left: 10px solid #fff;'),\n",
       " Document(metadata={'source': '/teamspace/studios/this_studio/langchain-ollama/王冉6_15.html', 'row': 985}, page_content='<!DOCTYPE html>: border-right: 10px solid transparent;'),\n",
       " Document(metadata={'source': '/teamspace/studios/this_studio/langchain-ollama/王冉6_15.html', 'row': 986}, page_content='<!DOCTYPE html>: right: -18px;'),\n",
       " Document(metadata={'source': '/teamspace/studios/this_studio/langchain-ollama/王冉6_15.html', 'row': 987}, page_content='<!DOCTYPE html>: top: 11px'),\n",
       " Document(metadata={'source': '/teamspace/studios/this_studio/langchain-ollama/王冉6_15.html', 'row': 988}, page_content='<!DOCTYPE html>: }'),\n",
       " Document(metadata={'source': '/teamspace/studios/this_studio/langchain-ollama/王冉6_15.html', 'row': 989}, page_content='<!DOCTYPE html>: .OpenIM-card .contner {'),\n",
       " Document(metadata={'source': '/teamspace/studios/this_studio/langchain-ollama/王冉6_15.html', 'row': 990}, page_content='<!DOCTYPE html>: display: flex;'),\n",
       " Document(metadata={'source': '/teamspace/studios/this_studio/langchain-ollama/王冉6_15.html', 'row': 991}, page_content='<!DOCTYPE html>: margin: 12px 16px 5px;'),\n",
       " Document(metadata={'source': '/teamspace/studios/this_studio/langchain-ollama/王冉6_15.html', 'row': 992}, page_content='<!DOCTYPE html>: width: 100%;'),\n",
       " Document(metadata={'source': '/teamspace/studios/this_studio/langchain-ollama/王冉6_15.html', 'row': 993}, page_content='<!DOCTYPE html>: height: 68px'),\n",
       " Document(metadata={'source': '/teamspace/studios/this_studio/langchain-ollama/王冉6_15.html', 'row': 994}, page_content='<!DOCTYPE html>: }'),\n",
       " Document(metadata={'source': '/teamspace/studios/this_studio/langchain-ollama/王冉6_15.html', 'row': 995}, page_content='<!DOCTYPE html>: .OpenIM-card .contner .text {'),\n",
       " Document(metadata={'source': '/teamspace/studios/this_studio/langchain-ollama/王冉6_15.html', 'row': 996}, page_content='<!DOCTYPE html>: width: 60%;'),\n",
       " Document(metadata={'source': '/teamspace/studios/this_studio/langchain-ollama/王冉6_15.html', 'row': 997}, page_content='<!DOCTYPE html>: margin-left: 10px;'),\n",
       " Document(metadata={'source': '/teamspace/studios/this_studio/langchain-ollama/王冉6_15.html', 'row': 998}, page_content='<!DOCTYPE html>: overflow: hidden'),\n",
       " Document(metadata={'source': '/teamspace/studios/this_studio/langchain-ollama/王冉6_15.html', 'row': 999}, page_content='<!DOCTYPE html>: }'),\n",
       " ...]"
      ]
     },
     "execution_count": 198,
     "metadata": {},
     "output_type": "execute_result"
    }
   ],
   "source": [
    "loaded_data"
   ]
  },
  {
   "cell_type": "markdown",
   "metadata": {},
   "source": [
    "## E. Wikipedia Page (and asking questions abouut it)"
   ]
  },
  {
   "cell_type": "code",
   "execution_count": 159,
   "metadata": {},
   "outputs": [
    {
     "name": "stdout",
     "output_type": "stream",
     "text": [
      "Collecting wikipedia\n",
      "  Downloading wikipedia-1.4.0.tar.gz (27 kB)\n",
      "  Preparing metadata (setup.py) ... \u001b[?25ldone\n",
      "\u001b[?25hRequirement already satisfied: beautifulsoup4 in /system/conda/miniconda3/envs/cloudspace/lib/python3.10/site-packages (from wikipedia) (4.12.3)\n",
      "Requirement already satisfied: requests<3.0.0,>=2.0.0 in /system/conda/miniconda3/envs/cloudspace/lib/python3.10/site-packages (from wikipedia) (2.32.3)\n",
      "Requirement already satisfied: charset-normalizer<4,>=2 in /system/conda/miniconda3/envs/cloudspace/lib/python3.10/site-packages (from requests<3.0.0,>=2.0.0->wikipedia) (3.3.2)\n",
      "Requirement already satisfied: idna<4,>=2.5 in /system/conda/miniconda3/envs/cloudspace/lib/python3.10/site-packages (from requests<3.0.0,>=2.0.0->wikipedia) (3.7)\n",
      "Requirement already satisfied: urllib3<3,>=1.21.1 in /system/conda/miniconda3/envs/cloudspace/lib/python3.10/site-packages (from requests<3.0.0,>=2.0.0->wikipedia) (2.2.2)\n",
      "Requirement already satisfied: certifi>=2017.4.17 in /system/conda/miniconda3/envs/cloudspace/lib/python3.10/site-packages (from requests<3.0.0,>=2.0.0->wikipedia) (2024.7.4)\n",
      "Requirement already satisfied: soupsieve>1.2 in /system/conda/miniconda3/envs/cloudspace/lib/python3.10/site-packages (from beautifulsoup4->wikipedia) (2.6)\n",
      "Building wheels for collected packages: wikipedia\n",
      "  Building wheel for wikipedia (setup.py) ... \u001b[?25ldone\n",
      "\u001b[?25h  Created wheel for wikipedia: filename=wikipedia-1.4.0-py3-none-any.whl size=11680 sha256=8775d625e765d8d4a5111add46e87f3561b23f0f5ab2fa2c0433c55cfbc710b3\n",
      "  Stored in directory: /teamspace/studios/this_studio/.cache/pip/wheels/5e/b6/c5/93f3dec388ae76edc830cb42901bb0232504dfc0df02fc50de\n",
      "Successfully built wikipedia\n",
      "Installing collected packages: wikipedia\n",
      "Successfully installed wikipedia-1.4.0\n"
     ]
    }
   ],
   "source": [
    "!pip install wikipedia"
   ]
  },
  {
   "cell_type": "code",
   "execution_count": 160,
   "metadata": {},
   "outputs": [],
   "source": [
    "from langchain_community.document_loaders import WikipediaLoader"
   ]
  },
  {
   "cell_type": "code",
   "execution_count": 161,
   "metadata": {},
   "outputs": [
    {
     "data": {
      "text/plain": [
       "'PT Surveyor Indonesia adalah anggota Holding IDSurvey yang menyediakan berbagai macam jasa survei. Melalui anak usahanya, perusahaan ini juga menyediakan jasa EPC. Untuk mendukung kegiatan bisnisnya, hingga tahun 2020, perusahaan ini memiliki sebelas kantor cabang yang tersebar di seluruh Indonesia dan satu kantor perwakilan di Singapura.\\n\\n\\n== Sejarah ==\\nPerusahaan ini didirikan pada tanggal 1 Agustus 1991 sebagai sebuah perusahaan patungan antara pemerintah Indonesia, Sucofindo, dan Societe Generale de Surveillance, untuk menyediakan jasa pemeriksaan pra-pengapalan guna memastikan kelayakan peralatan dari seluruh dunia sebelum dikirim ke Indonesia. Pada tahun 1997, karena tidak lagi ditugaskan oleh pemerintah untuk menyediakan jasa pemeriksaan pra-pengapalan, perusahaan ini pun mulai beralih menyediakan jasa pemeriksaan teknis, survei, pengkajian, penilaian, pengawasan, audit, dan konsultansi. Perusahaan ini fokus memberikan layanan untuk sejumlah sektor, yakni industri, perdagangan, energi, sumber daya mineral, telematika, transportasi, pertanian, kehutanan, kelautan, dan lingkungan hidup. Perusahaan ini membagi aktivitasnya ke dalam empat unit bisnis, yakni Migas dan Sistem Pembangkit, Penguatan Institusi dan Kelembagaan, Mineral dan Batubara, serta Infrastruktur. Pada tanggal 4 Mei 2021, melalui Peraturan Pemerintah nomor 66 tahun 2021, pemerintah Indonesia resmi menyerahkan mayoritas saham perusahaan ini ke Biro Klasifikasi Indonesia, sebagai bagian dari upaya untuk membentuk holding BUMN yang bergerak di bidang jasa survei.\\n\\n\\n== Publikasi Digital ==\\nSemenjak 2015, Surveyor Indonesia menerbitkan publikasi dalam bentuk \"Majalah Visi\" yang kemudian mengalami transformasi pada 2022 menjadi majalah digital Visi yang dapat diakses melalui website perusahaan.\\n\\n\\n== Pranala luar ==\\nSitus resmi\\nProfil di portal BUMN RI Diarsipkan 2008-10-06 di Wayback Machine.\\n\\n\\n== Referensi =='"
      ]
     },
     "execution_count": 161,
     "metadata": {},
     "output_type": "execute_result"
    }
   ],
   "source": [
    "loader = WikipediaLoader(query='Surveyor Indonesia', load_max_docs=1, lang='id')\n",
    "loaded_data = loader.load()[0].page_content\n",
    "loaded_data"
   ]
  },
  {
   "cell_type": "code",
   "execution_count": 162,
   "metadata": {},
   "outputs": [],
   "source": [
    "from langchain_core.prompts import ChatPromptTemplate\n",
    "\n",
    "model = ChatOllama(\n",
    "    model='llama3',\n",
    "    temperature= 0.2\n",
    "    )\n",
    "\n",
    "chat_template = ChatPromptTemplate.from_messages(\n",
    "    [\n",
    "        (\"human\", \"Answer this {question}, here is some extra {context}\"),\n",
    "    ]\n",
    ")\n",
    "\n",
    "messages = chat_template.format_messages(\n",
    "    # question=\"Kapan Surveyor Indonesia didirikan?\",\n",
    "    question=\"apa yang terjadi di tahun 1991?\",\n",
    "    context=loaded_data\n",
    ")\n",
    "\n",
    "response = model.invoke(messages)"
   ]
  },
  {
   "cell_type": "code",
   "execution_count": 163,
   "metadata": {},
   "outputs": [
    {
     "data": {
      "text/plain": [
       "AIMessage(content='Berikut apa yang terjadi di tahun 1991:\\n\\n* PT Surveyor Indonesia didirikan pada tanggal 1 Agustus 1991 sebagai sebuah perusahaan patungan antara pemerintah Indonesia, Sucofindo, dan Societe Generale de Surveillance. Perusahaan ini awalnya menyediakan jasa pemeriksaan pra-pengapalan guna memastikan kelayakan peralatan dari seluruh dunia sebelum dikirim ke Indonesia.', response_metadata={'model': 'llama3', 'created_at': '2024-08-27T11:32:20.428541658Z', 'message': {'role': 'assistant', 'content': ''}, 'done_reason': 'stop', 'done': True, 'total_duration': 4842169563, 'load_duration': 2408206443, 'prompt_eval_count': 577, 'prompt_eval_duration': 245058000, 'eval_count': 103, 'eval_duration': 2187635000}, id='run-6aac8837-411b-4373-98de-3a411651ae03-0')"
      ]
     },
     "execution_count": 163,
     "metadata": {},
     "output_type": "execute_result"
    }
   ],
   "source": [
    "response "
   ]
  },
  {
   "cell_type": "markdown",
   "metadata": {},
   "source": [
    "## F. Simple Retrieval Augmented Generation (RAG)\n",
    "\n",
    "What if the loaded data is too large? We will use RAG.\n",
    "\n",
    "* When you load a document, you end up with strings. Sometimes the strings will be too large to fit into the context window. In those occassions we will use the RAG technique:\n",
    "    * Split document in small chunks.\n",
    "    * Transform text chunks in numeric chunks (embeddings).\n",
    "    * Load embeddings to a vector database (aka vector store).\n",
    "    * Load question and retrieve the most relevant embeddings to respond it.\n",
    "    * Sent the embeddings to the LLM to format the response properly."
   ]
  },
  {
   "cell_type": "code",
   "execution_count": 164,
   "metadata": {},
   "outputs": [
    {
     "data": {
      "text/plain": [
       "'PT Surveyor Indonesia adalah anggota Holding IDSurvey yang menyediakan berbagai macam jasa survei. Melalui anak usahanya, perusahaan ini juga menyediakan jasa EPC. Untuk mendukung kegiatan bisnisnya, hingga tahun 2020, perusahaan ini memiliki sebelas kantor cabang yang tersebar di seluruh Indonesia dan satu kantor perwakilan di Singapura.\\n\\n\\n== Sejarah ==\\nPerusahaan ini didirikan pada tanggal 1 Agustus 1991 sebagai sebuah perusahaan patungan antara pemerintah Indonesia, Sucofindo, dan Societe Generale de Surveillance, untuk menyediakan jasa pemeriksaan pra-pengapalan guna memastikan kelayakan peralatan dari seluruh dunia sebelum dikirim ke Indonesia. Pada tahun 1997, karena tidak lagi ditugaskan oleh pemerintah untuk menyediakan jasa pemeriksaan pra-pengapalan, perusahaan ini pun mulai beralih menyediakan jasa pemeriksaan teknis, survei, pengkajian, penilaian, pengawasan, audit, dan konsultansi. Perusahaan ini fokus memberikan layanan untuk sejumlah sektor, yakni industri, perdagangan, energi, sumber daya mineral, telematika, transportasi, pertanian, kehutanan, kelautan, dan lingkungan hidup. Perusahaan ini membagi aktivitasnya ke dalam empat unit bisnis, yakni Migas dan Sistem Pembangkit, Penguatan Institusi dan Kelembagaan, Mineral dan Batubara, serta Infrastruktur. Pada tanggal 4 Mei 2021, melalui Peraturan Pemerintah nomor 66 tahun 2021, pemerintah Indonesia resmi menyerahkan mayoritas saham perusahaan ini ke Biro Klasifikasi Indonesia, sebagai bagian dari upaya untuk membentuk holding BUMN yang bergerak di bidang jasa survei.\\n\\n\\n== Publikasi Digital ==\\nSemenjak 2015, Surveyor Indonesia menerbitkan publikasi dalam bentuk \"Majalah Visi\" yang kemudian mengalami transformasi pada 2022 menjadi majalah digital Visi yang dapat diakses melalui website perusahaan.\\n\\n\\n== Pranala luar ==\\nSitus resmi\\nProfil di portal BUMN RI Diarsipkan 2008-10-06 di Wayback Machine.\\n\\n\\n== Referensi =='"
      ]
     },
     "execution_count": 164,
     "metadata": {},
     "output_type": "execute_result"
    }
   ],
   "source": [
    "# data \n",
    "loader = WikipediaLoader(query='Surveyor Indonesia', load_max_docs=1, lang='id')\n",
    "loaded_data = loader.load()[0].page_content\n",
    "loaded_data"
   ]
  },
  {
   "cell_type": "code",
   "execution_count": 165,
   "metadata": {},
   "outputs": [
    {
     "data": {
      "text/plain": [
       "[Document(page_content='PT Surveyor Indonesia adalah anggota Holding IDSurvey yang menyediakan berbagai macam jasa survei. Melalui anak usahanya, perusahaan ini juga menyediakan jasa EPC. Untuk mendukung kegiatan bisnisnya, hingga tahun 2020, perusahaan ini memiliki sebelas kantor cabang yang tersebar di seluruh Indonesia dan satu kantor perwakilan di Singapura. Sejarah Perusahaan ini didirikan pada tanggal 1 Agustus 1991 sebagai sebuah perusahaan patungan antara pemerintah Indonesia, Sucofindo, dan Societe Generale de Surveillance, untuk menyediakan jasa'),\n",
       " Document(page_content='Generale de Surveillance, untuk menyediakan jasa pemeriksaan pra-pengapalan guna memastikan kelayakan peralatan dari seluruh dunia sebelum dikirim ke Indonesia. Pada tahun 1997, karena tidak lagi ditugaskan oleh pemerintah untuk menyediakan jasa pemeriksaan pra-pengapalan, perusahaan ini pun mulai beralih menyediakan jasa pemeriksaan teknis, survei, pengkajian, penilaian, pengawasan, audit, dan konsultansi. Perusahaan ini fokus memberikan layanan untuk sejumlah sektor, yakni industri, perdagangan, energi, sumber daya mineral, telematika,'),\n",
       " Document(page_content='energi, sumber daya mineral, telematika, transportasi, pertanian, kehutanan, kelautan, dan lingkungan hidup. Perusahaan ini membagi aktivitasnya ke dalam empat unit bisnis, yakni Migas dan Sistem Pembangkit, Penguatan Institusi dan Kelembagaan, Mineral dan Batubara, serta Infrastruktur. Pada tanggal 4 Mei 2021, melalui Peraturan Pemerintah nomor 66 tahun 2021, pemerintah Indonesia resmi menyerahkan mayoritas saham perusahaan ini ke Biro Klasifikasi Indonesia, sebagai bagian dari upaya untuk membentuk holding BUMN yang bergerak di bidang'),\n",
       " Document(page_content='membentuk holding BUMN yang bergerak di bidang jasa survei. Publikasi Digital Semenjak 2015, Surveyor Indonesia menerbitkan publikasi dalam bentuk \"Majalah Visi\" yang kemudian mengalami transformasi pada 2022 menjadi majalah digital Visi yang dapat diakses melalui website perusahaan. Pranala luar Situs resmiProfil di portal BUMN RI Diarsipkan 2008-10-06 di Wayback Machine. Referensi')]"
      ]
     },
     "execution_count": 165,
     "metadata": {},
     "output_type": "execute_result"
    }
   ],
   "source": [
    "from langchain_text_splitters import RecursiveCharacterTextSplitter\n",
    "text = loaded_data\n",
    "\n",
    "# Dictionary of replacements\n",
    "replacements = {\n",
    "    '==': '',\n",
    "    '\\n': ''\n",
    "}\n",
    "\n",
    "# Replace each character in the dictionary\n",
    "for old, new in replacements.items():\n",
    "    text = text.replace(old, new)\n",
    "\n",
    "\n",
    "\n",
    "# text splitter\n",
    "text_splitter = RecursiveCharacterTextSplitter(\n",
    "\n",
    "    chunk_size=545,\n",
    "    chunk_overlap=50,\n",
    "    length_function=len,\n",
    "    # separators=[' '],\n",
    "    is_separator_regex=False,\n",
    ")\n",
    "\n",
    "texts = text_splitter.create_documents([text])\n",
    "texts"
   ]
  },
  {
   "cell_type": "code",
   "execution_count": 166,
   "metadata": {},
   "outputs": [
    {
     "name": "stdout",
     "output_type": "stream",
     "text": [
      "537\n",
      "543\n",
      "542\n",
      "385\n"
     ]
    }
   ],
   "source": [
    "for i in texts:\n",
    "    print(len(i.page_content))"
   ]
  },
  {
   "cell_type": "code",
   "execution_count": 167,
   "metadata": {},
   "outputs": [
    {
     "name": "stdout",
     "output_type": "stream",
     "text": [
      "4\n"
     ]
    }
   ],
   "source": [
    "# embedding \n",
    "from langchain_community.embeddings import OllamaEmbeddings\n",
    "\n",
    "embeddings_model = OllamaEmbeddings(model='llama3')\n",
    "embeddings = embeddings_model.embed_documents(texts=texts)\n",
    "print(len(embeddings))"
   ]
  },
  {
   "cell_type": "code",
   "execution_count": 184,
   "metadata": {},
   "outputs": [
    {
     "name": "stdout",
     "output_type": "stream",
     "text": [
      "Collecting langchain_chroma\n",
      "  Downloading langchain_chroma-0.1.3-py3-none-any.whl.metadata (1.5 kB)\n",
      "Collecting chromadb!=0.5.4,!=0.5.5,<0.6.0,>=0.4.0 (from langchain_chroma)\n",
      "  Downloading chromadb-0.5.3-py3-none-any.whl.metadata (6.8 kB)\n",
      "Requirement already satisfied: fastapi<1,>=0.95.2 in /system/conda/miniconda3/envs/cloudspace/lib/python3.10/site-packages (from langchain_chroma) (0.112.1)\n",
      "Requirement already satisfied: langchain-core<0.3,>=0.1.40 in /system/conda/miniconda3/envs/cloudspace/lib/python3.10/site-packages (from langchain_chroma) (0.2.35)\n",
      "Requirement already satisfied: numpy<2,>=1 in /system/conda/miniconda3/envs/cloudspace/lib/python3.10/site-packages (from langchain_chroma) (1.26.4)\n",
      "Collecting build>=1.0.3 (from chromadb!=0.5.4,!=0.5.5,<0.6.0,>=0.4.0->langchain_chroma)\n",
      "  Downloading build-1.2.1-py3-none-any.whl.metadata (4.3 kB)\n",
      "Requirement already satisfied: requests>=2.28 in /system/conda/miniconda3/envs/cloudspace/lib/python3.10/site-packages (from chromadb!=0.5.4,!=0.5.5,<0.6.0,>=0.4.0->langchain_chroma) (2.32.3)\n",
      "Requirement already satisfied: pydantic>=1.9 in /system/conda/miniconda3/envs/cloudspace/lib/python3.10/site-packages (from chromadb!=0.5.4,!=0.5.5,<0.6.0,>=0.4.0->langchain_chroma) (2.8.2)\n",
      "Collecting chroma-hnswlib==0.7.3 (from chromadb!=0.5.4,!=0.5.5,<0.6.0,>=0.4.0->langchain_chroma)\n",
      "  Downloading chroma_hnswlib-0.7.3-cp310-cp310-manylinux_2_17_x86_64.manylinux2014_x86_64.whl.metadata (252 bytes)\n",
      "Requirement already satisfied: uvicorn>=0.18.3 in /system/conda/miniconda3/envs/cloudspace/lib/python3.10/site-packages (from uvicorn[standard]>=0.18.3->chromadb!=0.5.4,!=0.5.5,<0.6.0,>=0.4.0->langchain_chroma) (0.30.6)\n",
      "Collecting posthog>=2.4.0 (from chromadb!=0.5.4,!=0.5.5,<0.6.0,>=0.4.0->langchain_chroma)\n",
      "  Downloading posthog-3.5.2-py2.py3-none-any.whl.metadata (2.0 kB)\n",
      "Requirement already satisfied: typing-extensions>=4.5.0 in /system/conda/miniconda3/envs/cloudspace/lib/python3.10/site-packages (from chromadb!=0.5.4,!=0.5.5,<0.6.0,>=0.4.0->langchain_chroma) (4.12.2)\n",
      "Collecting onnxruntime>=1.14.1 (from chromadb!=0.5.4,!=0.5.5,<0.6.0,>=0.4.0->langchain_chroma)\n",
      "  Downloading onnxruntime-1.19.0-cp310-cp310-manylinux_2_27_x86_64.manylinux_2_28_x86_64.whl.metadata (4.3 kB)\n",
      "Collecting opentelemetry-api>=1.2.0 (from chromadb!=0.5.4,!=0.5.5,<0.6.0,>=0.4.0->langchain_chroma)\n",
      "  Downloading opentelemetry_api-1.26.0-py3-none-any.whl.metadata (1.4 kB)\n",
      "Collecting opentelemetry-exporter-otlp-proto-grpc>=1.2.0 (from chromadb!=0.5.4,!=0.5.5,<0.6.0,>=0.4.0->langchain_chroma)\n",
      "  Downloading opentelemetry_exporter_otlp_proto_grpc-1.26.0-py3-none-any.whl.metadata (2.3 kB)\n",
      "Collecting opentelemetry-instrumentation-fastapi>=0.41b0 (from chromadb!=0.5.4,!=0.5.5,<0.6.0,>=0.4.0->langchain_chroma)\n",
      "  Downloading opentelemetry_instrumentation_fastapi-0.47b0-py3-none-any.whl.metadata (2.1 kB)\n",
      "Collecting opentelemetry-sdk>=1.2.0 (from chromadb!=0.5.4,!=0.5.5,<0.6.0,>=0.4.0->langchain_chroma)\n",
      "  Downloading opentelemetry_sdk-1.26.0-py3-none-any.whl.metadata (1.5 kB)\n",
      "Collecting tokenizers>=0.13.2 (from chromadb!=0.5.4,!=0.5.5,<0.6.0,>=0.4.0->langchain_chroma)\n",
      "  Downloading tokenizers-0.20.0-cp310-cp310-manylinux_2_17_x86_64.manylinux2014_x86_64.whl.metadata (6.7 kB)\n",
      "Collecting pypika>=0.48.9 (from chromadb!=0.5.4,!=0.5.5,<0.6.0,>=0.4.0->langchain_chroma)\n",
      "  Downloading PyPika-0.48.9.tar.gz (67 kB)\n",
      "  Installing build dependencies ... \u001b[?25ldone\n",
      "\u001b[?25h  Getting requirements to build wheel ... \u001b[?25ldone\n",
      "\u001b[?25h  Preparing metadata (pyproject.toml) ... \u001b[?25ldone\n",
      "\u001b[?25hRequirement already satisfied: tqdm>=4.65.0 in /system/conda/miniconda3/envs/cloudspace/lib/python3.10/site-packages (from chromadb!=0.5.4,!=0.5.5,<0.6.0,>=0.4.0->langchain_chroma) (4.66.5)\n",
      "Requirement already satisfied: overrides>=7.3.1 in /system/conda/miniconda3/envs/cloudspace/lib/python3.10/site-packages (from chromadb!=0.5.4,!=0.5.5,<0.6.0,>=0.4.0->langchain_chroma) (7.7.0)\n",
      "Requirement already satisfied: importlib-resources in /system/conda/miniconda3/envs/cloudspace/lib/python3.10/site-packages (from chromadb!=0.5.4,!=0.5.5,<0.6.0,>=0.4.0->langchain_chroma) (6.4.4)\n",
      "Requirement already satisfied: grpcio>=1.58.0 in /system/conda/miniconda3/envs/cloudspace/lib/python3.10/site-packages (from chromadb!=0.5.4,!=0.5.5,<0.6.0,>=0.4.0->langchain_chroma) (1.65.5)\n",
      "Collecting bcrypt>=4.0.1 (from chromadb!=0.5.4,!=0.5.5,<0.6.0,>=0.4.0->langchain_chroma)\n",
      "  Downloading bcrypt-4.2.0-cp39-abi3-manylinux_2_28_x86_64.whl.metadata (9.6 kB)\n",
      "Collecting typer>=0.9.0 (from chromadb!=0.5.4,!=0.5.5,<0.6.0,>=0.4.0->langchain_chroma)\n",
      "  Downloading typer-0.12.5-py3-none-any.whl.metadata (15 kB)\n",
      "Collecting kubernetes>=28.1.0 (from chromadb!=0.5.4,!=0.5.5,<0.6.0,>=0.4.0->langchain_chroma)\n",
      "  Downloading kubernetes-30.1.0-py2.py3-none-any.whl.metadata (1.5 kB)\n",
      "Requirement already satisfied: tenacity>=8.2.3 in /system/conda/miniconda3/envs/cloudspace/lib/python3.10/site-packages (from chromadb!=0.5.4,!=0.5.5,<0.6.0,>=0.4.0->langchain_chroma) (8.5.0)\n",
      "Requirement already satisfied: PyYAML>=6.0.0 in /system/conda/miniconda3/envs/cloudspace/lib/python3.10/site-packages (from chromadb!=0.5.4,!=0.5.5,<0.6.0,>=0.4.0->langchain_chroma) (6.0.2)\n",
      "Collecting mmh3>=4.0.1 (from chromadb!=0.5.4,!=0.5.5,<0.6.0,>=0.4.0->langchain_chroma)\n",
      "  Downloading mmh3-4.1.0-cp310-cp310-manylinux_2_5_x86_64.manylinux1_x86_64.manylinux_2_17_x86_64.manylinux2014_x86_64.whl.metadata (13 kB)\n",
      "Requirement already satisfied: orjson>=3.9.12 in /system/conda/miniconda3/envs/cloudspace/lib/python3.10/site-packages (from chromadb!=0.5.4,!=0.5.5,<0.6.0,>=0.4.0->langchain_chroma) (3.10.7)\n",
      "Requirement already satisfied: httpx>=0.27.0 in /system/conda/miniconda3/envs/cloudspace/lib/python3.10/site-packages (from chromadb!=0.5.4,!=0.5.5,<0.6.0,>=0.4.0->langchain_chroma) (0.27.0)\n",
      "Requirement already satisfied: starlette<0.39.0,>=0.37.2 in /system/conda/miniconda3/envs/cloudspace/lib/python3.10/site-packages (from fastapi<1,>=0.95.2->langchain_chroma) (0.38.2)\n",
      "Requirement already satisfied: jsonpatch<2.0,>=1.33 in /system/conda/miniconda3/envs/cloudspace/lib/python3.10/site-packages (from langchain-core<0.3,>=0.1.40->langchain_chroma) (1.33)\n",
      "Requirement already satisfied: langsmith<0.2.0,>=0.1.75 in /system/conda/miniconda3/envs/cloudspace/lib/python3.10/site-packages (from langchain-core<0.3,>=0.1.40->langchain_chroma) (0.1.104)\n",
      "Requirement already satisfied: packaging<25,>=23.2 in /system/conda/miniconda3/envs/cloudspace/lib/python3.10/site-packages (from langchain-core<0.3,>=0.1.40->langchain_chroma) (23.2)\n",
      "Collecting pyproject_hooks (from build>=1.0.3->chromadb!=0.5.4,!=0.5.5,<0.6.0,>=0.4.0->langchain_chroma)\n",
      "  Downloading pyproject_hooks-1.1.0-py3-none-any.whl.metadata (1.3 kB)\n",
      "Requirement already satisfied: tomli>=1.1.0 in /system/conda/miniconda3/envs/cloudspace/lib/python3.10/site-packages (from build>=1.0.3->chromadb!=0.5.4,!=0.5.5,<0.6.0,>=0.4.0->langchain_chroma) (2.0.1)\n",
      "Requirement already satisfied: anyio in /system/conda/miniconda3/envs/cloudspace/lib/python3.10/site-packages (from httpx>=0.27.0->chromadb!=0.5.4,!=0.5.5,<0.6.0,>=0.4.0->langchain_chroma) (4.4.0)\n",
      "Requirement already satisfied: certifi in /system/conda/miniconda3/envs/cloudspace/lib/python3.10/site-packages (from httpx>=0.27.0->chromadb!=0.5.4,!=0.5.5,<0.6.0,>=0.4.0->langchain_chroma) (2024.7.4)\n",
      "Requirement already satisfied: httpcore==1.* in /system/conda/miniconda3/envs/cloudspace/lib/python3.10/site-packages (from httpx>=0.27.0->chromadb!=0.5.4,!=0.5.5,<0.6.0,>=0.4.0->langchain_chroma) (1.0.5)\n",
      "Requirement already satisfied: idna in /system/conda/miniconda3/envs/cloudspace/lib/python3.10/site-packages (from httpx>=0.27.0->chromadb!=0.5.4,!=0.5.5,<0.6.0,>=0.4.0->langchain_chroma) (3.7)\n",
      "Requirement already satisfied: sniffio in /system/conda/miniconda3/envs/cloudspace/lib/python3.10/site-packages (from httpx>=0.27.0->chromadb!=0.5.4,!=0.5.5,<0.6.0,>=0.4.0->langchain_chroma) (1.3.1)\n",
      "Requirement already satisfied: h11<0.15,>=0.13 in /system/conda/miniconda3/envs/cloudspace/lib/python3.10/site-packages (from httpcore==1.*->httpx>=0.27.0->chromadb!=0.5.4,!=0.5.5,<0.6.0,>=0.4.0->langchain_chroma) (0.14.0)\n",
      "Requirement already satisfied: jsonpointer>=1.9 in /system/conda/miniconda3/envs/cloudspace/lib/python3.10/site-packages (from jsonpatch<2.0,>=1.33->langchain-core<0.3,>=0.1.40->langchain_chroma) (3.0.0)\n",
      "Requirement already satisfied: six>=1.9.0 in /system/conda/miniconda3/envs/cloudspace/lib/python3.10/site-packages (from kubernetes>=28.1.0->chromadb!=0.5.4,!=0.5.5,<0.6.0,>=0.4.0->langchain_chroma) (1.16.0)\n",
      "Requirement already satisfied: python-dateutil>=2.5.3 in /system/conda/miniconda3/envs/cloudspace/lib/python3.10/site-packages (from kubernetes>=28.1.0->chromadb!=0.5.4,!=0.5.5,<0.6.0,>=0.4.0->langchain_chroma) (2.9.0.post0)\n",
      "Requirement already satisfied: google-auth>=1.0.1 in /system/conda/miniconda3/envs/cloudspace/lib/python3.10/site-packages (from kubernetes>=28.1.0->chromadb!=0.5.4,!=0.5.5,<0.6.0,>=0.4.0->langchain_chroma) (2.34.0)\n",
      "Requirement already satisfied: websocket-client!=0.40.0,!=0.41.*,!=0.42.*,>=0.32.0 in /system/conda/miniconda3/envs/cloudspace/lib/python3.10/site-packages (from kubernetes>=28.1.0->chromadb!=0.5.4,!=0.5.5,<0.6.0,>=0.4.0->langchain_chroma) (1.8.0)\n",
      "Requirement already satisfied: requests-oauthlib in /system/conda/miniconda3/envs/cloudspace/lib/python3.10/site-packages (from kubernetes>=28.1.0->chromadb!=0.5.4,!=0.5.5,<0.6.0,>=0.4.0->langchain_chroma) (2.0.0)\n",
      "Requirement already satisfied: oauthlib>=3.2.2 in /system/conda/miniconda3/envs/cloudspace/lib/python3.10/site-packages (from kubernetes>=28.1.0->chromadb!=0.5.4,!=0.5.5,<0.6.0,>=0.4.0->langchain_chroma) (3.2.2)\n",
      "Requirement already satisfied: urllib3>=1.24.2 in /system/conda/miniconda3/envs/cloudspace/lib/python3.10/site-packages (from kubernetes>=28.1.0->chromadb!=0.5.4,!=0.5.5,<0.6.0,>=0.4.0->langchain_chroma) (2.2.2)\n",
      "Collecting coloredlogs (from onnxruntime>=1.14.1->chromadb!=0.5.4,!=0.5.5,<0.6.0,>=0.4.0->langchain_chroma)\n",
      "  Downloading coloredlogs-15.0.1-py2.py3-none-any.whl.metadata (12 kB)\n",
      "Collecting flatbuffers (from onnxruntime>=1.14.1->chromadb!=0.5.4,!=0.5.5,<0.6.0,>=0.4.0->langchain_chroma)\n",
      "  Downloading flatbuffers-24.3.25-py2.py3-none-any.whl.metadata (850 bytes)\n",
      "Requirement already satisfied: protobuf in /system/conda/miniconda3/envs/cloudspace/lib/python3.10/site-packages (from onnxruntime>=1.14.1->chromadb!=0.5.4,!=0.5.5,<0.6.0,>=0.4.0->langchain_chroma) (4.23.4)\n",
      "Requirement already satisfied: sympy in /system/conda/miniconda3/envs/cloudspace/lib/python3.10/site-packages (from onnxruntime>=1.14.1->chromadb!=0.5.4,!=0.5.5,<0.6.0,>=0.4.0->langchain_chroma) (1.13.2)\n",
      "Collecting deprecated>=1.2.6 (from opentelemetry-api>=1.2.0->chromadb!=0.5.4,!=0.5.5,<0.6.0,>=0.4.0->langchain_chroma)\n",
      "  Downloading Deprecated-1.2.14-py2.py3-none-any.whl.metadata (5.4 kB)\n",
      "Requirement already satisfied: importlib-metadata<=8.0.0,>=6.0 in /system/conda/miniconda3/envs/cloudspace/lib/python3.10/site-packages (from opentelemetry-api>=1.2.0->chromadb!=0.5.4,!=0.5.5,<0.6.0,>=0.4.0->langchain_chroma) (6.11.0)\n",
      "Collecting googleapis-common-protos~=1.52 (from opentelemetry-exporter-otlp-proto-grpc>=1.2.0->chromadb!=0.5.4,!=0.5.5,<0.6.0,>=0.4.0->langchain_chroma)\n",
      "  Downloading googleapis_common_protos-1.64.0-py2.py3-none-any.whl.metadata (1.5 kB)\n",
      "Collecting opentelemetry-exporter-otlp-proto-common==1.26.0 (from opentelemetry-exporter-otlp-proto-grpc>=1.2.0->chromadb!=0.5.4,!=0.5.5,<0.6.0,>=0.4.0->langchain_chroma)\n",
      "  Downloading opentelemetry_exporter_otlp_proto_common-1.26.0-py3-none-any.whl.metadata (1.8 kB)\n",
      "Collecting opentelemetry-proto==1.26.0 (from opentelemetry-exporter-otlp-proto-grpc>=1.2.0->chromadb!=0.5.4,!=0.5.5,<0.6.0,>=0.4.0->langchain_chroma)\n",
      "  Downloading opentelemetry_proto-1.26.0-py3-none-any.whl.metadata (2.3 kB)\n",
      "Collecting opentelemetry-instrumentation-asgi==0.47b0 (from opentelemetry-instrumentation-fastapi>=0.41b0->chromadb!=0.5.4,!=0.5.5,<0.6.0,>=0.4.0->langchain_chroma)\n",
      "  Downloading opentelemetry_instrumentation_asgi-0.47b0-py3-none-any.whl.metadata (2.0 kB)\n",
      "Collecting opentelemetry-instrumentation==0.47b0 (from opentelemetry-instrumentation-fastapi>=0.41b0->chromadb!=0.5.4,!=0.5.5,<0.6.0,>=0.4.0->langchain_chroma)\n",
      "  Downloading opentelemetry_instrumentation-0.47b0-py3-none-any.whl.metadata (6.1 kB)\n",
      "Collecting opentelemetry-semantic-conventions==0.47b0 (from opentelemetry-instrumentation-fastapi>=0.41b0->chromadb!=0.5.4,!=0.5.5,<0.6.0,>=0.4.0->langchain_chroma)\n",
      "  Downloading opentelemetry_semantic_conventions-0.47b0-py3-none-any.whl.metadata (2.4 kB)\n",
      "Collecting opentelemetry-util-http==0.47b0 (from opentelemetry-instrumentation-fastapi>=0.41b0->chromadb!=0.5.4,!=0.5.5,<0.6.0,>=0.4.0->langchain_chroma)\n",
      "  Downloading opentelemetry_util_http-0.47b0-py3-none-any.whl.metadata (2.5 kB)\n",
      "Requirement already satisfied: setuptools>=16.0 in /system/conda/miniconda3/envs/cloudspace/lib/python3.10/site-packages (from opentelemetry-instrumentation==0.47b0->opentelemetry-instrumentation-fastapi>=0.41b0->chromadb!=0.5.4,!=0.5.5,<0.6.0,>=0.4.0->langchain_chroma) (72.1.0)\n",
      "Collecting wrapt<2.0.0,>=1.0.0 (from opentelemetry-instrumentation==0.47b0->opentelemetry-instrumentation-fastapi>=0.41b0->chromadb!=0.5.4,!=0.5.5,<0.6.0,>=0.4.0->langchain_chroma)\n",
      "  Downloading wrapt-1.16.0-cp310-cp310-manylinux_2_5_x86_64.manylinux1_x86_64.manylinux_2_17_x86_64.manylinux2014_x86_64.whl.metadata (6.6 kB)\n",
      "Collecting asgiref~=3.0 (from opentelemetry-instrumentation-asgi==0.47b0->opentelemetry-instrumentation-fastapi>=0.41b0->chromadb!=0.5.4,!=0.5.5,<0.6.0,>=0.4.0->langchain_chroma)\n",
      "  Downloading asgiref-3.8.1-py3-none-any.whl.metadata (9.3 kB)\n",
      "Collecting monotonic>=1.5 (from posthog>=2.4.0->chromadb!=0.5.4,!=0.5.5,<0.6.0,>=0.4.0->langchain_chroma)\n",
      "  Downloading monotonic-1.6-py2.py3-none-any.whl.metadata (1.5 kB)\n",
      "Requirement already satisfied: backoff>=1.10.0 in /system/conda/miniconda3/envs/cloudspace/lib/python3.10/site-packages (from posthog>=2.4.0->chromadb!=0.5.4,!=0.5.5,<0.6.0,>=0.4.0->langchain_chroma) (2.2.1)\n",
      "Requirement already satisfied: annotated-types>=0.4.0 in /system/conda/miniconda3/envs/cloudspace/lib/python3.10/site-packages (from pydantic>=1.9->chromadb!=0.5.4,!=0.5.5,<0.6.0,>=0.4.0->langchain_chroma) (0.7.0)\n",
      "Requirement already satisfied: pydantic-core==2.20.1 in /system/conda/miniconda3/envs/cloudspace/lib/python3.10/site-packages (from pydantic>=1.9->chromadb!=0.5.4,!=0.5.5,<0.6.0,>=0.4.0->langchain_chroma) (2.20.1)\n",
      "Requirement already satisfied: charset-normalizer<4,>=2 in /system/conda/miniconda3/envs/cloudspace/lib/python3.10/site-packages (from requests>=2.28->chromadb!=0.5.4,!=0.5.5,<0.6.0,>=0.4.0->langchain_chroma) (3.3.2)\n",
      "Requirement already satisfied: huggingface-hub<1.0,>=0.16.4 in /system/conda/miniconda3/envs/cloudspace/lib/python3.10/site-packages (from tokenizers>=0.13.2->chromadb!=0.5.4,!=0.5.5,<0.6.0,>=0.4.0->langchain_chroma) (0.24.6)\n",
      "Requirement already satisfied: click>=8.0.0 in /system/conda/miniconda3/envs/cloudspace/lib/python3.10/site-packages (from typer>=0.9.0->chromadb!=0.5.4,!=0.5.5,<0.6.0,>=0.4.0->langchain_chroma) (8.1.7)\n",
      "Collecting shellingham>=1.3.0 (from typer>=0.9.0->chromadb!=0.5.4,!=0.5.5,<0.6.0,>=0.4.0->langchain_chroma)\n",
      "  Downloading shellingham-1.5.4-py2.py3-none-any.whl.metadata (3.5 kB)\n",
      "Requirement already satisfied: rich>=10.11.0 in /system/conda/miniconda3/envs/cloudspace/lib/python3.10/site-packages (from typer>=0.9.0->chromadb!=0.5.4,!=0.5.5,<0.6.0,>=0.4.0->langchain_chroma) (13.7.1)\n",
      "Collecting httptools>=0.5.0 (from uvicorn[standard]>=0.18.3->chromadb!=0.5.4,!=0.5.5,<0.6.0,>=0.4.0->langchain_chroma)\n",
      "  Downloading httptools-0.6.1-cp310-cp310-manylinux_2_5_x86_64.manylinux1_x86_64.manylinux_2_17_x86_64.manylinux2014_x86_64.whl.metadata (3.6 kB)\n",
      "Collecting python-dotenv>=0.13 (from uvicorn[standard]>=0.18.3->chromadb!=0.5.4,!=0.5.5,<0.6.0,>=0.4.0->langchain_chroma)\n",
      "  Downloading python_dotenv-1.0.1-py3-none-any.whl.metadata (23 kB)\n",
      "Collecting uvloop!=0.15.0,!=0.15.1,>=0.14.0 (from uvicorn[standard]>=0.18.3->chromadb!=0.5.4,!=0.5.5,<0.6.0,>=0.4.0->langchain_chroma)\n",
      "  Downloading uvloop-0.20.0-cp310-cp310-manylinux_2_17_x86_64.manylinux2014_x86_64.whl.metadata (4.9 kB)\n",
      "Collecting watchfiles>=0.13 (from uvicorn[standard]>=0.18.3->chromadb!=0.5.4,!=0.5.5,<0.6.0,>=0.4.0->langchain_chroma)\n",
      "  Downloading watchfiles-0.23.0-cp310-cp310-manylinux_2_17_x86_64.manylinux2014_x86_64.whl.metadata (4.9 kB)\n",
      "Requirement already satisfied: websockets>=10.4 in /system/conda/miniconda3/envs/cloudspace/lib/python3.10/site-packages (from uvicorn[standard]>=0.18.3->chromadb!=0.5.4,!=0.5.5,<0.6.0,>=0.4.0->langchain_chroma) (11.0.3)\n",
      "Requirement already satisfied: exceptiongroup>=1.0.2 in /system/conda/miniconda3/envs/cloudspace/lib/python3.10/site-packages (from anyio->httpx>=0.27.0->chromadb!=0.5.4,!=0.5.5,<0.6.0,>=0.4.0->langchain_chroma) (1.2.2)\n",
      "Requirement already satisfied: cachetools<6.0,>=2.0.0 in /system/conda/miniconda3/envs/cloudspace/lib/python3.10/site-packages (from google-auth>=1.0.1->kubernetes>=28.1.0->chromadb!=0.5.4,!=0.5.5,<0.6.0,>=0.4.0->langchain_chroma) (5.5.0)\n",
      "Requirement already satisfied: pyasn1-modules>=0.2.1 in /system/conda/miniconda3/envs/cloudspace/lib/python3.10/site-packages (from google-auth>=1.0.1->kubernetes>=28.1.0->chromadb!=0.5.4,!=0.5.5,<0.6.0,>=0.4.0->langchain_chroma) (0.4.0)\n",
      "Requirement already satisfied: rsa<5,>=3.1.4 in /system/conda/miniconda3/envs/cloudspace/lib/python3.10/site-packages (from google-auth>=1.0.1->kubernetes>=28.1.0->chromadb!=0.5.4,!=0.5.5,<0.6.0,>=0.4.0->langchain_chroma) (4.9)\n",
      "Requirement already satisfied: filelock in /system/conda/miniconda3/envs/cloudspace/lib/python3.10/site-packages (from huggingface-hub<1.0,>=0.16.4->tokenizers>=0.13.2->chromadb!=0.5.4,!=0.5.5,<0.6.0,>=0.4.0->langchain_chroma) (3.15.4)\n",
      "Requirement already satisfied: fsspec>=2023.5.0 in /system/conda/miniconda3/envs/cloudspace/lib/python3.10/site-packages (from huggingface-hub<1.0,>=0.16.4->tokenizers>=0.13.2->chromadb!=0.5.4,!=0.5.5,<0.6.0,>=0.4.0->langchain_chroma) (2024.6.1)\n",
      "Requirement already satisfied: zipp>=0.5 in /system/conda/miniconda3/envs/cloudspace/lib/python3.10/site-packages (from importlib-metadata<=8.0.0,>=6.0->opentelemetry-api>=1.2.0->chromadb!=0.5.4,!=0.5.5,<0.6.0,>=0.4.0->langchain_chroma) (3.20.1)\n",
      "Requirement already satisfied: markdown-it-py>=2.2.0 in /system/conda/miniconda3/envs/cloudspace/lib/python3.10/site-packages (from rich>=10.11.0->typer>=0.9.0->chromadb!=0.5.4,!=0.5.5,<0.6.0,>=0.4.0->langchain_chroma) (3.0.0)\n",
      "Requirement already satisfied: pygments<3.0.0,>=2.13.0 in /system/conda/miniconda3/envs/cloudspace/lib/python3.10/site-packages (from rich>=10.11.0->typer>=0.9.0->chromadb!=0.5.4,!=0.5.5,<0.6.0,>=0.4.0->langchain_chroma) (2.18.0)\n",
      "Collecting humanfriendly>=9.1 (from coloredlogs->onnxruntime>=1.14.1->chromadb!=0.5.4,!=0.5.5,<0.6.0,>=0.4.0->langchain_chroma)\n",
      "  Downloading humanfriendly-10.0-py2.py3-none-any.whl.metadata (9.2 kB)\n",
      "Requirement already satisfied: mpmath<1.4,>=1.1.0 in /system/conda/miniconda3/envs/cloudspace/lib/python3.10/site-packages (from sympy->onnxruntime>=1.14.1->chromadb!=0.5.4,!=0.5.5,<0.6.0,>=0.4.0->langchain_chroma) (1.3.0)\n",
      "Requirement already satisfied: mdurl~=0.1 in /system/conda/miniconda3/envs/cloudspace/lib/python3.10/site-packages (from markdown-it-py>=2.2.0->rich>=10.11.0->typer>=0.9.0->chromadb!=0.5.4,!=0.5.5,<0.6.0,>=0.4.0->langchain_chroma) (0.1.2)\n",
      "Requirement already satisfied: pyasn1<0.7.0,>=0.4.6 in /system/conda/miniconda3/envs/cloudspace/lib/python3.10/site-packages (from pyasn1-modules>=0.2.1->google-auth>=1.0.1->kubernetes>=28.1.0->chromadb!=0.5.4,!=0.5.5,<0.6.0,>=0.4.0->langchain_chroma) (0.6.0)\n",
      "Downloading langchain_chroma-0.1.3-py3-none-any.whl (10 kB)\n",
      "Downloading chromadb-0.5.3-py3-none-any.whl (559 kB)\n",
      "\u001b[2K   \u001b[90m━━━━━━━━━━━━━━━━━━━━━━━━━━━━━━━━━━━━━━━━\u001b[0m \u001b[32m559.5/559.5 kB\u001b[0m \u001b[31m84.2 MB/s\u001b[0m eta \u001b[36m0:00:00\u001b[0m\n",
      "\u001b[?25hDownloading chroma_hnswlib-0.7.3-cp310-cp310-manylinux_2_17_x86_64.manylinux2014_x86_64.whl (2.4 MB)\n",
      "\u001b[2K   \u001b[90m━━━━━━━━━━━━━━━━━━━━━━━━━━━━━━━━━━━━━━━━\u001b[0m \u001b[32m2.4/2.4 MB\u001b[0m \u001b[31m155.9 MB/s\u001b[0m eta \u001b[36m0:00:00\u001b[0m\n",
      "\u001b[?25hDownloading bcrypt-4.2.0-cp39-abi3-manylinux_2_28_x86_64.whl (273 kB)\n",
      "Downloading build-1.2.1-py3-none-any.whl (21 kB)\n",
      "Downloading kubernetes-30.1.0-py2.py3-none-any.whl (1.7 MB)\n",
      "\u001b[2K   \u001b[90m━━━━━━━━━━━━━━━━━━━━━━━━━━━━━━━━━━━━━━━━\u001b[0m \u001b[32m1.7/1.7 MB\u001b[0m \u001b[31m116.8 MB/s\u001b[0m eta \u001b[36m0:00:00\u001b[0m\n",
      "\u001b[?25hDownloading mmh3-4.1.0-cp310-cp310-manylinux_2_5_x86_64.manylinux1_x86_64.manylinux_2_17_x86_64.manylinux2014_x86_64.whl (67 kB)\n",
      "Downloading onnxruntime-1.19.0-cp310-cp310-manylinux_2_27_x86_64.manylinux_2_28_x86_64.whl (13.2 MB)\n",
      "\u001b[2K   \u001b[90m━━━━━━━━━━━━━━━━━━━━━━━━━━━━━━━━━━━━━━━━\u001b[0m \u001b[32m13.2/13.2 MB\u001b[0m \u001b[31m171.7 MB/s\u001b[0m eta \u001b[36m0:00:00\u001b[0m\n",
      "\u001b[?25hDownloading opentelemetry_api-1.26.0-py3-none-any.whl (61 kB)\n",
      "Downloading opentelemetry_exporter_otlp_proto_grpc-1.26.0-py3-none-any.whl (18 kB)\n",
      "Downloading opentelemetry_exporter_otlp_proto_common-1.26.0-py3-none-any.whl (17 kB)\n",
      "Downloading opentelemetry_proto-1.26.0-py3-none-any.whl (52 kB)\n",
      "Downloading opentelemetry_instrumentation_fastapi-0.47b0-py3-none-any.whl (11 kB)\n",
      "Downloading opentelemetry_instrumentation-0.47b0-py3-none-any.whl (29 kB)\n",
      "Downloading opentelemetry_instrumentation_asgi-0.47b0-py3-none-any.whl (15 kB)\n",
      "Downloading opentelemetry_semantic_conventions-0.47b0-py3-none-any.whl (138 kB)\n",
      "Downloading opentelemetry_util_http-0.47b0-py3-none-any.whl (6.9 kB)\n",
      "Downloading opentelemetry_sdk-1.26.0-py3-none-any.whl (109 kB)\n",
      "Downloading posthog-3.5.2-py2.py3-none-any.whl (41 kB)\n",
      "Downloading tokenizers-0.20.0-cp310-cp310-manylinux_2_17_x86_64.manylinux2014_x86_64.whl (2.9 MB)\n",
      "\u001b[2K   \u001b[90m━━━━━━━━━━━━━━━━━━━━━━━━━━━━━━━━━━━━━━━━\u001b[0m \u001b[32m2.9/2.9 MB\u001b[0m \u001b[31m148.8 MB/s\u001b[0m eta \u001b[36m0:00:00\u001b[0m\n",
      "\u001b[?25hDownloading typer-0.12.5-py3-none-any.whl (47 kB)\n",
      "Downloading Deprecated-1.2.14-py2.py3-none-any.whl (9.6 kB)\n",
      "Downloading googleapis_common_protos-1.64.0-py2.py3-none-any.whl (220 kB)\n",
      "Downloading httptools-0.6.1-cp310-cp310-manylinux_2_5_x86_64.manylinux1_x86_64.manylinux_2_17_x86_64.manylinux2014_x86_64.whl (341 kB)\n",
      "Downloading monotonic-1.6-py2.py3-none-any.whl (8.2 kB)\n",
      "Downloading python_dotenv-1.0.1-py3-none-any.whl (19 kB)\n",
      "Downloading shellingham-1.5.4-py2.py3-none-any.whl (9.8 kB)\n",
      "Downloading uvloop-0.20.0-cp310-cp310-manylinux_2_17_x86_64.manylinux2014_x86_64.whl (3.4 MB)\n",
      "\u001b[2K   \u001b[90m━━━━━━━━━━━━━━━━━━━━━━━━━━━━━━━━━━━━━━━━\u001b[0m \u001b[32m3.4/3.4 MB\u001b[0m \u001b[31m182.5 MB/s\u001b[0m eta \u001b[36m0:00:00\u001b[0m\n",
      "\u001b[?25hDownloading watchfiles-0.23.0-cp310-cp310-manylinux_2_17_x86_64.manylinux2014_x86_64.whl (427 kB)\n",
      "Downloading coloredlogs-15.0.1-py2.py3-none-any.whl (46 kB)\n",
      "Downloading flatbuffers-24.3.25-py2.py3-none-any.whl (26 kB)\n",
      "Downloading pyproject_hooks-1.1.0-py3-none-any.whl (9.2 kB)\n",
      "Downloading asgiref-3.8.1-py3-none-any.whl (23 kB)\n",
      "Downloading humanfriendly-10.0-py2.py3-none-any.whl (86 kB)\n",
      "Downloading wrapt-1.16.0-cp310-cp310-manylinux_2_5_x86_64.manylinux1_x86_64.manylinux_2_17_x86_64.manylinux2014_x86_64.whl (80 kB)\n",
      "Building wheels for collected packages: pypika\n",
      "  Building wheel for pypika (pyproject.toml) ... \u001b[?25ldone\n",
      "\u001b[?25h  Created wheel for pypika: filename=PyPika-0.48.9-py2.py3-none-any.whl size=53724 sha256=bc99685e9113f410195c9b8d86c4c125820d7a3077c502046fdd36db96a0de7e\n",
      "  Stored in directory: /teamspace/studios/this_studio/.cache/pip/wheels/e1/26/51/d0bffb3d2fd82256676d7ad3003faea3bd6dddc9577af665f4\n",
      "Successfully built pypika\n",
      "Installing collected packages: pypika, monotonic, mmh3, flatbuffers, wrapt, uvloop, shellingham, python-dotenv, pyproject_hooks, opentelemetry-util-http, opentelemetry-proto, humanfriendly, httptools, googleapis-common-protos, chroma-hnswlib, bcrypt, asgiref, watchfiles, posthog, opentelemetry-exporter-otlp-proto-common, deprecated, coloredlogs, build, typer, tokenizers, opentelemetry-api, onnxruntime, kubernetes, opentelemetry-semantic-conventions, opentelemetry-instrumentation, opentelemetry-sdk, opentelemetry-instrumentation-asgi, opentelemetry-instrumentation-fastapi, opentelemetry-exporter-otlp-proto-grpc, chromadb, langchain_chroma\n",
      "Successfully installed asgiref-3.8.1 bcrypt-4.2.0 build-1.2.1 chroma-hnswlib-0.7.3 chromadb-0.5.3 coloredlogs-15.0.1 deprecated-1.2.14 flatbuffers-24.3.25 googleapis-common-protos-1.64.0 httptools-0.6.1 humanfriendly-10.0 kubernetes-30.1.0 langchain_chroma-0.1.3 mmh3-4.1.0 monotonic-1.6 onnxruntime-1.19.0 opentelemetry-api-1.26.0 opentelemetry-exporter-otlp-proto-common-1.26.0 opentelemetry-exporter-otlp-proto-grpc-1.26.0 opentelemetry-instrumentation-0.47b0 opentelemetry-instrumentation-asgi-0.47b0 opentelemetry-instrumentation-fastapi-0.47b0 opentelemetry-proto-1.26.0 opentelemetry-sdk-1.26.0 opentelemetry-semantic-conventions-0.47b0 opentelemetry-util-http-0.47b0 posthog-3.5.2 pypika-0.48.9 pyproject_hooks-1.1.0 python-dotenv-1.0.1 shellingham-1.5.4 tokenizers-0.20.0 typer-0.12.5 uvloop-0.20.0 watchfiles-0.23.0 wrapt-1.16.0\n"
     ]
    }
   ],
   "source": [
    "!pip install langchain_chroma"
   ]
  },
  {
   "cell_type": "code",
   "execution_count": 200,
   "metadata": {},
   "outputs": [
    {
     "name": "stderr",
     "output_type": "stream",
     "text": [
      "Number of requested results 4 is greater than number of elements in index 3, updating n_results = 3\n"
     ]
    },
    {
     "name": "stdout",
     "output_type": "stream",
     "text": [
      "[Document(page_content='What happened in 1997?'), Document(page_content='This is the first document.'), Document(page_content='This is the second document.')]\n"
     ]
    }
   ],
   "source": [
    "from langchain_core.document_loaders.base import Document\n",
    "from langchain_chroma import Chroma\n",
    "from langchain.embeddings import OllamaEmbeddings\n",
    "\n",
    "# 假设 texts 是一个包含你所有文本的字符串列表\n",
    "texts = [\n",
    "    \"This is the first document.\",\n",
    "    \"This is the second document.\",\n",
    "    \"What happened in 1997?\",\n",
    "    # 其他文本\n",
    "]\n",
    "\n",
    "# 将字符串列表转换为 Document 对象列表\n",
    "documents = [Document(page_content=text) for text in texts]\n",
    "\n",
    "# 创建 OllamaEmbeddings 实例\n",
    "embedding = OllamaEmbeddings(model='llama3')\n",
    "\n",
    "# 使用 Chroma 从 Document 对象列表创建向量数据库\n",
    "vector_db = Chroma.from_documents(documents, embedding)\n",
    "\n",
    "# 示例查询\n",
    "question = \"What happened in 1997?\"\n",
    "response = vector_db.similarity_search(question)\n",
    "print(response)\n"
   ]
  },
  {
   "cell_type": "code",
   "execution_count": 202,
   "metadata": {},
   "outputs": [],
   "source": [
    "# # vector databases: store and search embeddings\n",
    "# from langchain_chroma import Chroma\n",
    "# vector_db = Chroma.from_documents(texts, OllamaEmbeddings(model='llama3'))\n",
    "\n",
    "# question = \"What happened in 1997?\"\n",
    "\n",
    "# response = vector_db.similarity_search(question)\n",
    "# response\n",
    "\n",
    "## 这是失败的"
   ]
  },
  {
   "cell_type": "code",
   "execution_count": null,
   "metadata": {},
   "outputs": [],
   "source": [
    "from langchain_community.vectorstores import FAISS\n",
    "from langchain_core.runnables import RunnablePassthrough\n",
    "\n",
    "embeddings_model = OllamaEmbeddings(model='llama3')\n",
    "vector_db = FAISS.from_documents(documents=texts, embedding=embeddings_model)\n",
    "retriever = vector_db.as_retriever()\n",
    "\n",
    "template = \"\"\"Answer the question based only on the following context:\n",
    "\n",
    "{context}\n",
    "\n",
    "Question: {question}\n",
    "\"\"\"\n",
    "\n",
    "prompt = ChatPromptTemplate.from_template(template)\n",
    "model = ChatOllama(\n",
    "    model='llama3',\n",
    "    temperature= 0.2\n",
    "    )\n",
    "def format_docs(docs):\n",
    "    return \"\\n\\n\".join([d.page_content for d in docs])\n",
    "\n",
    "chain = (\n",
    "    {\"context\": retriever | format_docs , \"question\": RunnablePassthrough()}\n",
    "    | prompt\n",
    "    | model\n",
    "    | StrOutputParser()\n",
    ")\n",
    "\n"
   ]
  },
  {
   "cell_type": "code",
   "execution_count": null,
   "metadata": {},
   "outputs": [],
   "source": [
    "response = chain.invoke(\"Ada berapa kantor cabang yang Surveyor Indonesia miliki?\")\n",
    "response"
   ]
  },
  {
   "cell_type": "code",
   "execution_count": 171,
   "metadata": {},
   "outputs": [
    {
     "data": {
      "text/plain": [
       "'Surveyor Indonesia didirikan pada tanggal 1 Agustus 1991.'"
      ]
     },
     "execution_count": 171,
     "metadata": {},
     "output_type": "execute_result"
    }
   ],
   "source": [
    "response = chain.invoke(\"Kapan Surveyor Indonesia didirikan?\")\n",
    "response"
   ]
  },
  {
   "cell_type": "markdown",
   "metadata": {},
   "source": [
    "# 9. LangChain Splitters"
   ]
  },
  {
   "cell_type": "markdown",
   "metadata": {},
   "source": [
    "## A. RecursiveCharacterTextSplitter"
   ]
  },
  {
   "cell_type": "code",
   "execution_count": 172,
   "metadata": {},
   "outputs": [],
   "source": [
    "story = \"\"\"\n",
    "ONCE UPON A TIME, IN A LAND OF COLOR AND MYSTERY, THERE EXISTED A MAGICAL RUBIK'S CUBE. THIS CUBE WAS NOT JUST ANY ORDINARY PUZZLE; IT WAS ENCHANTED WITH THE POWER TO BRING ORDER TO CHAOS. THE CUBE RESIDED IN A VIBRANT KINGDOM WHERE EVERYONE WAS INTRIGUED BY ITS COMPLEXITY.\n",
    "\n",
    "ONE DAY, A YOUNG BOY NAMED MAX FOUND THE RUBIK'S CUBE WHILE EXPLORING THE FOREST. MAX WAS FASCINATED BY THE CUBE'S COLORS AND INTRICATE PATTERNS. WITH EACH TWIST AND TURN, HE FELT A CONNECTION TO THE CUBE, AS IF IT WAS CALLING OUT TO HIM TO SOLVE ITS MYSTERY.\n",
    "\n",
    "DETERMINED, MAX SPENT DAYS AND NIGHTS WORKING ON THE CUBE. HE STUDIED ITS MOVEMENTS AND TRIED TO UNRAVEL ITS SECRETS. THE CUBE WAS A CHALLENGE, BUT MAX WAS PERSISTENT. HE BELIEVED THAT SOLVING IT WOULD REVEAL SOMETHING EXTRAORDINARY.\n",
    "\n",
    "ONE FATEFUL EVENING, AS THE SUN SET AND THE STARS BEGAN TO TWINKLE, MAX MADE THE FINAL MOVE. CLICK! THE CUBE'S COLORS ALIGNED PERFECTLY. AT THAT MOMENT, A BRILLIANT LIGHT EMANATED FROM THE CUBE, SURROUNDING MAX IN A WARM GLOW.\n",
    "\n",
    "TO HIS AMAZEMENT, THE RUBIK'S CUBE TRANSFORMED INTO A GATEWAY TO ANOTHER DIMENSION. MAX STEPPED THROUGH THE GATEWAY AND FOUND HIMSELF IN A LAND OF PURE IMAGINATION. EVERYTHING WAS POSSIBLE HERE, AND THE LAWS OF REALITY DID NOT APPLY. THE INHABITANTS OF THIS LAND WELCOMED MAX AS THEIR HERO.\n",
    "\n",
    "THEY EXPLAINED THAT THE RUBIK'S CUBE WAS A KEY TO THEIR WORLD, A SYMBOL OF BALANCE AND HARMONY. ONLY A TRUE BELIEVER, SOMEONE WITH PATIENCE AND DEDICATION, COULD UNLOCK ITS POTENTIAL. MAX HAD PROVEN HIMSELF WORTHY AND WAS GRANTED THE TITLE OF \"GUARDIAN OF THE CUBE.\"\n",
    "\n",
    "FROM THAT DAY FORWARD, MAX USED HIS NEWFOUND KNOWLEDGE AND SKILLS TO HELP OTHERS SOLVE THEIR OWN PROBLEMS, BRINGING ORDER AND HARMONY TO BOTH WORLDS. THE RUBIK'S CUBE REMAINED A SYMBOL OF HIS JOURNEY, REMINDING EVERYONE THAT WITH PERSEVERANCE AND DETERMINATION, ANYTHING IS POSSIBLE.\n",
    "\"\"\""
   ]
  },
  {
   "cell_type": "code",
   "execution_count": 173,
   "metadata": {},
   "outputs": [
    {
     "data": {
      "text/plain": [
       "Document(page_content='\\nONCE UPON A TIME, IN A LAND OF COLOR AND MYSTERY, THERE EXISTED A MAGICAL RUBIK\\'S CUBE. THIS CUBE WAS NOT JUST ANY ORDINARY PUZZLE; IT WAS ENCHANTED WITH THE POWER TO BRING ORDER TO CHAOS. THE CUBE RESIDED IN A VIBRANT KINGDOM WHERE EVERYONE WAS INTRIGUED BY ITS COMPLEXITY.\\n\\nONE DAY, A YOUNG BOY NAMED MAX FOUND THE RUBIK\\'S CUBE WHILE EXPLORING THE FOREST. MAX WAS FASCINATED BY THE CUBE\\'S COLORS AND INTRICATE PATTERNS. WITH EACH TWIST AND TURN, HE FELT A CONNECTION TO THE CUBE, AS IF IT WAS CALLING OUT TO HIM TO SOLVE ITS MYSTERY.\\n\\nDETERMINED, MAX SPENT DAYS AND NIGHTS WORKING ON THE CUBE. HE STUDIED ITS MOVEMENTS AND TRIED TO UNRAVEL ITS SECRETS. THE CUBE WAS A CHALLENGE, BUT MAX WAS PERSISTENT. HE BELIEVED THAT SOLVING IT WOULD REVEAL SOMETHING EXTRAORDINARY.\\n\\nONE FATEFUL EVENING, AS THE SUN SET AND THE STARS BEGAN TO TWINKLE, MAX MADE THE FINAL MOVE. CLICK! THE CUBE\\'S COLORS ALIGNED PERFECTLY. AT THAT MOMENT, A BRILLIANT LIGHT EMANATED FROM THE CUBE, SURROUNDING MAX IN A WARM GLOW.\\n\\nTO HIS AMAZEMENT, THE RUBIK\\'S CUBE TRANSFORMED INTO A GATEWAY TO ANOTHER DIMENSION. MAX STEPPED THROUGH THE GATEWAY AND FOUND HIMSELF IN A LAND OF PURE IMAGINATION. EVERYTHING WAS POSSIBLE HERE, AND THE LAWS OF REALITY DID NOT APPLY. THE INHABITANTS OF THIS LAND WELCOMED MAX AS THEIR HERO.\\n\\nTHEY EXPLAINED THAT THE RUBIK\\'S CUBE WAS A KEY TO THEIR WORLD, A SYMBOL OF BALANCE AND HARMONY. ONLY A TRUE BELIEVER, SOMEONE WITH PATIENCE AND DEDICATION, COULD UNLOCK ITS POTENTIAL. MAX HAD PROVEN HIMSELF WORTHY AND WAS GRANTED THE TITLE OF \"GUARDIAN OF THE CUBE.\"\\n\\nFROM THAT DAY FORWARD, MAX USED HIS NEWFOUND KNOWLEDGE AND SKILLS TO HELP OTHERS SOLVE THEIR OWN PROBLEMS, BRINGING ORDER AND HARMONY TO BOTH WORLDS. THE RUBIK\\'S CUBE REMAINED A SYMBOL OF HIS JOURNEY, REMINDING EVERYONE THAT WITH PERSEVERANCE AND DETERMINATION, ANYTHING IS POSSIBLE.\\n')"
      ]
     },
     "execution_count": 173,
     "metadata": {},
     "output_type": "execute_result"
    }
   ],
   "source": [
    "from langchain.schema import Document\n",
    "doc = Document(story)\n",
    "doc"
   ]
  },
  {
   "cell_type": "code",
   "execution_count": 174,
   "metadata": {},
   "outputs": [
    {
     "data": {
      "text/plain": [
       "[Document(page_content=\"ONCE UPON A TIME, IN A LAND OF COLOR AND MYSTERY, THERE EXISTED A MAGICAL RUBIK'S CUBE. THIS CUBE\"),\n",
       " Document(page_content=\"THERE EXISTED A MAGICAL RUBIK'S CUBE. THIS CUBE WAS NOT JUST ANY ORDINARY PUZZLE; IT WAS ENCHANTED\"),\n",
       " Document(page_content='NOT JUST ANY ORDINARY PUZZLE; IT WAS ENCHANTED WITH THE POWER TO BRING ORDER TO CHAOS. THE CUBE'),\n",
       " Document(page_content='WITH THE POWER TO BRING ORDER TO CHAOS. THE CUBE RESIDED IN A VIBRANT KINGDOM WHERE EVERYONE WAS'),\n",
       " Document(page_content='RESIDED IN A VIBRANT KINGDOM WHERE EVERYONE WAS INTRIGUED BY ITS COMPLEXITY.'),\n",
       " Document(page_content=\"ONE DAY, A YOUNG BOY NAMED MAX FOUND THE RUBIK'S CUBE WHILE EXPLORING THE FOREST. MAX WAS\"),\n",
       " Document(page_content=\"RUBIK'S CUBE WHILE EXPLORING THE FOREST. MAX WAS FASCINATED BY THE CUBE'S COLORS AND INTRICATE\"),\n",
       " Document(page_content=\"WAS FASCINATED BY THE CUBE'S COLORS AND INTRICATE PATTERNS. WITH EACH TWIST AND TURN, HE FELT A\"),\n",
       " Document(page_content='PATTERNS. WITH EACH TWIST AND TURN, HE FELT A CONNECTION TO THE CUBE, AS IF IT WAS CALLING OUT TO'),\n",
       " Document(page_content='TO THE CUBE, AS IF IT WAS CALLING OUT TO HIM TO SOLVE ITS MYSTERY.'),\n",
       " Document(page_content='DETERMINED, MAX SPENT DAYS AND NIGHTS WORKING ON THE CUBE. HE STUDIED ITS MOVEMENTS AND TRIED TO'),\n",
       " Document(page_content='THE CUBE. HE STUDIED ITS MOVEMENTS AND TRIED TO UNRAVEL ITS SECRETS. THE CUBE WAS A CHALLENGE, BUT'),\n",
       " Document(page_content='ITS SECRETS. THE CUBE WAS A CHALLENGE, BUT MAX WAS PERSISTENT. HE BELIEVED THAT SOLVING IT WOULD'),\n",
       " Document(page_content='WAS PERSISTENT. HE BELIEVED THAT SOLVING IT WOULD REVEAL SOMETHING EXTRAORDINARY.'),\n",
       " Document(page_content='ONE FATEFUL EVENING, AS THE SUN SET AND THE STARS BEGAN TO TWINKLE, MAX MADE THE FINAL MOVE. CLICK!'),\n",
       " Document(page_content=\"BEGAN TO TWINKLE, MAX MADE THE FINAL MOVE. CLICK! THE CUBE'S COLORS ALIGNED PERFECTLY. AT THAT\"),\n",
       " Document(page_content=\"THE CUBE'S COLORS ALIGNED PERFECTLY. AT THAT MOMENT, A BRILLIANT LIGHT EMANATED FROM THE CUBE,\"),\n",
       " Document(page_content='MOMENT, A BRILLIANT LIGHT EMANATED FROM THE CUBE, SURROUNDING MAX IN A WARM GLOW.'),\n",
       " Document(page_content=\"TO HIS AMAZEMENT, THE RUBIK'S CUBE TRANSFORMED INTO A GATEWAY TO ANOTHER DIMENSION. MAX STEPPED\"),\n",
       " Document(page_content='INTO A GATEWAY TO ANOTHER DIMENSION. MAX STEPPED THROUGH THE GATEWAY AND FOUND HIMSELF IN A LAND OF'),\n",
       " Document(page_content='THE GATEWAY AND FOUND HIMSELF IN A LAND OF PURE IMAGINATION. EVERYTHING WAS POSSIBLE HERE, AND THE'),\n",
       " Document(page_content='EVERYTHING WAS POSSIBLE HERE, AND THE LAWS OF REALITY DID NOT APPLY. THE INHABITANTS OF THIS LAND'),\n",
       " Document(page_content='DID NOT APPLY. THE INHABITANTS OF THIS LAND WELCOMED MAX AS THEIR HERO.'),\n",
       " Document(page_content=\"THEY EXPLAINED THAT THE RUBIK'S CUBE WAS A KEY TO THEIR WORLD, A SYMBOL OF BALANCE AND HARMONY.\"),\n",
       " Document(page_content='TO THEIR WORLD, A SYMBOL OF BALANCE AND HARMONY. ONLY A TRUE BELIEVER, SOMEONE WITH PATIENCE AND'),\n",
       " Document(page_content='ONLY A TRUE BELIEVER, SOMEONE WITH PATIENCE AND DEDICATION, COULD UNLOCK ITS POTENTIAL. MAX HAD'),\n",
       " Document(page_content='DEDICATION, COULD UNLOCK ITS POTENTIAL. MAX HAD PROVEN HIMSELF WORTHY AND WAS GRANTED THE TITLE OF'),\n",
       " Document(page_content='HIMSELF WORTHY AND WAS GRANTED THE TITLE OF \"GUARDIAN OF THE CUBE.\"'),\n",
       " Document(page_content='FROM THAT DAY FORWARD, MAX USED HIS NEWFOUND KNOWLEDGE AND SKILLS TO HELP OTHERS SOLVE THEIR OWN'),\n",
       " Document(page_content='AND SKILLS TO HELP OTHERS SOLVE THEIR OWN PROBLEMS, BRINGING ORDER AND HARMONY TO BOTH WORLDS. THE'),\n",
       " Document(page_content=\"BRINGING ORDER AND HARMONY TO BOTH WORLDS. THE RUBIK'S CUBE REMAINED A SYMBOL OF HIS JOURNEY,\"),\n",
       " Document(page_content=\"RUBIK'S CUBE REMAINED A SYMBOL OF HIS JOURNEY, REMINDING EVERYONE THAT WITH PERSEVERANCE AND\"),\n",
       " Document(page_content='REMINDING EVERYONE THAT WITH PERSEVERANCE AND DETERMINATION, ANYTHING IS POSSIBLE.')]"
      ]
     },
     "execution_count": 174,
     "metadata": {},
     "output_type": "execute_result"
    }
   ],
   "source": [
    "text_splitter=RecursiveCharacterTextSplitter(chunk_size=100,chunk_overlap=50)\n",
    "final_documents=text_splitter.split_documents([doc])\n",
    "final_documents"
   ]
  },
  {
   "cell_type": "markdown",
   "metadata": {},
   "source": [
    "## B. CharacterTextSplitter"
   ]
  },
  {
   "cell_type": "code",
   "execution_count": 175,
   "metadata": {},
   "outputs": [
    {
     "name": "stderr",
     "output_type": "stream",
     "text": [
      "Created a chunk of size 275, which is longer than the specified 100\n",
      "Created a chunk of size 259, which is longer than the specified 100\n",
      "Created a chunk of size 233, which is longer than the specified 100\n",
      "Created a chunk of size 226, which is longer than the specified 100\n",
      "Created a chunk of size 290, which is longer than the specified 100\n",
      "Created a chunk of size 266, which is longer than the specified 100\n"
     ]
    },
    {
     "data": {
      "text/plain": [
       "[Document(page_content=\"ONCE UPON A TIME, IN A LAND OF COLOR AND MYSTERY, THERE EXISTED A MAGICAL RUBIK'S CUBE. THIS CUBE WAS NOT JUST ANY ORDINARY PUZZLE; IT WAS ENCHANTED WITH THE POWER TO BRING ORDER TO CHAOS. THE CUBE RESIDED IN A VIBRANT KINGDOM WHERE EVERYONE WAS INTRIGUED BY ITS COMPLEXITY.\"),\n",
       " Document(page_content=\"ONE DAY, A YOUNG BOY NAMED MAX FOUND THE RUBIK'S CUBE WHILE EXPLORING THE FOREST. MAX WAS FASCINATED BY THE CUBE'S COLORS AND INTRICATE PATTERNS. WITH EACH TWIST AND TURN, HE FELT A CONNECTION TO THE CUBE, AS IF IT WAS CALLING OUT TO HIM TO SOLVE ITS MYSTERY.\"),\n",
       " Document(page_content='DETERMINED, MAX SPENT DAYS AND NIGHTS WORKING ON THE CUBE. HE STUDIED ITS MOVEMENTS AND TRIED TO UNRAVEL ITS SECRETS. THE CUBE WAS A CHALLENGE, BUT MAX WAS PERSISTENT. HE BELIEVED THAT SOLVING IT WOULD REVEAL SOMETHING EXTRAORDINARY.'),\n",
       " Document(page_content=\"ONE FATEFUL EVENING, AS THE SUN SET AND THE STARS BEGAN TO TWINKLE, MAX MADE THE FINAL MOVE. CLICK! THE CUBE'S COLORS ALIGNED PERFECTLY. AT THAT MOMENT, A BRILLIANT LIGHT EMANATED FROM THE CUBE, SURROUNDING MAX IN A WARM GLOW.\"),\n",
       " Document(page_content=\"TO HIS AMAZEMENT, THE RUBIK'S CUBE TRANSFORMED INTO A GATEWAY TO ANOTHER DIMENSION. MAX STEPPED THROUGH THE GATEWAY AND FOUND HIMSELF IN A LAND OF PURE IMAGINATION. EVERYTHING WAS POSSIBLE HERE, AND THE LAWS OF REALITY DID NOT APPLY. THE INHABITANTS OF THIS LAND WELCOMED MAX AS THEIR HERO.\"),\n",
       " Document(page_content='THEY EXPLAINED THAT THE RUBIK\\'S CUBE WAS A KEY TO THEIR WORLD, A SYMBOL OF BALANCE AND HARMONY. ONLY A TRUE BELIEVER, SOMEONE WITH PATIENCE AND DEDICATION, COULD UNLOCK ITS POTENTIAL. MAX HAD PROVEN HIMSELF WORTHY AND WAS GRANTED THE TITLE OF \"GUARDIAN OF THE CUBE.\"'),\n",
       " Document(page_content=\"FROM THAT DAY FORWARD, MAX USED HIS NEWFOUND KNOWLEDGE AND SKILLS TO HELP OTHERS SOLVE THEIR OWN PROBLEMS, BRINGING ORDER AND HARMONY TO BOTH WORLDS. THE RUBIK'S CUBE REMAINED A SYMBOL OF HIS JOURNEY, REMINDING EVERYONE THAT WITH PERSEVERANCE AND DETERMINATION, ANYTHING IS POSSIBLE.\")]"
      ]
     },
     "execution_count": 175,
     "metadata": {},
     "output_type": "execute_result"
    }
   ],
   "source": [
    "from langchain_text_splitters import CharacterTextSplitter\n",
    "text_splitter=CharacterTextSplitter(separator=\"\\n\\n\",chunk_size=100,chunk_overlap=20)\n",
    "text_splitter.split_documents([doc])"
   ]
  },
  {
   "cell_type": "markdown",
   "metadata": {},
   "source": [
    "## C. RecursiveJsonSplitter"
   ]
  },
  {
   "cell_type": "code",
   "execution_count": 176,
   "metadata": {},
   "outputs": [],
   "source": [
    "import json\n",
    "import requests\n",
    "\n",
    "json_data=requests.get(\"https://api.smith.langchain.com/openapi.json\").json()"
   ]
  },
  {
   "cell_type": "code",
   "execution_count": 177,
   "metadata": {},
   "outputs": [],
   "source": [
    "from langchain_text_splitters import RecursiveJsonSplitter\n",
    "json_splitter=RecursiveJsonSplitter(max_chunk_size=300)\n",
    "json_chunks=json_splitter.split_json(json_data)"
   ]
  },
  {
   "cell_type": "code",
   "execution_count": 178,
   "metadata": {},
   "outputs": [
    {
     "name": "stdout",
     "output_type": "stream",
     "text": [
      "{'openapi': '3.1.0', 'info': {'title': 'LangSmith', 'version': '0.1.0'}, 'paths': {'/api/v1/sessions/{session_id}': {'get': {'tags': ['tracer-sessions'], 'summary': 'Read Tracer Session', 'description': 'Get a specific session.'}}}}\n",
      "{'paths': {'/api/v1/sessions/{session_id}': {'get': {'operationId': 'read_tracer_session_api_v1_sessions__session_id__get', 'security': [{'API Key': []}, {'Tenant ID': []}, {'Bearer Auth': []}]}}}}\n",
      "{'paths': {'/api/v1/sessions/{session_id}': {'get': {'parameters': [{'name': 'session_id', 'in': 'path', 'required': True, 'schema': {'type': 'string', 'format': 'uuid', 'title': 'Session Id'}}, {'name': 'include_stats', 'in': 'query', 'required': False, 'schema': {'type': 'boolean', 'default': False, 'title': 'Include Stats'}}, {'name': 'accept', 'in': 'header', 'required': False, 'schema': {'anyOf': [{'type': 'string'}, {'type': 'null'}], 'title': 'Accept'}}]}}}}\n"
     ]
    }
   ],
   "source": [
    "for chunk in json_chunks[:3]:\n",
    "    print(chunk)"
   ]
  },
  {
   "cell_type": "code",
   "execution_count": 179,
   "metadata": {},
   "outputs": [
    {
     "name": "stdout",
     "output_type": "stream",
     "text": [
      "page_content='{\"openapi\": \"3.1.0\", \"info\": {\"title\": \"LangSmith\", \"version\": \"0.1.0\"}, \"paths\": {\"/api/v1/sessions/{session_id}\": {\"get\": {\"tags\": [\"tracer-sessions\"], \"summary\": \"Read Tracer Session\", \"description\": \"Get a specific session.\"}}}}'\n",
      "page_content='{\"paths\": {\"/api/v1/sessions/{session_id}\": {\"get\": {\"operationId\": \"read_tracer_session_api_v1_sessions__session_id__get\", \"security\": [{\"API Key\": []}, {\"Tenant ID\": []}, {\"Bearer Auth\": []}]}}}}'\n",
      "page_content='{\"paths\": {\"/api/v1/sessions/{session_id}\": {\"get\": {\"parameters\": [{\"name\": \"session_id\", \"in\": \"path\", \"required\": true, \"schema\": {\"type\": \"string\", \"format\": \"uuid\", \"title\": \"Session Id\"}}, {\"name\": \"include_stats\", \"in\": \"query\", \"required\": false, \"schema\": {\"type\": \"boolean\", \"default\": false, \"title\": \"Include Stats\"}}, {\"name\": \"accept\", \"in\": \"header\", \"required\": false, \"schema\": {\"anyOf\": [{\"type\": \"string\"}, {\"type\": \"null\"}], \"title\": \"Accept\"}}]}}}}'\n"
     ]
    }
   ],
   "source": [
    "## The splitter can also output documents\n",
    "docs=json_splitter.create_documents(texts=[json_data])\n",
    "for doc in docs[:3]:\n",
    "    print(doc)"
   ]
  },
  {
   "cell_type": "code",
   "execution_count": 180,
   "metadata": {},
   "outputs": [
    {
     "name": "stdout",
     "output_type": "stream",
     "text": [
      "{\"openapi\": \"3.1.0\", \"info\": {\"title\": \"LangSmith\", \"version\": \"0.1.0\"}, \"paths\": {\"/api/v1/sessions/{session_id}\": {\"get\": {\"tags\": [\"tracer-sessions\"], \"summary\": \"Read Tracer Session\", \"description\": \"Get a specific session.\"}}}}\n",
      "{\"paths\": {\"/api/v1/sessions/{session_id}\": {\"get\": {\"operationId\": \"read_tracer_session_api_v1_sessions__session_id__get\", \"security\": [{\"API Key\": []}, {\"Tenant ID\": []}, {\"Bearer Auth\": []}]}}}}\n"
     ]
    }
   ],
   "source": [
    "texts=json_splitter.split_text(json_data)\n",
    "print(texts[0])\n",
    "print(texts[1])"
   ]
  },
  {
   "cell_type": "markdown",
   "metadata": {},
   "source": [
    "## D. HTMLHeaderTextSplitter"
   ]
  },
  {
   "cell_type": "code",
   "execution_count": 182,
   "metadata": {},
   "outputs": [
    {
     "name": "stdout",
     "output_type": "stream",
     "text": [
      "Collecting lxml\n",
      "  Downloading lxml-5.3.0-cp310-cp310-manylinux_2_28_x86_64.whl.metadata (3.8 kB)\n",
      "Downloading lxml-5.3.0-cp310-cp310-manylinux_2_28_x86_64.whl (5.0 MB)\n",
      "\u001b[2K   \u001b[90m━━━━━━━━━━━━━━━━━━━━━━━━━━━━━━━━━━━━━━━━\u001b[0m \u001b[32m5.0/5.0 MB\u001b[0m \u001b[31m181.8 MB/s\u001b[0m eta \u001b[36m0:00:00\u001b[0m\n",
      "\u001b[?25hInstalling collected packages: lxml\n",
      "Successfully installed lxml-5.3.0\n"
     ]
    }
   ],
   "source": [
    "!pip install lxml"
   ]
  },
  {
   "cell_type": "code",
   "execution_count": 183,
   "metadata": {},
   "outputs": [
    {
     "data": {
      "text/plain": [
       "[Document(page_content='Foo'),\n",
       " Document(metadata={'Header 1': 'Foo'}, page_content='Some intro text about Foo.  \\nBar main section Bar subsection 1 Bar subsection 2'),\n",
       " Document(metadata={'Header 1': 'Foo', 'Header 2': 'Bar main section'}, page_content='Some intro text about Bar.'),\n",
       " Document(metadata={'Header 1': 'Foo', 'Header 2': 'Bar main section', 'Header 3': 'Bar subsection 1'}, page_content='Some text about the first subtopic of Bar.'),\n",
       " Document(metadata={'Header 1': 'Foo', 'Header 2': 'Bar main section', 'Header 3': 'Bar subsection 2'}, page_content='Some text about the second subtopic of Bar.'),\n",
       " Document(metadata={'Header 1': 'Foo'}, page_content='Baz'),\n",
       " Document(metadata={'Header 1': 'Foo', 'Header 2': 'Baz'}, page_content='Some text about Baz'),\n",
       " Document(metadata={'Header 1': 'Foo'}, page_content='Some concluding text about Foo')]"
      ]
     },
     "execution_count": 183,
     "metadata": {},
     "output_type": "execute_result"
    }
   ],
   "source": [
    "from langchain_text_splitters import HTMLHeaderTextSplitter\n",
    "\n",
    "html_string = \"\"\"\n",
    "<!DOCTYPE html>\n",
    "<html>\n",
    "<body>\n",
    "    <div>\n",
    "        <h1>Foo</h1>\n",
    "        <p>Some intro text about Foo.</p>\n",
    "        <div>\n",
    "            <h2>Bar main section</h2>\n",
    "            <p>Some intro text about Bar.</p>\n",
    "            <h3>Bar subsection 1</h3>\n",
    "            <p>Some text about the first subtopic of Bar.</p>\n",
    "            <h3>Bar subsection 2</h3>\n",
    "            <p>Some text about the second subtopic of Bar.</p>\n",
    "        </div>\n",
    "        <div>\n",
    "            <h2>Baz</h2>\n",
    "            <p>Some text about Baz</p>\n",
    "        </div>\n",
    "        <br>\n",
    "        <p>Some concluding text about Foo</p>\n",
    "    </div>\n",
    "</body>\n",
    "</html>\n",
    "\"\"\"\n",
    "\n",
    "headers_to_split_on=[\n",
    "    (\"h1\",\"Header 1\"),\n",
    "    (\"h2\",\"Header 2\"),\n",
    "    (\"h3\",\"Header 3\")\n",
    "]\n",
    "\n",
    "html_splitter=HTMLHeaderTextSplitter(headers_to_split_on)\n",
    "html_header_splits=html_splitter.split_text(html_string)\n",
    "html_header_splits\n"
   ]
  },
  {
   "cell_type": "code",
   "execution_count": null,
   "metadata": {},
   "outputs": [],
   "source": []
  }
 ],
 "metadata": {
  "kaggle": {
   "accelerator": "none",
   "dataSources": [],
   "dockerImageVersionId": 30746,
   "isGpuEnabled": false,
   "isInternetEnabled": true,
   "language": "python",
   "sourceType": "notebook"
  },
  "kernelspec": {
   "display_name": "Python 3",
   "language": "python",
   "name": "python3"
  },
  "language_info": {
   "codemirror_mode": {
    "name": "ipython",
    "version": 3
   },
   "file_extension": ".py",
   "mimetype": "text/x-python",
   "name": "python",
   "nbconvert_exporter": "python",
   "pygments_lexer": "ipython3",
   "version": "3.10.10"
  }
 },
 "nbformat": 4,
 "nbformat_minor": 4
}
